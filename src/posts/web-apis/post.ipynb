{
 "cells": [
  {
   "attachments": {},
   "cell_type": "markdown",
   "metadata": {},
   "source": [
    "# Tips and tricks for using Web APIs in FSharp\n",
    "\n",
    "_A broad introduction on web APIs and tips and tricks for using them in FSharp._"
   ]
  },
  {
   "cell_type": "code",
   "execution_count": 2,
   "metadata": {
    "dotnet_interactive": {
     "language": "fsharp"
    },
    "polyglot_notebook": {
     "kernelName": "fsharp"
    }
   },
   "outputs": [
    {
     "data": {
      "text/html": [
       "<div><div></div><div></div><div><strong>Installed Packages</strong><ul><li><span>FsHttp, 10.0.0</span></li></ul></div></div>"
      ]
     },
     "metadata": {},
     "output_type": "display_data"
    }
   ],
   "source": [
    "#r \"nuget: FsHttp\"\n",
    "open FsHttp"
   ]
  },
  {
   "attachments": {},
   "cell_type": "markdown",
   "metadata": {},
   "source": [
    "## Web APIs and their importance in modern (web) development\n",
    "\n",
    "A web API (**A**pplication **P**rogramming **I**nterface) is a way for computers to communicate with each other over the internet. \n",
    "\n",
    "It is a set of rules that defines how computers should communicate with each other:\n",
    "\n",
    "the **server**:\n",
    "  - provides and defines the API\n",
    "  - defines a set of rules for the **client** to follow\n",
    "\n",
    "the **client** \n",
    "  - has to follow the rules provided for the API.\n",
    "  - can be any program that can communicate over the internet (e.g. a web browser, a mobile app, a desktop app, a server, a script, a **notebook**...)\n",
    "\n",
    "A web API is usually used to **request** data from a server. The server will then **respond** with the requested data."
   ]
  },
  {
   "attachments": {},
   "cell_type": "markdown",
   "metadata": {},
   "source": [
    "## Understanding the HTTP Protocol\n",
    "\n",
    "_See also: https://en.wikipedia.org/wiki/HTTP_\n",
    "\n",
    "The Hypertext Transfer Protocol (HTTP) is the foundation of data communication for the World Wide Web. It is a set of rules that defines how computers should communicate with each other over the internet.\n",
    "\n",
    "HTTP functions as a request–response protocol between a **client**-**server** pair. \n",
    "\n",
    "The client submits an HTTP request message to the server. Requests contain the [request method](#http-request-methods) and are performed on a resource provided by the server via an URL (Uniform Resource Locator). It can also contain additional information in the form of [headers](#http-headers) and a message body.\n",
    "\n",
    "The server, returns a response message to the client after processing the request. The response contains completion status information about the request and may also contain requested content in its message body."
   ]
  },
  {
   "attachments": {},
   "cell_type": "markdown",
   "metadata": {},
   "source": [
    "### Http Request methods\n",
    "\n",
    "HTTP defines methods (sometimes referred to as verbs) to indicate the desired action to be performed on the identified resource. What this resource represents, whether pre-existing data or data that is generated dynamically, depends on the implementation of the server. Often, the resource corresponds to a file or the output of an executable residing on the server.\n",
    "\n",
    "| Method | Description | Request message has body content | Response message has body content |\n",
    "| --- | --- | --- | --- |\n",
    "| GET | Requests a representation of the specified resource. Requests using GET should only retrieve data. | Optional | Yes |\n",
    "| HEAD | Asks for a response identical to that of a GET request, but without the response body. | Optional | No |\n",
    "| POST | Submits an entity to the specified resource, often causing a change in state or side effects on the server. | Yes | Yes |\n",
    "| PUT | Replaces all current representations of the target resource with the request payload. | Yes | Yes |\n",
    "| DELETE | Deletes the specified resource. | Optional | Yes |\n",
    "| CONNECT | Establishes a tunnel to the server identified by the target resource. | Optional | Yes |\n",
    "| OPTIONS | Describes the communication options for the target resource. | Optional | Yes |\n",
    "| TRACE | Performs a message loop-back test, meaning that the server should return the received request as payload. | No | Yes |\n",
    "| PATCH | Applies partial modifications to a resource. | Yes | Yes |\n",
    "\n",
    "The methods most often encountered are **GET** and **POST** requests, for accessing and sending data respectively."
   ]
  },
  {
   "attachments": {},
   "cell_type": "markdown",
   "metadata": {},
   "source": [
    "### HTTP Headers\n",
    "\n",
    "HTTP header fields are a list of strings sent and received by both the client program and server on every HTTP request and response. \n",
    "\n",
    "They are basically metadata about the request/response and can contain information about the client, the server, the body content, the request itself, the response itself, etc."
   ]
  },
  {
   "attachments": {},
   "cell_type": "markdown",
   "metadata": {},
   "source": [
    "### Query parameters\n",
    "\n",
    "Query parameters are not part of the HTTP protocol, but are often used in web APIs. They are a way to pass additional information to the server in the URL.\n",
    "\n",
    "They are usually added to the URL after a question mark `?` and are separated by an ampersand `&`.\n",
    "\n",
    "Example: `https://example.com/path/to/resource?param1=value1&param2=value2`, will pass the parameters `param1` and `param2` with the values `value1` and `value2` to the server.\n",
    "\n",
    "Since query parameters are not part of the HTTP protocol, the API must define the set of parameters that are accepted by the server, meaning you cannot expect that every API will accept the same parameters."
   ]
  },
  {
   "attachments": {},
   "cell_type": "markdown",
   "metadata": {},
   "source": [
    "### Request Example\n",
    "\n",
    "In the end, a HTTP request is just a string that follows a certain format:\n",
    "\n",
    "```\n",
    "<request line>\n",
    "<headers>\n",
    "\n",
    "[<message body>]\n",
    "```\n",
    "\n",
    "\n",
    "So a **GET** request for the image `logo.png` on the website `www.example.com` located at `/images` can for example look like this:\n",
    "\n",
    "```\n",
    "GET /images/logo.png HTTP/1.1 (request line)\n",
    "Host: www.example.com (header 1)\n",
    "Accept-Language: en (header 2)\n",
    "\n",
    "[<message body>](optional, any content)\n",
    "```"
   ]
  },
  {
   "attachments": {},
   "cell_type": "markdown",
   "metadata": {},
   "source": [
    "### HTTP response codes and their meanings\n",
    "\n",
    "Status codes are issued by a server in response to a client's request made to the server. All HTTP response status codes are separated into five classes or categories. The first digit of the status code defines the class of response, while the last two digits do not have any classifying or categorization role:\n",
    "\n",
    "- `1xx informational response` – the request was received, continuing process\n",
    "- `2xx successful` – the request was successfully received, understood, and accepted\n",
    "- `3xx redirection` – further action needs to be taken in order to complete the request\n",
    "- `4xx client error` – the request contains bad syntax or cannot be fulfilled\n",
    "- `5xx server error` – the server failed to fulfil an apparently valid request\n",
    "\n",
    "A few common, official status codes are:\n",
    "\n",
    "- `200 OK` – Standard response for successful HTTP requests.\n",
    "- `301 Moved Permanently` – This and all future requests should be directed to the given URI.\n",
    "- `404 Not Found` – The requested resource could not be found but may be available in the future.\n",
    "- `500 Internal Server Error` – A generic error message, given when an unexpected condition was encountered and no more specific message is suitable.\n",
    "- `503 Service Unavailable` – The server is currently unavailable (because it is overloaded or down for maintenance). Generally, this is a temporary state.\n",
    "  \n",
    "Not all of the respective 99 status codes of each category have official meanings. There is room in the HTTP status code numbering space for developers to define their own custom HTTP status codes for their applications.\n"
   ]
  },
  {
   "attachments": {},
   "cell_type": "markdown",
   "metadata": {},
   "source": [
    "### Common Response message formats\n",
    "\n",
    "The format of message body content is usually defined by the API. The most common formats are:\n",
    "- **HTML** (Hypertext Markup Language) - used for web pages\n",
    "- [**JSON**](#working-with-json-format) (JavaScript Object Notation) - used for data transfer\n",
    "- **XML** (Extensible Markup Language) - used for data transfer\n",
    "\n"
   ]
  },
  {
   "attachments": {},
   "cell_type": "markdown",
   "metadata": {},
   "source": [
    "### Response Example\n",
    "\n",
    "Just as the request, the response is also just a string that follows a certain format:\n",
    "\n",
    "``` \n",
    "<status line>\n",
    "<headers>\n",
    "\n",
    "[<message body>]\n",
    "```\n",
    "\n",
    "So a response for the request above could look like this:\n",
    "\n",
    "```\n",
    "HTTP/1.1 200 OK (status line)\n",
    "Content-Type: image/jpeg  (header 1)\n",
    "\n",
    "[<message body>](contains the image data)\n",
    "```"
   ]
  },
  {
   "attachments": {},
   "cell_type": "markdown",
   "metadata": {},
   "source": [
    "## Working with JSON Format\n",
    "\n",
    "Introduction to JSON (JavaScript Object Notation) and its prevalence in web APIs\n",
    "\n",
    "Overview of JSON structure and syntax"
   ]
  },
  {
   "attachments": {},
   "cell_type": "markdown",
   "metadata": {},
   "source": [
    "### JSON structure and syntax\n",
    "\n",
    "image here with document and root element and elements and array etc."
   ]
  },
  {
   "attachments": {},
   "cell_type": "markdown",
   "metadata": {},
   "source": [
    "### JSON serialization and deserialization in FSharp\n",
    "\n",
    "The easiest way of working with Json in F# is to use `System.Text.Json`, which is part of .NET. There are certain extensions for full idiomatic F# support, but they are not necessary for the examples in this post."
   ]
  },
  {
   "attachments": {},
   "cell_type": "markdown",
   "metadata": {},
   "source": [
    "#### Dynamic lookup\n",
    "\n",
    "FsHttp includes a [dynamic lookup operator](https://github.com/fsprojects/FsHttp/blob/5d587f0ef25d47df0089268ed3887d47250ffffb/src/FsHttp/Operators.fs#L5-L7) for `JsonElement`, which is very handy for exploring JSON without knowing the exact structure.\n",
    "\n",
    "Dynamic lookup on JSON elements is done using the `?` operator:"
   ]
  },
  {
   "cell_type": "code",
   "execution_count": 3,
   "metadata": {
    "dotnet_interactive": {
     "language": "fsharp"
    },
    "polyglot_notebook": {
     "kernelName": "fsharp"
    }
   },
   "outputs": [
    {
     "data": {
      "text/html": [
       "<span>&quot;Kevin&quot;</span><style>\r\n",
       ".dni-code-hint {\r\n",
       "    font-style: italic;\r\n",
       "    overflow: hidden;\r\n",
       "    white-space: nowrap;\r\n",
       "}\r\n",
       ".dni-treeview {\r\n",
       "    white-space: nowrap;\r\n",
       "}\r\n",
       ".dni-treeview td {\r\n",
       "    vertical-align: top;\r\n",
       "    text-align: start;\r\n",
       "}\r\n",
       "details.dni-treeview {\r\n",
       "    padding-left: 1em;\r\n",
       "}\r\n",
       "table td {\r\n",
       "    text-align: start;\r\n",
       "}\r\n",
       "table tr { \r\n",
       "    vertical-align: top; \r\n",
       "    margin: 0em 0px;\r\n",
       "}\r\n",
       "table tr td pre \r\n",
       "{ \r\n",
       "    vertical-align: top !important; \r\n",
       "    margin: 0em 0px !important;\r\n",
       "} \r\n",
       "table th {\r\n",
       "    text-align: start;\r\n",
       "}\r\n",
       "</style>"
      ]
     },
     "metadata": {},
     "output_type": "display_data"
    }
   ],
   "source": [
    "open System.Text.Json\n",
    "open FsHttp\n",
    "\n",
    "let jsonString = \"\"\"{\"FirstName\": \"Kevin\", \"LastName\": \"Schneider\"}\"\"\"\n",
    "\n",
    "let jElement = JsonDocument.Parse(jsonString).RootElement\n",
    "\n",
    "jElement?FirstName"
   ]
  },
  {
   "attachments": {},
   "cell_type": "markdown",
   "metadata": {},
   "source": [
    "#### Strongly typed deserialization\n",
    "\n",
    "We can also deserialize JSON into a strongly typed F# record. This makes most sense when we know how the JSON looks like.\n",
    "\n",
    "First, we need to define a record type to map our JSON to:"
   ]
  },
  {
   "cell_type": "code",
   "execution_count": 4,
   "metadata": {
    "dotnet_interactive": {
     "language": "fsharp"
    },
    "polyglot_notebook": {
     "kernelName": "fsharp"
    }
   },
   "outputs": [],
   "source": [
    "type Person = {\n",
    "    FirstName: string\n",
    "    LastName: string\n",
    "}"
   ]
  },
  {
   "attachments": {},
   "cell_type": "markdown",
   "metadata": {},
   "source": [
    "Which we can then deserialize the JSON into using `JsonSerializer.Deserialize`:"
   ]
  },
  {
   "cell_type": "code",
   "execution_count": 5,
   "metadata": {
    "dotnet_interactive": {
     "language": "fsharp"
    },
    "polyglot_notebook": {
     "kernelName": "fsharp"
    }
   },
   "outputs": [
    {
     "data": {
      "text/html": [
       "<details open=\"open\" class=\"dni-treeview\"><summary><span class=\"dni-code-hint\"><code>{ FirstName = \"Kevin\"\\n  LastName = \"Schneider\" }</code></span></summary><div><table><thead><tr></tr></thead><tbody><tr><td>FirstName</td><td>Kevin</td></tr><tr><td>LastName</td><td>Schneider</td></tr></tbody></table></div></details><style>\r\n",
       ".dni-code-hint {\r\n",
       "    font-style: italic;\r\n",
       "    overflow: hidden;\r\n",
       "    white-space: nowrap;\r\n",
       "}\r\n",
       ".dni-treeview {\r\n",
       "    white-space: nowrap;\r\n",
       "}\r\n",
       ".dni-treeview td {\r\n",
       "    vertical-align: top;\r\n",
       "    text-align: start;\r\n",
       "}\r\n",
       "details.dni-treeview {\r\n",
       "    padding-left: 1em;\r\n",
       "}\r\n",
       "table td {\r\n",
       "    text-align: start;\r\n",
       "}\r\n",
       "table tr { \r\n",
       "    vertical-align: top; \r\n",
       "    margin: 0em 0px;\r\n",
       "}\r\n",
       "table tr td pre \r\n",
       "{ \r\n",
       "    vertical-align: top !important; \r\n",
       "    margin: 0em 0px !important;\r\n",
       "} \r\n",
       "table th {\r\n",
       "    text-align: start;\r\n",
       "}\r\n",
       "</style>"
      ]
     },
     "metadata": {},
     "output_type": "display_data"
    }
   ],
   "source": [
    "let typedJson = JsonSerializer.Deserialize<Person>(jsonString)\n",
    "\n",
    "typedJson"
   ]
  },
  {
   "attachments": {},
   "cell_type": "markdown",
   "metadata": {},
   "source": [
    "#### Combining dynamic and strongly typed deserialization\n",
    "\n",
    "In some cases, we only want to deserialize a single property of a JSON object into a record, ignoring the other fields. We can do this by using a combination of dynamic and strongly typed deserialization. \n",
    "\n",
    "Consider we have this JSON string:\n",
    "\n",
    "```json\n",
    "{\n",
    "    \"uninteresting_element\": {\"bla\": \"bla\" },\n",
    "    \"interesting_element\": {\"this\": \"is interesting\"}\n",
    "}\n",
    "```\n",
    "\n",
    "where we only want to deserialize the `interesting_element` property into a record.\n",
    "\n",
    "We can access the `interesting_element` property using dynamic lookup, and then deserialize it into a record like this:"
   ]
  },
  {
   "cell_type": "code",
   "execution_count": 6,
   "metadata": {
    "dotnet_interactive": {
     "language": "fsharp"
    },
    "polyglot_notebook": {
     "kernelName": "fsharp"
    }
   },
   "outputs": [
    {
     "data": {
      "text/html": [
       "<details open=\"open\" class=\"dni-treeview\"><summary><span class=\"dni-code-hint\"><code>{ this = \"is interesting\" }</code></span></summary><div><table><thead><tr></tr></thead><tbody><tr><td>this</td><td>is interesting</td></tr></tbody></table></div></details><style>\r\n",
       ".dni-code-hint {\r\n",
       "    font-style: italic;\r\n",
       "    overflow: hidden;\r\n",
       "    white-space: nowrap;\r\n",
       "}\r\n",
       ".dni-treeview {\r\n",
       "    white-space: nowrap;\r\n",
       "}\r\n",
       ".dni-treeview td {\r\n",
       "    vertical-align: top;\r\n",
       "    text-align: start;\r\n",
       "}\r\n",
       "details.dni-treeview {\r\n",
       "    padding-left: 1em;\r\n",
       "}\r\n",
       "table td {\r\n",
       "    text-align: start;\r\n",
       "}\r\n",
       "table tr { \r\n",
       "    vertical-align: top; \r\n",
       "    margin: 0em 0px;\r\n",
       "}\r\n",
       "table tr td pre \r\n",
       "{ \r\n",
       "    vertical-align: top !important; \r\n",
       "    margin: 0em 0px !important;\r\n",
       "} \r\n",
       "table th {\r\n",
       "    text-align: start;\r\n",
       "}\r\n",
       "</style>"
      ]
     },
     "metadata": {},
     "output_type": "display_data"
    }
   ],
   "source": [
    "let json_string = \"\"\"{\n",
    "    \"uninteresting_element\": {\"bla\": \"bla\" },\n",
    "    \"interesting_element\": {\"this\": \"is interesting\"}\n",
    "}\"\"\"\n",
    "\n",
    "type InterestingElement = {this: string}\n",
    "\n",
    "JsonDocument.Parse(json_string)\n",
    "    .RootElement?interesting_element\n",
    "    .Deserialize<InterestingElement>()"
   ]
  },
  {
   "attachments": {},
   "cell_type": "markdown",
   "metadata": {},
   "source": [
    "## Making HTTP Requests in FSharp\n",
    "\n",
    "Now that i have discussed the basic building blocks of working with webAPIs, namely:\n",
    "- performing **requests** using the [**HTTP protocol**](#understanding-the-http-protocol)\n",
    "- working with [**JSON**](#working-with-json-format) data, which is one of the prevalent **response formats**\n",
    "\n",
    "let's get into actually performing some requests with **FsHttp**."
   ]
  },
  {
   "attachments": {},
   "cell_type": "markdown",
   "metadata": {},
   "source": [
    "### FsHttp\n",
    "\n",
    "[FsHttp](https://fsprojects.github.io/FsHttp/) is a .Net HTTP client library for C# and F#. It aims for describing and executing HTTP requests in convenient ways, while also providing functions for handling responses.\n",
    "\n",
    "For simple demonstration purposes in this section, i will use the [reqres](https://reqres.in) API, which is a free API for testing HTTP requests and responses. Swagger documentation of the API can be found here: https://reqres.in/api-docs/"
   ]
  },
  {
   "attachments": {},
   "cell_type": "markdown",
   "metadata": {},
   "source": [
    "Let's start with a simple get request to the `users` endpoint of the reqres API. The respective documentation can be found here: https://reqres.in/api-docs/#/default/get_users\n",
    "\n",
    "![](../../img/webapis/users-endpoint.png)\n",
    "\n",
    "The documentation shows us that\n",
    "  - the endpoint is `https://reqres.in/api/users`\n",
    "  - the request method is `GET`\n",
    "  - the endpoint accepts 2 parameters: `page` and `per_page`\n",
    "  - the response is a JSON object with a `data` property, which is an array of `user` objects:\n",
    "  ```json\n",
    "    {\n",
    "      \"page\": 0,\n",
    "      \"per_page\": 0,\n",
    "      \"total\": 0,\n",
    "      \"total_pages\": 0,\n",
    "      \"data\": [\n",
    "          {\n",
    "            \"id\": 0,\n",
    "            \"email\": \"string\",\n",
    "            \"first_name\": \"string\",\n",
    "            \"last_name\": \"string\",\n",
    "            \"avatar\": \"string\"\n",
    "        }\n",
    "      ]\n",
    "    }\n",
    "  ```\n",
    "\n",
    "Let's perform a request to this endpoint using FsHttp.\n",
    "\n",
    "in general, requests are composed using the `http` computation expression, which we then send to the server using `Request.send`. This will return a `Response` object, which has quite a lot of useful information about the response, such as the status code, the headers, the body, etc, but is quite complicated. Since we already know that the API will return a JSON object, we can use `Response.toJson`, which will automatically deserialize the response body into a `JsonElement` object.\n"
   ]
  },
  {
   "cell_type": "code",
   "execution_count": 7,
   "metadata": {
    "dotnet_interactive": {
     "language": "fsharp"
    },
    "polyglot_notebook": {
     "kernelName": "fsharp"
    }
   },
   "outputs": [
    {
     "data": {
      "text/html": [
       "<details class=\"dni-treeview\"><summary><span class=\"dni-code-hint\"><code>{&quot;page&quot;:1,&quot;per_page&quot;:6,&quot;total&quot;:12,&quot;total_pages&quot;:2,&quot;data&quot;:[{&quot;id&quot;:1,&quot;email&quot;:&quot;george.bluth@reqres.in&quot;,&quot;first_name&quot;:&quot;George&quot;,&quot;last_name&quot;:&quot;Bluth&quot;,&quot;avatar&quot;:&quot;https://reqres.in/img/faces/1-image.jpg&quot;},{&quot;id&quot;:2,&quot;email&quot;:&quot;janet.weaver@reqres.in&quot;,&quot;first_name&quot;:&quot;Janet&quot;,&quot;last_name&quot;:&quot;Weaver&quot;,&quot;avatar&quot;:&quot;https://reqres.in/img/faces/2-image.jpg&quot;},{&quot;id&quot;:3,&quot;email&quot;:&quot;emma.wong@reqres.in&quot;,&quot;first_name&quot;:&quot;Emma&quot;,&quot;last_name&quot;:&quot;Wong&quot;,&quot;avatar&quot;:&quot;https://reqres.in/img/faces/3-image.jpg&quot;},{&quot;id&quot;:4,&quot;email&quot;:&quot;eve.holt@reqres.in&quot;,&quot;first_name&quot;:&quot;Eve&quot;,&quot;last_name&quot;:&quot;Holt&quot;,&quot;avatar&quot;:&quot;https://reqres.in/img/faces/4-image.jpg&quot;},{&quot;id&quot;:5,&quot;email&quot;:&quot;charles.morris@reqres.in&quot;,&quot;first_name&quot;:&quot;Charles&quot;,&quot;last_name&quot;:&quot;Morris&quot;,&quot;avatar&quot;:&quot;https://reqres.in/img/faces/5-image.jpg&quot;},{&quot;id&quot;:6,&quot;email&quot;:&quot;tracey.ramos@reqres.in&quot;,&quot;first_name&quot;:&quot;Tracey&quot;,&quot;last_name&quot;:&quot;Ramos&quot;,&quot;avatar&quot;:&quot;https://reqres.in/img/faces/6-image.jpg&quot;}],&quot;support&quot;:{&quot;url&quot;:&quot;https://reqres.in/#support-heading&quot;,&quot;text&quot;:&quot;To keep ReqRes free, contributions towards server costs are appreciated!&quot;}}</code></span></summary><div><table><thead><tr></tr></thead><tbody><tr><td>page</td><td><span><div class=\"dni-plaintext\"><pre>1</pre></div></span></td></tr><tr><td>per_page</td><td><span><div class=\"dni-plaintext\"><pre>6</pre></div></span></td></tr><tr><td>total</td><td><span><div class=\"dni-plaintext\"><pre>12</pre></div></span></td></tr><tr><td>total_pages</td><td><span><div class=\"dni-plaintext\"><pre>2</pre></div></span></td></tr><tr><td>data</td><td><details class=\"dni-treeview\"><summary><span class=\"dni-code-hint\"><code>[{&quot;id&quot;:1,&quot;email&quot;:&quot;george.bluth@reqres.in&quot;,&quot;first_name&quot;:&quot;George&quot;,&quot;last_name&quot;:&quot;Bluth&quot;,&quot;avatar&quot;:&quot;https://reqres.in/img/faces/1-image.jpg&quot;},{&quot;id&quot;:2,&quot;email&quot;:&quot;janet.weaver@reqres.in&quot;,&quot;first_name&quot;:&quot;Janet&quot;,&quot;last_name&quot;:&quot;Weaver&quot;,&quot;avatar&quot;:&quot;https://reqres.in/img/faces/2-image.jpg&quot;},{&quot;id&quot;:3,&quot;email&quot;:&quot;emma.wong@reqres.in&quot;,&quot;first_name&quot;:&quot;Emma&quot;,&quot;last_name&quot;:&quot;Wong&quot;,&quot;avatar&quot;:&quot;https://reqres.in/img/faces/3-image.jpg&quot;},{&quot;id&quot;:4,&quot;email&quot;:&quot;eve.holt@reqres.in&quot;,&quot;first_name&quot;:&quot;Eve&quot;,&quot;last_name&quot;:&quot;Holt&quot;,&quot;avatar&quot;:&quot;https://reqres.in/img/faces/4-image.jpg&quot;},{&quot;id&quot;:5,&quot;email&quot;:&quot;charles.morris@reqres.in&quot;,&quot;first_name&quot;:&quot;Charles&quot;,&quot;last_name&quot;:&quot;Morris&quot;,&quot;avatar&quot;:&quot;https://reqres.in/img/faces/5-image.jpg&quot;},{&quot;id&quot;:6,&quot;email&quot;:&quot;tracey.ramos@reqres.in&quot;,&quot;first_name&quot;:&quot;Tracey&quot;,&quot;last_name&quot;:&quot;Ramos&quot;,&quot;avatar&quot;:&quot;https://reqres.in/img/faces/6-image.jpg&quot;}]</code></span></summary><div><table><thead><tr></tr></thead><tbody><tr><td><details class=\"dni-treeview\"><summary><span class=\"dni-code-hint\"><code>{&quot;id&quot;:1,&quot;email&quot;:&quot;george.bluth@reqres.in&quot;,&quot;first_name&quot;:&quot;George&quot;,&quot;last_name&quot;:&quot;Bluth&quot;,&quot;avatar&quot;:&quot;https://reqres.in/img/faces/1-image.jpg&quot;}</code></span></summary><div><table><thead><tr></tr></thead><tbody><tr><td>id</td><td><span><div class=\"dni-plaintext\"><pre>1</pre></div></span></td></tr><tr><td>email</td><td><span>&quot;george.bluth@reqres.in&quot;</span></td></tr><tr><td>first_name</td><td><span>&quot;George&quot;</span></td></tr><tr><td>last_name</td><td><span>&quot;Bluth&quot;</span></td></tr><tr><td>avatar</td><td><span>&quot;https://reqres.in/img/faces/1-image.jpg&quot;</span></td></tr></tbody></table></div></details></td></tr><tr><td><details class=\"dni-treeview\"><summary><span class=\"dni-code-hint\"><code>{&quot;id&quot;:2,&quot;email&quot;:&quot;janet.weaver@reqres.in&quot;,&quot;first_name&quot;:&quot;Janet&quot;,&quot;last_name&quot;:&quot;Weaver&quot;,&quot;avatar&quot;:&quot;https://reqres.in/img/faces/2-image.jpg&quot;}</code></span></summary><div><table><thead><tr></tr></thead><tbody><tr><td>id</td><td><span><div class=\"dni-plaintext\"><pre>2</pre></div></span></td></tr><tr><td>email</td><td><span>&quot;janet.weaver@reqres.in&quot;</span></td></tr><tr><td>first_name</td><td><span>&quot;Janet&quot;</span></td></tr><tr><td>last_name</td><td><span>&quot;Weaver&quot;</span></td></tr><tr><td>avatar</td><td><span>&quot;https://reqres.in/img/faces/2-image.jpg&quot;</span></td></tr></tbody></table></div></details></td></tr><tr><td><details class=\"dni-treeview\"><summary><span class=\"dni-code-hint\"><code>{&quot;id&quot;:3,&quot;email&quot;:&quot;emma.wong@reqres.in&quot;,&quot;first_name&quot;:&quot;Emma&quot;,&quot;last_name&quot;:&quot;Wong&quot;,&quot;avatar&quot;:&quot;https://reqres.in/img/faces/3-image.jpg&quot;}</code></span></summary><div><table><thead><tr></tr></thead><tbody><tr><td>id</td><td><span><div class=\"dni-plaintext\"><pre>3</pre></div></span></td></tr><tr><td>email</td><td><span>&quot;emma.wong@reqres.in&quot;</span></td></tr><tr><td>first_name</td><td><span>&quot;Emma&quot;</span></td></tr><tr><td>last_name</td><td><span>&quot;Wong&quot;</span></td></tr><tr><td>avatar</td><td><span>&quot;https://reqres.in/img/faces/3-image.jpg&quot;</span></td></tr></tbody></table></div></details></td></tr><tr><td><details class=\"dni-treeview\"><summary><span class=\"dni-code-hint\"><code>{&quot;id&quot;:4,&quot;email&quot;:&quot;eve.holt@reqres.in&quot;,&quot;first_name&quot;:&quot;Eve&quot;,&quot;last_name&quot;:&quot;Holt&quot;,&quot;avatar&quot;:&quot;https://reqres.in/img/faces/4-image.jpg&quot;}</code></span></summary><div><table><thead><tr></tr></thead><tbody><tr><td>id</td><td><span><div class=\"dni-plaintext\"><pre>4</pre></div></span></td></tr><tr><td>email</td><td><span>&quot;eve.holt@reqres.in&quot;</span></td></tr><tr><td>first_name</td><td><span>&quot;Eve&quot;</span></td></tr><tr><td>last_name</td><td><span>&quot;Holt&quot;</span></td></tr><tr><td>avatar</td><td><span>&quot;https://reqres.in/img/faces/4-image.jpg&quot;</span></td></tr></tbody></table></div></details></td></tr><tr><td><details class=\"dni-treeview\"><summary><span class=\"dni-code-hint\"><code>{&quot;id&quot;:5,&quot;email&quot;:&quot;charles.morris@reqres.in&quot;,&quot;first_name&quot;:&quot;Charles&quot;,&quot;last_name&quot;:&quot;Morris&quot;,&quot;avatar&quot;:&quot;https://reqres.in/img/faces/5-image.jpg&quot;}</code></span></summary><div><table><thead><tr></tr></thead><tbody><tr><td>id</td><td><span><div class=\"dni-plaintext\"><pre>5</pre></div></span></td></tr><tr><td>email</td><td><span>&quot;charles.morris@reqres.in&quot;</span></td></tr><tr><td>first_name</td><td><span>&quot;Charles&quot;</span></td></tr><tr><td>last_name</td><td><span>&quot;Morris&quot;</span></td></tr><tr><td>avatar</td><td><span>&quot;https://reqres.in/img/faces/5-image.jpg&quot;</span></td></tr></tbody></table></div></details></td></tr><tr><td><details class=\"dni-treeview\"><summary><span class=\"dni-code-hint\"><code>{&quot;id&quot;:6,&quot;email&quot;:&quot;tracey.ramos@reqres.in&quot;,&quot;first_name&quot;:&quot;Tracey&quot;,&quot;last_name&quot;:&quot;Ramos&quot;,&quot;avatar&quot;:&quot;https://reqres.in/img/faces/6-image.jpg&quot;}</code></span></summary><div><table><thead><tr></tr></thead><tbody><tr><td>id</td><td><span><div class=\"dni-plaintext\"><pre>6</pre></div></span></td></tr><tr><td>email</td><td><span>&quot;tracey.ramos@reqres.in&quot;</span></td></tr><tr><td>first_name</td><td><span>&quot;Tracey&quot;</span></td></tr><tr><td>last_name</td><td><span>&quot;Ramos&quot;</span></td></tr><tr><td>avatar</td><td><span>&quot;https://reqres.in/img/faces/6-image.jpg&quot;</span></td></tr></tbody></table></div></details></td></tr></tbody></table></div></details></td></tr><tr><td>support</td><td><details class=\"dni-treeview\"><summary><span class=\"dni-code-hint\"><code>{&quot;url&quot;:&quot;https://reqres.in/#support-heading&quot;,&quot;text&quot;:&quot;To keep ReqRes free, contributions towards server costs are appreciated!&quot;}</code></span></summary><div><table><thead><tr></tr></thead><tbody><tr><td>url</td><td><span>&quot;https://reqres.in/#support-heading&quot;</span></td></tr><tr><td>text</td><td><span>&quot;To keep ReqRes free, contributions towards server costs are appreciated!&quot;</span></td></tr></tbody></table></div></details></td></tr></tbody></table></div></details><style>\r\n",
       ".dni-code-hint {\r\n",
       "    font-style: italic;\r\n",
       "    overflow: hidden;\r\n",
       "    white-space: nowrap;\r\n",
       "}\r\n",
       ".dni-treeview {\r\n",
       "    white-space: nowrap;\r\n",
       "}\r\n",
       ".dni-treeview td {\r\n",
       "    vertical-align: top;\r\n",
       "    text-align: start;\r\n",
       "}\r\n",
       "details.dni-treeview {\r\n",
       "    padding-left: 1em;\r\n",
       "}\r\n",
       "table td {\r\n",
       "    text-align: start;\r\n",
       "}\r\n",
       "table tr { \r\n",
       "    vertical-align: top; \r\n",
       "    margin: 0em 0px;\r\n",
       "}\r\n",
       "table tr td pre \r\n",
       "{ \r\n",
       "    vertical-align: top !important; \r\n",
       "    margin: 0em 0px !important;\r\n",
       "} \r\n",
       "table th {\r\n",
       "    text-align: start;\r\n",
       "}\r\n",
       "</style>"
      ]
     },
     "metadata": {},
     "output_type": "display_data"
    }
   ],
   "source": [
    "open FsHttp\n",
    "\n",
    "\n",
    "let users_list = \n",
    "    http {\n",
    "        GET \"https://reqres.in/api/users\"\n",
    "    }\n",
    "    |> Request.send\n",
    "    |> Response.toJson\n",
    "\n",
    "users_list"
   ]
  },
  {
   "attachments": {},
   "cell_type": "markdown",
   "metadata": {},
   "source": [
    "Wen can use the dynamic `?` operator to take a look at some JSON properties in the response. Since the API docs tell us that the `data` property will contain the users, lets take a look at it:"
   ]
  },
  {
   "cell_type": "code",
   "execution_count": 8,
   "metadata": {
    "dotnet_interactive": {
     "language": "fsharp"
    },
    "polyglot_notebook": {
     "kernelName": "fsharp"
    }
   },
   "outputs": [
    {
     "data": {
      "text/html": [
       "<details class=\"dni-treeview\"><summary><span class=\"dni-code-hint\"><code>[{&quot;id&quot;:1,&quot;email&quot;:&quot;george.bluth@reqres.in&quot;,&quot;first_name&quot;:&quot;George&quot;,&quot;last_name&quot;:&quot;Bluth&quot;,&quot;avatar&quot;:&quot;https://reqres.in/img/faces/1-image.jpg&quot;},{&quot;id&quot;:2,&quot;email&quot;:&quot;janet.weaver@reqres.in&quot;,&quot;first_name&quot;:&quot;Janet&quot;,&quot;last_name&quot;:&quot;Weaver&quot;,&quot;avatar&quot;:&quot;https://reqres.in/img/faces/2-image.jpg&quot;},{&quot;id&quot;:3,&quot;email&quot;:&quot;emma.wong@reqres.in&quot;,&quot;first_name&quot;:&quot;Emma&quot;,&quot;last_name&quot;:&quot;Wong&quot;,&quot;avatar&quot;:&quot;https://reqres.in/img/faces/3-image.jpg&quot;},{&quot;id&quot;:4,&quot;email&quot;:&quot;eve.holt@reqres.in&quot;,&quot;first_name&quot;:&quot;Eve&quot;,&quot;last_name&quot;:&quot;Holt&quot;,&quot;avatar&quot;:&quot;https://reqres.in/img/faces/4-image.jpg&quot;},{&quot;id&quot;:5,&quot;email&quot;:&quot;charles.morris@reqres.in&quot;,&quot;first_name&quot;:&quot;Charles&quot;,&quot;last_name&quot;:&quot;Morris&quot;,&quot;avatar&quot;:&quot;https://reqres.in/img/faces/5-image.jpg&quot;},{&quot;id&quot;:6,&quot;email&quot;:&quot;tracey.ramos@reqres.in&quot;,&quot;first_name&quot;:&quot;Tracey&quot;,&quot;last_name&quot;:&quot;Ramos&quot;,&quot;avatar&quot;:&quot;https://reqres.in/img/faces/6-image.jpg&quot;}]</code></span></summary><div><table><thead><tr></tr></thead><tbody><tr><td><details class=\"dni-treeview\"><summary><span class=\"dni-code-hint\"><code>{&quot;id&quot;:1,&quot;email&quot;:&quot;george.bluth@reqres.in&quot;,&quot;first_name&quot;:&quot;George&quot;,&quot;last_name&quot;:&quot;Bluth&quot;,&quot;avatar&quot;:&quot;https://reqres.in/img/faces/1-image.jpg&quot;}</code></span></summary><div><table><thead><tr></tr></thead><tbody><tr><td>id</td><td><span><div class=\"dni-plaintext\"><pre>1</pre></div></span></td></tr><tr><td>email</td><td><span>&quot;george.bluth@reqres.in&quot;</span></td></tr><tr><td>first_name</td><td><span>&quot;George&quot;</span></td></tr><tr><td>last_name</td><td><span>&quot;Bluth&quot;</span></td></tr><tr><td>avatar</td><td><span>&quot;https://reqres.in/img/faces/1-image.jpg&quot;</span></td></tr></tbody></table></div></details></td></tr><tr><td><details class=\"dni-treeview\"><summary><span class=\"dni-code-hint\"><code>{&quot;id&quot;:2,&quot;email&quot;:&quot;janet.weaver@reqres.in&quot;,&quot;first_name&quot;:&quot;Janet&quot;,&quot;last_name&quot;:&quot;Weaver&quot;,&quot;avatar&quot;:&quot;https://reqres.in/img/faces/2-image.jpg&quot;}</code></span></summary><div><table><thead><tr></tr></thead><tbody><tr><td>id</td><td><span><div class=\"dni-plaintext\"><pre>2</pre></div></span></td></tr><tr><td>email</td><td><span>&quot;janet.weaver@reqres.in&quot;</span></td></tr><tr><td>first_name</td><td><span>&quot;Janet&quot;</span></td></tr><tr><td>last_name</td><td><span>&quot;Weaver&quot;</span></td></tr><tr><td>avatar</td><td><span>&quot;https://reqres.in/img/faces/2-image.jpg&quot;</span></td></tr></tbody></table></div></details></td></tr><tr><td><details class=\"dni-treeview\"><summary><span class=\"dni-code-hint\"><code>{&quot;id&quot;:3,&quot;email&quot;:&quot;emma.wong@reqres.in&quot;,&quot;first_name&quot;:&quot;Emma&quot;,&quot;last_name&quot;:&quot;Wong&quot;,&quot;avatar&quot;:&quot;https://reqres.in/img/faces/3-image.jpg&quot;}</code></span></summary><div><table><thead><tr></tr></thead><tbody><tr><td>id</td><td><span><div class=\"dni-plaintext\"><pre>3</pre></div></span></td></tr><tr><td>email</td><td><span>&quot;emma.wong@reqres.in&quot;</span></td></tr><tr><td>first_name</td><td><span>&quot;Emma&quot;</span></td></tr><tr><td>last_name</td><td><span>&quot;Wong&quot;</span></td></tr><tr><td>avatar</td><td><span>&quot;https://reqres.in/img/faces/3-image.jpg&quot;</span></td></tr></tbody></table></div></details></td></tr><tr><td><details class=\"dni-treeview\"><summary><span class=\"dni-code-hint\"><code>{&quot;id&quot;:4,&quot;email&quot;:&quot;eve.holt@reqres.in&quot;,&quot;first_name&quot;:&quot;Eve&quot;,&quot;last_name&quot;:&quot;Holt&quot;,&quot;avatar&quot;:&quot;https://reqres.in/img/faces/4-image.jpg&quot;}</code></span></summary><div><table><thead><tr></tr></thead><tbody><tr><td>id</td><td><span><div class=\"dni-plaintext\"><pre>4</pre></div></span></td></tr><tr><td>email</td><td><span>&quot;eve.holt@reqres.in&quot;</span></td></tr><tr><td>first_name</td><td><span>&quot;Eve&quot;</span></td></tr><tr><td>last_name</td><td><span>&quot;Holt&quot;</span></td></tr><tr><td>avatar</td><td><span>&quot;https://reqres.in/img/faces/4-image.jpg&quot;</span></td></tr></tbody></table></div></details></td></tr><tr><td><details class=\"dni-treeview\"><summary><span class=\"dni-code-hint\"><code>{&quot;id&quot;:5,&quot;email&quot;:&quot;charles.morris@reqres.in&quot;,&quot;first_name&quot;:&quot;Charles&quot;,&quot;last_name&quot;:&quot;Morris&quot;,&quot;avatar&quot;:&quot;https://reqres.in/img/faces/5-image.jpg&quot;}</code></span></summary><div><table><thead><tr></tr></thead><tbody><tr><td>id</td><td><span><div class=\"dni-plaintext\"><pre>5</pre></div></span></td></tr><tr><td>email</td><td><span>&quot;charles.morris@reqres.in&quot;</span></td></tr><tr><td>first_name</td><td><span>&quot;Charles&quot;</span></td></tr><tr><td>last_name</td><td><span>&quot;Morris&quot;</span></td></tr><tr><td>avatar</td><td><span>&quot;https://reqres.in/img/faces/5-image.jpg&quot;</span></td></tr></tbody></table></div></details></td></tr><tr><td><details class=\"dni-treeview\"><summary><span class=\"dni-code-hint\"><code>{&quot;id&quot;:6,&quot;email&quot;:&quot;tracey.ramos@reqres.in&quot;,&quot;first_name&quot;:&quot;Tracey&quot;,&quot;last_name&quot;:&quot;Ramos&quot;,&quot;avatar&quot;:&quot;https://reqres.in/img/faces/6-image.jpg&quot;}</code></span></summary><div><table><thead><tr></tr></thead><tbody><tr><td>id</td><td><span><div class=\"dni-plaintext\"><pre>6</pre></div></span></td></tr><tr><td>email</td><td><span>&quot;tracey.ramos@reqres.in&quot;</span></td></tr><tr><td>first_name</td><td><span>&quot;Tracey&quot;</span></td></tr><tr><td>last_name</td><td><span>&quot;Ramos&quot;</span></td></tr><tr><td>avatar</td><td><span>&quot;https://reqres.in/img/faces/6-image.jpg&quot;</span></td></tr></tbody></table></div></details></td></tr></tbody></table></div></details><style>\r\n",
       ".dni-code-hint {\r\n",
       "    font-style: italic;\r\n",
       "    overflow: hidden;\r\n",
       "    white-space: nowrap;\r\n",
       "}\r\n",
       ".dni-treeview {\r\n",
       "    white-space: nowrap;\r\n",
       "}\r\n",
       ".dni-treeview td {\r\n",
       "    vertical-align: top;\r\n",
       "    text-align: start;\r\n",
       "}\r\n",
       "details.dni-treeview {\r\n",
       "    padding-left: 1em;\r\n",
       "}\r\n",
       "table td {\r\n",
       "    text-align: start;\r\n",
       "}\r\n",
       "table tr { \r\n",
       "    vertical-align: top; \r\n",
       "    margin: 0em 0px;\r\n",
       "}\r\n",
       "table tr td pre \r\n",
       "{ \r\n",
       "    vertical-align: top !important; \r\n",
       "    margin: 0em 0px !important;\r\n",
       "} \r\n",
       "table th {\r\n",
       "    text-align: start;\r\n",
       "}\r\n",
       "</style>"
      ]
     },
     "metadata": {},
     "output_type": "display_data"
    }
   ],
   "source": [
    "users_list?data"
   ]
  },
  {
   "attachments": {},
   "cell_type": "markdown",
   "metadata": {},
   "source": [
    "### Query parameters\n",
    "\n",
    "For a quick look at how to use url query parameters with FsHttp, let's use the `users` endpoint again, but this time with 1 user per page, looking at the second page.\n",
    "\n",
    "'page' in this context means that the server will serve us the results in chunks (pages), a concept that will become important later as well. This splits the results into multiple pages, which we can then request individually. This is useful for performance reasons, as we don't have to wait for the server to send us all the results at once, but can already start processing the first page while the server is still sending us the rest of the results."
   ]
  },
  {
   "cell_type": "code",
   "execution_count": 15,
   "metadata": {
    "dotnet_interactive": {
     "language": "fsharp"
    },
    "polyglot_notebook": {
     "kernelName": "fsharp"
    }
   },
   "outputs": [
    {
     "data": {
      "text/html": [
       "<details class=\"dni-treeview\"><summary><span class=\"dni-code-hint\"><code>{&quot;page&quot;:2,&quot;per_page&quot;:1,&quot;total&quot;:12,&quot;total_pages&quot;:12,&quot;data&quot;:[{&quot;id&quot;:2,&quot;email&quot;:&quot;janet.weaver@reqres.in&quot;,&quot;first_name&quot;:&quot;Janet&quot;,&quot;last_name&quot;:&quot;Weaver&quot;,&quot;avatar&quot;:&quot;https://reqres.in/img/faces/2-image.jpg&quot;}],&quot;support&quot;:{&quot;url&quot;:&quot;https://reqres.in/#support-heading&quot;,&quot;text&quot;:&quot;To keep ReqRes free, contributions towards server costs are appreciated!&quot;}}</code></span></summary><div><table><thead><tr></tr></thead><tbody><tr><td>page</td><td><span><div class=\"dni-plaintext\"><pre>2</pre></div></span></td></tr><tr><td>per_page</td><td><span><div class=\"dni-plaintext\"><pre>1</pre></div></span></td></tr><tr><td>total</td><td><span><div class=\"dni-plaintext\"><pre>12</pre></div></span></td></tr><tr><td>total_pages</td><td><span><div class=\"dni-plaintext\"><pre>12</pre></div></span></td></tr><tr><td>data</td><td><details class=\"dni-treeview\"><summary><span class=\"dni-code-hint\"><code>[{&quot;id&quot;:2,&quot;email&quot;:&quot;janet.weaver@reqres.in&quot;,&quot;first_name&quot;:&quot;Janet&quot;,&quot;last_name&quot;:&quot;Weaver&quot;,&quot;avatar&quot;:&quot;https://reqres.in/img/faces/2-image.jpg&quot;}]</code></span></summary><div><table><thead><tr></tr></thead><tbody><tr><td><details class=\"dni-treeview\"><summary><span class=\"dni-code-hint\"><code>{&quot;id&quot;:2,&quot;email&quot;:&quot;janet.weaver@reqres.in&quot;,&quot;first_name&quot;:&quot;Janet&quot;,&quot;last_name&quot;:&quot;Weaver&quot;,&quot;avatar&quot;:&quot;https://reqres.in/img/faces/2-image.jpg&quot;}</code></span></summary><div><table><thead><tr></tr></thead><tbody><tr><td>id</td><td><span><div class=\"dni-plaintext\"><pre>2</pre></div></span></td></tr><tr><td>email</td><td><span>&quot;janet.weaver@reqres.in&quot;</span></td></tr><tr><td>first_name</td><td><span>&quot;Janet&quot;</span></td></tr><tr><td>last_name</td><td><span>&quot;Weaver&quot;</span></td></tr><tr><td>avatar</td><td><span>&quot;https://reqres.in/img/faces/2-image.jpg&quot;</span></td></tr></tbody></table></div></details></td></tr></tbody></table></div></details></td></tr><tr><td>support</td><td><details class=\"dni-treeview\"><summary><span class=\"dni-code-hint\"><code>{&quot;url&quot;:&quot;https://reqres.in/#support-heading&quot;,&quot;text&quot;:&quot;To keep ReqRes free, contributions towards server costs are appreciated!&quot;}</code></span></summary><div><table><thead><tr></tr></thead><tbody><tr><td>url</td><td><span>&quot;https://reqres.in/#support-heading&quot;</span></td></tr><tr><td>text</td><td><span>&quot;To keep ReqRes free, contributions towards server costs are appreciated!&quot;</span></td></tr></tbody></table></div></details></td></tr></tbody></table></div></details><style>\r\n",
       ".dni-code-hint {\r\n",
       "    font-style: italic;\r\n",
       "    overflow: hidden;\r\n",
       "    white-space: nowrap;\r\n",
       "}\r\n",
       ".dni-treeview {\r\n",
       "    white-space: nowrap;\r\n",
       "}\r\n",
       ".dni-treeview td {\r\n",
       "    vertical-align: top;\r\n",
       "    text-align: start;\r\n",
       "}\r\n",
       "details.dni-treeview {\r\n",
       "    padding-left: 1em;\r\n",
       "}\r\n",
       "table td {\r\n",
       "    text-align: start;\r\n",
       "}\r\n",
       "table tr { \r\n",
       "    vertical-align: top; \r\n",
       "    margin: 0em 0px;\r\n",
       "}\r\n",
       "table tr td pre \r\n",
       "{ \r\n",
       "    vertical-align: top !important; \r\n",
       "    margin: 0em 0px !important;\r\n",
       "} \r\n",
       "table th {\r\n",
       "    text-align: start;\r\n",
       "}\r\n",
       "</style>"
      ]
     },
     "metadata": {},
     "output_type": "display_data"
    }
   ],
   "source": [
    "http {\n",
    "    GET \"https://reqres.in/api/users\"\n",
    "    query [\n",
    "        \"page\", 2\n",
    "        \"per_page\", 1\n",
    "    ]\n",
    "}\n",
    "|> Request.send\n",
    "|> Response.toJson"
   ]
  },
  {
   "attachments": {},
   "cell_type": "markdown",
   "metadata": {},
   "source": [
    "Lets now look at the other fields in the response:\n",
    "- `page` tells us which chunk of the result we are looking at\n",
    "- `per_page` tells us how many results are on each page\n",
    "- `total` tells us how many results there are in total\n",
    "- `total_pages` tells us how many pages there are in total\n",
    "\n",
    "with this information, we can navigate the results. wen can access the last result without ever requesting the first page, for example:"
   ]
  },
  {
   "cell_type": "code",
   "execution_count": 17,
   "metadata": {
    "dotnet_interactive": {
     "language": "fsharp"
    },
    "polyglot_notebook": {
     "kernelName": "fsharp"
    }
   },
   "outputs": [
    {
     "data": {
      "text/html": [
       "<details class=\"dni-treeview\"><summary><span class=\"dni-code-hint\"><code>[{&quot;id&quot;:12,&quot;email&quot;:&quot;rachel.howell@reqres.in&quot;,&quot;first_name&quot;:&quot;Rachel&quot;,&quot;last_name&quot;:&quot;Howell&quot;,&quot;avatar&quot;:&quot;https://reqres.in/img/faces/12-image.jpg&quot;}]</code></span></summary><div><table><thead><tr></tr></thead><tbody><tr><td><details class=\"dni-treeview\"><summary><span class=\"dni-code-hint\"><code>{&quot;id&quot;:12,&quot;email&quot;:&quot;rachel.howell@reqres.in&quot;,&quot;first_name&quot;:&quot;Rachel&quot;,&quot;last_name&quot;:&quot;Howell&quot;,&quot;avatar&quot;:&quot;https://reqres.in/img/faces/12-image.jpg&quot;}</code></span></summary><div><table><thead><tr></tr></thead><tbody><tr><td>id</td><td><span><div class=\"dni-plaintext\"><pre>12</pre></div></span></td></tr><tr><td>email</td><td><span>&quot;rachel.howell@reqres.in&quot;</span></td></tr><tr><td>first_name</td><td><span>&quot;Rachel&quot;</span></td></tr><tr><td>last_name</td><td><span>&quot;Howell&quot;</span></td></tr><tr><td>avatar</td><td><span>&quot;https://reqres.in/img/faces/12-image.jpg&quot;</span></td></tr></tbody></table></div></details></td></tr></tbody></table></div></details><style>\r\n",
       ".dni-code-hint {\r\n",
       "    font-style: italic;\r\n",
       "    overflow: hidden;\r\n",
       "    white-space: nowrap;\r\n",
       "}\r\n",
       ".dni-treeview {\r\n",
       "    white-space: nowrap;\r\n",
       "}\r\n",
       ".dni-treeview td {\r\n",
       "    vertical-align: top;\r\n",
       "    text-align: start;\r\n",
       "}\r\n",
       "details.dni-treeview {\r\n",
       "    padding-left: 1em;\r\n",
       "}\r\n",
       "table td {\r\n",
       "    text-align: start;\r\n",
       "}\r\n",
       "table tr { \r\n",
       "    vertical-align: top; \r\n",
       "    margin: 0em 0px;\r\n",
       "}\r\n",
       "table tr td pre \r\n",
       "{ \r\n",
       "    vertical-align: top !important; \r\n",
       "    margin: 0em 0px !important;\r\n",
       "} \r\n",
       "table th {\r\n",
       "    text-align: start;\r\n",
       "}\r\n",
       "</style>"
      ]
     },
     "metadata": {},
     "output_type": "display_data"
    }
   ],
   "source": [
    "http {\n",
    "    GET \"https://reqres.in/api/users\"\n",
    "    query [\n",
    "        \"page\", 12\n",
    "        \"per_page\", 1\n",
    "    ]\n",
    "}\n",
    "|> Request.send\n",
    "|> Response.toJson\n",
    "|> fun json -> json?data"
   ]
  },
  {
   "attachments": {},
   "cell_type": "markdown",
   "metadata": {},
   "source": [
    "### Parsing and processing JSON response data\n",
    "\n",
    "So far, we have only looked at the JSON response data using the dynamic `?` operator. This is useful for exploring the JSON structure, but not for actually processing the data. For this, we need to deserialize the JSON into a strongly typed F# record:"
   ]
  },
  {
   "cell_type": "code",
   "execution_count": 18,
   "metadata": {
    "dotnet_interactive": {
     "language": "fsharp"
    },
    "polyglot_notebook": {
     "kernelName": "fsharp"
    }
   },
   "outputs": [],
   "source": [
    "type User = {\n",
    "    id: int\n",
    "    email: string\n",
    "    first_name: string\n",
    "    last_name: string\n",
    "    avatar: string\n",
    "}\n",
    "\n",
    "let users_list = \n",
    "    http {\n",
    "        GET \"https://reqres.in/api/users\"\n",
    "    }\n",
    "    |> Request.send\n",
    "    |> Response.toJson\n",
    "    |> fun json -> json?data.Deserialize<User list>()"
   ]
  },
  {
   "attachments": {},
   "cell_type": "markdown",
   "metadata": {},
   "source": [
    "We can now for example write a function that creates a little thumbnail for a user:"
   ]
  },
  {
   "cell_type": "code",
   "execution_count": 22,
   "metadata": {
    "dotnet_interactive": {
     "language": "fsharp"
    },
    "polyglot_notebook": {
     "kernelName": "fsharp"
    }
   },
   "outputs": [
    {
     "data": {
      "text/html": [
       "\r\n",
       "    <div> \r\n",
       "        <h1>George Bluth</h1>\r\n",
       "        <img src=\"https://reqres.in/img/faces/1-image.jpg\" />\r\n",
       "        <br>\r\n",
       "        <a href=\"mailto:george.bluth@reqres.in\">george.bluth@reqres.in</a>\r\n",
       "    </div>\r\n",
       "    "
      ]
     },
     "metadata": {},
     "output_type": "display_data"
    }
   ],
   "source": [
    "let createUserThumbnail (u: User) =\n",
    "    $\"\"\"\n",
    "    <div> \n",
    "        <h1>{u.first_name} {u.last_name}</h1>\n",
    "        <img src=\"{u.avatar}\" />\n",
    "        <br>\n",
    "        <a href=\"mailto:{u.email}\">{u.email}</a>\n",
    "    </div>\n",
    "    \"\"\"\n",
    "\n",
    "users_list\n",
    "|> List.head\n",
    "|> createUserThumbnail\n",
    "|> DisplayFunctions.HTML"
   ]
  },
  {
   "attachments": {},
   "cell_type": "markdown",
   "metadata": {},
   "source": [
    "## Rate Limiting\n",
    "\n"
   ]
  }
 ],
 "metadata": {
  "kernelspec": {
   "display_name": ".NET (F#)",
   "language": "F#",
   "name": ".net-fsharp"
  },
  "language_info": {
   "name": "polyglot-notebook"
  },
  "polyglot_notebook": {
   "kernelInfo": {
    "defaultKernelName": "fsharp",
    "items": [
     {
      "aliases": [],
      "languageName": "fsharp",
      "name": "fsharp"
     }
    ]
   }
  }
 },
 "nbformat": 4,
 "nbformat_minor": 2
}
