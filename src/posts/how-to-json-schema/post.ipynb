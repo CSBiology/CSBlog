{
 "cells": [
  {
   "attachments": {},
   "cell_type": "markdown",
   "metadata": {
    "dotnet_interactive": {
     "language": "fsharp"
    },
    "polyglot_notebook": {
     "kernelName": "fsharp"
    }
   },
   "source": [
    "# How to develop and use a JSON Schema"
   ]
  },
  {
   "cell_type": "markdown",
   "metadata": {
    "dotnet_interactive": {
     "language": "fsharp"
    },
    "polyglot_notebook": {
     "kernelName": "fsharp"
    }
   },
   "source": [
    "## What are JSON Schemas?\n",
    "\n",
    "JSON (JavaScript Object Notation) is a common data format for storing data and metadata and widely used for data exchange purposes. It is easily human- as well as machine-readable. While JSON files and formats can be written in a simple and non-standardized way (as long as the syntax is respected), standardizing a specific JSON format might be useful when considering validation, documentation, and interaction control.\n",
    "\n",
    "JSON Schemas are data models that are build out of JSON syntax themselves.\n",
    "\n",
    "## JSON syntax\n",
    "\n",
    "Since the syntax of JSON is very simple and easy to understand, here's everything to know:  \n",
    "\n",
    "- A JSON file consists of at least one empty object\n",
    "- Objects are opened with `{` and closed with `}`\n",
    "- Objects consist of key/value (aka name/value) pairs. Keys (or names) are identifiers realized as strings, values are corresponding information realized via primitive data types, both are separated via the character `:`\n",
    "- There are 6 basic primitive data types:\n",
    "  - null: no value (`null`)\n",
    "  - boolean: `true` or `false` value\n",
    "  - number: decimal number value, e.g. `7` or `1.337`\n",
    "  - string: unicode text value, e.g. `\"Hello World!\"`\n",
    "  - object: unordered set of properties, consists of key/value pairs, e.g. `{ \"name\": \"Max Mustermann\", \"age\": 44 }`\n",
    "  - array: ordered list of instances, consists of values, e.g. `[ \"Hello \", \"World!\" ]`\n",
    "- As seen above, `,` is used to separate different key/value pairs in objects and instances in arrays\n",
    "- Objects can be nested infinitely\n",
    "- Scoping is similar to F#, both `[ \"Hello \", \"World!\" ]` as well as  \n",
    "![image](https://user-images.githubusercontent.com/47781170/131900223-3fa36d2f-d65a-44ce-9913-69a2f42b35f2.png)  \n",
    "  is possible\n",
    "\n",
    "## The basic structure of a JSON Schema\n",
    "\n",
    "Since JSON Schemas are JSON files in a sense, they are written very similarly.  \n",
    "Let's develop a JSON schema for ‒ say – future blogposts. It should consist of an identifier, a title, a category to which it belongs, a value if it is already uploaded or not, and an array of tags.  \n",
    "\n",
    "A finished JSON file following this schema should therefore look like this:\n",
    "\n",
    "```json\n",
    "{\n",
    "  \"identifier\": 0,\n",
    "  \"title\": \"How to develop and use a JSON Schema\",\n",
    "  \"category\": \"Implementation\",\n",
    "  \"uploaded\": true,\n",
    "  \"tags\": [ \"implementation\", \"JSON\", \"standardization\" ]\n",
    "}\n",
    "```\n",
    "\n",
    "JSON Schemas must start with 2 unique key/value pairs that are referencing them as specific JSON Schemas:\n",
    "\n",
    "```json\n",
    "{\n",
    "  \"$schema\": \"https://json-schema.org/draft/2020-12/schema\",\n",
    "  \"$id\": \"https://raw.githubusercontent.com/omaus/CSBlogpost/main/blogpost.schema.json\",\n",
    "}\n",
    "```\n",
    "\n",
    "The first key, `\"$schema\"` references a JSON Schema to a so-called Metaschema, here of the ID \"https://json-schema.org/draft/2020-12/schema\".  \n",
    "The value of second key, `\"$id\"`, is a unique identifier for this JSON Schema, typically in the form of a URI.  \n",
    "\n",
    "The `$` is a special character and marks Schema-related keywords.\n",
    "\n",
    "There's more to add: Our JSON Schema needs a title and a description:\n",
    "\n",
    "```json\n",
    "{\n",
    "  \"$schema\": \"https://json-schema.org/draft/2020-12/schema\",\n",
    "  \"$id\": \"https://raw.githubusercontent.com/omaus/CSBlogpost/main/blogpost.schema.json\",\n",
    "  \"title\": \"Blogpost entry\",\n",
    "  \"description\": \"An entry of our blogpost series, consisting of an identifier, a title, a category, the upload status, and some tags.\",\n",
    "}\n",
    "```\n",
    "\n",
    "These are called \"Schema Annotations\" since they annotate our Schema and provide some information about it.\n",
    "\n",
    "The last thing to add is a so-called \"Validation keyword\":\n",
    "\n",
    "```json\n",
    "{\n",
    "  \"$schema\": \"https://json-schema.org/draft/2020-12/schema\",\n",
    "  \"$id\": \"https://raw.githubusercontent.com/omaus/CSBlogpost/main/blogpost.schema.json\",\n",
    "  \"title\": \"Blogpost entry\",\n",
    "  \"description\": \"An entry of our blogpost series, consisting of an identifier, a title, a category, the upload status, and some tags.\",\n",
    "  \"type\": \"object\"\n",
    "}\n",
    "```\n",
    "\n",
    "The JSON files of our Schema must have a type. In our case, it's an object but the primitive data types as well as `integer` (a `number` without fractional parts) are also applicable. We will examine that later.\n",
    "\n",
    "There are a lot of other Schema Keywords, Schema Annotations and Validation Keywords. We will see some of them later but there are also some that are not important now and can be looked at later if required.\n",
    "\n",
    "Now, since we wrote the \"metadata\" of our JSON Schema, we want to add the properties of our blogpost JSON file seen above:\n",
    "\n",
    "```json\n",
    "{\n",
    "  \"$schema\": \"https://json-schema.org/draft/2020-12/schema\",\n",
    "  \"$id\": \"https://raw.githubusercontent.com/omaus/CSBlogpost/main/blogpost.schema.json\",\n",
    "  \"title\": \"Blogpost entry\",\n",
    "  \"description\": \"An entry of our blogpost series, consisting of an identifier, a title, a category, the upload status, and some tags.\",\n",
    "  \"type\": \"object\",\n",
    "  \"properties\": {\n",
    "    \"identifier\": {\n",
    "      \"description\": \"The identifier of a blogpost entry, an integer.\",\n",
    "      \"type\": \"integer\"\n",
    "    },\n",
    "    \"title\": {\n",
    "      \"description\": \"The title of a blogpost entry.\",\n",
    "      \"type\": \"string\"\n",
    "    },\n",
    "    \"category\": {\n",
    "      \"description\": \"The category a blogpost entry belongs to.\",\n",
    "      \"type\": \"string\"\n",
    "    },\n",
    "    \"uploaded\": {\n",
    "      \"description\": \"A value that tells if a blogpost entry has been already uploaded to a repository or not.\",\n",
    "      \"type\": \"boolean\"\n",
    "    },\n",
    "    \"tags\": {\n",
    "        \"description\": \"A list of tags that help describing and categorizing a blogpost entry.\",\n",
    "        \"type\": \"array\",\n",
    "        \"items\": {\n",
    "          \"type\": \"string\"\n",
    "        },\n",
    "        \"uniqueItems\": true\n",
    "    }\n",
    "  },\n",
    "  \"required\":  [ \"identifier\", \"title\", \"category\" ]\n",
    "}\n",
    "```\n",
    "\n",
    "`\"properties\"` is an object consisting of objects. The properties set in our original JSON file are realized here. As for the `\"tags\"` property, we define that the tags must be different.  \n",
    "\n",
    "There's another Validation Keyword we added here: The `\"required\"` key. It is an array consisting of all the properties we think are mandatory for the JSON file to be valid. In our case, we think that the tags and the upload status should rather be optional information and thus are not added to the required list.\n",
    "Since we are dealing with this JSON file and its Schema right now we are realizing that an author is missing! 😱\n",
    "\n",
    "```json\n",
    "{\n",
    "  \"identifier\": 0,\n",
    "  \"title\": \"How to develop and use a JSON Schema\",\n",
    "  \"category\": \"Implementation\",\n",
    "  \"uploaded\": true,\n",
    "  \"tags\": [ \"implementation\", \"JSON\", \"standardization\" ],\n",
    "  \"authors\": [\n",
    "    {\n",
    "      \"name\": \"Oliver Maus\",\n",
    "      \"organization\": \"CSBiology\"\n",
    "    }\n",
    "  ]\n",
    "}\n",
    "```\n",
    "\n",
    "There's something new: We now must add a nested type to our Schema:\n",
    "\n",
    "```json\n",
    "{\n",
    "  \"$schema\": \"https://json-schema.org/draft/2020-12/schema\",\n",
    "  \"$id\": \"https://raw.githubusercontent.com/omaus/CSBlogpost/main/blogpost.schema.json\",\n",
    "  \"title\": \"Blogpost entry\",\n",
    "  \"description\": \"An entry of our blogpost series, consisting of an identifier, a title, a category, the upload status, and some tags.\",\n",
    "  \"type\": \"object\",\n",
    "  \"properties\": {\n",
    "    \"identifier\": {\n",
    "      \"description\": \"The identifier of a blogpost entry, an integer.\",\n",
    "      \"type\": \"integer\"\n",
    "    },\n",
    "    \"title\": {\n",
    "      \"description\": \"The title of a blogpost entry.\",\n",
    "      \"type\": \"string\"\n",
    "    },\n",
    "    \"category\": {\n",
    "      \"description\": \"The category a blogpost entry belongs to.\",\n",
    "      \"type\": \"string\"\n",
    "    },\n",
    "    \"uploaded\": {\n",
    "      \"description\": \"A value that tells if a blogpost entry has been already uploaded to a repository or not.\",\n",
    "      \"type\": \"boolean\"\n",
    "    },\n",
    "    \"tags\": {\n",
    "      \"description\": \"A list of tags that help describing and categorizing a blogpost entry.\",\n",
    "      \"type\": \"array\",\n",
    "      \"items\": {\n",
    "        \"type\": \"string\"\n",
    "      },\n",
    "      \"uniqueItems\": true\n",
    "    },\n",
    "    \"authors\": {\n",
    "      \"description\": \"A list of all authors associated with a blogpost entry.\",\n",
    "      \"type\": \"array\",\n",
    "      \"items\": {\n",
    "        \"type\": \"object\",\n",
    "        \"properties\": {\n",
    "          \"name\": {\n",
    "            \"type\": \"string\"\n",
    "          },\n",
    "          \"organization\": {\n",
    "            \"type\": \"string\"\n",
    "          }\n",
    "        }\n",
    "      },\n",
    "      \"minItems\": 1,\n",
    "      \"uniqueItems\": true\n",
    "    }\n",
    "  },\n",
    "  \"required\":  [ \"identifier\", \"title\", \"category\", \"authors\" ]\n",
    "}\n",
    "```\n",
    "\n",
    "We show our Schema to our boss but unfortunately he's not satisfied. He reckons that there should be a license associated with it."
   ]
  },
  {
   "cell_type": "markdown",
   "metadata": {
    "dotnet_interactive": {
     "language": "fsharp"
    },
    "polyglot_notebook": {
     "kernelName": "fsharp"
    }
   },
   "source": [
    "## References\n",
    "\n",
    "There's already a JSON Schema for licenses. So we want to incorporate it into ours.\n",
    "\n",
    "```json\n",
    "{\n",
    "  \"$schema\": \"https://json-schema.org/draft/2020-12/schema\",\n",
    "  \"$id\": \"https://raw.githubusercontent.com/omaus/CSBlogpost/main/license.schema.json\",\n",
    "  \"title\": \"Copyright license\",\n",
    "  \"description\": \"A license regarding copyright\",\n",
    "  \"type\": \"object\",\n",
    "  \"properties\": {\n",
    "    \"name\": {\n",
    "      \"description\": \"The name of the license\",\n",
    "      \"type\": \"string\"\n",
    "    },\n",
    "    \"version\": {\n",
    "      \"description\": \"The version of this license in the form of 'v(Major).(Minor).(Patch)'.\",\n",
    "      \"type\": \"string\"\n",
    "    },\n",
    "    \"author\": {\n",
    "      \"description\": \"The name of the author of a license.\",\n",
    "      \"type\": \"string\"\n",
    "    },\n",
    "    \"date\": {\n",
    "      \"description\": \"The exact date when a license was published.\",\n",
    "      \"type\": \"string\"\n",
    "    }\n",
    "  },\n",
    "  \"required\": [ \"name\", \"version\", \"author\", \"date\" ]\n",
    "}\n",
    "```\n",
    "\n",
    "Our new Blogpost Schema:\n",
    "\n",
    "```json\n",
    "{\n",
    "  \"$schema\": \"https://json-schema.org/draft/2020-12/schema\",\n",
    "  \"$id\": \"https://raw.githubusercontent.com/omaus/CSBlogpost/main/blogpost.schema.json\",\n",
    "  \"title\": \"Blogpost entry\",\n",
    "  \"description\": \"An entry of our blogpost series, consisting of an identifier, a title, a category, the upload status, and some tags.\",\n",
    "  \"type\": \"object\",\n",
    "  \"properties\": {\n",
    "    \"identifier\": {\n",
    "      \"description\": \"The identifier of a blogpost entry, an integer.\",\n",
    "      \"type\": \"integer\"\n",
    "    },\n",
    "    \"title\": {\n",
    "      \"description\": \"The title of a blogpost entry.\",\n",
    "      \"type\": \"string\"\n",
    "    },\n",
    "    \"category\": {\n",
    "      \"description\": \"The category a blogpost entry belongs to.\",\n",
    "      \"type\": \"string\"\n",
    "    },\n",
    "    \"uploaded\": {\n",
    "      \"description\": \"A value that tells if a blogpost entry has been already uploaded to a repository or not.\",\n",
    "      \"type\": \"boolean\"\n",
    "    },\n",
    "    \"tags\": {\n",
    "      \"description\": \"A list of tags that help describing and categorizing a blogpost entry.\",\n",
    "      \"type\": \"array\",\n",
    "      \"items\": {\n",
    "        \"type\": \"string\"\n",
    "      },\n",
    "      \"uniqueItems\": true\n",
    "    },\n",
    "    \"authors\": {\n",
    "      \"description\": \"A list of all authors associated with a blogpost entry.\",\n",
    "      \"type\": \"array\",\n",
    "      \"items\": {\n",
    "        \"type\": \"object\",\n",
    "        \"properties\": {\n",
    "          \"name\": {\n",
    "            \"type\": \"string\"\n",
    "          },\n",
    "          \"organization\": {\n",
    "            \"type\": \"string\"\n",
    "          }\n",
    "        }\n",
    "      },\n",
    "      \"minItems\": 1,\n",
    "      \"uniqueItems\": true\n",
    "    },\n",
    "    \"license\": {\n",
    "      \"description\": \"The license used for a blogpost entry.\",\n",
    "      \"$ref\": \"https://raw.githubusercontent.com/omaus/CSBlogpost/main/license.schema.json\"\n",
    "    }\n",
    "  },\n",
    "  \"required\":  [ \"identifier\", \"title\", \"category\", \"authors\", \"license\" ]\n",
    "}\n",
    "```\n",
    "\n",
    "Let's look at the finished JSON file for this blogpost:\n",
    "\n",
    "```json\n",
    "{\n",
    "  \"identifier\": 0,\n",
    "  \"title\": \"How to develop and use a JSON Schema\",\n",
    "  \"category\": \"Implementation\",\n",
    "  \"uploaded\": true,\n",
    "  \"tags\": [ \"implementation\", \"JSON\", \"standardization\" ],\n",
    "  \"authors\": [\n",
    "    {\n",
    "      \"name\": \"Oliver Maus\",\n",
    "      \"organization\": \"CSBiology\"\n",
    "    }\n",
    "  ],\n",
    "  \"license\": {\n",
    "    \"name\": \"Creative Commons Attribution 4.0 International Public License\",\n",
    "    \"version\": \"v4.0.0\",\n",
    "    \"author\": null,\n",
    "    \"date\": null\n",
    "  }\n",
    "}\n",
    "```"
   ]
  },
  {
   "cell_type": "markdown",
   "metadata": {
    "dotnet_interactive": {
     "language": "fsharp"
    },
    "polyglot_notebook": {
     "kernelName": "fsharp"
    }
   },
   "source": [
    "## Validation of JSON files by a Schema\n",
    "\n",
    "The Newtonsoft.Json library provides great JSON Schema support regarding validating your JSON files by a given Schema."
   ]
  },
  {
   "cell_type": "code",
   "execution_count": null,
   "metadata": {
    "dotnet_interactive": {
     "language": "fsharp"
    },
    "vscode": {
     "languageId": "polyglot-notebook"
    }
   },
   "outputs": [],
   "source": [
    "#r \"nuget: FSharp.Data\"\n",
    "#r \"nuget: Newtonsoft.Json\"\n",
    "#r \"nuget: Newtonsoft.Json.Schema\""
   ]
  },
  {
   "cell_type": "code",
   "execution_count": null,
   "metadata": {
    "dotnet_interactive": {
     "language": "fsharp"
    },
    "vscode": {
     "languageId": "polyglot-notebook"
    }
   },
   "outputs": [],
   "source": [
    "open FSharp.Data\n",
    "open Newtonsoft.Json.Linq\n",
    "open Newtonsoft.Json.Schema\n",
    "\n",
    "// We download the Json strings via FSharp.Data and parse them into a JSchema or JObject, respectively.\n",
    "let licenseSchema = Http.RequestString @\"https://raw.githubusercontent.com/omaus/CSBlogpost/main/license.schema.json\" |> JSchema.Parse\n",
    "let ccLicense = Http.RequestString @\"https://raw.githubusercontent.com/omaus/CSBlogpost/main/CCAtt4IPL.json\" |> JObject.Parse\n",
    "\n",
    "// We match the outcome of the IsValid method to get error messages, if available.\n",
    "match (ccLicense.IsValid(licenseSchema)) : (bool * #seq<string>) with\n",
    "| (false,msg) -> printfn \"not valid due to: %A\" msg\n",
    "| _ -> printfn \"valid\""
   ]
  },
  {
   "cell_type": "markdown",
   "metadata": {
    "dotnet_interactive": {
     "language": "fsharp"
    },
    "polyglot_notebook": {
     "kernelName": "fsharp"
    }
   },
   "source": [
    "Oh no, our file seems to be invalid.  \n",
    "\n",
    "When giving it a closer look, we see that the required properties \"author\" and \"date\" are set to null. Thus, we replace them with empty strings and start anew."
   ]
  },
  {
   "cell_type": "code",
   "execution_count": null,
   "metadata": {
    "dotnet_interactive": {
     "language": "fsharp"
    },
    "vscode": {
     "languageId": "polyglot-notebook"
    }
   },
   "outputs": [],
   "source": [
    "let ccLicenseNew = Http.RequestString @\"https://raw.githubusercontent.com/omaus/CSBlogpost/main/CCAtt4IPL_new.json\" |> JObject.Parse\n",
    "\n",
    "match (ccLicenseNew.IsValid(licenseSchema)) : (bool * #seq<string>) with\n",
    "| (false,msg) -> printfn \"not valid due to: %A\" msg\n",
    "| _ -> printfn \"valid\""
   ]
  },
  {
   "cell_type": "markdown",
   "metadata": {
    "dotnet_interactive": {
     "language": "fsharp"
    },
    "polyglot_notebook": {
     "kernelName": "fsharp"
    }
   },
   "source": [
    "Let's now test this with our blogpost Schema and the corresponding JSON file.  \n",
    "\n",
    "Since this Schema references another one, we need a resolver:"
   ]
  },
  {
   "cell_type": "code",
   "execution_count": null,
   "metadata": {
    "dotnet_interactive": {
     "language": "fsharp"
    },
    "vscode": {
     "languageId": "polyglot-notebook"
    }
   },
   "outputs": [],
   "source": [
    "let resolver = JSchemaUrlResolver()\n",
    "\n",
    "let blogpostSchema = JSchema.Parse(Http.RequestString @\"https://raw.githubusercontent.com/omaus/CSBlogpost/main/blogpost.schema.json\", resolver)\n",
    "let blogpost0 = Http.RequestString @\"https://raw.githubusercontent.com/omaus/CSBlogpost/main/blogpost0.json\" |> JObject.Parse\n",
    "\n",
    "match (blogpost0.IsValid(blogpostSchema)) : (bool * #seq<string>) with\n",
    "| (false,msg) -> printfn \"not valid due to: %A\" msg\n",
    "| _ -> printfn \"valid\""
   ]
  },
  {
   "cell_type": "markdown",
   "metadata": {
    "dotnet_interactive": {
     "language": "fsharp"
    },
    "polyglot_notebook": {
     "kernelName": "fsharp"
    }
   },
   "source": [
    "## Further reading\n",
    "\n",
    "- [Understanding JSON](https://json-schema.org/understanding-json-schema/index.html)\n",
    "- [Official JSON Schema Homepage](https://json-schema.org/)\n",
    "- [Schema Core Specification](https://json-schema.org/draft/2020-12/json-schema-core.html)\n",
    "- [Schema Validation Specification](https://json-schema.org/draft/2020-12/json-schema-validation.html)\n",
    "- [Relative JSON pointers Specification](https://json-schema.org/draft/2020-12/relative-json-pointer.html)"
   ]
  }
 ],
 "metadata": {
  "kernelspec": {
   "display_name": ".NET (F#)",
   "language": "F#",
   "name": ".net-fsharp"
  },
  "polyglot_notebook": {
   "kernelInfo": {
    "defaultKernelName": "fsharp",
    "items": [
     {
      "aliases": [
       "f#",
       "F#"
      ],
      "languageName": "F#",
      "name": "fsharp"
     },
     {
      "aliases": [],
      "languageName": null,
      "name": ".NET"
     },
     {
      "aliases": [
       "c#",
       "C#"
      ],
      "languageName": "C#",
      "name": "csharp"
     },
     {
      "aliases": [],
      "languageName": "HTML",
      "name": "html"
     },
     {
      "aliases": [],
      "languageName": "KQL",
      "name": "kql"
     },
     {
      "aliases": [],
      "languageName": "Mermaid",
      "name": "mermaid"
     },
     {
      "aliases": [
       "powershell"
      ],
      "languageName": "PowerShell",
      "name": "pwsh"
     },
     {
      "aliases": [],
      "languageName": "SQL",
      "name": "sql"
     },
     {
      "aliases": [],
      "name": "value"
     },
     {
      "aliases": [
       "frontend"
      ],
      "languageName": null,
      "name": "vscode"
     }
    ]
   }
  }
 },
 "nbformat": 4,
 "nbformat_minor": 2
}
