{
 "cells": [
  {
   "cell_type": "markdown",
   "metadata": {
    "dotnet_interactive": {
     "language": "csharp"
    },
    "polyglot_notebook": {
     "kernelName": "csharp"
    }
   },
   "source": [
    "\n",
    "# VS Code Remote-Container and the ARC\n",
    "_[Jonathan Ott](https://github.com/Joott)_, _[Kevin Frey](https://github.com/Freymaurer)_ ~ _last updated: 2022-04-25_\n",
    "\n",
    "In this blogpost I will deal with the question how computational data analysis could look like in a reproducible environment. You can read more about FAIR data and the important concepts on the [DataPLANT website](https://www.nfdi4plants.de). DataPLANT's research data management is built around the **ARC** ([Annotated Research Context](https://www.nfdi4plants.de/content/learn-more/annotated-research-context.html)), a folder and file structure to not only annotate research data but also to store and share it. Workflows and Runs also refer to computational data analysis done on the produced data. It is important that not only laboratory experiments are reproducible, but also the data analysis is repeatable. Therefore, i propose using Visual Studio Code [`Remote-Containers`](https://code.visualstudio.com/docs/remote/containers) for scripting in an ARC environment. This VS Code extensions allows us to connect with our personal VS Code instance to a VS Code Server instance inside a docker container. Inside of the docker container runs defined development environment, which allows any user to recreate the environment under which the data analysis was originally performed."
   ]
  },
  {
   "cell_type": "markdown",
   "metadata": {
    "dotnet_interactive": {
     "language": "csharp"
    },
    "polyglot_notebook": {
     "kernelName": "csharp"
    }
   },
   "source": [
    "## Requirements\n",
    "\n",
    "- Installed [Docker](https://docs.docker.com/get-docker/).\n",
    "- VS Code with [`Remote-Containers`](https://code.visualstudio.com/docs/remote/containers) extension."
   ]
  },
  {
   "attachments": {},
   "cell_type": "markdown",
   "metadata": {
    "dotnet_interactive": {
     "language": "csharp"
    },
    "polyglot_notebook": {
     "kernelName": "csharp"
    }
   },
   "source": [
    "\n",
    "## Set up\n",
    "\n",
    "This blogpost assumes that an ARC was already created (with the [ArcCommander](https://nfdi4plants.org/content/service.html)) and the data annotated (with [Swate](https://github.com/nfdi4plants/Swate#swate)). The example ARC I will link for this blogpost was reduced to a minimal version for ease of use.\n",
    "\n",
    "To use remote containers we need 3 things:\n",
    "\n",
    "- a `.devcontainer` folder with the following files:\n",
    "    - `.devcontainer/devcontainer.json`\n",
    "    - `.devcontainer/settings.vscode.json`\n",
    "- ``Dockerfile``\n",
    "\n",
    "For this example I will use a devcontainer \"designed\" for an F# development environment. Let's start with a look at the devcontainer.json\n",
    "\n",
    "```json\n",
    "// devcontainer.json\n",
    "{\n",
    "    \"name\": \"FSharpCodeContainer\",\n",
    "    \"dockerFile\": \"../Dockerfile\", // Path to Dockerfile with environment\n",
    "    \"appPort\": [8080],\n",
    "    \"extensions\": [ \n",
    "        \"ionide.ionide-fsharp\", // F# extension\n",
    "        \"ms-vscode.csharp\",\n",
    "        \"editorconfig.editorconfig\",\n",
    "        \"ms-dotnettools.dotnet-interactive-vscode\", // allows to create juypter notebooks with .NET kernel\n",
    "        \"cweijan.vscode-office\" // can display .xlsx files in VS Code\n",
    "    ],\n",
    "} \n",
    "```\n",
    "\n",
    "Here we can specify, which extensions the VS Code Server instance in our docker container should be running. We also reference the dockerfile which should be used to build the container. There we specify that we for example want to use the .NET sdk 6.0.\n",
    "\n",
    "```Dockerfile\n",
    "FROM mcr.microsoft.com/dotnet/sdk:6.0\n",
    "# Dockerfile\n",
    "\n",
    "# Copy endpoint specific user settings into container to specify\n",
    "# .NET Core should be used as the runtime.\n",
    "COPY .devcontainer/settings.vscode.json /root/.vscode-remote/data/Machine/settings.json\n",
    "\n",
    "# Install git, process tools\n",
    "RUN apt-get update && apt-get -y install git procps\n",
    "\n",
    "WORKDIR /workspaces/FSharpCodespace/dependencies\n",
    "```\n",
    "\n",
    "> 👀 If you want to go along the example, you can download the minimal arc (``arc-bio-bte-06-l-7-small.zip``) from the [CSBlog repository](https://github.com/CSBiology/CSBlog).\n",
    "\n",
    "## Folderstructure\n",
    "\n",
    "```\n",
    "+-- assays\n",
    "|   +-- VP21_WC\n",
    "|       +-- dataset\n",
    "|       |   +-- WCAnnotated_Ratio.txt\n",
    "|       +-- isa.assay.xlsx\n",
    "+-- runs\n",
    "|    +-- VP21_WC\n",
    "|        +-- data-analysis.ipynb\n",
    "|        +-- analyze.yml\n",
    "|        +-- data-analysis.fsx\n",
    "+-- workflows\n",
    "|    +-- FSharpContainer\n",
    "|    |   +-- Dockerfile\n",
    "|    |   +-- .devcontainer\n",
    "|    |       +-- devcontainer.json\n",
    "|    |       +-- settings.vscode.json\n",
    "|    +--FSharpContainer.cwl\n",
    "```\n",
    "\n",
    "There are more folders and files in there, but let's focus on these for now.\n",
    "\n",
    "- `assays\\VP21_WC\\dataset\\WCAnnotated_Ratio.txt` is the file that contains the data. It is a tab separated file and contains the 14N/15N ratios ([ref](https://training.galaxyproject.org/training-material/topics/proteomics/tutorials/protein-quant-sil/tutorial.html)) for the proteins of interest.\n",
    "- `assays\\VP21_WC\\isa.assay.xlsx` contains the metadata information for the experiment. Growthconditions, [QconCat proteins](https://pubmed.ncbi.nlm.nih.gov/26791984/), and biological replicates to name a few.\n",
    "- `runs\\VP21_WC\\data-analysis.ipynb` is the notebook that contains the data analysis. It is a [Jupyter Notebook](https://jupyter-notebook.readthedocs.io/en/stable/) with .NET Kernel and F# code.\n",
    "- `workflows\\FSharpContainer\\` contains the information for the VS Code remote container.\n"
   ]
  },
  {
   "cell_type": "markdown",
   "metadata": {
    "dotnet_interactive": {
     "language": "csharp"
    },
    "polyglot_notebook": {
     "kernelName": "csharp"
    }
   },
   "source": [
    "\n",
    "## How to start\n",
    "\n",
    "1. Open the `workflows\\FSharpContainer\\` folder on root level as workspace in VS Code.\n",
    "2. Click on the new bottom left `><` button and `Reopen in container`.\n",
    "3. This will create the container in docker (needs to be running) and binds the workspace and all changes into the docker dev environment.\n",
    "4. All changes are computed in the docker environment but reflected to the local files."
   ]
  },
  {
   "cell_type": "markdown",
   "metadata": {
    "dotnet_interactive": {
     "language": "csharp"
    },
    "polyglot_notebook": {
     "kernelName": "csharp"
    }
   },
   "source": [
    "\n",
    "## ⚠️ .devcontainer MUST be on root level\n",
    "\n",
    "In an *ARC* we don't want to have the .devcontainer folder in the root of the project. But instead we want to have it under *workflows*.\n",
    "So to start the devcontainer with VS Code we need to open the exact parent folder of `.devcontainer` folder. In this case `arc-bio-bte-06-l-7-small/workflows/FSharpCodeContainer`.\n",
    "\n",
    "This means most files in the mounted volume will not be displayed in the VS Code file explorer.\n",
    "\n",
    "This issue is also mentioned [here](https://github.com/microsoft/vscode-remote-release/issues/2413).\n",
    "\n",
    "\n",
    "### How to open/access not displayed files \n",
    "\n",
    "- <kbd>Ctrl</kbd> + <kbd>O</kbd> to use VS Code `Open File...` . \n",
    "- `File` -> `Open Folder...` to rescope workspace to base folder.\n",
    "\n",
    "> 👀 If you downloaded the example arc open `runs\\VP21_WC\\data-analysis.ipynb` and follow along from there. All content will be the same, but you can run the code in the jupyter notebook."
   ]
  },
  {
   "cell_type": "markdown",
   "metadata": {
    "dotnet_interactive": {
     "language": "csharp"
    },
    "polyglot_notebook": {
     "kernelName": "csharp"
    }
   },
   "source": [
    "\n",
    "## Dependencies\n",
    "\n",
    "We start by importing all required nuget packages.\n",
    "\n",
    "```Fsharp\n",
    "#r \"nuget: Deedle, 2.3.0\"\n",
    "#r \"nuget: Plotly.NET, 2.0.0-preview.16\"\n",
    "#r \"nuget: Plotly.NET.Interactive, 2.0.0-preview.16\"\n",
    "#r \"nuget: FSharp.Stats, 0.4.1\"\n",
    "#r \"nuget: FSharpAux\"\n",
    "#r \"nuget: BIO-BTE-06-L-7_Aux, 0.0.9\"\n",
    "#r \"nuget: ISADotNet, 0.4.0-preview.4\"\n",
    "#r \"nuget: ISADotNet.XLSX, 0.4.0-preview.4\"\n",
    "#r \"nuget: ISADotNet.IO, 0.0.2\"\n",
    "\n",
    "open Deedle\n",
    "open Plotly.NET\n",
    "open Plotly.NET.LayoutObjects\n",
    "open FSharp.Stats\n",
    "open System.IO\n",
    "open FSharpAux\n",
    "open BIO_BTE_06_L_7_Aux.Deedle_Aux\n",
    "```"
   ]
  },
  {
   "cell_type": "markdown",
   "metadata": {
    "dotnet_interactive": {
     "language": "csharp"
    },
    "polyglot_notebook": {
     "kernelName": "csharp"
    }
   },
   "source": [
    "## Review Assay file\n",
    "\n",
    "The devcontainer has the `Office Viewer` extension installed so we can open `/workspaces/blogpost-playground/arc-bio-bte-06-l-7-small/assays/VP21_WC/isa.assay.xlsx` without leaving the VS Code environment!\n",
    "\n",
    "Some important things to note from the isa.assay.xlsx file.\n",
    "\n",
    "- In the `Cultivation` sheet we can see that the experiment used 3 biological replicates.\n",
    "- In `Protein Extraction` we can see, that the replicates were split into 4 samples each with different quantities of Q-Protein:\n",
    "    - `Parameter [15N Calvin-Benson cycle QconCAT mass#3]`\n",
    "    - `Parameter [15N Photosynthesis QconCAT mass#4]`\n",
    "- Any further processing was done equally on all those samples.\n",
    "- All data processing ends in one file `../../assays/VP21_WC/dataset/WCAnnotated_Ratio.txt`. \n",
    "    - ⚠️ Normally the computational part should be better annotated, but for this minimal example we just have to know that the result file contains 14N/15N ratios for all peptides of the two used Q-Proteins. ⚠️"
   ]
  },
  {
   "cell_type": "markdown",
   "metadata": {
    "dotnet_interactive": {
     "language": "csharp"
    },
    "polyglot_notebook": {
     "kernelName": "csharp"
    }
   },
   "source": [
    "\n",
    "## Data analysis\n",
    "\n",
    "### Data access\n",
    "\n",
    "We start by accessing our data and reading it into an [Deedle frame](https://fslab.org/packages.html).\n",
    "\n",
    "```fsharp\n",
    "[<Literal>]\n",
    "let dataPath = @\"../../assays/VP21_WC/dataset/WCAnnotated_Ratio.txt\"\n",
    "\n",
    "// quality control, check dilution series. In this example mean should always increase by times 5.\n",
    "type Qprot =\n",
    "    | CBB\n",
    "    | PS\n",
    "\n",
    "type PeptideIon = \n",
    "    {\n",
    "        ProteinGroup    : string  \n",
    "        Synonym         : string\n",
    "        StringSequence  : string\n",
    "        PepSequenceID   : int\n",
    "        Charge          : int\n",
    "        QProt           : Qprot\n",
    "    }\n",
    "\n",
    "let rowKeyColNames = [|\"ProteinGroup\"; \"StringSequence\"; \"PepSequenceID\"; \"Charge\"; \"Synonym\"|]\n",
    "\n",
    "/// Open .xlsx file and index rows with column information. Then drop those columns\n",
    "let readQuantAndProtFrame (path: string) =\n",
    "    let frame =\n",
    "        Frame.ReadCsv (path,true,separators=\"\\t\")\n",
    "        |> Frame.indexRowsUsing (fun s ->\n",
    "            let pGroup = \n",
    "                s.GetAs<string>(\"ProteinGroup\")\n",
    "                |> String.split ';'\n",
    "                |> Array.sort\n",
    "                |> String.concat \";\"\n",
    "            {\n",
    "                ProteinGroup = pGroup\n",
    "                StringSequence = s.GetAs<string>(\"StringSequence\")\n",
    "                PepSequenceID = s.GetAs<int>(\"PepSequenceID\")\n",
    "                Charge = s.GetAs<int>(\"Charge\")\n",
    "                Synonym = s.GetAs<string>(\"Synonym\")\n",
    "                QProt = \n",
    "                    match pGroup |> String.contains \"QProt_newCBB\", pGroup |> String.contains \"QProt_newPS\" with\n",
    "                    | true, false  -> CBB\n",
    "                    | false, true  -> PS  \n",
    "                    | anythingElse -> failwith $\"Error! unexpected input in cbb ps matching: {anythingElse}\" \n",
    "            }\n",
    "        )\n",
    "    /// The following works on a mutable frame, so we can drop all columns we don't need without forwarding the frame to the next column to drop.\n",
    "    rowKeyColNames \n",
    "    |> Array.map (fun name ->\n",
    "        frame.DropColumn(name)\n",
    "    )\n",
    "    |> ignore\n",
    "    frame\n",
    "\n",
    "let data = readQuantAndProtFrame dataPath\n",
    "```"
   ]
  },
  {
   "cell_type": "markdown",
   "metadata": {
    "dotnet_interactive": {
     "language": "csharp"
    },
    "polyglot_notebook": {
     "kernelName": "csharp"
    }
   },
   "source": [
    "\n",
    "#### Visualisation 1\n",
    "\n",
    "Check the current state with:\n",
    "\n",
    "```fsharp\n",
    "data \n",
    "|> Frame.take 10\n",
    "|> formatAsTable 500\n",
    "```\n",
    "\n",
    "<details>\n",
    "<summary>Image of table data</summary>\n",
    "\n",
    "![Image of table data](./../../img/5_devcontainer_arc/data_table.png)\n",
    "\n",
    "</details>\n"
   ]
  },
  {
   "cell_type": "markdown",
   "metadata": {
    "dotnet_interactive": {
     "language": "csharp"
    },
    "polyglot_notebook": {
     "kernelName": "csharp"
    }
   },
   "source": [
    "\n",
    "#### Visualisation 2\n",
    "\n",
    "Display the same data as boxplot:\n",
    "\n",
    "```fsharp\n",
    "let createBoxPlot f =\n",
    "    f\n",
    "    |> Frame.getNumericCols\n",
    "    |> Series.map (fun k s ->\n",
    "        let x,y =\n",
    "            s\n",
    "            |> Series.values\n",
    "            |> Seq.map (fun values -> \n",
    "                string k, values\n",
    "            )\n",
    "            |> Seq.unzip\n",
    "        Chart.BoxPlot(x, y, Orientation = StyleParam.Orientation.Vertical)\n",
    "    )\n",
    "    |> Series.values\n",
    "    |> Chart.combine\n",
    "    |> Chart.withYAxisStyle(\"Ratio\", MinMax=(0, 100))\n",
    "    |> Chart.withLegend(false)\n",
    "\n",
    "createBoxPlot data\n",
    "```\n",
    "\n",
    "<details>\n",
    "<summary>Image data as boxplot</summary>\n",
    "\n",
    "![Image data as boxplot](./../../img/5_devcontainer_arc/data_boxplot.png)\n",
    "\n",
    "</details>\n",
    "\n",
    "<br>\n",
    "\n",
    "This plot shows the 15N/14N ratio of all detected Q-Protein peptides."
   ]
  },
  {
   "cell_type": "markdown",
   "metadata": {
    "dotnet_interactive": {
     "language": "csharp"
    },
    "polyglot_notebook": {
     "kernelName": "csharp"
    }
   },
   "source": [
    "\n",
    "### Metadata access\n",
    "\n",
    "Next we want to calculate the mean for all peptides over the biological replicates.\n",
    "\n",
    "We want to access the metadata from `assays\\VP21_WC\\isa.assay.xlsx`. We can traverse the annotation tables of the .xlsx file with the [ISADotNet](https://github.com/nfdi4plants/ISADotNet) library.\n",
    "\n",
    "```fsharp\n",
    "let normalizeFileName (f: string) = if Path.HasExtension f then f else Path.ChangeExtension(f, \"wiff\")\n",
    "\n",
    "open ISADotNet\n",
    "open arcIO.NET\n",
    "\n",
    "let assayFilePath = @\"../../assays/VP21_WC/isa.assay.xlsx\"\n",
    "\n",
    "/// Put these functions into a separate code block. Run them once and then work in a new block, \n",
    "/// to avoid getting an error when you have the .xlsx file open somewhere else\n",
    "let _,_,_,myAssayFile = XLSX.AssayFile.Assay.fromFile assayFilePath\n",
    "\n",
    "let inOutMap = ISADotNet.createInOutMap myAssayFile\n",
    "```\n",
    "\n",
    "Because we know we have the sample names in the `isa.assay.xlsx` files as column headers we can use them to access related metadata information.\n",
    "\n",
    "```fsharp\n",
    "/// Get one specific value for an output column\n",
    "let getColumnParam (sheetName:string) (paramName:string) (fileName: string) =\n",
    "    let fN = fileName |> normalizeFileName \n",
    "    ISADotNet.tryGetParameter // can only get Parameter [xxx]\n",
    "        inOutMap \n",
    "        sheetName // Excel Sheet\n",
    "        paramName // Excel column name in []\n",
    "        fN // last \"Sample Name\" in assay file, without file extension\n",
    "        myAssayFile\n",
    "    |> Option.defaultValue \"\"\n",
    "    |> String.split ' '\n",
    "    |> Array.head\n",
    "    |> float\n",
    "\n",
    "/// The column parameter names in isa.assay.xlsx\n",
    "let cbc_qconcat = \"15N Calvin-Benson cycle QconCAT mass #3\"\n",
    "let ps_qconcat = \"15N Photosynthesis QconCAT mass #4\"\n",
    "\n",
    "let getCBC_qconcat sampleName = getColumnParam \"Protein extraction\" cbc_qconcat sampleName\n",
    "let getPS_qconcat sampleName = getColumnParam \"Protein extraction\" ps_qconcat sampleName\n",
    "\n",
    "/// example access\n",
    "getColumnParam \"Protein extraction\" cbc_qconcat \"WCGr2_U1\" // 0.9\n",
    "```\n"
   ]
  },
  {
   "attachments": {},
   "cell_type": "markdown",
   "metadata": {
    "dotnet_interactive": {
     "language": "csharp"
    },
    "polyglot_notebook": {
     "kernelName": "csharp"
    }
   },
   "source": [
    "\n",
    "### Data transformation\n",
    "\n",
    "Map over all samples to extract Q-Protein quantities and calculate the mean over all samples with the same quantities _(the biological replicates)_.\n",
    "\n",
    "```fsharp\n",
    "let cbc_ps_data =\n",
    "    data\n",
    "    /// col keys as row keys\n",
    "    |> Frame.transpose\n",
    "    /// Adjust keys to represent dilution series.\n",
    "    |> Frame.mapRowKeys (fun rk -> sprintf \"cbc: %A\" (getCBC_qconcat rk), sprintf \"ps: %A\" (getPS_qconcat rk), rk)\n",
    "    /// Calculate mean for all rows with the same value in cbc and ps q-protein quantity (aka. the biological replicates)\n",
    "    |> Frame.applyLevel (fun (cbc,ps,_) -> cbc, ps) Stats.mean\n",
    "    /// Swap rows keys back to column keys\n",
    "    |> Frame.transpose\n",
    "\n",
    "cbc_ps_data\n",
    "|> formatAsTable 500\n",
    "```\n",
    "\n",
    "Image data mean as table\n",
    "\n",
    "![Image data mean as table](./../../img/5_devcontainer_arc/data_table_mean.png)\n",
    "\n",
    "Image data mean as boxplot\n",
    "\n",
    "![Image data mean as boxplot](./../../img/5_devcontainer_arc/data_boxplot_mean.png)\n",
    "\n",
    "\n",
    "Last we want to show only ratios for peptides related to a specific protein.\n",
    "\n",
    "```fsharp\n",
    "let plotPeptidesOf (ratios: Frame<PeptideIon,string*string>) (prot: string) = \n",
    "    ratios\n",
    "    /// filter data to only show peptides of the given protein\n",
    "    |> Frame.filterRows (fun k s -> k.Synonym.Contains prot || k.ProteinGroup.Contains prot)\n",
    "    |> Frame.transpose\n",
    "    |> Frame.getNumericCols\n",
    "    |> Series.map (fun pep (values) -> \n",
    "        let qprotAmounts,ratios,fileLabel =\n",
    "            values\n",
    "            |> Series.map (fun dataColumnName ratio -> \n",
    "                    let cbc, ps = dataColumnName\n",
    "                    let name = \n",
    "                        if pep.QProt = CBB then cbc else ps\n",
    "                        |> String.split ' '\n",
    "                        |> Array.last\n",
    "                    name, ratio, name\n",
    "            )\n",
    "            |> Series.values\n",
    "            |> Seq.unzip3\n",
    "        Chart.Point(qprotAmounts, ratios, MultiText = fileLabel)\n",
    "        |> Chart.withTraceName (sprintf \"S:%s_C:%i\" pep.StringSequence pep.Charge)\n",
    "        |> Chart.withXAxisStyle(\"qProt Amount\")\n",
    "        |> Chart.withYAxisStyle(\"Ratio\")\n",
    "        |> Chart.withTitle (prot)\n",
    "        )\n",
    "    |> Series.values\n",
    "    |> Chart.combine\n",
    "\n",
    "plotPeptidesOf cbc_ps_data \"rbcL\"\n",
    "```\n",
    "\n",
    "![Image: Measured ratios for all Q-Peptides related to rbcL](./../../img/5_devcontainer_arc/data_rbcL.png)\n",
    "\n",
    "Thats it for a minimal example on how we can interopt VS Code remote containers and the ARC."
   ]
  },
  {
   "cell_type": "markdown",
   "metadata": {
    "dotnet_interactive": {
     "language": "csharp"
    },
    "polyglot_notebook": {
     "kernelName": "csharp"
    }
   },
   "source": [
    "## Verdict\n",
    "\n",
    "- Remote containers allow scripting in an ARC to be reproducible and often with a lower set of requirements (only VS Code with the extension and docker).\n",
    "- Scripting is handled intuitively (personal settings from VS Code are used), any files dropped into folderstructure are mounted to the container.\n",
    "- Still some minor issues:\n",
    "    - .devcontainer must be at root level for the active VS Code workspace.\n",
    "    - lacking some computational prowess (at least out of the box)."
   ]
  },
  {
   "cell_type": "markdown",
   "metadata": {
    "dotnet_interactive": {
     "language": "csharp"
    },
    "polyglot_notebook": {
     "kernelName": "csharp"
    }
   },
   "source": [
    "## Outlook\n",
    "\n",
    "The especially attentive reader might have noticed, that we listed some files under [folderstructure](#folderstructure), which were not mentioned yet.\n",
    "\n",
    "- `workflows\\FSharpContainer.cwl`\n",
    "- `runs\\VP21_WC\\analyze.yml`\n",
    "- `runs\\VP21_WC\\data-analysis.fsx`\n",
    "\n",
    "A finished **ARC** will feature a  [CWL](https://www.commonwl.org) file which is meant to automatically run the complete computational pipeline. Thus, it has a dual function as an indirect annotation of the computational process. A standard CWL file will create a docker container which will run the computational pipeline.\n",
    "\n",
    "If we manage to create CWL, Dockerfile and VS Code devcontainer in a combined manner to reuse the docker file or even the dockercontainer we would reduce maintenance issues and further generalize the workflow.\n",
    "\n",
    "So in the future it should be possible to run the CWL pipeline with the same settings as the VS Code remote container."
   ]
  }
 ],
 "metadata": {
"language_info": {"name": "F#"},
  "kernelspec": {
   "display_name": ".NET (C#)",
   "language": "C#",
   "name": ".net-csharp"
  },
  "polyglot_notebook": {
   "kernelInfo": {
    "defaultKernelName": "csharp",
    "items": [
     {
      "aliases": [
       "c#",
       "C#"
      ],
      "languageName": "C#",
      "name": "csharp"
     },
     {
      "aliases": [],
      "languageName": null,
      "name": ".NET"
     },
     {
      "aliases": [
       "f#",
       "F#"
      ],
      "languageName": "F#",
      "name": "fsharp"
     },
     {
      "aliases": [],
      "languageName": "HTML",
      "name": "html"
     },
     {
      "aliases": [],
      "languageName": "KQL",
      "name": "kql"
     },
     {
      "aliases": [],
      "languageName": "Mermaid",
      "name": "mermaid"
     },
     {
      "aliases": [
       "powershell"
      ],
      "languageName": "PowerShell",
      "name": "pwsh"
     },
     {
      "aliases": [],
      "languageName": "SQL",
      "name": "sql"
     },
     {
      "aliases": [],
      "name": "value"
     },
     {
      "aliases": [
       "frontend"
      ],
      "languageName": null,
      "name": "vscode"
     }
    ]
   }
  }
 },
 "nbformat": 4,
 "nbformat_minor": 2
}
