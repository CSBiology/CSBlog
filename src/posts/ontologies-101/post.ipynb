{
 "cells": [
  {
   "attachments": {},
   "cell_type": "markdown",
   "metadata": {
    "dotnet_interactive": {
     "language": "csharp"
    },
    "polyglot_notebook": {
     "kernelName": "csharp"
    }
   },
   "source": [
    "# Ontology 1o1\n",
    "_[Oliver Maus](https://github.com/omaus), Feb 2023_\n",
    "\n",
    "### Content\n",
    "- [Introduction](#introduction)\n",
    "- [Ontology components](#ontology-components)\n",
    "  - [Classes (& Instances)](#classes--instances)\n",
    "  - [Attributes](#attributes)\n",
    "  - [Relations](#relations)\n",
    "- [Ontology file formats](#ontology-file-formats)\n",
    "  - [OWL](#owl)\n",
    "  - [OBO](#obo)\n",
    "- [Protégé](#protégé)\n",
    "- [Parsing OBO files in F#](#parsing-obo-files-in-f)\n",
    "- [Creating an ontology](#creating-an-ontology)\n",
    "- [References](#references)"
   ]
  },
  {
   "attachments": {},
   "cell_type": "markdown",
   "metadata": {
    "dotnet_interactive": {
     "language": "csharp"
    },
    "polyglot_notebook": {
     "kernelName": "csharp"
    }
   },
   "source": [
    "## Introduction\n",
    "\n",
    "> In computer science, an ontology is a way of organizing knowledge in a structured and hierarchical manner. It consists of a set of classes or concepts, each with its own properties and relationships to other classes. Ontologies are used to help machines reason about information in a more intelligent and automated way, leading to more effective decision-making and problem-solving.  \n",
    "> -- <cite>ChatGPT</cite>\n",
    "\n",
    "Ontologies, as we know them in computer science, hail from the concept of ontology in philosophy, more precisely, the field of metaphysics.  \n",
    "There, \"ontology\" describes the doctrine of being and existence. It is mainly about the categorization of entities (which can be abstract or material), of processes and properties, and of events. \n",
    "In this point, the philosophical concept of ontology agrees with that of computer science. The _ontology_ of computer science, however, does not focus on philosophical issues but on representations of the categorized concepts and their relations to each other.\n",
    "\n",
    "Ontologies have become more and more important in computer science since they allow for a standardized set of terms (so-called _controlled vocabularies_) which describe the things you are engaging with and putting them in a structure, guided by rules. This way, it becomes easier for humans to learn and communicate about a topic since ontologies also have a teaching nature on the one hand, and for machines to order these terms in a similar way to human understanding on the other hand.  \n",
    "Especially in the field of research data management, ontologies prove very useful because they achieve a compromise between human- and machine-readability and thus may lead to fewer miscommunications and errors. In the **FAIR data principles**, the I (for interoparability) can be achieved with the help of ontologies. This is done in, for example, the DataPLANT consortium."
   ]
  },
  {
   "attachments": {},
   "cell_type": "markdown",
   "metadata": {
    "dotnet_interactive": {
     "language": "csharp"
    },
    "polyglot_notebook": {
     "kernelName": "csharp"
    }
   },
   "source": [
    "## Ontology components\n",
    "\n",
    "As mentioned before, ontologies consist of several elements which are called 'components'. In the following I will cover the 3 most important ones:  \n",
    "(for a full set of all components, look [here](https://en.wikipedia.org/wiki/Ontology_components))"
   ]
  },
  {
   "attachments": {},
   "cell_type": "markdown",
   "metadata": {
    "dotnet_interactive": {
     "language": "csharp"
    },
    "polyglot_notebook": {
     "kernelName": "csharp"
    }
   },
   "source": [
    "### Classes (& Instances)\n",
    "\n",
    "Very similarly to OOP, _classes_ are concepts (conceptual blueprints) of objects that can be instantiated (which results in an _instance_). If, e.g., there is the _class_ \"Cat\", \"Garfield\" would be an _instance_ of it.  \n",
    "Classes can also have (an infinite amount of) subclasses. In the following graph, the domain of the kingdoms of life is (partially) represented as a class with subclasses:\n",
    "\n",
    "<img src=../../img/ontologies/classes_subclasses.png style=\"max-width:45%\"></img>\n",
    "\n",
    "An instance of the subclass \"Felis catus\" (Cat):\n",
    "\n",
    "<img src=../../img/ontologies/classes_subclasses_instance.png style=\"max-width:25%\"></img>"
   ]
  },
  {
   "attachments": {},
   "cell_type": "markdown",
   "metadata": {
    "dotnet_interactive": {
     "language": "csharp"
    },
    "polyglot_notebook": {
     "kernelName": "csharp"
    }
   },
   "source": [
    "### Relations\n",
    "\n",
    "Objects in an ontology can be _related_ to one another.  \n",
    "Beneath a set of ontology-specific individual relations, there are some relations that are seen in many ontologies or even every one:  \n",
    "- is_a: Describes the relation between a subclass and a class which leads to a child-term parent-term relation. The \n",
    "\n",
    "<img src=../../img/ontologies/classes_subclasses_relations.png style=\"max-width:45%\"></img>\n",
    "\n",
    "- part_of: Describes the relation between subclasses and a class where the class can only be instantiated if **every** subclass is present (as instance). E.g. a \"cell\" cannot exist without all of its crucial parts, therefore \"cell membrane\" is part_of \"cell\".\n",
    "\n",
    "<img src=../../img/ontologies/part_of.png style=\"max-width:25%\"></img>\n",
    "\n",
    "- xref: Describes cross-reference between different ontologies. Often used for synonyms when dealing with multiple ontologies at once. E.g. \"Organism\" in OBI ontology can be xref of \"organism\" in NCBIT ontology."
   ]
  },
  {
   "attachments": {},
   "cell_type": "markdown",
   "metadata": {
    "dotnet_interactive": {
     "language": "csharp"
    },
    "polyglot_notebook": {
     "kernelName": "csharp"
    }
   },
   "source": [
    "### Attributes\n",
    "\n",
    "_Attributes_ are properties that are related (via _relations_) to objects (classes and/or their instances). \"Garfield\" from above could have the attribute \"orange fur\" via a \"has_a\" relation.\n",
    "\n",
    "<img src=../../img/ontologies/attributes.png style=\"max-width:25%\"></img>"
   ]
  },
  {
   "attachments": {},
   "cell_type": "markdown",
   "metadata": {
    "dotnet_interactive": {
     "language": "csharp"
    },
    "polyglot_notebook": {
     "kernelName": "csharp"
    }
   },
   "source": [
    "## Ontology file formats\n",
    "\n",
    "There are many different file formats for ontologies. I will cover 2 of the most important (and most widely used) ones."
   ]
  },
  {
   "attachments": {},
   "cell_type": "markdown",
   "metadata": {
    "dotnet_interactive": {
     "language": "csharp"
    },
    "polyglot_notebook": {
     "kernelName": "csharp"
    }
   },
   "source": [
    "### OWL\n",
    "\n",
    "Web Ontology Language (OWL) is a knowledge representation language for ontologies. Its own file format has the extension .owl.  \n",
    "OWL uses different language implementations for its structure. Though there are several different ones, the most important ones are the XML and RDF implementations.\n",
    "\n",
    "Here is an example of an ontology only consisting of the class \"Felis_catus\", its instance \"Garfield\" which has the attribute \"orange_fur\" via a \"has_a\" relation:\n",
    "```xml\n",
    "<?xml version=\"1.0\"?>\n",
    "<Ontology xmlns=\"http://www.w3.org/2002/07/owl#\"\n",
    "     xml:base=\"http://www.semanticweb.org/revil/ontologies/2023/1/untitled-ontology-2\"\n",
    "     xmlns:rdf=\"http://www.w3.org/1999/02/22-rdf-syntax-ns#\"\n",
    "     xmlns:xml=\"http://www.w3.org/XML/1998/namespace\"\n",
    "     xmlns:xsd=\"http://www.w3.org/2001/XMLSchema#\"\n",
    "     xmlns:rdfs=\"http://www.w3.org/2000/01/rdf-schema#\"\n",
    "     ontologyIRI=\"http://www.semanticweb.org/revil/ontologies/2023/1/untitled-ontology-2\">\n",
    "    <Prefix name=\"\" IRI=\"http://www.semanticweb.org/revil/ontologies/2023/1/untitled-ontology-2/\"/>\n",
    "    <Prefix name=\"owl\" IRI=\"http://www.w3.org/2002/07/owl#\"/>\n",
    "    <Prefix name=\"rdf\" IRI=\"http://www.w3.org/1999/02/22-rdf-syntax-ns#\"/>\n",
    "    <Prefix name=\"xml\" IRI=\"http://www.w3.org/XML/1998/namespace\"/>\n",
    "    <Prefix name=\"xsd\" IRI=\"http://www.w3.org/2001/XMLSchema#\"/>\n",
    "    <Prefix name=\"rdfs\" IRI=\"http://www.w3.org/2000/01/rdf-schema#\"/>\n",
    "    <Declaration>\n",
    "        <Class IRI=\"#Felis_catus\"/>\n",
    "    </Declaration>\n",
    "    <Declaration>\n",
    "        <ObjectProperty IRI=\"#has_a\"/>\n",
    "    </Declaration>\n",
    "    <Declaration>\n",
    "        <NamedIndividual IRI=\"#Garfield\"/>\n",
    "    </Declaration>\n",
    "    <Declaration>\n",
    "        <NamedIndividual IRI=\"#orange_fur\"/>\n",
    "    </Declaration>\n",
    "    <ClassAssertion>\n",
    "        <Class IRI=\"#Felis_catus\"/>\n",
    "        <NamedIndividual IRI=\"#Garfield\"/>\n",
    "    </ClassAssertion>\n",
    "    <ObjectPropertyAssertion>\n",
    "        <ObjectProperty IRI=\"#has_a\"/>\n",
    "        <NamedIndividual IRI=\"#Garfield\"/>\n",
    "        <NamedIndividual IRI=\"#orange_fur\"/>\n",
    "    </ObjectPropertyAssertion>\n",
    "</Ontology>\n",
    "```\n",
    "\n",
    "While the OWL format is very mighty and due to XML easily parsable, it is not that simple to read and understand (as a human). Due to this, based on OWL, OBO has been founded."
   ]
  },
  {
   "attachments": {},
   "cell_type": "markdown",
   "metadata": {
    "dotnet_interactive": {
     "language": "csharp"
    },
    "polyglot_notebook": {
     "kernelName": "csharp"
    }
   },
   "source": [
    "### OBO\n",
    "\n",
    "OBO is a format developed by the Open Biological and Biomedical Ontologies Foundry (OBOFoundry). While this file format is based on the principles of OWL, it uses a vastly different language implementation in a slightly YAML style syntax. The same minimalistic ontology as in the OWL example, this time in OBO (flat file) format:\n",
    "\n",
    "```yaml\n",
    "[Term]\n",
    "id: GARFO:0000000\n",
    "name: Felis_catus\n",
    "is_a: OWL:0000000 ! Thing\n",
    "\n",
    "[Instance]\n",
    "id: GARFO:0000001\n",
    "name: Garfield\n",
    "instance_of: Felis_catus\n",
    "property_value: has_a orange_fur\n",
    "\n",
    "[Typedef]\n",
    "id: GARFO:0000002\n",
    "name: has_a\n",
    "\n",
    "[Term]\n",
    "id: GARFO:0000003\n",
    "name: orange_fur\n",
    "```\n",
    "\n",
    "OBO is used as the primary format for ontologies in the DataPLANT consortium. OBO files have the extension .obo."
   ]
  },
  {
   "attachments": {},
   "cell_type": "markdown",
   "metadata": {
    "dotnet_interactive": {
     "language": "csharp"
    },
    "polyglot_notebook": {
     "kernelName": "csharp"
    }
   },
   "source": [
    "## Protégé\n",
    "\n",
    "Protégé is a free tool for creating ontologies. It supports reading OWL ontologies, creating and editing ontologies as well as exporting them in different formats (including OWL and OBO, although the latter one not in its easy-to-read flat file format).\n",
    "\n",
    "<img src=../../img/ontologies/protege.png style=\"max-width:60%\"></img>"
   ]
  },
  {
   "attachments": {},
   "cell_type": "markdown",
   "metadata": {
    "dotnet_interactive": {
     "language": "csharp"
    },
    "polyglot_notebook": {
     "kernelName": "csharp"
    }
   },
   "source": [
    "## Parsing OBO files in F#\n",
    "\n",
    "The BioFSharp library offers OBO parsing functionality:"
   ]
  },
  {
   "cell_type": "code",
   "execution_count": 6,
   "metadata": {
    "dotnet_interactive": {
     "language": "fsharp"
    },
    "polyglot_notebook": {
     "kernelName": "fsharp"
    },
    "vscode": {
     "languageId": "polyglot-notebook"
    }
   },
   "outputs": [
    {
     "data": {
      "text/html": [
       "<div><div></div><div></div><div><strong>Installed Packages</strong><ul><li><span>BioFSharp, 1.2.1</span></li><li><span>BioFSharp.IO, 1.2.1</span></li><li><span>fsharpaux, 1.0.0</span></li></ul></div></div>"
      ]
     },
     "metadata": {},
     "output_type": "display_data"
    },
    {
     "data": {
      "text/html": [
       "<table><thead><tr><th>Id</th><th>Name</th><th>Namespace</th><th>Definition</th><th>Relationship</th><th>Related_synonym</th><th>IsA</th><th>Synonym</th><th>ExactSynonym</th><th>BroadSynonym</th><th>NarrowSynonym</th><th>XrefAnalog</th><th>Comment</th><th>IsObsolete</th><th>Replacedby</th><th>Consider</th><th>AltId</th><th>DisjointFrom</th><th>Subset</th><th>IntersectionOf</th><th>..</th></tr></thead><tbody><tr><td><div class=\"dni-plaintext\"><pre>ID:0001</pre></div></td><td><div class=\"dni-plaintext\"><pre>myTerm</pre></div></td><td><div class=\"dni-plaintext\"><pre></pre></div></td><td><div class=\"dni-plaintext\"><pre></pre></div></td><td><div class=\"dni-plaintext\"><pre></pre></div></td><td><div class=\"dni-plaintext\"><pre>[  ]</pre></div></td><td><div class=\"dni-plaintext\"><pre>[  ]</pre></div></td><td><div class=\"dni-plaintext\"><pre>[  ]</pre></div></td><td><div class=\"dni-plaintext\"><pre></pre></div></td><td><div class=\"dni-plaintext\"><pre></pre></div></td><td><div class=\"dni-plaintext\"><pre></pre></div></td><td><div class=\"dni-plaintext\"><pre></pre></div></td><td><div class=\"dni-plaintext\"><pre></pre></div></td><td><div class=\"dni-plaintext\"><pre></pre></div></td><td><div class=\"dni-plaintext\"><pre></pre></div></td><td><div class=\"dni-plaintext\"><pre></pre></div></td><td><div class=\"dni-plaintext\"><pre>[  ]</pre></div></td><td><div class=\"dni-plaintext\"><pre>[  ]</pre></div></td><td><div class=\"dni-plaintext\"><pre>[  ]</pre></div></td><td><div class=\"dni-plaintext\"><pre>[  ]</pre></div></td></tr></tbody></table><style>\r\n",
       ".dni-code-hint {\r\n",
       "    font-style: italic;\r\n",
       "    overflow: hidden;\r\n",
       "    white-space: nowrap;\r\n",
       "}\r\n",
       ".dni-treeview {\r\n",
       "    white-space: nowrap;\r\n",
       "}\r\n",
       ".dni-treeview td {\r\n",
       "    vertical-align: top;\r\n",
       "    text-align: start;\r\n",
       "}\r\n",
       "details.dni-treeview {\r\n",
       "    padding-left: 1em;\r\n",
       "}\r\n",
       "table td {\r\n",
       "    text-align: start;\r\n",
       "}\r\n",
       "table tr { \r\n",
       "    vertical-align: top; \r\n",
       "    margin: 0em 0px;\r\n",
       "}\r\n",
       "table tr td pre \r\n",
       "{ \r\n",
       "    vertical-align: top !important; \r\n",
       "    margin: 0em 0px !important;\r\n",
       "} \r\n",
       "table th {\r\n",
       "    text-align: start;\r\n",
       "}\r\n",
       "</style>"
      ]
     },
     "metadata": {},
     "output_type": "display_data"
    }
   ],
   "source": [
    "#r \"nuget: BioFSharp\"\n",
    "#r \"nuget: BioFSharp.IO\"\n",
    "#r \"nuget: FSharpAux\"\n",
    "\n",
    "open BioFSharp.IO\n",
    "open FSharpAux.IO\n",
    "\n",
    "let myTerm = Obo.createOboTerm \"ID:0001\" \"myTerm\" \"\" \"\" \"\" [] [] [] \"\" \"\" \"\" \"\" \"\" \"\" \"\" \"\" [] [] [] [] [] \"\"\n",
    "myterm\n",
    "\n"
   ]
  },
  {
   "cell_type": "code",
   "execution_count": 7,
   "metadata": {
    "dotnet_interactive": {
     "language": "fsharp"
    },
    "polyglot_notebook": {
     "kernelName": "fsharp"
    },
    "vscode": {
     "languageId": "polyglot-notebook"
    }
   },
   "outputs": [
    {
     "data": {
      "text/html": [
       "<table><thead><tr><th><i>index</i></th><th>Id</th><th>Name</th><th>Namespace</th><th>Definition</th><th>Relationship</th><th>Related_synonym</th><th>IsA</th><th>Synonym</th><th>ExactSynonym</th><th>BroadSynonym</th><th>NarrowSynonym</th><th>XrefAnalog</th><th>Comment</th><th>IsObsolete</th><th>Replacedby</th><th>Consider</th><th>AltId</th><th>DisjointFrom</th><th>Subset</th><th>IntersectionOf</th><th>..</th></tr></thead><tbody><tr><td>0</td><td>GARFO:0000000</td><td>Felis_catus</td><td></td><td></td><td></td><td></td><td><div class=\"dni-plaintext\"><pre>[ OWL:0000000 ]</pre></div></td><td></td><td></td><td></td><td></td><td></td><td></td><td></td><td></td><td></td><td></td><td></td><td></td><td></td></tr><tr><td>1</td><td>GARFO:0000003</td><td>orange_fur</td><td></td><td></td><td></td><td></td><td></td><td></td><td></td><td></td><td></td><td></td><td></td><td></td><td></td><td></td><td></td><td></td><td></td><td></td></tr></tbody></table><style>\r\n",
       ".dni-code-hint {\r\n",
       "    font-style: italic;\r\n",
       "    overflow: hidden;\r\n",
       "    white-space: nowrap;\r\n",
       "}\r\n",
       ".dni-treeview {\r\n",
       "    white-space: nowrap;\r\n",
       "}\r\n",
       ".dni-treeview td {\r\n",
       "    vertical-align: top;\r\n",
       "    text-align: start;\r\n",
       "}\r\n",
       "details.dni-treeview {\r\n",
       "    padding-left: 1em;\r\n",
       "}\r\n",
       "table td {\r\n",
       "    text-align: start;\r\n",
       "}\r\n",
       "table tr { \r\n",
       "    vertical-align: top; \r\n",
       "    margin: 0em 0px;\r\n",
       "}\r\n",
       "table tr td pre \r\n",
       "{ \r\n",
       "    vertical-align: top !important; \r\n",
       "    margin: 0em 0px !important;\r\n",
       "} \r\n",
       "table th {\r\n",
       "    text-align: start;\r\n",
       "}\r\n",
       "</style>"
      ]
     },
     "metadata": {},
     "output_type": "display_data"
    }
   ],
   "source": [
    "let fp = @\"C:\\Users\\revil\\OneDrive\\Desktop\\garfield_ontology.obo\"\n",
    "\n",
    "Seq.fromFile fp\n",
    "|> Obo.parseOboTerms"
   ]
  },
  {
   "attachments": {},
   "cell_type": "markdown",
   "metadata": {
    "dotnet_interactive": {
     "language": "csharp"
    },
    "polyglot_notebook": {
     "kernelName": "csharp"
    }
   },
   "source": [
    "## Creating an ontology\n",
    "\n",
    "First, you should model your ontology and ask yourself the questions \"What do I want to cover?\", \"What is the scope of my ontology?\" and begin with classes and subclasses, followed by relations and attributes. Instances should be covered at last.  \n",
    "Protégé helps you greatly with structuring and also visualizing it.\n",
    "\n",
    "For implementation, I advice you to create the file of your ontology using Protégé or writing it manually (since OBO files are easy to write in their flat file format).\n",
    "A nice example can be seen in the DataPLANT broker ontology that gets updated regularly: https://github.com/nfdi4plants/nfdi4plants_ontology/blob/main/dpbo.obo\n",
    "\n",
    "## References\n",
    "\n",
    "https://chat.openai.com/chat  \n",
    "https://en.wikipedia.org/wiki/Ontology_components  \n",
    "https://owlcollab.github.io/oboformat/doc/GO.format.obo-1_4.html  \n",
    "https://csbiology.github.io/BioFSharp//Obo.html  "
   ]
  }
 ],
 "metadata": {
"language_info": {"name": "F#"},
  "kernelspec": {
   "display_name": ".NET (C#)",
   "language": "C#",
   "name": ".net-csharp"
  },
  "polyglot_notebook": {
   "kernelInfo": {
    "defaultKernelName": "csharp",
    "items": [
     {
      "aliases": [
       "c#",
       "C#"
      ],
      "languageName": "C#",
      "name": "csharp"
     },
     {
      "aliases": [
       "frontend"
      ],
      "languageName": null,
      "name": "vscode"
     },
     {
      "aliases": [
       "f#",
       "F#"
      ],
      "languageName": "F#",
      "name": "fsharp"
     },
     {
      "aliases": [],
      "languageName": "SQL",
      "name": "sql"
     },
     {
      "aliases": [],
      "languageName": null,
      "name": ".NET"
     },
     {
      "aliases": [],
      "languageName": "HTML",
      "name": "html"
     },
     {
      "aliases": [
       "js"
      ],
      "languageName": "JavaScript",
      "name": "javascript"
     },
     {
      "aliases": [],
      "languageName": "KQL",
      "name": "kql"
     },
     {
      "aliases": [],
      "languageName": "Mermaid",
      "name": "mermaid"
     },
     {
      "aliases": [
       "powershell"
      ],
      "languageName": "PowerShell",
      "name": "pwsh"
     },
     {
      "aliases": [],
      "languageName": null,
      "name": "value"
     },
     {
      "aliases": [],
      "name": "webview"
     }
    ]
   }
  }
 },
 "nbformat": 4,
 "nbformat_minor": 2
}
