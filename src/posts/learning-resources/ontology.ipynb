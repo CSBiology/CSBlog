{
 "cells": [
  {
   "attachments": {},
   "cell_type": "markdown",
   "metadata": {
    "dotnet_interactive": {
     "language": "csharp"
    },
    "polyglot_notebook": {
     "kernelName": "csharp"
    }
   },
   "source": [
    "# Ontology 1o1\n",
    "_[Oliver Maus](https://github.com/omaus), Feb 2023_\n",
    "\n",
    "### Table of contents\n",
    "- [Introduction](#introduction)\n",
    "- [Ontology components](#ontology-components)\n",
    "  - [Classes (& Instances)](#classes--instances)\n",
    "  - [Attributes](#attributes)\n",
    "  - [Relations](#relations)\n",
    "- [Ontology file formats](#ontology-file-formats)\n",
    "  - [OWL](#owl)\n",
    "  - [OBO](#obo)\n",
    "- [Protégé](#protégé)\n",
    "- [Parsing OBO files in F#](#parsing-obo-files-in-f)\n",
    "- [Creating an ontology](#creating-an-ontology)\n",
    "- [References](#references)"
   ]
  },
  {
   "attachments": {},
   "cell_type": "markdown",
   "metadata": {
    "dotnet_interactive": {
     "language": "csharp"
    },
    "polyglot_notebook": {
     "kernelName": "csharp"
    }
   },
   "source": [
    "## Introduction\n",
    "\n",
    "> In computer science, an ontology is a way of organizing knowledge in a structured and hierarchical manner. It consists of a set of classes or concepts, each with its own properties and relationships to other classes. Ontologies are used to help machines reason about information in a more intelligent and automated way, leading to more effective decision-making and problem-solving.  \n",
    "> -- <cite>ChatGPT<sup>[[1]](#references)</sup></cite>\n",
    "\n",
    "Ontologies, as we know them in computer science, hail from the concept of ontology in philosophy, more precisely, the field of metaphysics.  \n",
    "There, \"ontology\" describes the doctrine of being and existence. It is mainly about the categorization of entities (which can be abstract or material), of processes and properties, and of events. \n",
    "In this point, the philosophical concept of ontology agrees with that of computer science. The _ontology_ of computer science, however, does not focus on philosophical issues but on representations of the categorized concepts and their relations to each other.\n",
    "\n",
    "Ontologies have become more and more important in computer science since they allow for a standardized set of terms (so-called _controlled vocabularies_) which describe the things you are engaging with and putting them in a structure, guided by rules. This way, it becomes easier for humans to learn and communicate about a topic since ontologies also have a teaching nature on the one hand, and for machines to order these terms in a similar way to human understanding on the other hand.  \n",
    "Especially in the field of research data management, ontologies prove very useful because they achieve a compromise between human- and machine-readability and thus may lead to fewer miscommunications and errors. In the **FAIR data principles**, the I (for interoparability) can be achieved with the help of ontologies. This is done in, for example, the DataPLANT consortium."
   ]
  },
  {
   "attachments": {},
   "cell_type": "markdown",
   "metadata": {
    "dotnet_interactive": {
     "language": "csharp"
    },
    "polyglot_notebook": {
     "kernelName": "csharp"
    }
   },
   "source": [
    "## Ontology components\n",
    "\n",
    "As mentioned before, ontologies consist of several elements which are called 'components'. In the following I will cover the 3 most important ones:  \n",
    "(for a full set of all components, look [here](https://en.wikipedia.org/wiki/Ontology_components)<sup>[[n]](#references)</sup>)"
   ]
  },
  {
   "attachments": {},
   "cell_type": "markdown",
   "metadata": {
    "dotnet_interactive": {
     "language": "csharp"
    },
    "polyglot_notebook": {
     "kernelName": "csharp"
    }
   },
   "source": [
    "### Classes (& Instances)\n",
    "\n",
    "Very similarly to OOP, _classes_ are concepts (conceptual blueprints) of objects that can be instantiated (which results in an _instance_). If, e.g., there is the _class_ \"Cat\", \"Garfield\" would be an _instance_ of it.  \n",
    "Classes can also have (an infinite amount of) subclasses. In the following graph, the domain of the kingdoms of life is (partially) represented as a class with subclasses:\n",
    "\n",
    "<img src=../../img/ontologies/classes_subclasses.png style=\"max-width:45%\"></img>\n",
    "\n",
    "An instance of the subclass \"Felis catus\" (Cat):\n",
    "\n",
    "<img src=../../img/ontologies/classes_subclasses_instance.png style=\"max-width:25%\"></img>"
   ]
  },
  {
   "cell_type": "markdown",
   "metadata": {
    "dotnet_interactive": {
     "language": "csharp"
    },
    "polyglot_notebook": {
     "kernelName": "csharp"
    }
   },
   "source": [
    "### Relations\n",
    "\n",
    "Objects in an ontology can be _related_ to one another.  \n",
    "Beneath a set of ontology-specific individual relations, there are some relations that are seen in many ontologies or even every one:  \n",
    "- is_a: Describes the relation between a subclass and a class which leads to a child-term parent-term relation. The \n",
    "\n",
    "<img src=../../img/ontologies/classes_subclasses_relations.png style=\"max-width:45%\"></img>\n",
    "\n",
    "- part_of: Describes the relation between subclasses and a class where the class can only be instantiated if **every** subclass is present (as instance). E.g. a \"cell\" cannot exist without all of its crucial parts, therefore \"cell membrane\" is part_of \"cell\".\n",
    "- xref: Describes cross-reference between different ontologies. Often used for synonyms when dealing with multiple ontologies at once. E.g. \"Organism\" in OBI ontology can be xref of \"organism\" in NCBIT ontology."
   ]
  },
  {
   "attachments": {},
   "cell_type": "markdown",
   "metadata": {
    "dotnet_interactive": {
     "language": "csharp"
    },
    "polyglot_notebook": {
     "kernelName": "csharp"
    }
   },
   "source": [
    "### Attributes\n",
    "\n",
    "_Attributes_ are properties that are related (via _relations_) to objects (classes and/or their instances). \"Garfield\" from above could have the attribute \"orange fur\" via a \"has_a\" relation.\n",
    "\n",
    "<img src=../../img/ontologies/attributes.png style=\"max-width:25%\"></img>"
   ]
  },
  {
   "attachments": {},
   "cell_type": "markdown",
   "metadata": {
    "dotnet_interactive": {
     "language": "csharp"
    },
    "polyglot_notebook": {
     "kernelName": "csharp"
    }
   },
   "source": [
    "## Ontology file formats\n",
    "\n",
    "There are many different file formats for ontologies. I will cover 2 of the most important (and most widely used) ones."
   ]
  },
  {
   "attachments": {},
   "cell_type": "markdown",
   "metadata": {
    "dotnet_interactive": {
     "language": "csharp"
    },
    "polyglot_notebook": {
     "kernelName": "csharp"
    }
   },
   "source": [
    "### OWL\n",
    "\n",
    "Web Ontology Language (OWL) is a knowledge representation language for ontologies. Its own file format has the extension .owl.  \n",
    "OWL uses different language implementations for its structure. Though there a re several different ones, the most important ones are the XML and RDF implementations.\n",
    "\n",
    "Here is an example of an ontology only consisting of the class \"Felis_catus\", its instance \"Garfield\" which has the attribute \"orange_fur\" via a \"has_a\" relation:\n",
    "```xml\n",
    "<?xml version=\"1.0\"?>\n",
    "<Ontology xmlns=\"http://www.w3.org/2002/07/owl#\"\n",
    "     xml:base=\"http://www.semanticweb.org/revil/ontologies/2023/1/untitled-ontology-2\"\n",
    "     xmlns:rdf=\"http://www.w3.org/1999/02/22-rdf-syntax-ns#\"\n",
    "     xmlns:xml=\"http://www.w3.org/XML/1998/namespace\"\n",
    "     xmlns:xsd=\"http://www.w3.org/2001/XMLSchema#\"\n",
    "     xmlns:rdfs=\"http://www.w3.org/2000/01/rdf-schema#\"\n",
    "     ontologyIRI=\"http://www.semanticweb.org/revil/ontologies/2023/1/untitled-ontology-2\">\n",
    "    <Prefix name=\"\" IRI=\"http://www.semanticweb.org/revil/ontologies/2023/1/untitled-ontology-2/\"/>\n",
    "    <Prefix name=\"owl\" IRI=\"http://www.w3.org/2002/07/owl#\"/>\n",
    "    <Prefix name=\"rdf\" IRI=\"http://www.w3.org/1999/02/22-rdf-syntax-ns#\"/>\n",
    "    <Prefix name=\"xml\" IRI=\"http://www.w3.org/XML/1998/namespace\"/>\n",
    "    <Prefix name=\"xsd\" IRI=\"http://www.w3.org/2001/XMLSchema#\"/>\n",
    "    <Prefix name=\"rdfs\" IRI=\"http://www.w3.org/2000/01/rdf-schema#\"/>\n",
    "    <Declaration>\n",
    "        <Class IRI=\"#Felis_catus\"/>\n",
    "    </Declaration>\n",
    "    <Declaration>\n",
    "        <ObjectProperty IRI=\"#has_a\"/>\n",
    "    </Declaration>\n",
    "    <Declaration>\n",
    "        <NamedIndividual IRI=\"#Garfield\"/>\n",
    "    </Declaration>\n",
    "    <Declaration>\n",
    "        <NamedIndividual IRI=\"#orange_fur\"/>\n",
    "    </Declaration>\n",
    "    <ClassAssertion>\n",
    "        <Class IRI=\"#Felis_catus\"/>\n",
    "        <NamedIndividual IRI=\"#Garfield\"/>\n",
    "    </ClassAssertion>\n",
    "    <ObjectPropertyAssertion>\n",
    "        <ObjectProperty IRI=\"#has_a\"/>\n",
    "        <NamedIndividual IRI=\"#Garfield\"/>\n",
    "        <NamedIndividual IRI=\"#orange_fur\"/>\n",
    "    </ObjectPropertyAssertion>\n",
    "</Ontology>\n",
    "```\n",
    "\n",
    "While the OWL format is very mighty and due to XML easily parsable, it is not that simple to read and understand (as a human). Due to this, based on OWL, OBO has been founded."
   ]
  },
  {
   "attachments": {},
   "cell_type": "markdown",
   "metadata": {
    "dotnet_interactive": {
     "language": "csharp"
    },
    "polyglot_notebook": {
     "kernelName": "csharp"
    }
   },
   "source": [
    "### OBO\n",
    "\n",
    "OBO is a format developed by the Open Biological and Biomedical Ontologies Foundry (OBOFoundry). While this file format is based on the principles of OWL, it uses a vastly different language implementation in a slightly YAML style syntax. The same minimalistic ontology as in the OWL example, this time in OBO (flat file) format:\n",
    "\n",
    "```yaml\n",
    "[Term]\n",
    "id: GARFO:0000000\n",
    "name: Felis_catus\n",
    "is_a: OWL:0000000 ! Thing\n",
    "\n",
    "[Instance]\n",
    "id: GARFO:0000001\n",
    "name: Garfield\n",
    "instance_of: Felis_catus\n",
    "property_value: has_a orange_fur\n",
    "\n",
    "[Typedef]\n",
    "id: GARFO:0000002\n",
    "name: has_a\n",
    "\n",
    "[Term]\n",
    "id: GARFO:0000003\n",
    "name: orange_fur\n",
    "```\n",
    "\n",
    "OBO is used as the primary format for ontologies in the DataPLANT consortium. OBO files have the extension .obo."
   ]
  },
  {
   "attachments": {},
   "cell_type": "markdown",
   "metadata": {
    "dotnet_interactive": {
     "language": "csharp"
    },
    "polyglot_notebook": {
     "kernelName": "csharp"
    }
   },
   "source": [
    "## Protégé\n",
    "\n",
    "Protégé is a free tool for creating ontologies. It supports reading OWL ontologies, creating and editing ontologies as well as exporting them in different formats (including OWL and OBO, although the latter one not in its easy-to-read flat file format).\n",
    "\n",
    "<img src=../../img/ontologies/protege.png style=\"max-width:25%\"></img>"
   ]
  },
  {
   "attachments": {},
   "cell_type": "markdown",
   "metadata": {
    "dotnet_interactive": {
     "language": "csharp"
    },
    "polyglot_notebook": {
     "kernelName": "csharp"
    }
   },
   "source": [
    "## Parsing OBO files in F#\n",
    "\n",
    "The BioFSharp library offers OBO parsing functionality:"
   ]
  },
  {
   "cell_type": "code",
   "execution_count": 1,
   "metadata": {
    "dotnet_interactive": {
     "language": "fsharp"
    },
    "polyglot_notebook": {
     "kernelName": "fsharp"
    },
    "vscode": {
     "languageId": "polyglot-notebook"
    }
   },
   "outputs": [
    {
     "data": {
      "text/html": [
       "<div><div></div><div></div><div><strong>Installed Packages</strong><ul><li><span>BioFSharp, 1.2.1</span></li></ul></div></div>"
      ]
     },
     "metadata": {},
     "output_type": "display_data"
    }
   ],
   "source": [
    "#r \"nuget: BioFSharp\"\n",
    "\n",
    "open BioFSharp\n",
    "\n"
   ]
  },
  {
   "attachments": {},
   "cell_type": "markdown",
   "metadata": {
    "dotnet_interactive": {
     "language": "csharp"
    },
    "polyglot_notebook": {
     "kernelName": "csharp"
    }
   },
   "source": [
    "## Creating an ontology\n",
    "\n",
    "## References\n",
    "\n",
    "[1] https://chat.openai.com/chat\n",
    "https://en.wikipedia.org/wiki/Ontology_components\n",
    "https://owlcollab.github.io/oboformat/doc/GO.format.obo-1_4.html"
   ]
  }
 ],
 "metadata": {
  "kernelspec": {
   "display_name": ".NET (C#)",
   "language": "C#",
   "name": ".net-csharp"
  },
  "polyglot_notebook": {
   "kernelInfo": {
    "defaultKernelName": "csharp",
    "items": [
     {
      "aliases": [
       "c#",
       "C#"
      ],
      "languageName": "C#",
      "name": "csharp"
     },
     {
      "aliases": [
       "frontend"
      ],
      "languageName": null,
      "name": "vscode"
     },
     {
      "aliases": [
       "f#",
       "F#"
      ],
      "languageName": "F#",
      "name": "fsharp"
     }
    ]
   }
  }
 },
 "nbformat": 4,
 "nbformat_minor": 2
}
