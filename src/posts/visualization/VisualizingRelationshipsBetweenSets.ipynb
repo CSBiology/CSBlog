{
 "cells": [
  {
   "attachments": {},
   "cell_type": "markdown",
   "metadata": {
    "dotnet_interactive": {
     "language": "csharp"
    },
    "polyglot_notebook": {
     "kernelName": "csharp"
    }
   },
   "source": [
    "# Visualizing relationships between sets with Plotly.NET\n",
    "\n",
    "### Table of contents\n",
    "\n",
    "- [Visualizing set relationships with Venn diagrams](#Visualizing-set-relationships-with-Venn-diagrams)\n",
    "    - [Construction Venn](#Construction-Venn)\n",
    "    - [Usage Venn](#Usage-Venn)\n",
    "- [Visualizing set relationships with UpSet plots](#Visualizing-set-relationships-with-UpSet-plots)\n",
    "    - [Construction UpSet](#Construction-UpSet)\n",
    "    - [Usage UpSet](#Usage-UpSet)\n",
    "    \n",
    "Visualizing and understanding relationships between sets plays an important role in analyzing data at hand. A widely used visualization method is the \n",
    "[Venn diagram](https://en.wikipedia.org/wiki/Venn_diagram). But Venn diagrams are limited in their capability. While two, three, or even four sets may be easily visualizable, they struggle \n",
    "with higher set counts. To address this issue, the concept of [UpSet](https://upset.app/) plots was developed by Lex et al. in 2014. In this blogpost I will demonstrate how to visualize \n",
    "sets with Venn diagrams and UpSet plots. I use a dataframe containing information about movies as source for our sets. The comparisons will be based on the genre of the movies."
   ]
  },
  {
   "cell_type": "code",
   "execution_count": 1,
   "metadata": {
    "dotnet_interactive": {
     "language": "fsharp"
    },
    "polyglot_notebook": {
     "kernelName": "fsharp"
    },
    "vscode": {
     "languageId": "polyglot-notebook"
    }
   },
   "outputs": [
    {
     "data": {
      "text/html": [
       "<div><div></div><div></div><div><strong>Installed Packages</strong><ul><li><span>BioFSharp.Vis, 3.0.1</span></li><li><span>Deedle, 2.3.0</span></li><li><span>FSharp.Stats, 0.4.1</span></li><li><span>FSharpAux, 1.1.0</span></li><li><span>Plotly.NET.Interactive, 2.0.0</span></li></ul></div></div>"
      ]
     },
     "metadata": {},
     "output_type": "display_data"
    },
    {
     "data": {
      "text/plain": [
       "Loading extensions from `C:\\Users\\revil\\.nuget\\packages\\plotly.net.interactive\\2.0.0\\interactive-extensions\\dotnet\\Plotly.NET.Interactive.dll`"
      ]
     },
     "metadata": {},
     "output_type": "display_data"
    },
    {
     "data": {
      "text/plain": [
       "        Name                                         Action Comedy Drama AvgRating \r\n",
       "0    -> Toy Story (1995)                             False  True   False 4.15      \r\n",
       "2    -> Grumpier Old Men (1995)                      False  True   False 3.02      \r\n",
       "3    -> Waiting to Exhale (1995)                     False  True   True  2.73      \r\n",
       "4    -> Father of the Bride Part II (1995)           False  True   False 3.01      \r\n",
       "5    -> Heat (1995)                                  True   False  False 3.88      \r\n",
       "6    -> Sabrina (1995)                               False  True   False 3.41      \r\n",
       "8    -> Sudden Death (1995)                          True   False  False 2.66      \r\n",
       "9    -> GoldenEye (1995)                             True   False  False 3.54      \r\n",
       "10   -> American President, The (1995)               False  True   True  3.79      \r\n",
       "11   -> Dracula: Dead and Loving It (1995)           False  True   False 2.36      \r\n",
       "13   -> Nixon (1995)                                 False  False  True  3.54      \r\n",
       "14   -> Cutthroat Island (1995)                      True   False  False 2.46      \r\n",
       "15   -> Casino (1995)                                False  False  True  3.79      \r\n",
       "16   -> Sense and Sensibility (1995)                 False  False  True  4.03      \r\n",
       "18   -> Ace Ventura: When Nature Calls (1995)        False  True   False 2.48      \r\n",
       ":       ...                                          ...    ...    ...   ...       \r\n",
       "3851 -> Beach Party (1963)                           False  True   False 2.64      \r\n",
       "3852 -> Bikini Beach (1964)                          False  True   False 2.59      \r\n",
       "3854 -> Pajama Party (1964)                          False  True   False 2.92      \r\n",
       "3855 -> Stranger Than Paradise (1984)                False  True   False 3.85      \r\n",
       "3858 -> Abbott and Costello Meet Frankenstein (1948) False  True   False 3.44      \r\n",
       "3859 -> Bank Dick, The (1940)                        False  True   False 3.99      \r\n",
       "3866 -> Phantom of the Opera, The (1943)             False  False  True  3.72      \r\n",
       "3873 -> Bamboozled (2000)                            False  True   False 3.05      \r\n",
       "3874 -> Bootmen (2000)                               False  True   True  2.11      \r\n",
       "3876 -> Get Carter (2000)                            True   False  True  2.26      \r\n",
       "3878 -> Meet the Parents (2000)                      False  True   False 3.64      \r\n",
       "3879 -> Requiem for a Dream (2000)                   False  False  True  4.12      \r\n",
       "3880 -> Tigerland (2000)                             False  False  True  3.67      \r\n",
       "3881 -> Two Family House (2000)                      False  False  True  3.9       \r\n",
       "3882 -> Contender, The (2000)                        False  False  True  3.78      \r\n"
      ]
     },
     "metadata": {},
     "output_type": "display_data"
    }
   ],
   "source": [
    "#r \"nuget: Deedle, 2.3.0\"\n",
    "#r \"nuget: Plotly.NET.Interactive, 2.0.0\"\n",
    "#r \"nuget: FSharp.Stats, 0.4.1\"\n",
    "#r \"nuget: FSharpAux\"\n",
    "#r \"nuget: BioFSharp.Vis, 3.0.1\"\n",
    "\n",
    "open Deedle\n",
    "open Plotly.NET\n",
    "open Plotly.NET.Interactive\n",
    "open Plotly.NET.LayoutObjects\n",
    "open FSharp.Stats\n",
    "open BioFSharp.Vis\n",
    "open BioFSharp.Vis.UpSet\n",
    "open BioFSharp.Vis.Venn\n",
    "open System\n",
    "open System.IO\n",
    "\n",
    "// do fsi.AddPrinter(fun (printer:Deedle.Internal.IFsiFormattable) -> \"\\n\" + (printer.Format()))\n",
    "\n",
    "let movieFrame =\n",
    "    let path = \n",
    "        let parDir = (Directory.GetCurrentDirectory() |> DirectoryInfo).Parent.Parent.FullName\n",
    "        Path.Combine(parDir, \"files\", \"movies.csv\")\n",
    "    Frame.ReadCsv(path, separators = \";\")\n",
    "    |> Frame.sliceCols [\"Name\";\"Action\";\"Comedy\";\"Drama\";\"AvgRating\"]\n",
    "    |> Frame.filterRows (fun k s ->\n",
    "        s.GetAs<bool>(\"Action\")   ||\n",
    "        s.GetAs<bool>(\"Comedy\")   ||\n",
    "        s.GetAs<bool>(\"Drama\")\n",
    "    )\n",
    "\n",
    "let getSetByGenre (category: string) (frame: Frame<int,string>) =\n",
    "    frame\n",
    "    |> Frame.indexRowsUsing(fun s ->\n",
    "        {|\n",
    "            Name = s.GetAs<string>(\"Name\");\n",
    "            Genre = s.GetAs<bool>(category)\n",
    "        |}\n",
    "    )\n",
    "    |> fun f -> f.RowKeys\n",
    "    |> Seq.toArray\n",
    "    |> Array.filter (fun x -> x.Genre = true)\n",
    "    |> Array.map (fun x -> x.Name)\n",
    "    |> Set.ofArray\n",
    "\n",
    "let getScoreMap (frame: Frame<int,string>) =\n",
    "    frame\n",
    "    |> Frame.indexRowsUsing(fun s ->\n",
    "        s.GetAs<string>(\"Name\"),\n",
    "        s.GetAs<float>(\"AvgRating\")\n",
    "    )\n",
    "    |> fun f -> f.RowKeys\n",
    "    |> Map.ofSeq\n",
    "\n",
    "movieFrame.Format()"
   ]
  },
  {
   "attachments": {},
   "cell_type": "markdown",
   "metadata": {
    "dotnet_interactive": {
     "language": "fsharp"
    },
    "polyglot_notebook": {
     "kernelName": "fsharp"
    }
   },
   "source": [
    "## Visualizing set relationships with Venn diagrams\n",
    "\n",
    "### Construction Venn\n",
    "\n",
    "A Venn diagram uses simple closed shapes to represent sets. Those shapes are often circles or ellipses.\n",
    "Let`s start with a simple comparison of two sets using circles as our shape. For that we take genres action and comedy and determine their intersections:"
   ]
  },
  {
   "cell_type": "code",
   "execution_count": 2,
   "metadata": {
    "dotnet_interactive": {
     "language": "fsharp"
    },
    "polyglot_notebook": {
     "kernelName": "fsharp"
    },
    "vscode": {
     "languageId": "polyglot-notebook"
    }
   },
   "outputs": [
    {
     "data": {
      "text/html": [
       "<table><thead><tr><th><i>key</i></th><th>value</th></tr></thead><tbody><tr><td>Action</td><td><div class=\"dni-plaintext\"><pre>438</pre></div></td></tr><tr><td>Action&amp;Comedy</td><td><div class=\"dni-plaintext\"><pre>65</pre></div></td></tr><tr><td>Comedy</td><td><div class=\"dni-plaintext\"><pre>1135</pre></div></td></tr><tr><td>union</td><td><div class=\"dni-plaintext\"><pre>1638</pre></div></td></tr></tbody></table><style>\r\n",
       ".dni-code-hint {\r\n",
       "    font-style: italic;\r\n",
       "    overflow: hidden;\r\n",
       "    white-space: nowrap;\r\n",
       "}\r\n",
       ".dni-treeview {\r\n",
       "    white-space: nowrap;\r\n",
       "}\r\n",
       ".dni-treeview td {\r\n",
       "    vertical-align: top;\r\n",
       "    text-align: start;\r\n",
       "}\r\n",
       "details.dni-treeview {\r\n",
       "    padding-left: 1em;\r\n",
       "}\r\n",
       "table td {\r\n",
       "    text-align: start;\r\n",
       "}\r\n",
       "table tr { \r\n",
       "    vertical-align: top; \r\n",
       "    margin: 0em 0px;\r\n",
       "}\r\n",
       "table tr td pre \r\n",
       "{ \r\n",
       "    vertical-align: top !important; \r\n",
       "    margin: 0em 0px !important;\r\n",
       "} \r\n",
       "table th {\r\n",
       "    text-align: start;\r\n",
       "}\r\n",
       "</style>"
      ]
     },
     "metadata": {},
     "output_type": "display_data"
    }
   ],
   "source": [
    "let actionSet =\n",
    "    movieFrame\n",
    "    |> getSetByGenre \"Action\"\n",
    "\n",
    "let comedySet =\n",
    "    movieFrame\n",
    "    |> getSetByGenre \"Comedy\"\n",
    "\n",
    "let intersectionCount =\n",
    "    Venn.ofSetList [|\"Action\";\"Comedy\"|] [|actionSet;comedySet|]\n",
    "    |> Venn.toVennCount\n",
    "\n",
    "intersectionCount"
   ]
  },
  {
   "attachments": {},
   "cell_type": "markdown",
   "metadata": {
    "dotnet_interactive": {
     "language": "fsharp"
    },
    "polyglot_notebook": {
     "kernelName": "fsharp"
    }
   },
   "source": [
    "Now we can start building our Venn diagram with Plotly. First of all we need to create two shapes for the circles at the correct position and put them in a layout."
   ]
  },
  {
   "cell_type": "code",
   "execution_count": 4,
   "metadata": {
    "dotnet_interactive": {
     "language": "fsharp"
    },
    "polyglot_notebook": {
     "kernelName": "fsharp"
    },
    "vscode": {
     "languageId": "polyglot-notebook"
    }
   },
   "outputs": [],
   "source": [
    "let axis =\n",
    "    LinearAxis.init(\n",
    "        ShowTickLabels = false,\n",
    "        ShowGrid = false,\n",
    "        ZeroLine = false\n",
    "    )\n",
    "\n",
    "let circleAction =\n",
    "    Shape.init(\n",
    "        Opacity = 0.3,\n",
    "        Xref = \"x\",\n",
    "        Yref = \"y\",\n",
    "        Fillcolor = Color.fromKeyword Red,\n",
    "        X0 = 0,\n",
    "        Y0 = 0,\n",
    "        X1 = 2,\n",
    "        Y1 = 2,\n",
    "        ShapeType = StyleParam.ShapeType.Circle,\n",
    "        Line = Line.init(Color = Color.fromKeyword Red)\n",
    "    )\n",
    "\n",
    "let circleComedy =\n",
    "    Shape.init(\n",
    "        Opacity = 0.3,\n",
    "        Xref = \"x\",\n",
    "        Yref = \"y\",\n",
    "        Fillcolor = Color.fromKeyword Blue,\n",
    "        X0 = 1.5,\n",
    "        Y0 = 0,\n",
    "        X1 = 3.5,\n",
    "        Y1 = 2,\n",
    "        ShapeType = StyleParam.ShapeType.Circle,\n",
    "        Line = Line.init(Color = Color.fromKeyword Blue)\n",
    "    )\n",
    "\n",
    "let layout =\n",
    "    Layout.init(\n",
    "        Shapes = [circleAction;circleComedy],\n",
    "        Margin = \n",
    "            Margin.init(\n",
    "                Left = 20,\n",
    "                Right = 20,\n",
    "                Bottom = 100\n",
    "            )\n",
    "    )\n",
    "    |> Layout.updateLinearAxisById(StyleParam.SubPlotId.XAxis 1, axis)\n",
    "    |> Layout.updateLinearAxisById(StyleParam.SubPlotId.YAxis 1, axis)"
   ]
  },
  {
   "attachments": {},
   "cell_type": "markdown",
   "metadata": {
    "dotnet_interactive": {
     "language": "fsharp"
    },
    "polyglot_notebook": {
     "kernelName": "fsharp"
    }
   },
   "source": [
    "Next, we need some text to describe our sets and intersection counts. This can be achieved via `Chart.Scatter`."
   ]
  },
  {
   "cell_type": "code",
   "execution_count": 5,
   "metadata": {
    "dotnet_interactive": {
     "language": "fsharp"
    },
    "polyglot_notebook": {
     "kernelName": "fsharp"
    },
    "vscode": {
     "languageId": "polyglot-notebook"
    }
   },
   "outputs": [],
   "source": [
    "let vennChart =\n",
    "    Trace2D.initScatter(\n",
    "        Trace2DStyle.Scatter(\n",
    "            X = [|1.; 2.5; 1.75|],\n",
    "            Y = [|1.; 1.; 1.|],\n",
    "            Mode = StyleParam.Mode.Text,\n",
    "            MultiText = [\"Action<br>438\";\"Comedy<br>1135\";\"65\"],\n",
    "            TextFont =\n",
    "                Font.init (\n",
    "                    Family = StyleParam.FontFamily.Arial,\n",
    "                    Size = 18.,\n",
    "                    Color = Color.fromString \"black\"\n",
    "                )\n",
    "        )\n",
    "    )\n",
    "    |> GenericChart.ofTraceObject true\n",
    "    |> Chart.withSize (400.,400.)"
   ]
  },
  {
   "attachments": {},
   "cell_type": "markdown",
   "metadata": {
    "dotnet_interactive": {
     "language": "fsharp"
    },
    "polyglot_notebook": {
     "kernelName": "fsharp"
    }
   },
   "source": [
    "We can now complete our Venn diagram by adding our previously created layout to the `Chart.Scatter` "
   ]
  },
  {
   "cell_type": "code",
   "execution_count": 6,
   "metadata": {
    "dotnet_interactive": {
     "language": "fsharp"
    },
    "polyglot_notebook": {
     "kernelName": "fsharp"
    },
    "vscode": {
     "languageId": "polyglot-notebook"
    }
   },
   "outputs": [
    {
     "data": {
      "text/html": [
       "\r\n",
       "<div>\r\n",
       "    <div id=\"c1c4176b-7ba1-4776-8545-9a00f05cd428\"><!-- Plotly chart will be drawn inside this DIV --></div>\r\n",
       "<script type=\"text/javascript\">\r\n",
       "\r\n",
       "            var renderPlotly_c1c4176b7ba1477685459a00f05cd428 = function() {\r\n",
       "            var fsharpPlotlyRequire = requirejs.config({context:'fsharp-plotly',paths:{plotly:'https://cdn.plot.ly/plotly-2.6.3.min'}}) || require;\r\n",
       "            fsharpPlotlyRequire(['plotly'], function(Plotly) {\r\n",
       "\r\n",
       "            var data = [{\"type\":\"scatter\",\"mode\":\"text\",\"x\":[1.0,2.5,1.75],\"y\":[1.0,1.0,1.0],\"text\":[\"Action<br>438\",\"Comedy<br>1135\",\"65\"],\"textfont\":{\"family\":\"Arial\",\"size\":18.0,\"color\":\"black\"}}];\r\n",
       "            var layout = {\"width\":400,\"height\":400,\"template\":{\"layout\":{\"title\":{\"x\":0.05},\"font\":{\"color\":\"rgba(42, 63, 95, 1.0)\"},\"paper_bgcolor\":\"rgba(255, 255, 255, 1.0)\",\"plot_bgcolor\":\"rgba(229, 236, 246, 1.0)\",\"autotypenumbers\":\"strict\",\"colorscale\":{\"diverging\":[[0.0,\"#8e0152\"],[0.1,\"#c51b7d\"],[0.2,\"#de77ae\"],[0.3,\"#f1b6da\"],[0.4,\"#fde0ef\"],[0.5,\"#f7f7f7\"],[0.6,\"#e6f5d0\"],[0.7,\"#b8e186\"],[0.8,\"#7fbc41\"],[0.9,\"#4d9221\"],[1.0,\"#276419\"]],\"sequential\":[[0.0,\"#0d0887\"],[0.1111111111111111,\"#46039f\"],[0.2222222222222222,\"#7201a8\"],[0.3333333333333333,\"#9c179e\"],[0.4444444444444444,\"#bd3786\"],[0.5555555555555556,\"#d8576b\"],[0.6666666666666666,\"#ed7953\"],[0.7777777777777778,\"#fb9f3a\"],[0.8888888888888888,\"#fdca26\"],[1.0,\"#f0f921\"]],\"sequentialminus\":[[0.0,\"#0d0887\"],[0.1111111111111111,\"#46039f\"],[0.2222222222222222,\"#7201a8\"],[0.3333333333333333,\"#9c179e\"],[0.4444444444444444,\"#bd3786\"],[0.5555555555555556,\"#d8576b\"],[0.6666666666666666,\"#ed7953\"],[0.7777777777777778,\"#fb9f3a\"],[0.8888888888888888,\"#fdca26\"],[1.0,\"#f0f921\"]]},\"hovermode\":\"closest\",\"hoverlabel\":{\"align\":\"left\"},\"coloraxis\":{\"colorbar\":{\"outlinewidth\":0.0,\"ticks\":\"\"}},\"geo\":{\"showland\":true,\"landcolor\":\"rgba(229, 236, 246, 1.0)\",\"showlakes\":true,\"lakecolor\":\"rgba(255, 255, 255, 1.0)\",\"subunitcolor\":\"rgba(255, 255, 255, 1.0)\",\"bgcolor\":\"rgba(255, 255, 255, 1.0)\"},\"mapbox\":{\"style\":\"light\"},\"polar\":{\"bgcolor\":\"rgba(229, 236, 246, 1.0)\",\"radialaxis\":{\"linecolor\":\"rgba(255, 255, 255, 1.0)\",\"gridcolor\":\"rgba(255, 255, 255, 1.0)\",\"ticks\":\"\"},\"angularaxis\":{\"linecolor\":\"rgba(255, 255, 255, 1.0)\",\"gridcolor\":\"rgba(255, 255, 255, 1.0)\",\"ticks\":\"\"}},\"scene\":{\"xaxis\":{\"ticks\":\"\",\"linecolor\":\"rgba(255, 255, 255, 1.0)\",\"gridcolor\":\"rgba(255, 255, 255, 1.0)\",\"gridwidth\":2.0,\"zerolinecolor\":\"rgba(255, 255, 255, 1.0)\",\"backgroundcolor\":\"rgba(229, 236, 246, 1.0)\",\"showbackground\":true},\"yaxis\":{\"ticks\":\"\",\"linecolor\":\"rgba(255, 255, 255, 1.0)\",\"gridcolor\":\"rgba(255, 255, 255, 1.0)\",\"gridwidth\":2.0,\"zerolinecolor\":\"rgba(255, 255, 255, 1.0)\",\"backgroundcolor\":\"rgba(229, 236, 246, 1.0)\",\"showbackground\":true},\"zaxis\":{\"ticks\":\"\",\"linecolor\":\"rgba(255, 255, 255, 1.0)\",\"gridcolor\":\"rgba(255, 255, 255, 1.0)\",\"gridwidth\":2.0,\"zerolinecolor\":\"rgba(255, 255, 255, 1.0)\",\"backgroundcolor\":\"rgba(229, 236, 246, 1.0)\",\"showbackground\":true}},\"ternary\":{\"aaxis\":{\"ticks\":\"\",\"linecolor\":\"rgba(255, 255, 255, 1.0)\",\"gridcolor\":\"rgba(255, 255, 255, 1.0)\"},\"baxis\":{\"ticks\":\"\",\"linecolor\":\"rgba(255, 255, 255, 1.0)\",\"gridcolor\":\"rgba(255, 255, 255, 1.0)\"},\"caxis\":{\"ticks\":\"\",\"linecolor\":\"rgba(255, 255, 255, 1.0)\",\"gridcolor\":\"rgba(255, 255, 255, 1.0)\"},\"bgcolor\":\"rgba(229, 236, 246, 1.0)\"},\"xaxis\":{\"title\":{\"standoff\":15},\"ticks\":\"\",\"automargin\":true,\"linecolor\":\"rgba(255, 255, 255, 1.0)\",\"gridcolor\":\"rgba(255, 255, 255, 1.0)\",\"zerolinecolor\":\"rgba(255, 255, 255, 1.0)\",\"zerolinewidth\":2.0},\"yaxis\":{\"title\":{\"standoff\":15},\"ticks\":\"\",\"automargin\":true,\"linecolor\":\"rgba(255, 255, 255, 1.0)\",\"gridcolor\":\"rgba(255, 255, 255, 1.0)\",\"zerolinecolor\":\"rgba(255, 255, 255, 1.0)\",\"zerolinewidth\":2.0},\"annotationdefaults\":{\"arrowcolor\":\"#2a3f5f\",\"arrowhead\":0,\"arrowwidth\":1},\"shapedefaults\":{\"line\":{\"color\":\"rgba(42, 63, 95, 1.0)\"}},\"colorway\":[\"rgba(99, 110, 250, 1.0)\",\"rgba(239, 85, 59, 1.0)\",\"rgba(0, 204, 150, 1.0)\",\"rgba(171, 99, 250, 1.0)\",\"rgba(255, 161, 90, 1.0)\",\"rgba(25, 211, 243, 1.0)\",\"rgba(255, 102, 146, 1.0)\",\"rgba(182, 232, 128, 1.0)\",\"rgba(255, 151, 255, 1.0)\",\"rgba(254, 203, 82, 1.0)\"]},\"data\":{\"bar\":[{\"marker\":{\"line\":{\"color\":\"rgba(229, 236, 246, 1.0)\",\"width\":0.5},\"pattern\":{\"fillmode\":\"overlay\",\"size\":10,\"solidity\":0.2}},\"error_x\":{\"color\":\"rgba(42, 63, 95, 1.0)\"},\"error_y\":{\"color\":\"rgba(42, 63, 95, 1.0)\"}}],\"barpolar\":[{\"marker\":{\"line\":{\"color\":\"rgba(229, 236, 246, 1.0)\",\"width\":0.5},\"pattern\":{\"fillmode\":\"overlay\",\"size\":10,\"solidity\":0.2}}}],\"carpet\":[{\"aaxis\":{\"linecolor\":\"rgba(255, 255, 255, 1.0)\",\"gridcolor\":\"rgba(255, 255, 255, 1.0)\",\"endlinecolor\":\"rgba(42, 63, 95, 1.0)\",\"minorgridcolor\":\"rgba(255, 255, 255, 1.0)\",\"startlinecolor\":\"rgba(42, 63, 95, 1.0)\"},\"baxis\":{\"linecolor\":\"rgba(255, 255, 255, 1.0)\",\"gridcolor\":\"rgba(255, 255, 255, 1.0)\",\"endlinecolor\":\"rgba(42, 63, 95, 1.0)\",\"minorgridcolor\":\"rgba(255, 255, 255, 1.0)\",\"startlinecolor\":\"rgba(42, 63, 95, 1.0)\"}}],\"choropleth\":[{\"colorbar\":{\"outlinewidth\":0.0,\"ticks\":\"\"},\"colorscale\":[[0.0,\"#0d0887\"],[0.1111111111111111,\"#46039f\"],[0.2222222222222222,\"#7201a8\"],[0.3333333333333333,\"#9c179e\"],[0.4444444444444444,\"#bd3786\"],[0.5555555555555556,\"#d8576b\"],[0.6666666666666666,\"#ed7953\"],[0.7777777777777778,\"#fb9f3a\"],[0.8888888888888888,\"#fdca26\"],[1.0,\"#f0f921\"]]}],\"contour\":[{\"colorbar\":{\"outlinewidth\":0.0,\"ticks\":\"\"},\"colorscale\":[[0.0,\"#0d0887\"],[0.1111111111111111,\"#46039f\"],[0.2222222222222222,\"#7201a8\"],[0.3333333333333333,\"#9c179e\"],[0.4444444444444444,\"#bd3786\"],[0.5555555555555556,\"#d8576b\"],[0.6666666666666666,\"#ed7953\"],[0.7777777777777778,\"#fb9f3a\"],[0.8888888888888888,\"#fdca26\"],[1.0,\"#f0f921\"]]}],\"contourcarpet\":[{\"colorbar\":{\"outlinewidth\":0.0,\"ticks\":\"\"}}],\"heatmap\":[{\"colorbar\":{\"outlinewidth\":0.0,\"ticks\":\"\"},\"colorscale\":[[0.0,\"#0d0887\"],[0.1111111111111111,\"#46039f\"],[0.2222222222222222,\"#7201a8\"],[0.3333333333333333,\"#9c179e\"],[0.4444444444444444,\"#bd3786\"],[0.5555555555555556,\"#d8576b\"],[0.6666666666666666,\"#ed7953\"],[0.7777777777777778,\"#fb9f3a\"],[0.8888888888888888,\"#fdca26\"],[1.0,\"#f0f921\"]]}],\"heatmapgl\":[{\"colorbar\":{\"outlinewidth\":0.0,\"ticks\":\"\"},\"colorscale\":[[0.0,\"#0d0887\"],[0.1111111111111111,\"#46039f\"],[0.2222222222222222,\"#7201a8\"],[0.3333333333333333,\"#9c179e\"],[0.4444444444444444,\"#bd3786\"],[0.5555555555555556,\"#d8576b\"],[0.6666666666666666,\"#ed7953\"],[0.7777777777777778,\"#fb9f3a\"],[0.8888888888888888,\"#fdca26\"],[1.0,\"#f0f921\"]]}],\"histogram\":[{\"marker\":{\"pattern\":{\"fillmode\":\"overlay\",\"size\":10,\"solidity\":0.2}}}],\"histogram2d\":[{\"colorbar\":{\"outlinewidth\":0.0,\"ticks\":\"\"},\"colorscale\":[[0.0,\"#0d0887\"],[0.1111111111111111,\"#46039f\"],[0.2222222222222222,\"#7201a8\"],[0.3333333333333333,\"#9c179e\"],[0.4444444444444444,\"#bd3786\"],[0.5555555555555556,\"#d8576b\"],[0.6666666666666666,\"#ed7953\"],[0.7777777777777778,\"#fb9f3a\"],[0.8888888888888888,\"#fdca26\"],[1.0,\"#f0f921\"]]}],\"histogram2dcontour\":[{\"colorbar\":{\"outlinewidth\":0.0,\"ticks\":\"\"},\"colorscale\":[[0.0,\"#0d0887\"],[0.1111111111111111,\"#46039f\"],[0.2222222222222222,\"#7201a8\"],[0.3333333333333333,\"#9c179e\"],[0.4444444444444444,\"#bd3786\"],[0.5555555555555556,\"#d8576b\"],[0.6666666666666666,\"#ed7953\"],[0.7777777777777778,\"#fb9f3a\"],[0.8888888888888888,\"#fdca26\"],[1.0,\"#f0f921\"]]}],\"mesh3d\":[{\"colorbar\":{\"outlinewidth\":0.0,\"ticks\":\"\"}}],\"parcoords\":[{\"line\":{\"colorbar\":{\"outlinewidth\":0.0,\"ticks\":\"\"}}}],\"pie\":[{\"automargin\":true}],\"scatter\":[{\"marker\":{\"colorbar\":{\"outlinewidth\":0.0,\"ticks\":\"\"}}}],\"scatter3d\":[{\"marker\":{\"colorbar\":{\"outlinewidth\":0.0,\"ticks\":\"\"}},\"line\":{\"colorbar\":{\"outlinewidth\":0.0,\"ticks\":\"\"}}}],\"scattercarpet\":[{\"marker\":{\"colorbar\":{\"outlinewidth\":0.0,\"ticks\":\"\"}}}],\"scattergeo\":[{\"marker\":{\"colorbar\":{\"outlinewidth\":0.0,\"ticks\":\"\"}}}],\"scattergl\":[{\"marker\":{\"colorbar\":{\"outlinewidth\":0.0,\"ticks\":\"\"}}}],\"scattermapbox\":[{\"marker\":{\"colorbar\":{\"outlinewidth\":0.0,\"ticks\":\"\"}}}],\"scatterpolar\":[{\"marker\":{\"colorbar\":{\"outlinewidth\":0.0,\"ticks\":\"\"}}}],\"scatterpolargl\":[{\"marker\":{\"colorbar\":{\"outlinewidth\":0.0,\"ticks\":\"\"}}}],\"scatterternary\":[{\"marker\":{\"colorbar\":{\"outlinewidth\":0.0,\"ticks\":\"\"}}}],\"surface\":[{\"colorbar\":{\"outlinewidth\":0.0,\"ticks\":\"\"},\"colorscale\":[[0.0,\"#0d0887\"],[0.1111111111111111,\"#46039f\"],[0.2222222222222222,\"#7201a8\"],[0.3333333333333333,\"#9c179e\"],[0.4444444444444444,\"#bd3786\"],[0.5555555555555556,\"#d8576b\"],[0.6666666666666666,\"#ed7953\"],[0.7777777777777778,\"#fb9f3a\"],[0.8888888888888888,\"#fdca26\"],[1.0,\"#f0f921\"]]}],\"table\":[{\"cells\":{\"fill\":{\"color\":\"rgba(235, 240, 248, 1.0)\"},\"line\":{\"color\":\"rgba(255, 255, 255, 1.0)\"}},\"header\":{\"fill\":{\"color\":\"rgba(200, 212, 227, 1.0)\"},\"line\":{\"color\":\"rgba(255, 255, 255, 1.0)\"}}}]}},\"margin\":{\"l\":20,\"r\":20,\"b\":100},\"shapes\":[{\"type\":\"circle\",\"xref\":\"x\",\"x0\":0,\"x1\":2,\"yref\":\"y\",\"y0\":0,\"y1\":2,\"opacity\":0.3,\"line\":{\"color\":\"rgba(255, 0, 0, 1.0)\"},\"fillcolor\":\"rgba(255, 0, 0, 1.0)\"},{\"type\":\"circle\",\"xref\":\"x\",\"x0\":1.5,\"x1\":3.5,\"yref\":\"y\",\"y0\":0,\"y1\":2,\"opacity\":0.3,\"line\":{\"color\":\"rgba(0, 0, 255, 1.0)\"},\"fillcolor\":\"rgba(0, 0, 255, 1.0)\"}],\"xaxis\":{\"showticklabels\":false,\"showgrid\":false,\"zeroline\":false},\"yaxis\":{\"showticklabels\":false,\"showgrid\":false,\"zeroline\":false}};\r\n",
       "            var config = {\"responsive\":true};\r\n",
       "            Plotly.newPlot('c1c4176b-7ba1-4776-8545-9a00f05cd428', data, layout, config);\r\n",
       "});\r\n",
       "            };\r\n",
       "            if ((typeof(requirejs) !==  typeof(Function)) || (typeof(requirejs.config) !== typeof(Function))) {\r\n",
       "                var script = document.createElement(\"script\");\r\n",
       "                script.setAttribute(\"src\", \"https://cdnjs.cloudflare.com/ajax/libs/require.js/2.3.6/require.min.js\");\r\n",
       "                script.onload = function(){\r\n",
       "                    renderPlotly_c1c4176b7ba1477685459a00f05cd428();\r\n",
       "                };\r\n",
       "                document.getElementsByTagName(\"head\")[0].appendChild(script);\r\n",
       "            }\r\n",
       "            else {\r\n",
       "                renderPlotly_c1c4176b7ba1477685459a00f05cd428();\r\n",
       "            }\r\n",
       "</script>\r\n",
       "\r\n",
       "    \r\n",
       "</div    \r\n"
      ]
     },
     "metadata": {},
     "output_type": "display_data"
    }
   ],
   "source": [
    "vennChart\n",
    "|> Chart.withLayout layout"
   ]
  },
  {
   "attachments": {},
   "cell_type": "markdown",
   "metadata": {
    "dotnet_interactive": {
     "language": "fsharp"
    },
    "polyglot_notebook": {
     "kernelName": "fsharp"
    }
   },
   "source": [
    "### Usage Venn\n",
    "\n",
    "This required a lot of manual formatting. Luckily, [BioFSharp.Vis](https://github.com/CSBiology/BioFSharp.Vis) contains chart extensions \n",
    "for Venn diagrams with two and three sets."
   ]
  },
  {
   "cell_type": "code",
   "execution_count": 7,
   "metadata": {
    "dotnet_interactive": {
     "language": "fsharp"
    },
    "polyglot_notebook": {
     "kernelName": "fsharp"
    },
    "vscode": {
     "languageId": "polyglot-notebook"
    }
   },
   "outputs": [
    {
     "data": {
      "text/html": [
       "\r\n",
       "<div>\r\n",
       "    <div id=\"2e3e0387-bc0a-4401-bf6f-40bd2882cf2c\"><!-- Plotly chart will be drawn inside this DIV --></div>\r\n",
       "<script type=\"text/javascript\">\r\n",
       "\r\n",
       "            var renderPlotly_2e3e0387bc0a4401bf6f40bd2882cf2c = function() {\r\n",
       "            var fsharpPlotlyRequire = requirejs.config({context:'fsharp-plotly',paths:{plotly:'https://cdn.plot.ly/plotly-2.6.3.min'}}) || require;\r\n",
       "            fsharpPlotlyRequire(['plotly'], function(Plotly) {\r\n",
       "\r\n",
       "            var data = [{\"type\":\"scatter\",\"mode\":\"text\",\"x\":[1.0,2.5,1.75,1.75,1.325,2.125,1.75],\"y\":[1.0,1.0,2.25,1.0,1.6625,1.6625,1.45],\"text\":[\"Action<br>348\",\"Comedy<br>919\",\"Drama<br>1287\",\"55\",\"90\",\"216\",\"10\"],\"textfont\":{\"family\":\"Arial\",\"size\":18.0,\"color\":\"black\"}}];\r\n",
       "            var layout = {\"width\":600,\"height\":600,\"template\":{\"layout\":{\"title\":{\"x\":0.05},\"font\":{\"color\":\"rgba(42, 63, 95, 1.0)\"},\"paper_bgcolor\":\"rgba(255, 255, 255, 1.0)\",\"plot_bgcolor\":\"rgba(229, 236, 246, 1.0)\",\"autotypenumbers\":\"strict\",\"colorscale\":{\"diverging\":[[0.0,\"#8e0152\"],[0.1,\"#c51b7d\"],[0.2,\"#de77ae\"],[0.3,\"#f1b6da\"],[0.4,\"#fde0ef\"],[0.5,\"#f7f7f7\"],[0.6,\"#e6f5d0\"],[0.7,\"#b8e186\"],[0.8,\"#7fbc41\"],[0.9,\"#4d9221\"],[1.0,\"#276419\"]],\"sequential\":[[0.0,\"#0d0887\"],[0.1111111111111111,\"#46039f\"],[0.2222222222222222,\"#7201a8\"],[0.3333333333333333,\"#9c179e\"],[0.4444444444444444,\"#bd3786\"],[0.5555555555555556,\"#d8576b\"],[0.6666666666666666,\"#ed7953\"],[0.7777777777777778,\"#fb9f3a\"],[0.8888888888888888,\"#fdca26\"],[1.0,\"#f0f921\"]],\"sequentialminus\":[[0.0,\"#0d0887\"],[0.1111111111111111,\"#46039f\"],[0.2222222222222222,\"#7201a8\"],[0.3333333333333333,\"#9c179e\"],[0.4444444444444444,\"#bd3786\"],[0.5555555555555556,\"#d8576b\"],[0.6666666666666666,\"#ed7953\"],[0.7777777777777778,\"#fb9f3a\"],[0.8888888888888888,\"#fdca26\"],[1.0,\"#f0f921\"]]},\"hovermode\":\"closest\",\"hoverlabel\":{\"align\":\"left\"},\"coloraxis\":{\"colorbar\":{\"outlinewidth\":0.0,\"ticks\":\"\"}},\"geo\":{\"showland\":true,\"landcolor\":\"rgba(229, 236, 246, 1.0)\",\"showlakes\":true,\"lakecolor\":\"rgba(255, 255, 255, 1.0)\",\"subunitcolor\":\"rgba(255, 255, 255, 1.0)\",\"bgcolor\":\"rgba(255, 255, 255, 1.0)\"},\"mapbox\":{\"style\":\"light\"},\"polar\":{\"bgcolor\":\"rgba(229, 236, 246, 1.0)\",\"radialaxis\":{\"linecolor\":\"rgba(255, 255, 255, 1.0)\",\"gridcolor\":\"rgba(255, 255, 255, 1.0)\",\"ticks\":\"\"},\"angularaxis\":{\"linecolor\":\"rgba(255, 255, 255, 1.0)\",\"gridcolor\":\"rgba(255, 255, 255, 1.0)\",\"ticks\":\"\"}},\"scene\":{\"xaxis\":{\"ticks\":\"\",\"linecolor\":\"rgba(255, 255, 255, 1.0)\",\"gridcolor\":\"rgba(255, 255, 255, 1.0)\",\"gridwidth\":2.0,\"zerolinecolor\":\"rgba(255, 255, 255, 1.0)\",\"backgroundcolor\":\"rgba(229, 236, 246, 1.0)\",\"showbackground\":true},\"yaxis\":{\"ticks\":\"\",\"linecolor\":\"rgba(255, 255, 255, 1.0)\",\"gridcolor\":\"rgba(255, 255, 255, 1.0)\",\"gridwidth\":2.0,\"zerolinecolor\":\"rgba(255, 255, 255, 1.0)\",\"backgroundcolor\":\"rgba(229, 236, 246, 1.0)\",\"showbackground\":true},\"zaxis\":{\"ticks\":\"\",\"linecolor\":\"rgba(255, 255, 255, 1.0)\",\"gridcolor\":\"rgba(255, 255, 255, 1.0)\",\"gridwidth\":2.0,\"zerolinecolor\":\"rgba(255, 255, 255, 1.0)\",\"backgroundcolor\":\"rgba(229, 236, 246, 1.0)\",\"showbackground\":true}},\"ternary\":{\"aaxis\":{\"ticks\":\"\",\"linecolor\":\"rgba(255, 255, 255, 1.0)\",\"gridcolor\":\"rgba(255, 255, 255, 1.0)\"},\"baxis\":{\"ticks\":\"\",\"linecolor\":\"rgba(255, 255, 255, 1.0)\",\"gridcolor\":\"rgba(255, 255, 255, 1.0)\"},\"caxis\":{\"ticks\":\"\",\"linecolor\":\"rgba(255, 255, 255, 1.0)\",\"gridcolor\":\"rgba(255, 255, 255, 1.0)\"},\"bgcolor\":\"rgba(229, 236, 246, 1.0)\"},\"xaxis\":{\"title\":{\"standoff\":15},\"ticks\":\"\",\"automargin\":true,\"linecolor\":\"rgba(255, 255, 255, 1.0)\",\"gridcolor\":\"rgba(255, 255, 255, 1.0)\",\"zerolinecolor\":\"rgba(255, 255, 255, 1.0)\",\"zerolinewidth\":2.0},\"yaxis\":{\"title\":{\"standoff\":15},\"ticks\":\"\",\"automargin\":true,\"linecolor\":\"rgba(255, 255, 255, 1.0)\",\"gridcolor\":\"rgba(255, 255, 255, 1.0)\",\"zerolinecolor\":\"rgba(255, 255, 255, 1.0)\",\"zerolinewidth\":2.0},\"annotationdefaults\":{\"arrowcolor\":\"#2a3f5f\",\"arrowhead\":0,\"arrowwidth\":1},\"shapedefaults\":{\"line\":{\"color\":\"rgba(42, 63, 95, 1.0)\"}},\"colorway\":[\"rgba(99, 110, 250, 1.0)\",\"rgba(239, 85, 59, 1.0)\",\"rgba(0, 204, 150, 1.0)\",\"rgba(171, 99, 250, 1.0)\",\"rgba(255, 161, 90, 1.0)\",\"rgba(25, 211, 243, 1.0)\",\"rgba(255, 102, 146, 1.0)\",\"rgba(182, 232, 128, 1.0)\",\"rgba(255, 151, 255, 1.0)\",\"rgba(254, 203, 82, 1.0)\"]},\"data\":{\"bar\":[{\"marker\":{\"line\":{\"color\":\"rgba(229, 236, 246, 1.0)\",\"width\":0.5},\"pattern\":{\"fillmode\":\"overlay\",\"size\":10,\"solidity\":0.2}},\"error_x\":{\"color\":\"rgba(42, 63, 95, 1.0)\"},\"error_y\":{\"color\":\"rgba(42, 63, 95, 1.0)\"}}],\"barpolar\":[{\"marker\":{\"line\":{\"color\":\"rgba(229, 236, 246, 1.0)\",\"width\":0.5},\"pattern\":{\"fillmode\":\"overlay\",\"size\":10,\"solidity\":0.2}}}],\"carpet\":[{\"aaxis\":{\"linecolor\":\"rgba(255, 255, 255, 1.0)\",\"gridcolor\":\"rgba(255, 255, 255, 1.0)\",\"endlinecolor\":\"rgba(42, 63, 95, 1.0)\",\"minorgridcolor\":\"rgba(255, 255, 255, 1.0)\",\"startlinecolor\":\"rgba(42, 63, 95, 1.0)\"},\"baxis\":{\"linecolor\":\"rgba(255, 255, 255, 1.0)\",\"gridcolor\":\"rgba(255, 255, 255, 1.0)\",\"endlinecolor\":\"rgba(42, 63, 95, 1.0)\",\"minorgridcolor\":\"rgba(255, 255, 255, 1.0)\",\"startlinecolor\":\"rgba(42, 63, 95, 1.0)\"}}],\"choropleth\":[{\"colorbar\":{\"outlinewidth\":0.0,\"ticks\":\"\"},\"colorscale\":[[0.0,\"#0d0887\"],[0.1111111111111111,\"#46039f\"],[0.2222222222222222,\"#7201a8\"],[0.3333333333333333,\"#9c179e\"],[0.4444444444444444,\"#bd3786\"],[0.5555555555555556,\"#d8576b\"],[0.6666666666666666,\"#ed7953\"],[0.7777777777777778,\"#fb9f3a\"],[0.8888888888888888,\"#fdca26\"],[1.0,\"#f0f921\"]]}],\"contour\":[{\"colorbar\":{\"outlinewidth\":0.0,\"ticks\":\"\"},\"colorscale\":[[0.0,\"#0d0887\"],[0.1111111111111111,\"#46039f\"],[0.2222222222222222,\"#7201a8\"],[0.3333333333333333,\"#9c179e\"],[0.4444444444444444,\"#bd3786\"],[0.5555555555555556,\"#d8576b\"],[0.6666666666666666,\"#ed7953\"],[0.7777777777777778,\"#fb9f3a\"],[0.8888888888888888,\"#fdca26\"],[1.0,\"#f0f921\"]]}],\"contourcarpet\":[{\"colorbar\":{\"outlinewidth\":0.0,\"ticks\":\"\"}}],\"heatmap\":[{\"colorbar\":{\"outlinewidth\":0.0,\"ticks\":\"\"},\"colorscale\":[[0.0,\"#0d0887\"],[0.1111111111111111,\"#46039f\"],[0.2222222222222222,\"#7201a8\"],[0.3333333333333333,\"#9c179e\"],[0.4444444444444444,\"#bd3786\"],[0.5555555555555556,\"#d8576b\"],[0.6666666666666666,\"#ed7953\"],[0.7777777777777778,\"#fb9f3a\"],[0.8888888888888888,\"#fdca26\"],[1.0,\"#f0f921\"]]}],\"heatmapgl\":[{\"colorbar\":{\"outlinewidth\":0.0,\"ticks\":\"\"},\"colorscale\":[[0.0,\"#0d0887\"],[0.1111111111111111,\"#46039f\"],[0.2222222222222222,\"#7201a8\"],[0.3333333333333333,\"#9c179e\"],[0.4444444444444444,\"#bd3786\"],[0.5555555555555556,\"#d8576b\"],[0.6666666666666666,\"#ed7953\"],[0.7777777777777778,\"#fb9f3a\"],[0.8888888888888888,\"#fdca26\"],[1.0,\"#f0f921\"]]}],\"histogram\":[{\"marker\":{\"pattern\":{\"fillmode\":\"overlay\",\"size\":10,\"solidity\":0.2}}}],\"histogram2d\":[{\"colorbar\":{\"outlinewidth\":0.0,\"ticks\":\"\"},\"colorscale\":[[0.0,\"#0d0887\"],[0.1111111111111111,\"#46039f\"],[0.2222222222222222,\"#7201a8\"],[0.3333333333333333,\"#9c179e\"],[0.4444444444444444,\"#bd3786\"],[0.5555555555555556,\"#d8576b\"],[0.6666666666666666,\"#ed7953\"],[0.7777777777777778,\"#fb9f3a\"],[0.8888888888888888,\"#fdca26\"],[1.0,\"#f0f921\"]]}],\"histogram2dcontour\":[{\"colorbar\":{\"outlinewidth\":0.0,\"ticks\":\"\"},\"colorscale\":[[0.0,\"#0d0887\"],[0.1111111111111111,\"#46039f\"],[0.2222222222222222,\"#7201a8\"],[0.3333333333333333,\"#9c179e\"],[0.4444444444444444,\"#bd3786\"],[0.5555555555555556,\"#d8576b\"],[0.6666666666666666,\"#ed7953\"],[0.7777777777777778,\"#fb9f3a\"],[0.8888888888888888,\"#fdca26\"],[1.0,\"#f0f921\"]]}],\"mesh3d\":[{\"colorbar\":{\"outlinewidth\":0.0,\"ticks\":\"\"}}],\"parcoords\":[{\"line\":{\"colorbar\":{\"outlinewidth\":0.0,\"ticks\":\"\"}}}],\"pie\":[{\"automargin\":true}],\"scatter\":[{\"marker\":{\"colorbar\":{\"outlinewidth\":0.0,\"ticks\":\"\"}}}],\"scatter3d\":[{\"marker\":{\"colorbar\":{\"outlinewidth\":0.0,\"ticks\":\"\"}},\"line\":{\"colorbar\":{\"outlinewidth\":0.0,\"ticks\":\"\"}}}],\"scattercarpet\":[{\"marker\":{\"colorbar\":{\"outlinewidth\":0.0,\"ticks\":\"\"}}}],\"scattergeo\":[{\"marker\":{\"colorbar\":{\"outlinewidth\":0.0,\"ticks\":\"\"}}}],\"scattergl\":[{\"marker\":{\"colorbar\":{\"outlinewidth\":0.0,\"ticks\":\"\"}}}],\"scattermapbox\":[{\"marker\":{\"colorbar\":{\"outlinewidth\":0.0,\"ticks\":\"\"}}}],\"scatterpolar\":[{\"marker\":{\"colorbar\":{\"outlinewidth\":0.0,\"ticks\":\"\"}}}],\"scatterpolargl\":[{\"marker\":{\"colorbar\":{\"outlinewidth\":0.0,\"ticks\":\"\"}}}],\"scatterternary\":[{\"marker\":{\"colorbar\":{\"outlinewidth\":0.0,\"ticks\":\"\"}}}],\"surface\":[{\"colorbar\":{\"outlinewidth\":0.0,\"ticks\":\"\"},\"colorscale\":[[0.0,\"#0d0887\"],[0.1111111111111111,\"#46039f\"],[0.2222222222222222,\"#7201a8\"],[0.3333333333333333,\"#9c179e\"],[0.4444444444444444,\"#bd3786\"],[0.5555555555555556,\"#d8576b\"],[0.6666666666666666,\"#ed7953\"],[0.7777777777777778,\"#fb9f3a\"],[0.8888888888888888,\"#fdca26\"],[1.0,\"#f0f921\"]]}],\"table\":[{\"cells\":{\"fill\":{\"color\":\"rgba(235, 240, 248, 1.0)\"},\"line\":{\"color\":\"rgba(255, 255, 255, 1.0)\"}},\"header\":{\"fill\":{\"color\":\"rgba(200, 212, 227, 1.0)\"},\"line\":{\"color\":\"rgba(255, 255, 255, 1.0)\"}}}]}},\"shapes\":[{\"type\":\"circle\",\"xref\":\"x\",\"x0\":0.0,\"x1\":2.0,\"yref\":\"y\",\"y0\":0.0,\"y1\":2.0,\"opacity\":0.3,\"line\":{\"color\":\"rgba(0, 0, 255, 1.0)\"},\"fillcolor\":\"rgba(0, 0, 255, 1.0)\"},{\"type\":\"circle\",\"xref\":\"x\",\"x0\":1.5,\"x1\":3.5,\"yref\":\"y\",\"y0\":0.0,\"y1\":2.0,\"opacity\":0.3,\"line\":{\"color\":\"rgba(255, 0, 0, 1.0)\"},\"fillcolor\":\"rgba(255, 0, 0, 1.0)\"},{\"type\":\"circle\",\"xref\":\"x\",\"x0\":0.75,\"x1\":2.75,\"yref\":\"y\",\"y0\":1.3,\"y1\":3.3,\"opacity\":0.3,\"line\":{\"color\":\"rgba(0, 128, 0, 1.0)\"},\"fillcolor\":\"rgba(0, 128, 0, 1.0)\"}],\"xaxis\":{\"showticklabels\":false,\"showgrid\":false,\"zeroline\":false},\"yaxis\":{\"showticklabels\":false,\"showgrid\":false,\"zeroline\":false}};\r\n",
       "            var config = {\"responsive\":true};\r\n",
       "            Plotly.newPlot('2e3e0387-bc0a-4401-bf6f-40bd2882cf2c', data, layout, config);\r\n",
       "});\r\n",
       "            };\r\n",
       "            if ((typeof(requirejs) !==  typeof(Function)) || (typeof(requirejs.config) !== typeof(Function))) {\r\n",
       "                var script = document.createElement(\"script\");\r\n",
       "                script.setAttribute(\"src\", \"https://cdnjs.cloudflare.com/ajax/libs/require.js/2.3.6/require.min.js\");\r\n",
       "                script.onload = function(){\r\n",
       "                    renderPlotly_2e3e0387bc0a4401bf6f40bd2882cf2c();\r\n",
       "                };\r\n",
       "                document.getElementsByTagName(\"head\")[0].appendChild(script);\r\n",
       "            }\r\n",
       "            else {\r\n",
       "                renderPlotly_2e3e0387bc0a4401bf6f40bd2882cf2c();\r\n",
       "            }\r\n",
       "</script>\r\n",
       "\r\n",
       "    \r\n",
       "</div    \r\n"
      ]
     },
     "metadata": {},
     "output_type": "display_data"
    }
   ],
   "source": [
    "let dramaSet =\n",
    "    movieFrame\n",
    "    |> getSetByGenre \"Drama\"\n",
    "\n",
    "Chart.Venn (\n",
    "    [|\"Action\";\"Comedy\";\"Drama\"|],\n",
    "    [|actionSet;comedySet;dramaSet|]\n",
    ")"
   ]
  },
  {
   "attachments": {},
   "cell_type": "markdown",
   "metadata": {
    "dotnet_interactive": {
     "language": "fsharp"
    },
    "polyglot_notebook": {
     "kernelName": "fsharp"
    }
   },
   "source": [
    "## Visualizing set relationships with UpSet plots\n",
    "\n",
    "### Construction UpSet\n",
    "\n",
    "Since Venn diagrams with more than three sets are increasingly difficult to model and read, BioFSharp.Vis also includes UpSet plots. \n",
    "UpSet plots consist of three basic parts. The first is a matrix representing the intersection between sets. Each row corresponds to a set and each column to \n",
    "an intersection. Sets taht are part of that particular intersection are marked with a filled in dot and connected by a line. We can try to create the \n",
    "intersection matrix for the three sets used in the previous Venn diagramm. We start again by computing the intersections."
   ]
  },
  {
   "cell_type": "code",
   "execution_count": 8,
   "metadata": {
    "dotnet_interactive": {
     "language": "fsharp"
    },
    "polyglot_notebook": {
     "kernelName": "fsharp"
    },
    "vscode": {
     "languageId": "polyglot-notebook"
    }
   },
   "outputs": [],
   "source": [
    "let intersections = Venn.ofSetList [|\"Action\";\"Comedy\";\"Drama\"|] [|actionSet;comedySet;dramaSet|]"
   ]
  },
  {
   "attachments": {},
   "cell_type": "markdown",
   "metadata": {
    "dotnet_interactive": {
     "language": "fsharp"
    },
    "polyglot_notebook": {
     "kernelName": "fsharp"
    }
   },
   "source": [
    "Now we need the sets that are part of each intersection. We also need a row position for each set in the matrix."
   ]
  },
  {
   "cell_type": "code",
   "execution_count": 9,
   "metadata": {
    "dotnet_interactive": {
     "language": "fsharp"
    },
    "polyglot_notebook": {
     "kernelName": "fsharp"
    },
    "vscode": {
     "languageId": "polyglot-notebook"
    }
   },
   "outputs": [
    {
     "data": {
      "text/html": [
       "<table><thead><tr><th><i>index</i></th><th>value</th></tr></thead><tbody><tr><td>0</td><td><div class=\"dni-plaintext\"><pre>[ Action ]</pre></div></td></tr><tr><td>1</td><td><div class=\"dni-plaintext\"><pre>[ Action, Comedy ]</pre></div></td></tr><tr><td>2</td><td><div class=\"dni-plaintext\"><pre>[ Action, Comedy, Drama ]</pre></div></td></tr><tr><td>3</td><td><div class=\"dni-plaintext\"><pre>[ Action, Drama ]</pre></div></td></tr><tr><td>4</td><td><div class=\"dni-plaintext\"><pre>[ Comedy ]</pre></div></td></tr><tr><td>5</td><td><div class=\"dni-plaintext\"><pre>[ Comedy, Drama ]</pre></div></td></tr><tr><td>6</td><td><div class=\"dni-plaintext\"><pre>[ Drama ]</pre></div></td></tr></tbody></table><style>\r\n",
       ".dni-code-hint {\r\n",
       "    font-style: italic;\r\n",
       "    overflow: hidden;\r\n",
       "    white-space: nowrap;\r\n",
       "}\r\n",
       ".dni-treeview {\r\n",
       "    white-space: nowrap;\r\n",
       "}\r\n",
       ".dni-treeview td {\r\n",
       "    vertical-align: top;\r\n",
       "    text-align: start;\r\n",
       "}\r\n",
       "details.dni-treeview {\r\n",
       "    padding-left: 1em;\r\n",
       "}\r\n",
       "table td {\r\n",
       "    text-align: start;\r\n",
       "}\r\n",
       "table tr { \r\n",
       "    vertical-align: top; \r\n",
       "    margin: 0em 0px;\r\n",
       "}\r\n",
       "table tr td pre \r\n",
       "{ \r\n",
       "    vertical-align: top !important; \r\n",
       "    margin: 0em 0px !important;\r\n",
       "} \r\n",
       "table th {\r\n",
       "    text-align: start;\r\n",
       "}\r\n",
       "</style>"
      ]
     },
     "metadata": {},
     "output_type": "display_data"
    }
   ],
   "source": [
    "let intersectingSets =\n",
    "    intersections\n",
    "    |> Map.toArray\n",
    "    |> Array.map (snd >> (fun v -> v.Label))\n",
    "    |> Array.filter (List.isEmpty >> not)\n",
    "\n",
    "intersectingSets"
   ]
  },
  {
   "cell_type": "code",
   "execution_count": 10,
   "metadata": {
    "dotnet_interactive": {
     "language": "fsharp"
    },
    "polyglot_notebook": {
     "kernelName": "fsharp"
    },
    "vscode": {
     "languageId": "polyglot-notebook"
    }
   },
   "outputs": [],
   "source": [
    "let setPositions =\n",
    "    [|\n",
    "        \"Action\", 0\n",
    "        \"Comedy\", 1\n",
    "        \"Drama\" , 2\n",
    "    |]"
   ]
  },
  {
   "attachments": {},
   "cell_type": "markdown",
   "metadata": {
    "dotnet_interactive": {
     "language": "fsharp"
    },
    "polyglot_notebook": {
     "kernelName": "fsharp"
    }
   },
   "source": [
    "With this information we can create the first column of the intersection matrix:"
   ]
  },
  {
   "cell_type": "code",
   "execution_count": 11,
   "metadata": {
    "dotnet_interactive": {
     "language": "fsharp"
    },
    "polyglot_notebook": {
     "kernelName": "fsharp"
    },
    "vscode": {
     "languageId": "polyglot-notebook"
    }
   },
   "outputs": [
    {
     "data": {
      "text/html": [
       "\r\n",
       "<div>\r\n",
       "    <div id=\"48d3208c-8134-4bc6-8358-b0a316c667aa\"><!-- Plotly chart will be drawn inside this DIV --></div>\r\n",
       "<script type=\"text/javascript\">\r\n",
       "\r\n",
       "            var renderPlotly_48d3208c81344bc68358b0a316c667aa = function() {\r\n",
       "            var fsharpPlotlyRequire = requirejs.config({context:'fsharp-plotly',paths:{plotly:'https://cdn.plot.ly/plotly-2.6.3.min'}}) || require;\r\n",
       "            fsharpPlotlyRequire(['plotly'], function(Plotly) {\r\n",
       "\r\n",
       "            var data = [{\"type\":\"scatter\",\"mode\":\"markers\",\"x\":[0,0],\"y\":[1,2],\"marker\":{\"color\":\"rgba(173, 216, 230, 1.0)\",\"size\":25,\"symbol\":\"0\"},\"line\":{}},{\"type\":\"scatter\",\"mode\":\"lines+markers\",\"x\":[0],\"y\":[0],\"marker\":{\"size\":25,\"symbol\":\"0\"},\"line\":{\"color\":\"rgba(0, 0, 139, 1.0)\",\"width\":5.0,\"dash\":\"solid\"}}];\r\n",
       "            var layout = {\"width\":600,\"height\":600,\"template\":{\"layout\":{\"title\":{\"x\":0.05},\"font\":{\"color\":\"rgba(42, 63, 95, 1.0)\"},\"paper_bgcolor\":\"rgba(255, 255, 255, 1.0)\",\"plot_bgcolor\":\"rgba(229, 236, 246, 1.0)\",\"autotypenumbers\":\"strict\",\"colorscale\":{\"diverging\":[[0.0,\"#8e0152\"],[0.1,\"#c51b7d\"],[0.2,\"#de77ae\"],[0.3,\"#f1b6da\"],[0.4,\"#fde0ef\"],[0.5,\"#f7f7f7\"],[0.6,\"#e6f5d0\"],[0.7,\"#b8e186\"],[0.8,\"#7fbc41\"],[0.9,\"#4d9221\"],[1.0,\"#276419\"]],\"sequential\":[[0.0,\"#0d0887\"],[0.1111111111111111,\"#46039f\"],[0.2222222222222222,\"#7201a8\"],[0.3333333333333333,\"#9c179e\"],[0.4444444444444444,\"#bd3786\"],[0.5555555555555556,\"#d8576b\"],[0.6666666666666666,\"#ed7953\"],[0.7777777777777778,\"#fb9f3a\"],[0.8888888888888888,\"#fdca26\"],[1.0,\"#f0f921\"]],\"sequentialminus\":[[0.0,\"#0d0887\"],[0.1111111111111111,\"#46039f\"],[0.2222222222222222,\"#7201a8\"],[0.3333333333333333,\"#9c179e\"],[0.4444444444444444,\"#bd3786\"],[0.5555555555555556,\"#d8576b\"],[0.6666666666666666,\"#ed7953\"],[0.7777777777777778,\"#fb9f3a\"],[0.8888888888888888,\"#fdca26\"],[1.0,\"#f0f921\"]]},\"hovermode\":\"closest\",\"hoverlabel\":{\"align\":\"left\"},\"coloraxis\":{\"colorbar\":{\"outlinewidth\":0.0,\"ticks\":\"\"}},\"geo\":{\"showland\":true,\"landcolor\":\"rgba(229, 236, 246, 1.0)\",\"showlakes\":true,\"lakecolor\":\"rgba(255, 255, 255, 1.0)\",\"subunitcolor\":\"rgba(255, 255, 255, 1.0)\",\"bgcolor\":\"rgba(255, 255, 255, 1.0)\"},\"mapbox\":{\"style\":\"light\"},\"polar\":{\"bgcolor\":\"rgba(229, 236, 246, 1.0)\",\"radialaxis\":{\"linecolor\":\"rgba(255, 255, 255, 1.0)\",\"gridcolor\":\"rgba(255, 255, 255, 1.0)\",\"ticks\":\"\"},\"angularaxis\":{\"linecolor\":\"rgba(255, 255, 255, 1.0)\",\"gridcolor\":\"rgba(255, 255, 255, 1.0)\",\"ticks\":\"\"}},\"scene\":{\"xaxis\":{\"ticks\":\"\",\"linecolor\":\"rgba(255, 255, 255, 1.0)\",\"gridcolor\":\"rgba(255, 255, 255, 1.0)\",\"gridwidth\":2.0,\"zerolinecolor\":\"rgba(255, 255, 255, 1.0)\",\"backgroundcolor\":\"rgba(229, 236, 246, 1.0)\",\"showbackground\":true},\"yaxis\":{\"ticks\":\"\",\"linecolor\":\"rgba(255, 255, 255, 1.0)\",\"gridcolor\":\"rgba(255, 255, 255, 1.0)\",\"gridwidth\":2.0,\"zerolinecolor\":\"rgba(255, 255, 255, 1.0)\",\"backgroundcolor\":\"rgba(229, 236, 246, 1.0)\",\"showbackground\":true},\"zaxis\":{\"ticks\":\"\",\"linecolor\":\"rgba(255, 255, 255, 1.0)\",\"gridcolor\":\"rgba(255, 255, 255, 1.0)\",\"gridwidth\":2.0,\"zerolinecolor\":\"rgba(255, 255, 255, 1.0)\",\"backgroundcolor\":\"rgba(229, 236, 246, 1.0)\",\"showbackground\":true}},\"ternary\":{\"aaxis\":{\"ticks\":\"\",\"linecolor\":\"rgba(255, 255, 255, 1.0)\",\"gridcolor\":\"rgba(255, 255, 255, 1.0)\"},\"baxis\":{\"ticks\":\"\",\"linecolor\":\"rgba(255, 255, 255, 1.0)\",\"gridcolor\":\"rgba(255, 255, 255, 1.0)\"},\"caxis\":{\"ticks\":\"\",\"linecolor\":\"rgba(255, 255, 255, 1.0)\",\"gridcolor\":\"rgba(255, 255, 255, 1.0)\"},\"bgcolor\":\"rgba(229, 236, 246, 1.0)\"},\"xaxis\":{\"title\":{\"standoff\":15},\"ticks\":\"\",\"automargin\":true,\"linecolor\":\"rgba(255, 255, 255, 1.0)\",\"gridcolor\":\"rgba(255, 255, 255, 1.0)\",\"zerolinecolor\":\"rgba(255, 255, 255, 1.0)\",\"zerolinewidth\":2.0},\"yaxis\":{\"title\":{\"standoff\":15},\"ticks\":\"\",\"automargin\":true,\"linecolor\":\"rgba(255, 255, 255, 1.0)\",\"gridcolor\":\"rgba(255, 255, 255, 1.0)\",\"zerolinecolor\":\"rgba(255, 255, 255, 1.0)\",\"zerolinewidth\":2.0},\"annotationdefaults\":{\"arrowcolor\":\"#2a3f5f\",\"arrowhead\":0,\"arrowwidth\":1},\"shapedefaults\":{\"line\":{\"color\":\"rgba(42, 63, 95, 1.0)\"}},\"colorway\":[\"rgba(99, 110, 250, 1.0)\",\"rgba(239, 85, 59, 1.0)\",\"rgba(0, 204, 150, 1.0)\",\"rgba(171, 99, 250, 1.0)\",\"rgba(255, 161, 90, 1.0)\",\"rgba(25, 211, 243, 1.0)\",\"rgba(255, 102, 146, 1.0)\",\"rgba(182, 232, 128, 1.0)\",\"rgba(255, 151, 255, 1.0)\",\"rgba(254, 203, 82, 1.0)\"]},\"data\":{\"bar\":[{\"marker\":{\"line\":{\"color\":\"rgba(229, 236, 246, 1.0)\",\"width\":0.5},\"pattern\":{\"fillmode\":\"overlay\",\"size\":10,\"solidity\":0.2}},\"error_x\":{\"color\":\"rgba(42, 63, 95, 1.0)\"},\"error_y\":{\"color\":\"rgba(42, 63, 95, 1.0)\"}}],\"barpolar\":[{\"marker\":{\"line\":{\"color\":\"rgba(229, 236, 246, 1.0)\",\"width\":0.5},\"pattern\":{\"fillmode\":\"overlay\",\"size\":10,\"solidity\":0.2}}}],\"carpet\":[{\"aaxis\":{\"linecolor\":\"rgba(255, 255, 255, 1.0)\",\"gridcolor\":\"rgba(255, 255, 255, 1.0)\",\"endlinecolor\":\"rgba(42, 63, 95, 1.0)\",\"minorgridcolor\":\"rgba(255, 255, 255, 1.0)\",\"startlinecolor\":\"rgba(42, 63, 95, 1.0)\"},\"baxis\":{\"linecolor\":\"rgba(255, 255, 255, 1.0)\",\"gridcolor\":\"rgba(255, 255, 255, 1.0)\",\"endlinecolor\":\"rgba(42, 63, 95, 1.0)\",\"minorgridcolor\":\"rgba(255, 255, 255, 1.0)\",\"startlinecolor\":\"rgba(42, 63, 95, 1.0)\"}}],\"choropleth\":[{\"colorbar\":{\"outlinewidth\":0.0,\"ticks\":\"\"},\"colorscale\":[[0.0,\"#0d0887\"],[0.1111111111111111,\"#46039f\"],[0.2222222222222222,\"#7201a8\"],[0.3333333333333333,\"#9c179e\"],[0.4444444444444444,\"#bd3786\"],[0.5555555555555556,\"#d8576b\"],[0.6666666666666666,\"#ed7953\"],[0.7777777777777778,\"#fb9f3a\"],[0.8888888888888888,\"#fdca26\"],[1.0,\"#f0f921\"]]}],\"contour\":[{\"colorbar\":{\"outlinewidth\":0.0,\"ticks\":\"\"},\"colorscale\":[[0.0,\"#0d0887\"],[0.1111111111111111,\"#46039f\"],[0.2222222222222222,\"#7201a8\"],[0.3333333333333333,\"#9c179e\"],[0.4444444444444444,\"#bd3786\"],[0.5555555555555556,\"#d8576b\"],[0.6666666666666666,\"#ed7953\"],[0.7777777777777778,\"#fb9f3a\"],[0.8888888888888888,\"#fdca26\"],[1.0,\"#f0f921\"]]}],\"contourcarpet\":[{\"colorbar\":{\"outlinewidth\":0.0,\"ticks\":\"\"}}],\"heatmap\":[{\"colorbar\":{\"outlinewidth\":0.0,\"ticks\":\"\"},\"colorscale\":[[0.0,\"#0d0887\"],[0.1111111111111111,\"#46039f\"],[0.2222222222222222,\"#7201a8\"],[0.3333333333333333,\"#9c179e\"],[0.4444444444444444,\"#bd3786\"],[0.5555555555555556,\"#d8576b\"],[0.6666666666666666,\"#ed7953\"],[0.7777777777777778,\"#fb9f3a\"],[0.8888888888888888,\"#fdca26\"],[1.0,\"#f0f921\"]]}],\"heatmapgl\":[{\"colorbar\":{\"outlinewidth\":0.0,\"ticks\":\"\"},\"colorscale\":[[0.0,\"#0d0887\"],[0.1111111111111111,\"#46039f\"],[0.2222222222222222,\"#7201a8\"],[0.3333333333333333,\"#9c179e\"],[0.4444444444444444,\"#bd3786\"],[0.5555555555555556,\"#d8576b\"],[0.6666666666666666,\"#ed7953\"],[0.7777777777777778,\"#fb9f3a\"],[0.8888888888888888,\"#fdca26\"],[1.0,\"#f0f921\"]]}],\"histogram\":[{\"marker\":{\"pattern\":{\"fillmode\":\"overlay\",\"size\":10,\"solidity\":0.2}}}],\"histogram2d\":[{\"colorbar\":{\"outlinewidth\":0.0,\"ticks\":\"\"},\"colorscale\":[[0.0,\"#0d0887\"],[0.1111111111111111,\"#46039f\"],[0.2222222222222222,\"#7201a8\"],[0.3333333333333333,\"#9c179e\"],[0.4444444444444444,\"#bd3786\"],[0.5555555555555556,\"#d8576b\"],[0.6666666666666666,\"#ed7953\"],[0.7777777777777778,\"#fb9f3a\"],[0.8888888888888888,\"#fdca26\"],[1.0,\"#f0f921\"]]}],\"histogram2dcontour\":[{\"colorbar\":{\"outlinewidth\":0.0,\"ticks\":\"\"},\"colorscale\":[[0.0,\"#0d0887\"],[0.1111111111111111,\"#46039f\"],[0.2222222222222222,\"#7201a8\"],[0.3333333333333333,\"#9c179e\"],[0.4444444444444444,\"#bd3786\"],[0.5555555555555556,\"#d8576b\"],[0.6666666666666666,\"#ed7953\"],[0.7777777777777778,\"#fb9f3a\"],[0.8888888888888888,\"#fdca26\"],[1.0,\"#f0f921\"]]}],\"mesh3d\":[{\"colorbar\":{\"outlinewidth\":0.0,\"ticks\":\"\"}}],\"parcoords\":[{\"line\":{\"colorbar\":{\"outlinewidth\":0.0,\"ticks\":\"\"}}}],\"pie\":[{\"automargin\":true}],\"scatter\":[{\"marker\":{\"colorbar\":{\"outlinewidth\":0.0,\"ticks\":\"\"}}}],\"scatter3d\":[{\"marker\":{\"colorbar\":{\"outlinewidth\":0.0,\"ticks\":\"\"}},\"line\":{\"colorbar\":{\"outlinewidth\":0.0,\"ticks\":\"\"}}}],\"scattercarpet\":[{\"marker\":{\"colorbar\":{\"outlinewidth\":0.0,\"ticks\":\"\"}}}],\"scattergeo\":[{\"marker\":{\"colorbar\":{\"outlinewidth\":0.0,\"ticks\":\"\"}}}],\"scattergl\":[{\"marker\":{\"colorbar\":{\"outlinewidth\":0.0,\"ticks\":\"\"}}}],\"scattermapbox\":[{\"marker\":{\"colorbar\":{\"outlinewidth\":0.0,\"ticks\":\"\"}}}],\"scatterpolar\":[{\"marker\":{\"colorbar\":{\"outlinewidth\":0.0,\"ticks\":\"\"}}}],\"scatterpolargl\":[{\"marker\":{\"colorbar\":{\"outlinewidth\":0.0,\"ticks\":\"\"}}}],\"scatterternary\":[{\"marker\":{\"colorbar\":{\"outlinewidth\":0.0,\"ticks\":\"\"}}}],\"surface\":[{\"colorbar\":{\"outlinewidth\":0.0,\"ticks\":\"\"},\"colorscale\":[[0.0,\"#0d0887\"],[0.1111111111111111,\"#46039f\"],[0.2222222222222222,\"#7201a8\"],[0.3333333333333333,\"#9c179e\"],[0.4444444444444444,\"#bd3786\"],[0.5555555555555556,\"#d8576b\"],[0.6666666666666666,\"#ed7953\"],[0.7777777777777778,\"#fb9f3a\"],[0.8888888888888888,\"#fdca26\"],[1.0,\"#f0f921\"]]}],\"table\":[{\"cells\":{\"fill\":{\"color\":\"rgba(235, 240, 248, 1.0)\"},\"line\":{\"color\":\"rgba(255, 255, 255, 1.0)\"}},\"header\":{\"fill\":{\"color\":\"rgba(200, 212, 227, 1.0)\"},\"line\":{\"color\":\"rgba(255, 255, 255, 1.0)\"}}}]}}};\r\n",
       "            var config = {\"responsive\":true};\r\n",
       "            Plotly.newPlot('48d3208c-8134-4bc6-8358-b0a316c667aa', data, layout, config);\r\n",
       "});\r\n",
       "            };\r\n",
       "            if ((typeof(requirejs) !==  typeof(Function)) || (typeof(requirejs.config) !== typeof(Function))) {\r\n",
       "                var script = document.createElement(\"script\");\r\n",
       "                script.setAttribute(\"src\", \"https://cdnjs.cloudflare.com/ajax/libs/require.js/2.3.6/require.min.js\");\r\n",
       "                script.onload = function(){\r\n",
       "                    renderPlotly_48d3208c81344bc68358b0a316c667aa();\r\n",
       "                };\r\n",
       "                document.getElementsByTagName(\"head\")[0].appendChild(script);\r\n",
       "            }\r\n",
       "            else {\r\n",
       "                renderPlotly_48d3208c81344bc68358b0a316c667aa();\r\n",
       "            }\r\n",
       "</script>\r\n",
       "\r\n",
       "    \r\n",
       "</div    \r\n"
      ]
     },
     "metadata": {},
     "output_type": "display_data"
    }
   ],
   "source": [
    "let createIntersectionMatrixPart (setPos: (string*int)[]) (iSet: string list) (position: int) =\n",
    "    // Creates the part of the intersection matrix representing the current intersection. \n",
    "    // The position on the y-Axis is based on the order the labels and sets are given in. \n",
    "    // The position on the x-Axis is based on the given position (determined by intersection size).\n",
    "    UpSetParts.createIntersectionPlotPart\n",
    "        position\n",
    "        iSet\n",
    "        setPos\n",
    "        25\n",
    "        (Color.fromKeyword DarkBlue)\n",
    "        (Color.fromKeyword LightBlue)\n",
    "\n",
    "let intersectionMatrixPart =\n",
    "    createIntersectionMatrixPart\n",
    "        setPositions\n",
    "        intersectingSets.[0]\n",
    "        0\n",
    "\n",
    "intersectionMatrixPart"
   ]
  },
  {
   "attachments": {},
   "cell_type": "markdown",
   "metadata": {
    "dotnet_interactive": {
     "language": "fsharp"
    },
    "polyglot_notebook": {
     "kernelName": "fsharp"
    }
   },
   "source": [
    "We can apply this function now to all intersections and add the correct labels to the rows:"
   ]
  },
  {
   "cell_type": "code",
   "execution_count": 12,
   "metadata": {
    "dotnet_interactive": {
     "language": "fsharp"
    },
    "polyglot_notebook": {
     "kernelName": "fsharp"
    },
    "vscode": {
     "languageId": "polyglot-notebook"
    }
   },
   "outputs": [],
   "source": [
    "let intersectionMatrix =\n",
    "    intersectingSets\n",
    "    |> Array.mapi (fun i iS ->\n",
    "        createIntersectionMatrixPart\n",
    "            setPositions\n",
    "            iS\n",
    "            i\n",
    "    )\n",
    "    |> Chart.combine\n",
    "    // Axis styling\n",
    "    |> Chart.withYAxis (\n",
    "        LinearAxis.init(\n",
    "            ShowGrid=false,\n",
    "            ShowLine=false,\n",
    "            ShowTickLabels=true,\n",
    "            ZeroLine=false,\n",
    "            TickMode=StyleParam.TickMode.Array,\n",
    "            TickVals=[0 .. setPositions.Length - 1],\n",
    "            TickText=(setPositions |> Array.map fst)\n",
    "        )\n",
    "    )\n",
    "    |> Chart.withXAxis (\n",
    "        LinearAxis.init(\n",
    "            ShowGrid=false,\n",
    "            ShowLine=false,\n",
    "            ShowTickLabels=false,\n",
    "            ZeroLine=false,\n",
    "            Domain=StyleParam.Range.MinMax (0.4,1.)\n",
    "        )\n",
    "    )\n",
    "    |> Chart.withLegend false"
   ]
  },
  {
   "attachments": {},
   "cell_type": "markdown",
   "metadata": {
    "dotnet_interactive": {
     "language": "fsharp"
    },
    "polyglot_notebook": {
     "kernelName": "fsharp"
    }
   },
   "source": [
    "The next part is a bar chart representing the size of each set. The bar for each set gets placed next to the row representing the set in the matrix."
   ]
  },
  {
   "cell_type": "code",
   "execution_count": 13,
   "metadata": {
    "dotnet_interactive": {
     "language": "fsharp"
    },
    "polyglot_notebook": {
     "kernelName": "fsharp"
    },
    "vscode": {
     "languageId": "polyglot-notebook"
    }
   },
   "outputs": [
    {
     "data": {
      "text/html": [
       "\r\n",
       "<div>\r\n",
       "    <div id=\"9d523228-3718-4331-8926-60c6dd48a05e\"><!-- Plotly chart will be drawn inside this DIV --></div>\r\n",
       "<script type=\"text/javascript\">\r\n",
       "\r\n",
       "            var renderPlotly_9d52322837184331892660c6dd48a05e = function() {\r\n",
       "            var fsharpPlotlyRequire = requirejs.config({context:'fsharp-plotly',paths:{plotly:'https://cdn.plot.ly/plotly-2.6.3.min'}}) || require;\r\n",
       "            fsharpPlotlyRequire(['plotly'], function(Plotly) {\r\n",
       "\r\n",
       "            var data = [{\"type\":\"bar\",\"x\":[503,1200,1603],\"y\":[\"Action\",\"Comedy\",\"Drama\"],\"orientation\":\"h\",\"marker\":{\"color\":\"rgba(0, 0, 139, 1.0)\",\"pattern\":{}},\"showlegend\":false,\"xaxis\":\"x\",\"yaxis\":\"y\"},{\"type\":\"scatter\",\"mode\":\"markers\",\"x\":[0,0],\"y\":[1,2],\"marker\":{\"color\":\"rgba(173, 216, 230, 1.0)\",\"size\":25,\"symbol\":\"0\"},\"line\":{},\"xaxis\":\"x2\",\"yaxis\":\"y2\"},{\"type\":\"scatter\",\"mode\":\"lines+markers\",\"x\":[0],\"y\":[0],\"marker\":{\"size\":25,\"symbol\":\"0\"},\"line\":{\"color\":\"rgba(0, 0, 139, 1.0)\",\"width\":5.0,\"dash\":\"solid\"},\"xaxis\":\"x2\",\"yaxis\":\"y2\"},{\"type\":\"scatter\",\"mode\":\"markers\",\"x\":[1],\"y\":[2],\"marker\":{\"color\":\"rgba(173, 216, 230, 1.0)\",\"size\":25,\"symbol\":\"0\"},\"line\":{},\"xaxis\":\"x2\",\"yaxis\":\"y2\"},{\"type\":\"scatter\",\"mode\":\"lines+markers\",\"x\":[1,1],\"y\":[0,1],\"marker\":{\"size\":25,\"symbol\":\"0\"},\"line\":{\"color\":\"rgba(0, 0, 139, 1.0)\",\"width\":5.0,\"dash\":\"solid\"},\"xaxis\":\"x2\",\"yaxis\":\"y2\"},{\"type\":\"scatter\",\"mode\":\"markers\",\"x\":[],\"y\":[],\"marker\":{\"color\":\"rgba(173, 216, 230, 1.0)\",\"size\":25,\"symbol\":\"0\"},\"line\":{},\"xaxis\":\"x2\",\"yaxis\":\"y2\"},{\"type\":\"scatter\",\"mode\":\"lines+markers\",\"x\":[2,2,2],\"y\":[0,1,2],\"marker\":{\"size\":25,\"symbol\":\"0\"},\"line\":{\"color\":\"rgba(0, 0, 139, 1.0)\",\"width\":5.0,\"dash\":\"solid\"},\"xaxis\":\"x2\",\"yaxis\":\"y2\"},{\"type\":\"scatter\",\"mode\":\"markers\",\"x\":[3],\"y\":[1],\"marker\":{\"color\":\"rgba(173, 216, 230, 1.0)\",\"size\":25,\"symbol\":\"0\"},\"line\":{},\"xaxis\":\"x2\",\"yaxis\":\"y2\"},{\"type\":\"scatter\",\"mode\":\"lines+markers\",\"x\":[3,3],\"y\":[0,2],\"marker\":{\"size\":25,\"symbol\":\"0\"},\"line\":{\"color\":\"rgba(0, 0, 139, 1.0)\",\"width\":5.0,\"dash\":\"solid\"},\"xaxis\":\"x2\",\"yaxis\":\"y2\"},{\"type\":\"scatter\",\"mode\":\"markers\",\"x\":[4,4],\"y\":[0,2],\"marker\":{\"color\":\"rgba(173, 216, 230, 1.0)\",\"size\":25,\"symbol\":\"0\"},\"line\":{},\"xaxis\":\"x2\",\"yaxis\":\"y2\"},{\"type\":\"scatter\",\"mode\":\"lines+markers\",\"x\":[4],\"y\":[1],\"marker\":{\"size\":25,\"symbol\":\"0\"},\"line\":{\"color\":\"rgba(0, 0, 139, 1.0)\",\"width\":5.0,\"dash\":\"solid\"},\"xaxis\":\"x2\",\"yaxis\":\"y2\"},{\"type\":\"scatter\",\"mode\":\"markers\",\"x\":[5],\"y\":[0],\"marker\":{\"color\":\"rgba(173, 216, 230, 1.0)\",\"size\":25,\"symbol\":\"0\"},\"line\":{},\"xaxis\":\"x2\",\"yaxis\":\"y2\"},{\"type\":\"scatter\",\"mode\":\"lines+markers\",\"x\":[5,5],\"y\":[1,2],\"marker\":{\"size\":25,\"symbol\":\"0\"},\"line\":{\"color\":\"rgba(0, 0, 139, 1.0)\",\"width\":5.0,\"dash\":\"solid\"},\"xaxis\":\"x2\",\"yaxis\":\"y2\"},{\"type\":\"scatter\",\"mode\":\"markers\",\"x\":[6,6],\"y\":[0,1],\"marker\":{\"color\":\"rgba(173, 216, 230, 1.0)\",\"size\":25,\"symbol\":\"0\"},\"line\":{},\"xaxis\":\"x2\",\"yaxis\":\"y2\"},{\"type\":\"scatter\",\"mode\":\"lines+markers\",\"x\":[6],\"y\":[2],\"marker\":{\"size\":25,\"symbol\":\"0\"},\"line\":{\"color\":\"rgba(0, 0, 139, 1.0)\",\"width\":5.0,\"dash\":\"solid\"},\"xaxis\":\"x2\",\"yaxis\":\"y2\"}];\r\n",
       "            var layout = {\"width\":900,\"height\":600,\"template\":{\"layout\":{\"title\":{\"x\":0.05},\"font\":{\"color\":\"rgba(42, 63, 95, 1.0)\"},\"paper_bgcolor\":\"rgba(255, 255, 255, 1.0)\",\"plot_bgcolor\":\"rgba(229, 236, 246, 1.0)\",\"autotypenumbers\":\"strict\",\"colorscale\":{\"diverging\":[[0.0,\"#8e0152\"],[0.1,\"#c51b7d\"],[0.2,\"#de77ae\"],[0.3,\"#f1b6da\"],[0.4,\"#fde0ef\"],[0.5,\"#f7f7f7\"],[0.6,\"#e6f5d0\"],[0.7,\"#b8e186\"],[0.8,\"#7fbc41\"],[0.9,\"#4d9221\"],[1.0,\"#276419\"]],\"sequential\":[[0.0,\"#0d0887\"],[0.1111111111111111,\"#46039f\"],[0.2222222222222222,\"#7201a8\"],[0.3333333333333333,\"#9c179e\"],[0.4444444444444444,\"#bd3786\"],[0.5555555555555556,\"#d8576b\"],[0.6666666666666666,\"#ed7953\"],[0.7777777777777778,\"#fb9f3a\"],[0.8888888888888888,\"#fdca26\"],[1.0,\"#f0f921\"]],\"sequentialminus\":[[0.0,\"#0d0887\"],[0.1111111111111111,\"#46039f\"],[0.2222222222222222,\"#7201a8\"],[0.3333333333333333,\"#9c179e\"],[0.4444444444444444,\"#bd3786\"],[0.5555555555555556,\"#d8576b\"],[0.6666666666666666,\"#ed7953\"],[0.7777777777777778,\"#fb9f3a\"],[0.8888888888888888,\"#fdca26\"],[1.0,\"#f0f921\"]]},\"hovermode\":\"closest\",\"hoverlabel\":{\"align\":\"left\"},\"coloraxis\":{\"colorbar\":{\"outlinewidth\":0.0,\"ticks\":\"\"}},\"geo\":{\"showland\":true,\"landcolor\":\"rgba(229, 236, 246, 1.0)\",\"showlakes\":true,\"lakecolor\":\"rgba(255, 255, 255, 1.0)\",\"subunitcolor\":\"rgba(255, 255, 255, 1.0)\",\"bgcolor\":\"rgba(255, 255, 255, 1.0)\"},\"mapbox\":{\"style\":\"light\"},\"polar\":{\"bgcolor\":\"rgba(229, 236, 246, 1.0)\",\"radialaxis\":{\"linecolor\":\"rgba(255, 255, 255, 1.0)\",\"gridcolor\":\"rgba(255, 255, 255, 1.0)\",\"ticks\":\"\"},\"angularaxis\":{\"linecolor\":\"rgba(255, 255, 255, 1.0)\",\"gridcolor\":\"rgba(255, 255, 255, 1.0)\",\"ticks\":\"\"}},\"scene\":{\"xaxis\":{\"ticks\":\"\",\"linecolor\":\"rgba(255, 255, 255, 1.0)\",\"gridcolor\":\"rgba(255, 255, 255, 1.0)\",\"gridwidth\":2.0,\"zerolinecolor\":\"rgba(255, 255, 255, 1.0)\",\"backgroundcolor\":\"rgba(229, 236, 246, 1.0)\",\"showbackground\":true},\"yaxis\":{\"ticks\":\"\",\"linecolor\":\"rgba(255, 255, 255, 1.0)\",\"gridcolor\":\"rgba(255, 255, 255, 1.0)\",\"gridwidth\":2.0,\"zerolinecolor\":\"rgba(255, 255, 255, 1.0)\",\"backgroundcolor\":\"rgba(229, 236, 246, 1.0)\",\"showbackground\":true},\"zaxis\":{\"ticks\":\"\",\"linecolor\":\"rgba(255, 255, 255, 1.0)\",\"gridcolor\":\"rgba(255, 255, 255, 1.0)\",\"gridwidth\":2.0,\"zerolinecolor\":\"rgba(255, 255, 255, 1.0)\",\"backgroundcolor\":\"rgba(229, 236, 246, 1.0)\",\"showbackground\":true}},\"ternary\":{\"aaxis\":{\"ticks\":\"\",\"linecolor\":\"rgba(255, 255, 255, 1.0)\",\"gridcolor\":\"rgba(255, 255, 255, 1.0)\"},\"baxis\":{\"ticks\":\"\",\"linecolor\":\"rgba(255, 255, 255, 1.0)\",\"gridcolor\":\"rgba(255, 255, 255, 1.0)\"},\"caxis\":{\"ticks\":\"\",\"linecolor\":\"rgba(255, 255, 255, 1.0)\",\"gridcolor\":\"rgba(255, 255, 255, 1.0)\"},\"bgcolor\":\"rgba(229, 236, 246, 1.0)\"},\"xaxis\":{\"title\":{\"standoff\":15},\"ticks\":\"\",\"automargin\":true,\"linecolor\":\"rgba(255, 255, 255, 1.0)\",\"gridcolor\":\"rgba(255, 255, 255, 1.0)\",\"zerolinecolor\":\"rgba(255, 255, 255, 1.0)\",\"zerolinewidth\":2.0},\"yaxis\":{\"title\":{\"standoff\":15},\"ticks\":\"\",\"automargin\":true,\"linecolor\":\"rgba(255, 255, 255, 1.0)\",\"gridcolor\":\"rgba(255, 255, 255, 1.0)\",\"zerolinecolor\":\"rgba(255, 255, 255, 1.0)\",\"zerolinewidth\":2.0},\"annotationdefaults\":{\"arrowcolor\":\"#2a3f5f\",\"arrowhead\":0,\"arrowwidth\":1},\"shapedefaults\":{\"line\":{\"color\":\"rgba(42, 63, 95, 1.0)\"}},\"colorway\":[\"rgba(99, 110, 250, 1.0)\",\"rgba(239, 85, 59, 1.0)\",\"rgba(0, 204, 150, 1.0)\",\"rgba(171, 99, 250, 1.0)\",\"rgba(255, 161, 90, 1.0)\",\"rgba(25, 211, 243, 1.0)\",\"rgba(255, 102, 146, 1.0)\",\"rgba(182, 232, 128, 1.0)\",\"rgba(255, 151, 255, 1.0)\",\"rgba(254, 203, 82, 1.0)\"]},\"data\":{\"bar\":[{\"marker\":{\"line\":{\"color\":\"rgba(229, 236, 246, 1.0)\",\"width\":0.5},\"pattern\":{\"fillmode\":\"overlay\",\"size\":10,\"solidity\":0.2}},\"error_x\":{\"color\":\"rgba(42, 63, 95, 1.0)\"},\"error_y\":{\"color\":\"rgba(42, 63, 95, 1.0)\"}}],\"barpolar\":[{\"marker\":{\"line\":{\"color\":\"rgba(229, 236, 246, 1.0)\",\"width\":0.5},\"pattern\":{\"fillmode\":\"overlay\",\"size\":10,\"solidity\":0.2}}}],\"carpet\":[{\"aaxis\":{\"linecolor\":\"rgba(255, 255, 255, 1.0)\",\"gridcolor\":\"rgba(255, 255, 255, 1.0)\",\"endlinecolor\":\"rgba(42, 63, 95, 1.0)\",\"minorgridcolor\":\"rgba(255, 255, 255, 1.0)\",\"startlinecolor\":\"rgba(42, 63, 95, 1.0)\"},\"baxis\":{\"linecolor\":\"rgba(255, 255, 255, 1.0)\",\"gridcolor\":\"rgba(255, 255, 255, 1.0)\",\"endlinecolor\":\"rgba(42, 63, 95, 1.0)\",\"minorgridcolor\":\"rgba(255, 255, 255, 1.0)\",\"startlinecolor\":\"rgba(42, 63, 95, 1.0)\"}}],\"choropleth\":[{\"colorbar\":{\"outlinewidth\":0.0,\"ticks\":\"\"},\"colorscale\":[[0.0,\"#0d0887\"],[0.1111111111111111,\"#46039f\"],[0.2222222222222222,\"#7201a8\"],[0.3333333333333333,\"#9c179e\"],[0.4444444444444444,\"#bd3786\"],[0.5555555555555556,\"#d8576b\"],[0.6666666666666666,\"#ed7953\"],[0.7777777777777778,\"#fb9f3a\"],[0.8888888888888888,\"#fdca26\"],[1.0,\"#f0f921\"]]}],\"contour\":[{\"colorbar\":{\"outlinewidth\":0.0,\"ticks\":\"\"},\"colorscale\":[[0.0,\"#0d0887\"],[0.1111111111111111,\"#46039f\"],[0.2222222222222222,\"#7201a8\"],[0.3333333333333333,\"#9c179e\"],[0.4444444444444444,\"#bd3786\"],[0.5555555555555556,\"#d8576b\"],[0.6666666666666666,\"#ed7953\"],[0.7777777777777778,\"#fb9f3a\"],[0.8888888888888888,\"#fdca26\"],[1.0,\"#f0f921\"]]}],\"contourcarpet\":[{\"colorbar\":{\"outlinewidth\":0.0,\"ticks\":\"\"}}],\"heatmap\":[{\"colorbar\":{\"outlinewidth\":0.0,\"ticks\":\"\"},\"colorscale\":[[0.0,\"#0d0887\"],[0.1111111111111111,\"#46039f\"],[0.2222222222222222,\"#7201a8\"],[0.3333333333333333,\"#9c179e\"],[0.4444444444444444,\"#bd3786\"],[0.5555555555555556,\"#d8576b\"],[0.6666666666666666,\"#ed7953\"],[0.7777777777777778,\"#fb9f3a\"],[0.8888888888888888,\"#fdca26\"],[1.0,\"#f0f921\"]]}],\"heatmapgl\":[{\"colorbar\":{\"outlinewidth\":0.0,\"ticks\":\"\"},\"colorscale\":[[0.0,\"#0d0887\"],[0.1111111111111111,\"#46039f\"],[0.2222222222222222,\"#7201a8\"],[0.3333333333333333,\"#9c179e\"],[0.4444444444444444,\"#bd3786\"],[0.5555555555555556,\"#d8576b\"],[0.6666666666666666,\"#ed7953\"],[0.7777777777777778,\"#fb9f3a\"],[0.8888888888888888,\"#fdca26\"],[1.0,\"#f0f921\"]]}],\"histogram\":[{\"marker\":{\"pattern\":{\"fillmode\":\"overlay\",\"size\":10,\"solidity\":0.2}}}],\"histogram2d\":[{\"colorbar\":{\"outlinewidth\":0.0,\"ticks\":\"\"},\"colorscale\":[[0.0,\"#0d0887\"],[0.1111111111111111,\"#46039f\"],[0.2222222222222222,\"#7201a8\"],[0.3333333333333333,\"#9c179e\"],[0.4444444444444444,\"#bd3786\"],[0.5555555555555556,\"#d8576b\"],[0.6666666666666666,\"#ed7953\"],[0.7777777777777778,\"#fb9f3a\"],[0.8888888888888888,\"#fdca26\"],[1.0,\"#f0f921\"]]}],\"histogram2dcontour\":[{\"colorbar\":{\"outlinewidth\":0.0,\"ticks\":\"\"},\"colorscale\":[[0.0,\"#0d0887\"],[0.1111111111111111,\"#46039f\"],[0.2222222222222222,\"#7201a8\"],[0.3333333333333333,\"#9c179e\"],[0.4444444444444444,\"#bd3786\"],[0.5555555555555556,\"#d8576b\"],[0.6666666666666666,\"#ed7953\"],[0.7777777777777778,\"#fb9f3a\"],[0.8888888888888888,\"#fdca26\"],[1.0,\"#f0f921\"]]}],\"mesh3d\":[{\"colorbar\":{\"outlinewidth\":0.0,\"ticks\":\"\"}}],\"parcoords\":[{\"line\":{\"colorbar\":{\"outlinewidth\":0.0,\"ticks\":\"\"}}}],\"pie\":[{\"automargin\":true}],\"scatter\":[{\"marker\":{\"colorbar\":{\"outlinewidth\":0.0,\"ticks\":\"\"}}}],\"scatter3d\":[{\"marker\":{\"colorbar\":{\"outlinewidth\":0.0,\"ticks\":\"\"}},\"line\":{\"colorbar\":{\"outlinewidth\":0.0,\"ticks\":\"\"}}}],\"scattercarpet\":[{\"marker\":{\"colorbar\":{\"outlinewidth\":0.0,\"ticks\":\"\"}}}],\"scattergeo\":[{\"marker\":{\"colorbar\":{\"outlinewidth\":0.0,\"ticks\":\"\"}}}],\"scattergl\":[{\"marker\":{\"colorbar\":{\"outlinewidth\":0.0,\"ticks\":\"\"}}}],\"scattermapbox\":[{\"marker\":{\"colorbar\":{\"outlinewidth\":0.0,\"ticks\":\"\"}}}],\"scatterpolar\":[{\"marker\":{\"colorbar\":{\"outlinewidth\":0.0,\"ticks\":\"\"}}}],\"scatterpolargl\":[{\"marker\":{\"colorbar\":{\"outlinewidth\":0.0,\"ticks\":\"\"}}}],\"scatterternary\":[{\"marker\":{\"colorbar\":{\"outlinewidth\":0.0,\"ticks\":\"\"}}}],\"surface\":[{\"colorbar\":{\"outlinewidth\":0.0,\"ticks\":\"\"},\"colorscale\":[[0.0,\"#0d0887\"],[0.1111111111111111,\"#46039f\"],[0.2222222222222222,\"#7201a8\"],[0.3333333333333333,\"#9c179e\"],[0.4444444444444444,\"#bd3786\"],[0.5555555555555556,\"#d8576b\"],[0.6666666666666666,\"#ed7953\"],[0.7777777777777778,\"#fb9f3a\"],[0.8888888888888888,\"#fdca26\"],[1.0,\"#f0f921\"]]}],\"table\":[{\"cells\":{\"fill\":{\"color\":\"rgba(235, 240, 248, 1.0)\"},\"line\":{\"color\":\"rgba(255, 255, 255, 1.0)\"}},\"header\":{\"fill\":{\"color\":\"rgba(200, 212, 227, 1.0)\"},\"line\":{\"color\":\"rgba(255, 255, 255, 1.0)\"}}}]}},\"xaxis\":{\"title\":{\"text\":\"Set Size\",\"font\":{\"family\":\"Arial\",\"size\":20.0}},\"range\":[1603.0,0.0],\"domain\":[0.0,0.3]},\"yaxis\":{\"range\":[-0.5,2.5],\"showticklabels\":false,\"showline\":false,\"showgrid\":false,\"zeroline\":false},\"showlegend\":false,\"xaxis2\":{\"showticklabels\":false,\"showline\":false,\"showgrid\":false,\"zeroline\":false,\"domain\":[0.4,1.0]},\"yaxis2\":{\"tickmode\":\"array\",\"tickvals\":[0,1,2],\"ticktext\":[\"Action\",\"Comedy\",\"Drama\"],\"showticklabels\":true,\"showline\":false,\"showgrid\":false,\"zeroline\":false},\"grid\":{\"rows\":1,\"columns\":2,\"pattern\":\"independent\"}};\r\n",
       "            var config = {\"responsive\":true};\r\n",
       "            Plotly.newPlot('9d523228-3718-4331-8926-60c6dd48a05e', data, layout, config);\r\n",
       "});\r\n",
       "            };\r\n",
       "            if ((typeof(requirejs) !==  typeof(Function)) || (typeof(requirejs.config) !== typeof(Function))) {\r\n",
       "                var script = document.createElement(\"script\");\r\n",
       "                script.setAttribute(\"src\", \"https://cdnjs.cloudflare.com/ajax/libs/require.js/2.3.6/require.min.js\");\r\n",
       "                script.onload = function(){\r\n",
       "                    renderPlotly_9d52322837184331892660c6dd48a05e();\r\n",
       "                };\r\n",
       "                document.getElementsByTagName(\"head\")[0].appendChild(script);\r\n",
       "            }\r\n",
       "            else {\r\n",
       "                renderPlotly_9d52322837184331892660c6dd48a05e();\r\n",
       "            }\r\n",
       "</script>\r\n",
       "\r\n",
       "    \r\n",
       "</div    \r\n"
      ]
     },
     "metadata": {},
     "output_type": "display_data"
    }
   ],
   "source": [
    "let setSizeBar =\n",
    "    // Creates a bar chart with the set sizes\n",
    "    UpSetParts.createSetSizePlot\n",
    "        (setPositions |> Array.map fst)\n",
    "        [|actionSet;comedySet;dramaSet|]\n",
    "        2.5\n",
    "        (Color.fromKeyword DarkBlue)\n",
    "        (0.,0.3)\n",
    "        (Font.init(StyleParam.FontFamily.Arial, Size=20.))\n",
    "\n",
    "[\n",
    "    setSizeBar\n",
    "    intersectionMatrix\n",
    "]\n",
    "|> Chart.Grid (1,2)\n",
    "|> Chart.withSize (900.,600.)"
   ]
  },
  {
   "attachments": {},
   "cell_type": "markdown",
   "metadata": {
    "dotnet_interactive": {
     "language": "fsharp"
    },
    "polyglot_notebook": {
     "kernelName": "fsharp"
    }
   },
   "source": [
    "Lastly we come to our third basic part. It is a bar chart representing the size of each intersection, which it placed atop of the column representing each intersection."
   ]
  },
  {
   "cell_type": "code",
   "execution_count": 14,
   "metadata": {
    "dotnet_interactive": {
     "language": "fsharp"
    },
    "polyglot_notebook": {
     "kernelName": "fsharp"
    },
    "vscode": {
     "languageId": "polyglot-notebook"
    }
   },
   "outputs": [
    {
     "data": {
      "text/html": [
       "\r\n",
       "<div>\r\n",
       "    <div id=\"b343677b-ed4b-41c7-9c56-e0a74f7d4294\"><!-- Plotly chart will be drawn inside this DIV --></div>\r\n",
       "<script type=\"text/javascript\">\r\n",
       "\r\n",
       "            var renderPlotly_b343677bed4b41c79c56e0a74f7d4294 = function() {\r\n",
       "            var fsharpPlotlyRequire = requirejs.config({context:'fsharp-plotly',paths:{plotly:'https://cdn.plot.ly/plotly-2.6.3.min'}}) || require;\r\n",
       "            fsharpPlotlyRequire(['plotly'], function(Plotly) {\r\n",
       "\r\n",
       "            var data = [{\"type\":null,\"xaxis\":\"x\",\"yaxis\":\"y\"},{\"type\":\"bar\",\"y\":[348,55,10,90,919,216,1287],\"orientation\":\"v\",\"marker\":{\"color\":\"rgba(0, 0, 139, 1.0)\",\"pattern\":{}},\"showlegend\":false,\"xaxis\":\"x2\",\"yaxis\":\"y2\"},{\"type\":\"bar\",\"x\":[503,1200,1603],\"y\":[\"Action\",\"Comedy\",\"Drama\"],\"orientation\":\"h\",\"marker\":{\"color\":\"rgba(0, 0, 139, 1.0)\",\"pattern\":{}},\"showlegend\":false,\"xaxis\":\"x3\",\"yaxis\":\"y3\"},{\"type\":\"scatter\",\"mode\":\"markers\",\"x\":[0,0],\"y\":[1,2],\"marker\":{\"color\":\"rgba(173, 216, 230, 1.0)\",\"size\":25,\"symbol\":\"0\"},\"line\":{},\"xaxis\":\"x4\",\"yaxis\":\"y4\"},{\"type\":\"scatter\",\"mode\":\"lines+markers\",\"x\":[0],\"y\":[0],\"marker\":{\"size\":25,\"symbol\":\"0\"},\"line\":{\"color\":\"rgba(0, 0, 139, 1.0)\",\"width\":5.0,\"dash\":\"solid\"},\"xaxis\":\"x4\",\"yaxis\":\"y4\"},{\"type\":\"scatter\",\"mode\":\"markers\",\"x\":[1],\"y\":[2],\"marker\":{\"color\":\"rgba(173, 216, 230, 1.0)\",\"size\":25,\"symbol\":\"0\"},\"line\":{},\"xaxis\":\"x4\",\"yaxis\":\"y4\"},{\"type\":\"scatter\",\"mode\":\"lines+markers\",\"x\":[1,1],\"y\":[0,1],\"marker\":{\"size\":25,\"symbol\":\"0\"},\"line\":{\"color\":\"rgba(0, 0, 139, 1.0)\",\"width\":5.0,\"dash\":\"solid\"},\"xaxis\":\"x4\",\"yaxis\":\"y4\"},{\"type\":\"scatter\",\"mode\":\"markers\",\"x\":[],\"y\":[],\"marker\":{\"color\":\"rgba(173, 216, 230, 1.0)\",\"size\":25,\"symbol\":\"0\"},\"line\":{},\"xaxis\":\"x4\",\"yaxis\":\"y4\"},{\"type\":\"scatter\",\"mode\":\"lines+markers\",\"x\":[2,2,2],\"y\":[0,1,2],\"marker\":{\"size\":25,\"symbol\":\"0\"},\"line\":{\"color\":\"rgba(0, 0, 139, 1.0)\",\"width\":5.0,\"dash\":\"solid\"},\"xaxis\":\"x4\",\"yaxis\":\"y4\"},{\"type\":\"scatter\",\"mode\":\"markers\",\"x\":[3],\"y\":[1],\"marker\":{\"color\":\"rgba(173, 216, 230, 1.0)\",\"size\":25,\"symbol\":\"0\"},\"line\":{},\"xaxis\":\"x4\",\"yaxis\":\"y4\"},{\"type\":\"scatter\",\"mode\":\"lines+markers\",\"x\":[3,3],\"y\":[0,2],\"marker\":{\"size\":25,\"symbol\":\"0\"},\"line\":{\"color\":\"rgba(0, 0, 139, 1.0)\",\"width\":5.0,\"dash\":\"solid\"},\"xaxis\":\"x4\",\"yaxis\":\"y4\"},{\"type\":\"scatter\",\"mode\":\"markers\",\"x\":[4,4],\"y\":[0,2],\"marker\":{\"color\":\"rgba(173, 216, 230, 1.0)\",\"size\":25,\"symbol\":\"0\"},\"line\":{},\"xaxis\":\"x4\",\"yaxis\":\"y4\"},{\"type\":\"scatter\",\"mode\":\"lines+markers\",\"x\":[4],\"y\":[1],\"marker\":{\"size\":25,\"symbol\":\"0\"},\"line\":{\"color\":\"rgba(0, 0, 139, 1.0)\",\"width\":5.0,\"dash\":\"solid\"},\"xaxis\":\"x4\",\"yaxis\":\"y4\"},{\"type\":\"scatter\",\"mode\":\"markers\",\"x\":[5],\"y\":[0],\"marker\":{\"color\":\"rgba(173, 216, 230, 1.0)\",\"size\":25,\"symbol\":\"0\"},\"line\":{},\"xaxis\":\"x4\",\"yaxis\":\"y4\"},{\"type\":\"scatter\",\"mode\":\"lines+markers\",\"x\":[5,5],\"y\":[1,2],\"marker\":{\"size\":25,\"symbol\":\"0\"},\"line\":{\"color\":\"rgba(0, 0, 139, 1.0)\",\"width\":5.0,\"dash\":\"solid\"},\"xaxis\":\"x4\",\"yaxis\":\"y4\"},{\"type\":\"scatter\",\"mode\":\"markers\",\"x\":[6,6],\"y\":[0,1],\"marker\":{\"color\":\"rgba(173, 216, 230, 1.0)\",\"size\":25,\"symbol\":\"0\"},\"line\":{},\"xaxis\":\"x4\",\"yaxis\":\"y4\"},{\"type\":\"scatter\",\"mode\":\"lines+markers\",\"x\":[6],\"y\":[2],\"marker\":{\"size\":25,\"symbol\":\"0\"},\"line\":{\"color\":\"rgba(0, 0, 139, 1.0)\",\"width\":5.0,\"dash\":\"solid\"},\"xaxis\":\"x4\",\"yaxis\":\"y4\"}];\r\n",
       "            var layout = {\"xaxis\":{\"showticklabels\":false,\"showline\":false,\"showgrid\":false,\"zeroline\":false},\"yaxis\":{\"showticklabels\":false,\"showline\":false,\"showgrid\":false,\"zeroline\":false},\"width\":900,\"height\":600,\"template\":{\"layout\":{\"title\":{\"x\":0.05},\"font\":{\"color\":\"rgba(42, 63, 95, 1.0)\"},\"paper_bgcolor\":\"rgba(255, 255, 255, 1.0)\",\"plot_bgcolor\":\"rgba(229, 236, 246, 1.0)\",\"autotypenumbers\":\"strict\",\"colorscale\":{\"diverging\":[[0.0,\"#8e0152\"],[0.1,\"#c51b7d\"],[0.2,\"#de77ae\"],[0.3,\"#f1b6da\"],[0.4,\"#fde0ef\"],[0.5,\"#f7f7f7\"],[0.6,\"#e6f5d0\"],[0.7,\"#b8e186\"],[0.8,\"#7fbc41\"],[0.9,\"#4d9221\"],[1.0,\"#276419\"]],\"sequential\":[[0.0,\"#0d0887\"],[0.1111111111111111,\"#46039f\"],[0.2222222222222222,\"#7201a8\"],[0.3333333333333333,\"#9c179e\"],[0.4444444444444444,\"#bd3786\"],[0.5555555555555556,\"#d8576b\"],[0.6666666666666666,\"#ed7953\"],[0.7777777777777778,\"#fb9f3a\"],[0.8888888888888888,\"#fdca26\"],[1.0,\"#f0f921\"]],\"sequentialminus\":[[0.0,\"#0d0887\"],[0.1111111111111111,\"#46039f\"],[0.2222222222222222,\"#7201a8\"],[0.3333333333333333,\"#9c179e\"],[0.4444444444444444,\"#bd3786\"],[0.5555555555555556,\"#d8576b\"],[0.6666666666666666,\"#ed7953\"],[0.7777777777777778,\"#fb9f3a\"],[0.8888888888888888,\"#fdca26\"],[1.0,\"#f0f921\"]]},\"hovermode\":\"closest\",\"hoverlabel\":{\"align\":\"left\"},\"coloraxis\":{\"colorbar\":{\"outlinewidth\":0.0,\"ticks\":\"\"}},\"geo\":{\"showland\":true,\"landcolor\":\"rgba(229, 236, 246, 1.0)\",\"showlakes\":true,\"lakecolor\":\"rgba(255, 255, 255, 1.0)\",\"subunitcolor\":\"rgba(255, 255, 255, 1.0)\",\"bgcolor\":\"rgba(255, 255, 255, 1.0)\"},\"mapbox\":{\"style\":\"light\"},\"polar\":{\"bgcolor\":\"rgba(229, 236, 246, 1.0)\",\"radialaxis\":{\"linecolor\":\"rgba(255, 255, 255, 1.0)\",\"gridcolor\":\"rgba(255, 255, 255, 1.0)\",\"ticks\":\"\"},\"angularaxis\":{\"linecolor\":\"rgba(255, 255, 255, 1.0)\",\"gridcolor\":\"rgba(255, 255, 255, 1.0)\",\"ticks\":\"\"}},\"scene\":{\"xaxis\":{\"ticks\":\"\",\"linecolor\":\"rgba(255, 255, 255, 1.0)\",\"gridcolor\":\"rgba(255, 255, 255, 1.0)\",\"gridwidth\":2.0,\"zerolinecolor\":\"rgba(255, 255, 255, 1.0)\",\"backgroundcolor\":\"rgba(229, 236, 246, 1.0)\",\"showbackground\":true},\"yaxis\":{\"ticks\":\"\",\"linecolor\":\"rgba(255, 255, 255, 1.0)\",\"gridcolor\":\"rgba(255, 255, 255, 1.0)\",\"gridwidth\":2.0,\"zerolinecolor\":\"rgba(255, 255, 255, 1.0)\",\"backgroundcolor\":\"rgba(229, 236, 246, 1.0)\",\"showbackground\":true},\"zaxis\":{\"ticks\":\"\",\"linecolor\":\"rgba(255, 255, 255, 1.0)\",\"gridcolor\":\"rgba(255, 255, 255, 1.0)\",\"gridwidth\":2.0,\"zerolinecolor\":\"rgba(255, 255, 255, 1.0)\",\"backgroundcolor\":\"rgba(229, 236, 246, 1.0)\",\"showbackground\":true}},\"ternary\":{\"aaxis\":{\"ticks\":\"\",\"linecolor\":\"rgba(255, 255, 255, 1.0)\",\"gridcolor\":\"rgba(255, 255, 255, 1.0)\"},\"baxis\":{\"ticks\":\"\",\"linecolor\":\"rgba(255, 255, 255, 1.0)\",\"gridcolor\":\"rgba(255, 255, 255, 1.0)\"},\"caxis\":{\"ticks\":\"\",\"linecolor\":\"rgba(255, 255, 255, 1.0)\",\"gridcolor\":\"rgba(255, 255, 255, 1.0)\"},\"bgcolor\":\"rgba(229, 236, 246, 1.0)\"},\"xaxis\":{\"title\":{\"standoff\":15},\"ticks\":\"\",\"automargin\":true,\"linecolor\":\"rgba(255, 255, 255, 1.0)\",\"gridcolor\":\"rgba(255, 255, 255, 1.0)\",\"zerolinecolor\":\"rgba(255, 255, 255, 1.0)\",\"zerolinewidth\":2.0},\"yaxis\":{\"title\":{\"standoff\":15},\"ticks\":\"\",\"automargin\":true,\"linecolor\":\"rgba(255, 255, 255, 1.0)\",\"gridcolor\":\"rgba(255, 255, 255, 1.0)\",\"zerolinecolor\":\"rgba(255, 255, 255, 1.0)\",\"zerolinewidth\":2.0},\"annotationdefaults\":{\"arrowcolor\":\"#2a3f5f\",\"arrowhead\":0,\"arrowwidth\":1},\"shapedefaults\":{\"line\":{\"color\":\"rgba(42, 63, 95, 1.0)\"}},\"colorway\":[\"rgba(99, 110, 250, 1.0)\",\"rgba(239, 85, 59, 1.0)\",\"rgba(0, 204, 150, 1.0)\",\"rgba(171, 99, 250, 1.0)\",\"rgba(255, 161, 90, 1.0)\",\"rgba(25, 211, 243, 1.0)\",\"rgba(255, 102, 146, 1.0)\",\"rgba(182, 232, 128, 1.0)\",\"rgba(255, 151, 255, 1.0)\",\"rgba(254, 203, 82, 1.0)\"]},\"data\":{\"bar\":[{\"marker\":{\"line\":{\"color\":\"rgba(229, 236, 246, 1.0)\",\"width\":0.5},\"pattern\":{\"fillmode\":\"overlay\",\"size\":10,\"solidity\":0.2}},\"error_x\":{\"color\":\"rgba(42, 63, 95, 1.0)\"},\"error_y\":{\"color\":\"rgba(42, 63, 95, 1.0)\"}}],\"barpolar\":[{\"marker\":{\"line\":{\"color\":\"rgba(229, 236, 246, 1.0)\",\"width\":0.5},\"pattern\":{\"fillmode\":\"overlay\",\"size\":10,\"solidity\":0.2}}}],\"carpet\":[{\"aaxis\":{\"linecolor\":\"rgba(255, 255, 255, 1.0)\",\"gridcolor\":\"rgba(255, 255, 255, 1.0)\",\"endlinecolor\":\"rgba(42, 63, 95, 1.0)\",\"minorgridcolor\":\"rgba(255, 255, 255, 1.0)\",\"startlinecolor\":\"rgba(42, 63, 95, 1.0)\"},\"baxis\":{\"linecolor\":\"rgba(255, 255, 255, 1.0)\",\"gridcolor\":\"rgba(255, 255, 255, 1.0)\",\"endlinecolor\":\"rgba(42, 63, 95, 1.0)\",\"minorgridcolor\":\"rgba(255, 255, 255, 1.0)\",\"startlinecolor\":\"rgba(42, 63, 95, 1.0)\"}}],\"choropleth\":[{\"colorbar\":{\"outlinewidth\":0.0,\"ticks\":\"\"},\"colorscale\":[[0.0,\"#0d0887\"],[0.1111111111111111,\"#46039f\"],[0.2222222222222222,\"#7201a8\"],[0.3333333333333333,\"#9c179e\"],[0.4444444444444444,\"#bd3786\"],[0.5555555555555556,\"#d8576b\"],[0.6666666666666666,\"#ed7953\"],[0.7777777777777778,\"#fb9f3a\"],[0.8888888888888888,\"#fdca26\"],[1.0,\"#f0f921\"]]}],\"contour\":[{\"colorbar\":{\"outlinewidth\":0.0,\"ticks\":\"\"},\"colorscale\":[[0.0,\"#0d0887\"],[0.1111111111111111,\"#46039f\"],[0.2222222222222222,\"#7201a8\"],[0.3333333333333333,\"#9c179e\"],[0.4444444444444444,\"#bd3786\"],[0.5555555555555556,\"#d8576b\"],[0.6666666666666666,\"#ed7953\"],[0.7777777777777778,\"#fb9f3a\"],[0.8888888888888888,\"#fdca26\"],[1.0,\"#f0f921\"]]}],\"contourcarpet\":[{\"colorbar\":{\"outlinewidth\":0.0,\"ticks\":\"\"}}],\"heatmap\":[{\"colorbar\":{\"outlinewidth\":0.0,\"ticks\":\"\"},\"colorscale\":[[0.0,\"#0d0887\"],[0.1111111111111111,\"#46039f\"],[0.2222222222222222,\"#7201a8\"],[0.3333333333333333,\"#9c179e\"],[0.4444444444444444,\"#bd3786\"],[0.5555555555555556,\"#d8576b\"],[0.6666666666666666,\"#ed7953\"],[0.7777777777777778,\"#fb9f3a\"],[0.8888888888888888,\"#fdca26\"],[1.0,\"#f0f921\"]]}],\"heatmapgl\":[{\"colorbar\":{\"outlinewidth\":0.0,\"ticks\":\"\"},\"colorscale\":[[0.0,\"#0d0887\"],[0.1111111111111111,\"#46039f\"],[0.2222222222222222,\"#7201a8\"],[0.3333333333333333,\"#9c179e\"],[0.4444444444444444,\"#bd3786\"],[0.5555555555555556,\"#d8576b\"],[0.6666666666666666,\"#ed7953\"],[0.7777777777777778,\"#fb9f3a\"],[0.8888888888888888,\"#fdca26\"],[1.0,\"#f0f921\"]]}],\"histogram\":[{\"marker\":{\"pattern\":{\"fillmode\":\"overlay\",\"size\":10,\"solidity\":0.2}}}],\"histogram2d\":[{\"colorbar\":{\"outlinewidth\":0.0,\"ticks\":\"\"},\"colorscale\":[[0.0,\"#0d0887\"],[0.1111111111111111,\"#46039f\"],[0.2222222222222222,\"#7201a8\"],[0.3333333333333333,\"#9c179e\"],[0.4444444444444444,\"#bd3786\"],[0.5555555555555556,\"#d8576b\"],[0.6666666666666666,\"#ed7953\"],[0.7777777777777778,\"#fb9f3a\"],[0.8888888888888888,\"#fdca26\"],[1.0,\"#f0f921\"]]}],\"histogram2dcontour\":[{\"colorbar\":{\"outlinewidth\":0.0,\"ticks\":\"\"},\"colorscale\":[[0.0,\"#0d0887\"],[0.1111111111111111,\"#46039f\"],[0.2222222222222222,\"#7201a8\"],[0.3333333333333333,\"#9c179e\"],[0.4444444444444444,\"#bd3786\"],[0.5555555555555556,\"#d8576b\"],[0.6666666666666666,\"#ed7953\"],[0.7777777777777778,\"#fb9f3a\"],[0.8888888888888888,\"#fdca26\"],[1.0,\"#f0f921\"]]}],\"mesh3d\":[{\"colorbar\":{\"outlinewidth\":0.0,\"ticks\":\"\"}}],\"parcoords\":[{\"line\":{\"colorbar\":{\"outlinewidth\":0.0,\"ticks\":\"\"}}}],\"pie\":[{\"automargin\":true}],\"scatter\":[{\"marker\":{\"colorbar\":{\"outlinewidth\":0.0,\"ticks\":\"\"}}}],\"scatter3d\":[{\"marker\":{\"colorbar\":{\"outlinewidth\":0.0,\"ticks\":\"\"}},\"line\":{\"colorbar\":{\"outlinewidth\":0.0,\"ticks\":\"\"}}}],\"scattercarpet\":[{\"marker\":{\"colorbar\":{\"outlinewidth\":0.0,\"ticks\":\"\"}}}],\"scattergeo\":[{\"marker\":{\"colorbar\":{\"outlinewidth\":0.0,\"ticks\":\"\"}}}],\"scattergl\":[{\"marker\":{\"colorbar\":{\"outlinewidth\":0.0,\"ticks\":\"\"}}}],\"scattermapbox\":[{\"marker\":{\"colorbar\":{\"outlinewidth\":0.0,\"ticks\":\"\"}}}],\"scatterpolar\":[{\"marker\":{\"colorbar\":{\"outlinewidth\":0.0,\"ticks\":\"\"}}}],\"scatterpolargl\":[{\"marker\":{\"colorbar\":{\"outlinewidth\":0.0,\"ticks\":\"\"}}}],\"scatterternary\":[{\"marker\":{\"colorbar\":{\"outlinewidth\":0.0,\"ticks\":\"\"}}}],\"surface\":[{\"colorbar\":{\"outlinewidth\":0.0,\"ticks\":\"\"},\"colorscale\":[[0.0,\"#0d0887\"],[0.1111111111111111,\"#46039f\"],[0.2222222222222222,\"#7201a8\"],[0.3333333333333333,\"#9c179e\"],[0.4444444444444444,\"#bd3786\"],[0.5555555555555556,\"#d8576b\"],[0.6666666666666666,\"#ed7953\"],[0.7777777777777778,\"#fb9f3a\"],[0.8888888888888888,\"#fdca26\"],[1.0,\"#f0f921\"]]}],\"table\":[{\"cells\":{\"fill\":{\"color\":\"rgba(235, 240, 248, 1.0)\"},\"line\":{\"color\":\"rgba(255, 255, 255, 1.0)\"}},\"header\":{\"fill\":{\"color\":\"rgba(200, 212, 227, 1.0)\"},\"line\":{\"color\":\"rgba(255, 255, 255, 1.0)\"}}}]}},\"xaxis2\":{\"range\":[-0.5,6.5],\"showticklabels\":false,\"showline\":false,\"showgrid\":false,\"zeroline\":false,\"domain\":[0.4,1.0]},\"yaxis2\":{\"title\":{\"text\":\"Intersection Size\",\"font\":{\"family\":\"Arial\",\"size\":20.0}},\"tickmode\":\"array\",\"tickvals\":[0,1,2],\"ticktext\":[\"Action\",\"Comedy\",\"Drama\"],\"showticklabels\":true,\"showline\":false,\"showgrid\":false,\"zeroline\":false},\"showlegend\":false,\"grid\":{\"rows\":2,\"columns\":2,\"pattern\":\"independent\"},\"xaxis3\":{\"title\":{\"text\":\"Set Size\",\"font\":{\"family\":\"Arial\",\"size\":20.0}},\"range\":[1603.0,0.0],\"domain\":[0.0,0.3]},\"yaxis3\":{\"range\":[-0.5,2.5],\"showticklabels\":false,\"showline\":false,\"showgrid\":false,\"zeroline\":false},\"xaxis4\":{},\"yaxis4\":{}};\r\n",
       "            var config = {\"responsive\":true};\r\n",
       "            Plotly.newPlot('b343677b-ed4b-41c7-9c56-e0a74f7d4294', data, layout, config);\r\n",
       "});\r\n",
       "            };\r\n",
       "            if ((typeof(requirejs) !==  typeof(Function)) || (typeof(requirejs.config) !== typeof(Function))) {\r\n",
       "                var script = document.createElement(\"script\");\r\n",
       "                script.setAttribute(\"src\", \"https://cdnjs.cloudflare.com/ajax/libs/require.js/2.3.6/require.min.js\");\r\n",
       "                script.onload = function(){\r\n",
       "                    renderPlotly_b343677bed4b41c79c56e0a74f7d4294();\r\n",
       "                };\r\n",
       "                document.getElementsByTagName(\"head\")[0].appendChild(script);\r\n",
       "            }\r\n",
       "            else {\r\n",
       "                renderPlotly_b343677bed4b41c79c56e0a74f7d4294();\r\n",
       "            }\r\n",
       "</script>\r\n",
       "\r\n",
       "    \r\n",
       "</div    \r\n"
      ]
     },
     "metadata": {},
     "output_type": "display_data"
    }
   ],
   "source": [
    "let intersectionCounts =\n",
    "    intersections\n",
    "    |> Map.toArray\n",
    "    |> Array.map (fun (_,labelSet) -> \n",
    "        labelSet.Label, labelSet.Set.Count\n",
    "    )\n",
    "    |> Array.filter (fun (id,_) -> not id.IsEmpty)\n",
    "\n",
    "let intersectionSizeBar =\n",
    "    // Creates a bar chart with the intersection sizes\n",
    "    UpSetParts.createIntersectionSizePlots\n",
    "        intersectionCounts\n",
    "        (float intersectionCounts.Length - 0.5)\n",
    "        (Color.fromKeyword DarkBlue)\n",
    "        (0.4, 1.)\n",
    "        (Font.init(StyleParam.FontFamily.Arial, Size=20.))\n",
    "\n",
    "[|\n",
    "    Chart.Invisible()\n",
    "    intersectionSizeBar\n",
    "    setSizeBar\n",
    "    intersectionMatrix\n",
    "|]\n",
    "|> Chart.Grid(2,2)\n",
    "|> Chart.withSize (900.,600.)"
   ]
  },
  {
   "attachments": {},
   "cell_type": "markdown",
   "metadata": {
    "dotnet_interactive": {
     "language": "fsharp"
    },
    "polyglot_notebook": {
     "kernelName": "fsharp"
    }
   },
   "source": [
    "### Usage UpSet\n",
    "\n",
    "We now have a basic UpSet plot. There is also a chart extension for UpSet plot in `BioFSharp.Vis`."
   ]
  },
  {
   "cell_type": "code",
   "execution_count": 15,
   "metadata": {
    "dotnet_interactive": {
     "language": "fsharp"
    },
    "polyglot_notebook": {
     "kernelName": "fsharp"
    },
    "vscode": {
     "languageId": "polyglot-notebook"
    }
   },
   "outputs": [
    {
     "data": {
      "text/html": [
       "\r\n",
       "<div>\r\n",
       "    <div id=\"40b0eda2-ef05-483c-8abb-6de131982401\"><!-- Plotly chart will be drawn inside this DIV --></div>\r\n",
       "<script type=\"text/javascript\">\r\n",
       "\r\n",
       "            var renderPlotly_40b0eda2ef05483c8abb6de131982401 = function() {\r\n",
       "            var fsharpPlotlyRequire = requirejs.config({context:'fsharp-plotly',paths:{plotly:'https://cdn.plot.ly/plotly-2.6.3.min'}}) || require;\r\n",
       "            fsharpPlotlyRequire(['plotly'], function(Plotly) {\r\n",
       "\r\n",
       "            var data = [{\"type\":null,\"xaxis\":\"x\",\"yaxis\":\"y\"},{\"type\":\"bar\",\"y\":[1287,919,348,216,90,55,10],\"orientation\":\"v\",\"marker\":{\"color\":\"rgba(0, 0, 139, 1.0)\",\"pattern\":{}},\"showlegend\":false,\"xaxis\":\"x2\",\"yaxis\":\"y2\"},{\"type\":\"bar\",\"x\":[503,1200,1603],\"y\":[\"Action\",\"Comedy\",\"Drama\"],\"orientation\":\"h\",\"marker\":{\"color\":\"rgba(0, 0, 139, 1.0)\",\"pattern\":{}},\"showlegend\":false,\"xaxis\":\"x3\",\"yaxis\":\"y3\"},{\"type\":\"scatter\",\"mode\":\"markers\",\"x\":[0,0],\"y\":[0,1],\"marker\":{\"color\":\"rgba(173, 216, 230, 1.0)\",\"size\":25,\"symbol\":\"0\"},\"line\":{},\"showlegend\":false,\"xaxis\":\"x4\",\"yaxis\":\"y4\"},{\"type\":\"scatter\",\"mode\":\"lines+markers\",\"x\":[0],\"y\":[2],\"marker\":{\"size\":25,\"symbol\":\"0\"},\"line\":{\"color\":\"rgba(0, 0, 139, 1.0)\",\"width\":5.0,\"dash\":\"solid\"},\"showlegend\":false,\"xaxis\":\"x4\",\"yaxis\":\"y4\"},{\"type\":\"scatter\",\"mode\":\"markers\",\"x\":[1,1],\"y\":[0,2],\"marker\":{\"color\":\"rgba(173, 216, 230, 1.0)\",\"size\":25,\"symbol\":\"0\"},\"line\":{},\"showlegend\":false,\"xaxis\":\"x4\",\"yaxis\":\"y4\"},{\"type\":\"scatter\",\"mode\":\"lines+markers\",\"x\":[1],\"y\":[1],\"marker\":{\"size\":25,\"symbol\":\"0\"},\"line\":{\"color\":\"rgba(0, 0, 139, 1.0)\",\"width\":5.0,\"dash\":\"solid\"},\"showlegend\":false,\"xaxis\":\"x4\",\"yaxis\":\"y4\"},{\"type\":\"scatter\",\"mode\":\"markers\",\"x\":[2,2],\"y\":[1,2],\"marker\":{\"color\":\"rgba(173, 216, 230, 1.0)\",\"size\":25,\"symbol\":\"0\"},\"line\":{},\"showlegend\":false,\"xaxis\":\"x4\",\"yaxis\":\"y4\"},{\"type\":\"scatter\",\"mode\":\"lines+markers\",\"x\":[2],\"y\":[0],\"marker\":{\"size\":25,\"symbol\":\"0\"},\"line\":{\"color\":\"rgba(0, 0, 139, 1.0)\",\"width\":5.0,\"dash\":\"solid\"},\"showlegend\":false,\"xaxis\":\"x4\",\"yaxis\":\"y4\"},{\"type\":\"scatter\",\"mode\":\"markers\",\"x\":[3],\"y\":[0],\"marker\":{\"color\":\"rgba(173, 216, 230, 1.0)\",\"size\":25,\"symbol\":\"0\"},\"line\":{},\"showlegend\":false,\"xaxis\":\"x4\",\"yaxis\":\"y4\"},{\"type\":\"scatter\",\"mode\":\"lines+markers\",\"x\":[3,3],\"y\":[1,2],\"marker\":{\"size\":25,\"symbol\":\"0\"},\"line\":{\"color\":\"rgba(0, 0, 139, 1.0)\",\"width\":5.0,\"dash\":\"solid\"},\"showlegend\":false,\"xaxis\":\"x4\",\"yaxis\":\"y4\"},{\"type\":\"scatter\",\"mode\":\"markers\",\"x\":[4],\"y\":[1],\"marker\":{\"color\":\"rgba(173, 216, 230, 1.0)\",\"size\":25,\"symbol\":\"0\"},\"line\":{},\"showlegend\":false,\"xaxis\":\"x4\",\"yaxis\":\"y4\"},{\"type\":\"scatter\",\"mode\":\"lines+markers\",\"x\":[4,4],\"y\":[0,2],\"marker\":{\"size\":25,\"symbol\":\"0\"},\"line\":{\"color\":\"rgba(0, 0, 139, 1.0)\",\"width\":5.0,\"dash\":\"solid\"},\"showlegend\":false,\"xaxis\":\"x4\",\"yaxis\":\"y4\"},{\"type\":\"scatter\",\"mode\":\"markers\",\"x\":[5],\"y\":[2],\"marker\":{\"color\":\"rgba(173, 216, 230, 1.0)\",\"size\":25,\"symbol\":\"0\"},\"line\":{},\"showlegend\":false,\"xaxis\":\"x4\",\"yaxis\":\"y4\"},{\"type\":\"scatter\",\"mode\":\"lines+markers\",\"x\":[5,5],\"y\":[0,1],\"marker\":{\"size\":25,\"symbol\":\"0\"},\"line\":{\"color\":\"rgba(0, 0, 139, 1.0)\",\"width\":5.0,\"dash\":\"solid\"},\"showlegend\":false,\"xaxis\":\"x4\",\"yaxis\":\"y4\"},{\"type\":\"scatter\",\"mode\":\"markers\",\"x\":[],\"y\":[],\"marker\":{\"color\":\"rgba(173, 216, 230, 1.0)\",\"size\":25,\"symbol\":\"0\"},\"line\":{},\"showlegend\":false,\"xaxis\":\"x4\",\"yaxis\":\"y4\"},{\"type\":\"scatter\",\"mode\":\"lines+markers\",\"x\":[6,6,6],\"y\":[0,1,2],\"marker\":{\"size\":25,\"symbol\":\"0\"},\"line\":{\"color\":\"rgba(0, 0, 139, 1.0)\",\"width\":5.0,\"dash\":\"solid\"},\"showlegend\":false,\"xaxis\":\"x4\",\"yaxis\":\"y4\"}];\r\n",
       "            var layout = {\"xaxis\":{\"showticklabels\":false,\"showline\":false,\"showgrid\":false,\"zeroline\":false},\"yaxis\":{\"showticklabels\":false,\"showline\":false,\"showgrid\":false,\"zeroline\":false},\"width\":1400,\"height\":800,\"template\":{\"layout\":{\"paper_bgcolor\":\"white\",\"plot_bgcolor\":\"white\",\"xaxis\":{\"showline\":true,\"zeroline\":true},\"yaxis\":{\"showline\":true,\"zeroline\":true}},\"data\":{}},\"xaxis2\":{\"range\":[-0.5,6.5],\"showticklabels\":false,\"showline\":false,\"showgrid\":false,\"zeroline\":false,\"domain\":[0.3,1.0]},\"yaxis2\":{\"title\":{\"text\":\"Intersection Size\",\"font\":{\"family\":\"Arial\",\"size\":20.0}}},\"xaxis3\":{\"title\":{\"text\":\"Set Size\",\"font\":{\"family\":\"Arial\",\"size\":20.0}},\"range\":[1603.0,0.0],\"domain\":[0.0,0.2]},\"yaxis3\":{\"range\":[-0.5,2.5],\"showticklabels\":false,\"showline\":false,\"showgrid\":false,\"zeroline\":false},\"xaxis4\":{\"range\":[-0.5,6.5],\"showticklabels\":false,\"showline\":false,\"showgrid\":false,\"zeroline\":false,\"domain\":[0.3,1.0]},\"yaxis4\":{\"range\":[-0.5,2.5],\"tickmode\":\"array\",\"tickvals\":[0,1,2],\"ticktext\":[\"Action\",\"Comedy\",\"Drama\"],\"showticklabels\":true,\"tickfont\":{\"family\":\"Arial\",\"size\":20.0},\"showline\":false,\"showgrid\":false,\"zeroline\":false},\"grid\":{\"rows\":2,\"columns\":2,\"pattern\":\"independent\"}};\r\n",
       "            var config = {\"responsive\":true};\r\n",
       "            Plotly.newPlot('40b0eda2-ef05-483c-8abb-6de131982401', data, layout, config);\r\n",
       "});\r\n",
       "            };\r\n",
       "            if ((typeof(requirejs) !==  typeof(Function)) || (typeof(requirejs.config) !== typeof(Function))) {\r\n",
       "                var script = document.createElement(\"script\");\r\n",
       "                script.setAttribute(\"src\", \"https://cdnjs.cloudflare.com/ajax/libs/require.js/2.3.6/require.min.js\");\r\n",
       "                script.onload = function(){\r\n",
       "                    renderPlotly_40b0eda2ef05483c8abb6de131982401();\r\n",
       "                };\r\n",
       "                document.getElementsByTagName(\"head\")[0].appendChild(script);\r\n",
       "            }\r\n",
       "            else {\r\n",
       "                renderPlotly_40b0eda2ef05483c8abb6de131982401();\r\n",
       "            }\r\n",
       "</script>\r\n",
       "\r\n",
       "    \r\n",
       "</div    \r\n"
      ]
     },
     "metadata": {},
     "output_type": "display_data"
    }
   ],
   "source": [
    "Chart.UpSet(\n",
    "    [|\"Action\";\"Comedy\";\"Drama\"|],\n",
    "    [|actionSet;comedySet;dramaSet|]\n",
    ")\n",
    "|> Chart.withSize (1400, 800)\n",
    "|> Chart.withTemplate ChartTemplates.light"
   ]
  },
  {
   "attachments": {},
   "cell_type": "markdown",
   "metadata": {
    "dotnet_interactive": {
     "language": "fsharp"
    },
    "polyglot_notebook": {
     "kernelName": "fsharp"
    }
   },
   "source": [
    "The UpSet plot can be augmented by different charts representing features of the intersections. We just need a map connecting set elements to the feature and a charting function with a title:"
   ]
  },
  {
   "cell_type": "code",
   "execution_count": 16,
   "metadata": {
    "dotnet_interactive": {
     "language": "fsharp"
    },
    "polyglot_notebook": {
     "kernelName": "fsharp"
    },
    "vscode": {
     "languageId": "polyglot-notebook"
    }
   },
   "outputs": [
    {
     "data": {
      "text/html": [
       "\r\n",
       "<div>\r\n",
       "    <div id=\"d1ba2640-12de-4faa-9710-060264bd6725\"><!-- Plotly chart will be drawn inside this DIV --></div>\r\n",
       "<script type=\"text/javascript\">\r\n",
       "\r\n",
       "            var renderPlotly_d1ba264012de4faa9710060264bd6725 = function() {\r\n",
       "            var fsharpPlotlyRequire = requirejs.config({context:'fsharp-plotly',paths:{plotly:'https://cdn.plot.ly/plotly-2.6.3.min'}}) || require;\r\n",
       "            fsharpPlotlyRequire(['plotly'], function(Plotly) {\r\n",
       "\r\n",
       "            var data = [{\"type\":null,\"xaxis\":\"x\",\"yaxis\":\"y\"},{\"type\":\"box\",\"y\":[3.37,2.69,3.71,4.3,2.75,4.07,1.78,4.32,2.76,4.11,3.32,3.02,3.29,3.67,3.61,4.09,3.11,3.56,3.38,3.65,3.0,2.35,3.15,2.63,3.75,2.93,3.22,3.4,4.26,3.67,3.33,4.03,3.33,4.0,4.25,3.79,3.17,3.33,3.17,4.23,3.72,3.78,3.0,4.23,3.39,3.93,3.25,3.45,4.0,3.41,3.4,4.0,3.16,3.41,3.36,4.0,3.88,3.13,2.95,4.17,4.24,4.07,3.73,4.67,3.11,3.69,3.5801,3.75,2.8,3.83,1.5,3.5801,3.73,2.13,3.78,2.78,3.5801,2.63,3.53,3.2,3.75,4.08,3.63,3.95,3.33,3.79,3.78,3.55,3.54,3.5,3.65,2.0,3.97,2.7,3.63,3.73,4.07,3.0,2.98,2.75,3.81,2.98,4.25,2.52,3.46,3.73,4.5,3.25,3.13,4.0,3.57,3.51,3.45,3.04,4.12,3.43,3.5801,3.41,3.76,4.36,3.79,3.5801,4.1,3.0,3.86,3.17,3.27,3.5801,2.85,2.9,3.4,2.96,4.22,3.0,3.5,1.0,3.78,3.81,3.94,2.6,3.57,2.33,3.61,3.76,2.19,2.58,3.46,3.67,4.1,3.77,3.5801,2.5,3.82,3.71,3.0,3.25,1.6,4.01,3.64,3.4,4.05,2.18,4.04,4.1,3.91,4.08,3.82,3.5801,4.39,3.23,4.08,3.07,3.5801,2.89,3.33,3.33,3.0,2.82,3.93,3.59,2.5,2.0,2.67,3.56,2.83,3.5801,3.69,4.06,3.5,3.86,4.0,3.55,2.42,2.58,4.5,3.7,3.5,3.47,3.69,4.17,3.63,2.86,3.31,4.41,3.79,4.05,3.36,3.0,4.31,3.1,3.3,4.28,2.0,3.46,3.09,2.95,3.77,3.8,3.5801,3.78,3.5801,4.16,4.19,3.83,3.0,2.0,3.99,3.87,4.0,3.52,3.95,3.55,4.39,3.06,3.5,3.36,2.55,3.14,3.61,3.39,3.28,4.01,3.5801,3.18,2.0,3.25,3.7,3.86,3.46,2.65,3.94,3.24,3.0,3.72,2.76,3.4,1.89,2.75,4.23,3.77,3.73,3.78,3.0,4.25,3.35,3.41,2.0,3.36,3.35,3.5801,3.0,3.39,3.0,3.55,2.76,3.36,3.09,2.76,2.33,3.72,3.26,4.03,3.5801,3.19,3.22,3.52,3.93,3.73,3.18,3.4,3.29,3.67,4.0,3.08,3.82,3.92,3.27,3.65,4.5,2.75,3.97,3.11,2.6,4.14,3.5801,3.96,3.96,4.01,3.29,3.5,3.25,2.94,4.11,3.33,3.83,2.2,4.33,3.37,3.12,3.5801,3.29,2.71,2.68,1.0,1.6,4.0,3.17,4.07,3.25,3.45,3.8,3.41,3.84,3.94,3.63,3.5801,3.41,3.6,3.1,4.0,3.88,3.92,3.21,4.5,3.5801,2.79,3.97,3.5801,3.98,3.77,3.77,3.5801,2.0,3.74,3.59,3.82,4.25,4.01,4.03,3.64,3.5801,3.99,2.87,4.0,3.52,3.43,3.2,3.61,3.5801,3.5801,3.47,3.86,3.86,3.57,1.0,3.71,3.5801,4.0,3.26,3.61,3.56,2.94,3.2,3.0,3.2,3.37,4.2,3.67,3.31,3.51,4.0,3.88,3.45,3.37,3.71,4.08,4.25,3.5,3.6,3.6,3.63,2.55,3.24,3.93,3.91,4.08,3.27,2.6,3.44,4.18,3.55,3.5,3.96,3.95,3.41,3.1,3.16,3.15,3.74,3.5801,3.65,3.31,3.79,3.07,3.0,3.5801,3.0,3.98,3.13,3.82,3.06,2.59,2.02,1.74,3.76,4.0,3.81,3.5801,4.1,3.0,2.87,3.5801,3.14,3.43,4.14,3.5801,4.03,3.71,3.14,3.89,3.07,3.24,3.28,1.0,4.09,3.31,3.84,3.98,3.51,3.75,2.95,3.5801,3.76,3.48,3.51,3.29,3.0,2.85,3.88,2.27,3.08,3.28,3.2,3.81,3.5,4.0,3.72,2.97,4.18,4.28,3.5801,3.5801,2.77,2.77,3.2,3.13,4.25,3.49,3.79,4.34,3.29,2.5,4.13,3.21,3.56,3.2,3.95,3.28,4.15,3.79,3.37,2.74,3.36,3.5801,3.5801,3.81,3.57,3.73,3.96,3.46,3.91,3.5,2.0,3.5801,4.14,3.5801,3.75,3.38,3.29,4.36,3.87,3.27,3.5801,3.7,4.29,2.48,3.04,3.04,3.5,3.17,3.83,3.5,3.23,3.5801,3.4,2.72,3.5801,3.92,3.23,3.62,2.85,4.5,2.96,4.03,2.79,3.11,3.73,4.02,2.79,3.08,2.86,3.85,4.24,4.8,3.8,4.0,2.49,2.85,3.57,3.4,3.0,3.8,3.5,3.39,3.89,3.5801,4.0,3.76,3.5,3.78,4.13,3.9,3.38,2.74,3.78,3.11,4.28,4.5,4.06,3.14,3.67,3.29,3.52,3.14,3.5801,3.42,3.0,3.3,4.3,3.76,3.5,3.69,2.67,3.5801,2.8,2.88,3.63,4.0,3.28,4.32,3.08,2.0,3.76,1.97,3.75,3.16,3.71,3.15,3.67,3.83,3.0,3.54,3.11,3.98,3.33,3.2,2.0,2.61,4.28,3.38,3.42,3.93,4.08,3.57,3.48,3.57,3.13,4.25,3.5,3.78,3.1,3.33,4.22,3.74,2.84,3.34,3.81,3.8,3.73,3.86,4.75,3.64,3.0,3.31,3.98,3.97,3.9,3.6,3.53,3.44,3.17,3.0,2.71,3.5801,3.42,4.0,3.65,2.95,3.43,1.88,3.5801,3.65,3.38,3.94,3.13,2.68,3.93,3.5801,4.06,3.67,2.43,3.17,3.48,2.5,3.37,3.87,3.68,3.65,3.86,2.67,3.5801,3.87,3.34,4.08,4.0,3.74,3.82,3.67,3.64,3.14,2.69,3.79,3.5801,3.91,1.0,3.04,3.57,2.0,3.45,3.49,2.0,3.85,3.07,1.0,1.0,3.63,2.68,3.38,3.5801,2.21,3.22,3.73,3.5801,3.89,3.9,2.67,4.5,3.74,3.32,3.91,4.23,2.75,3.5801,3.4,3.76,3.65,4.26,3.88,3.5801,3.45,3.09,1.5,3.98,3.2,2.34,2.9,3.0,3.3,3.5801,4.14,3.85,3.7,1.0,3.91,3.64,3.5801,3.15,3.74,3.02,3.52,4.0,4.11,4.01,3.11,2.83,3.8,4.09,4.01,2.95,3.18,3.96,3.18,3.83,3.82,3.76,2.73,3.9,3.29,3.47,3.2,3.5801,3.14,3.22,3.36,3.7,3.5801,3.7,2.74,4.24,3.88,3.88,3.31,3.57,3.0,3.43,3.51,3.53,3.72,3.71,3.96,3.51,3.56,2.6,4.15,3.6,3.35,2.31,3.35,3.61,2.0,3.92,3.38,3.83,3.5801,2.94,3.22,3.6,4.2,2.5,3.98,3.69,3.0,3.03,3.5801,3.5,3.69,3.14,3.52,2.0,4.21,3.25,3.08,3.72,3.54,3.5801,3.65,2.91,4.38,3.77,3.5801,3.39,2.93,3.23,4.14,3.74,3.5801,3.85,3.76,3.25,3.78,3.7,3.74,3.95,4.27,3.86,3.7,3.92,3.31,4.39,3.55,2.0,2.54,3.46,3.47,3.91,3.95,3.99,3.49,3.52,3.68,3.95,3.53,3.5801,3.86,3.65,4.0,3.69,3.67,3.11,3.84,4.07,3.4,3.33,3.5801,3.57,3.28,3.79,3.66,3.2,4.4,4.47,4.27,4.2,3.86,3.5801,2.0,3.55,3.58,3.29,3.5801,3.72,3.5,3.89,3.5801,3.67,3.68,3.83,3.3,3.48,3.64,3.96,3.7,4.09,3.6,3.5801,2.84,2.4,3.19,4.07,2.77,3.5801,1.67,4.09,2.77,3.18,2.98,2.86,2.97,3.1,3.36,3.0,3.79,3.66,3.9,3.56,3.5801,3.16,3.49,3.24,4.11,3.88,2.0,3.5801,2.71,4.28,3.49,3.5801,3.81,3.14,3.76,2.67,4.19,3.76,4.05,3.5,3.57,4.17,2.78,3.97,4.27,2.33,3.48,3.32,3.5801,3.11,3.34,3.92,3.69,4.02,3.96,3.47,3.92,3.92,4.12,3.45,3.0,3.93,3.68,3.52,3.96,3.5801,3.3,3.84,4.08,3.0,2.43,3.76,3.22,3.59,3.16,2.31,2.63,3.92,3.92,4.0,3.6,3.49,2.75,2.68,2.0,3.61,3.66,3.5801,3.62,3.35,3.5,4.0,2.6,4.0,3.5801,3.29,3.19,3.24,3.38,3.21,3.27,2.5,4.0,3.24,2.47,3.71,4.51,5.0,2.92,2.78,2.51,3.5801,3.98,3.5,3.0,3.77,3.85,4.04,3.29,3.07,4.03,2.67,3.98,3.43,2.5,4.23,3.61,3.5801,3.84,1.0,3.24,3.84,3.65,3.0,4.55,2.87,2.92,3.32,3.81,3.82,2.05,3.55,4.35,1.0,3.1,3.61,2.25,3.16,3.41,3.82,3.5801,4.5,3.48,3.55,3.79,4.21,2.0,3.27,3.76,3.73,3.41,3.63,3.45,3.19,3.71,3.74,4.25,3.59,3.9,3.5801,3.5801,3.5801,3.59,2.0,3.26,5.0,3.98,3.28,3.5801,3.94,3.5801,4.02,3.44,3.76,3.53,3.5801,3.11,3.5801,4.23,3.76,3.06,3.35,3.21,2.9,3.46,3.06,3.0,3.38,3.2,3.47,3.59,3.14,3.85,3.5801,3.57,4.06,3.75,4.23,3.83,1.67,3.83,3.45,3.41,3.07,2.5,2.5,3.67,2.05,3.29,4.04,3.0,3.3,3.5801,3.5,2.5,3.42,2.0,3.53,4.18,2.88,4.0,3.91,4.08,3.5801,3.34,2.78,3.5801,3.55,3.61,3.56,3.16,3.62,3.19,3.69,2.53,3.6,2.78,2.72,4.1,4.23,3.97,3.81,3.88,2.64,3.54,3.51,3.67,3.5,3.38,3.14,4.3,3.59,3.95,3.58,3.71,3.5801,2.84,3.0,4.43,4.34,3.79,3.1,3.01,3.7,2.5,3.5801,3.96,3.0,3.31,3.42,3.94,2.71,3.79,2.0,3.86,3.53,1.71,3.5801,3.35,3.95,2.96,3.75,2.97,3.25,3.5801,3.9,3.5801,3.05,2.65,4.02,3.6,3.66,3.81,3.57,3.5801,2.5,3.5801,3.27,1.0,3.6,3.17,3.07,3.5,3.95,3.86,3.21,1.0,3.87,3.33,2.8,2.56,3.18,4.0,2.99,3.13,4.0,3.6,3.96,2.68,3.68,2.5,3.27,3.34,3.84,3.3,2.59,3.59,3.5,4.0,3.0,4.3,3.11,3.72,3.84,3.47,3.42,3.74,3.26,3.83,1.0,2.46,3.13,3.39,4.07,3.38,2.85,3.29,3.43,3.45,3.65,3.4,1.0,3.89,3.76,3.91,3.32,3.59,4.0,4.25,2.93,4.05,2.75,3.59,3.25,3.0,4.41,3.58,3.65,3.81,3.9,3.38,3.41],\"marker\":{},\"line\":{},\"xaxis\":\"x2\",\"yaxis\":\"y2\"},{\"type\":\"box\",\"y\":[3.03,2.91,3.42,3.05,2.86,3.07,2.75,2.47,2.32,3.58,3.44,3.1,3.45,3.15,2.48,2.91,3.17,3.1,3.28,3.39,2.24,2.5,2.49,2.12,2.66,2.53,2.98,3.97,3.79,2.89,2.0,2.63,1.86,2.48,3.5801,3.71,3.22,3.43,2.83,2.75,2.77,3.39,3.63,4.14,3.25,2.77,3.32,4.05,4.14,2.48,2.66,2.98,3.0,2.48,3.6,4.17,3.43,3.0,3.5801,2.61,3.71,3.39,1.81,2.99,3.29,1.7,3.14,2.48,3.15,3.99,3.34,3.24,3.41,3.05,3.84,3.63,3.99,3.49,2.93,3.59,3.75,3.4,2.64,2.69,2.43,3.34,3.04,3.38,3.57,4.13,4.01,3.77,3.44,4.07,2.5,3.92,3.51,2.19,3.89,3.86,3.14,2.56,3.74,2.44,4.0,3.27,2.59,3.18,3.67,2.06,3.55,3.87,2.94,3.11,2.72,2.22,3.36,4.05,2.67,2.83,3.26,3.56,3.73,2.37,2.77,2.56,4.04,3.05,3.4,3.87,3.26,2.6,3.5801,2.91,3.36,2.98,2.89,3.44,3.27,4.17,3.5,3.39,3.09,3.85,3.84,3.7,3.44,2.45,1.93,2.92,3.25,2.87,3.0,2.38,3.5,2.73,3.85,2.73,3.54,3.53,2.21,4.0,3.89,3.67,2.9,3.16,2.9,3.5,2.33,3.36,3.0,1.96,3.5801,4.18,2.27,3.88,3.65,3.59,1.67,3.96,3.41,2.58,2.78,2.25,2.29,2.79,3.95,3.4,4.52,4.0,3.25,3.62,3.54,2.53,3.76,2.95,2.61,3.24,2.05,3.83,3.0,3.11,4.34,2.38,4.05,3.59,2.76,3.43,2.63,3.13,3.67,2.63,2.37,3.63,3.78,2.14,3.81,2.92,3.69,2.68,3.26,2.89,2.75,3.0,3.68,4.0,3.6,2.95,2.15,3.03,2.76,2.54,3.35,3.7,3.69,3.01,3.02,2.93,2.57,3.67,3.71,2.86,2.81,2.69,2.36,2.78,2.37,3.13,2.76,4.21,2.11,3.19,2.21,3.2,3.66,3.14,3.5801,2.59,4.25,2.56,2.78,3.93,1.0,2.5,3.27,2.92,2.3,3.56,3.56,2.22,3.0,2.89,3.22,3.67,3.5801,3.33,3.84,2.61,3.66,3.01,2.47,3.48,3.0,2.48,3.66,4.12,3.4,2.51,3.29,2.62,2.95,3.97,3.59,2.97,1.8,2.35,3.83,2.55,5.0,3.0,3.11,3.22,2.94,2.74,2.97,4.09,3.74,3.18,3.6,3.76,3.3,3.45,3.66,3.43,3.35,2.0,2.81,3.87,3.41,3.64,2.95,3.77,3.33,3.92,4.37,3.08,3.0,2.26,3.5,3.91,2.91,2.62,3.27,3.71,3.54,3.17,3.73,3.73,4.19,2.18,3.7,2.96,2.88,2.1,4.36,3.58,1.96,4.03,3.74,3.53,2.79,3.27,2.51,3.8,3.81,3.95,3.02,3.42,3.38,2.65,2.53,3.2,3.32,3.9,3.5801,3.53,2.0,3.49,3.73,3.89,4.16,3.1,2.72,4.09,2.42,3.33,3.0,3.5801,3.84,2.79,3.55,3.82,3.62,2.6,3.0,3.77,2.54,2.55,2.73,3.28,3.5801,3.93,2.18,1.0,4.25,3.59,2.87,3.88,3.26,2.49,3.13,2.39,1.88,2.58,3.37,2.26,2.93,3.22,3.5801,2.83,2.77,2.89,2.56,2.25,2.82,1.97,1.74,2.91,3.24,2.54,2.56,3.63,2.75,3.5801,3.5801,2.93,3.18,3.95,3.27,3.7,2.72,3.07,3.08,3.81,3.28,2.23,3.92,3.49,2.0,3.71,2.38,3.17,4.28,2.82,2.67,2.6,2.0,3.57,3.74,2.06,2.46,2.48,2.29,3.42,3.82,2.34,2.65,3.33,2.31,3.67,1.47,3.75,3.48,2.42,3.24,3.42,3.48,3.33,3.02,4.05,2.4,3.71,4.19,4.19,3.8,3.38,2.51,1.8,2.75,2.12,3.5,2.96,2.81,2.61,2.93,3.5801,2.5,1.0,3.76,2.82,3.33,3.31,3.69,3.2,2.0,3.22,3.92,4.0,3.9,2.86,2.0,2.46,2.61,3.47,3.12,3.27,2.75,3.21,2.55,4.02,3.75,3.02,3.5801,4.12,1.8,3.5801,2.47,3.17,2.45,2.22,2.73,3.55,3.15,4.0,2.38,3.23,3.72,3.58,3.09,3.89,3.28,3.0,3.02,3.48,3.29,3.05,3.6,2.17,3.19,3.0,3.31,1.73,1.55,1.7,3.8,2.35,2.05,3.64,2.8,3.0,3.65,2.75,3.05,2.87,3.35,3.51,3.64,2.89,2.69,3.5801,3.09,2.54,4.24,3.61,2.89,3.6,3.71,4.34,4.02,3.79,3.6,3.04,4.0,3.52,3.22,1.88,2.76,1.82,3.42,3.1,4.0,2.86,3.55,3.86,3.15,3.18,3.5,3.68,3.55,1.0,3.43,3.5801,3.19,2.22,2.94,3.78,3.64,2.33,3.89,3.2,2.26,4.11,3.96,3.68,3.44,2.84,3.09,2.9,3.68,2.92,2.45,3.71,2.18,3.17,2.6,3.47,2.38,2.55,3.72,2.9,2.76,4.08,2.94,2.49,2.0,3.07,3.66,3.5,2.64,3.15,3.0,3.19,2.69,4.03,3.82,3.5801,3.33,3.34,3.0,3.13,3.23,2.85,2.67,2.96,3.29,3.52,2.92,3.35,2.41,4.29,3.0,3.24,2.89,2.0,3.41,3.28,3.1,3.4,2.36,2.0,4.3,2.86,3.31,3.24,3.7,3.0,2.39,2.03,1.91,1.77,1.66,2.68,2.59,2.73,2.04,2.04,2.43,3.64,3.19,2.57,1.93,1.56,4.14,2.88,3.91,3.02,2.76,3.5801,4.05,3.12,4.02,3.18,3.5801,2.59,2.5,3.08,3.71,3.4,3.53,2.83,3.0,2.67,3.1,3.68,2.15,3.78,3.5,2.11,3.64,3.27,2.46,2.93,2.82,3.29,4.07,4.22,3.05,3.83,2.78,3.91,3.12,3.84,3.46,3.96,3.41,3.32,3.07,3.19,1.0,3.67,3.5801,3.72,3.01,3.82,2.53,3.48,2.4,2.76,3.05,3.13,4.0,3.5801,2.54,2.97,3.22,2.92,4.13,4.17,4.14,3.24,3.05,3.4,2.98,1.94,4.04,3.86,2.74,3.17,2.54,2.91,3.5,2.17,3.71,2.47,3.0,3.98,3.76,3.31,3.37,5.0,2.45,4.0,2.21,3.38,3.23,3.0,4.3,3.15,1.5,2.67,3.14,2.41,2.73,3.76,2.62,3.28,3.88,2.89,1.87,3.43,2.82,1.0,2.67,2.57,2.71,2.38,2.46,3.39,3.23,3.37,3.33,4.32,3.85,3.95,3.25,3.84,2.18,3.15,2.44,2.0,3.16,1.5,3.05,4.09,3.97,3.17,2.45,2.0,3.0,4.05,2.73,3.76,4.02,3.7,3.59,2.63,3.25,2.68,3.03,3.48,1.67,3.9,3.73,2.26,3.76,3.44,3.12,3.5801,2.84,3.02,3.22,2.0,4.1,3.05,3.86,3.5,4.15,2.98,1.81,1.85,2.7,4.15,4.22,3.83,3.5801,2.7,2.75,2.58,3.98,3.43,3.83,2.82,2.11,2.27,2.35,3.48,3.84,2.24,2.57,2.23,3.5801,3.5801,2.77,2.56,3.56,2.44,3.62,3.48,2.55,2.0,4.15,3.88,1.0,2.93,3.6,2.88,3.25,3.49,2.79,3.42,2.38,3.4,2.86,2.7,4.07,3.96,3.0,4.0,3.5,2.73,3.19,2.72,2.28,3.38,3.86,4.25,1.0,4.0,3.61,2.68,3.98,2.0,4.51,4.01,2.62,3.38,2.61,4.25,3.75],\"marker\":{},\"line\":{},\"xaxis\":\"x2\",\"yaxis\":\"y2\"},{\"type\":\"box\",\"y\":[3.16,1.36,3.3,3.62,3.68,1.64,1.55,3.97,4.25,3.59,4.16,2.96,3.04,4.13,2.05,2.24,2.0,2.2,3.19,3.15,2.78,2.91,3.57,2.53,2.0,3.3,2.9,2.31,2.03,2.26,2.83,1.61,2.95,1.65,3.5801,2.58,2.31,3.08,3.48,1.71,3.23,2.04,3.11,2.16,3.42,3.55,2.88,2.94,3.75,2.65,2.54,1.93,3.73,3.08,3.67,3.27,3.42,2.24,2.84,3.41,3.45,2.21,1.92,2.46,2.82,2.71,2.81,2.87,2.74,2.99,3.46,2.0,2.68,4.12,3.54,3.56,4.0,3.2,2.08,3.87,3.23,2.67,2.85,2.63,3.69,3.12,2.51,3.46,3.04,2.52,3.35,3.57,2.64,3.4,2.1,3.39,2.37,3.64,2.68,3.57,3.99,2.57,3.5,3.35,2.42,3.89,4.1,2.83,3.33,2.66,2.32,3.32,2.78,2.69,3.4,3.54,3.97,2.97,2.64,4.13,3.15,2.66,2.78,4.14,3.35,3.88,3.55,2.47,3.68,3.85,2.12,2.41,4.05,3.28,3.24,2.8,3.83,3.51,4.13,3.68,3.5801,2.59,1.86,1.6,3.08,3.31,4.09,2.59,1.85,2.58,2.31,2.8,3.76,3.79,4.2,3.66,2.76,1.69,2.77,3.39,2.44,3.5801,2.34,3.81,2.66,2.71,3.2,3.59,3.47,3.48,3.04,2.58,3.66,3.67,3.17,3.63,3.69,3.56,3.0,4.32,2.57,2.77,1.61,3.47,3.0,2.54,2.09,3.43,3.2,2.11,2.54,3.19,2.79,2.18,3.32,3.14,3.61,3.0,3.5801,1.94,3.07,3.1,2.96,3.02,2.03,3.46,3.8,2.7,3.75,3.51,3.09,3.35,3.3,3.71,2.86,3.74,3.45,2.0,3.65,2.87,3.3,4.15,2.31,2.98,4.48,2.34,2.83,3.28,2.48,2.77,3.14,3.25,3.45,2.38,3.72,3.11,3.14,3.53,3.44,4.22,3.2,3.57,3.2,4.61,3.81,3.01,2.73,3.41,3.24,2.59,2.73,3.65,2.9,2.0,3.12,3.27,3.11,3.37,2.75,2.93,2.11,3.13,3.38,2.62,2.65,3.57,1.87,3.61,2.4,3.35,3.66,2.75,3.41,3.71,3.38,3.35,3.14,3.88,3.41,4.45,4.02,3.49,3.13,1.64,3.3,4.0,1.86,2.64,2.65,2.66,1.87,3.51,2.02,3.54,3.16,2.34,1.89,2.88,3.13,3.8,2.42,3.18,2.68,2.13,1.92,3.09,2.55,4.06,4.15,3.79,3.5801,3.64,3.71,3.38,1.29,2.89,3.44,3.69,3.68,3.38,3.36,3.93,2.63,1.32,3.17,3.08,3.54,3.17,3.27,2.92,2.51,1.76,3.27,3.22,3.86,2.09,2.63,3.42,3.81,2.16,3.5,2.23,2.8,3.38,3.82,3.39,3.5,3.26],\"marker\":{},\"line\":{},\"xaxis\":\"x2\",\"yaxis\":\"y2\"},{\"type\":\"box\",\"y\":[2.88,4.0,3.16,2.71,3.81,3.52,3.32,4.09,3.04,4.23,4.32,4.03,3.79,2.38,4.13,3.95,3.84,3.89,3.0,3.41,2.3,3.78,3.86,2.91,1.92,3.87,3.37,1.86,3.5801,2.11,3.13,3.54,3.88,3.75,3.24,1.67,2.73,4.24,3.28,4.29,3.74,4.39,4.19,3.83,3.04,4.25,3.34,2.91,2.79,3.46,3.5801,3.51,3.68,3.42,3.92,3.88,3.97,3.39,2.46,3.97,2.65,4.08,3.7,3.57,3.88,3.04,2.87,3.62,3.35,3.63,3.2,3.15,4.0,2.73,3.73,3.38,3.92,2.93,3.35,3.81,2.3,2.95,3.49,3.02,2.99,3.47,3.21,2.7,3.5,3.35,3.05,2.69,2.63,2.23,2.4,3.63,3.42,3.85,3.1,2.0,3.68,4.33,4.04,3.5801,3.43,3.49,4.08,3.5801,2.0,3.29,3.5801,3.25,4.15,2.18,3.16,3.41,2.71,2.96,3.83,3.73,3.88,3.0,4.02,2.33,3.69,3.75,3.0,3.58,3.37,3.5801,1.0,2.83,5.0,3.69,3.19,3.34,3.18,3.77,3.14,3.52,3.09,2.2,3.96,3.4,2.67,3.37,3.49,3.59,3.6,2.8,3.7,3.15,3.0,3.18,2.87,3.75,3.14,3.98,3.62,3.5801,4.02,3.83,2.48,3.48,3.08,3.5,1.0,3.22,3.81,4.33,2.84,3.45,4.1,3.28,3.5801,2.82,3.7,3.74,3.71,3.94,2.0,3.5801,3.0,3.61,2.96,4.18,3.33,3.85,3.42,3.25,4.19,3.86,3.4,3.5801,3.5801,2.96,3.61,3.33,3.06,3.78,3.63,3.49,2.73,3.8,3.22,3.27,3.32,3.48,3.58,4.11,3.28,3.89,3.95,3.41,3.0,4.4],\"marker\":{},\"line\":{},\"xaxis\":\"x2\",\"yaxis\":\"y2\"},{\"type\":\"box\",\"y\":[3.44,3.6,4.11,3.25,4.3,2.86,2.62,3.8,4.23,2.77,4.0,3.03,3.88,2.87,3.34,2.26,2.15,2.67,2.26,3.17,2.86,4.05,3.51,3.81,3.45,3.44,2.52,2.95,3.42,4.1,4.11,3.05,2.26,4.11,4.19,4.52,4.36,3.34,3.5801,3.96,3.31,4.0,3.5801,2.4,3.0,2.12,2.68,2.79,2.91,3.68,3.97,2.78,3.04,2.78,3.96,3.5801,3.61,3.0,2.5,3.88,3.27,2.63,3.27,3.43,3.75,3.52,2.67,2.88,3.11,3.18,3.94,3.18,2.88,2.65,2.1,3.57,3.42,4.34,4.56,3.28,2.5,4.29,4.0,3.68,3.4,3.45,2.5,2.0,3.02,4.01],\"marker\":{},\"line\":{},\"xaxis\":\"x2\",\"yaxis\":\"y2\"},{\"type\":\"box\",\"y\":[2.25,2.75,3.0,3.8,2.73,2.64,2.98,2.51,2.55,3.09,3.41,2.43,2.43,3.94,3.62,4.22,2.67,2.63,3.91,3.83,3.16,2.9,2.8,2.5,3.76,2.17,3.16,2.77,3.91,2.51,2.76,2.75,2.9,3.52,3.74,3.86,2.75,3.27,3.01,3.46,3.46,2.28,4.3,1.91,3.69,3.38,1.78,2.61,3.24,2.56,3.63,3.11,2.55,3.42,2.91],\"marker\":{},\"line\":{},\"xaxis\":\"x2\",\"yaxis\":\"y2\"},{\"type\":\"box\",\"y\":[2.83,3.51,3.54,3.62,3.89,3.55,3.25,3.14,3.66,3.0],\"marker\":{},\"line\":{},\"xaxis\":\"x2\",\"yaxis\":\"y2\"},{\"type\":null,\"xaxis\":\"x3\",\"yaxis\":\"y3\"},{\"type\":\"bar\",\"y\":[1287,919,348,216,90,55,10],\"orientation\":\"v\",\"marker\":{\"color\":\"rgba(0, 0, 139, 1.0)\",\"pattern\":{}},\"showlegend\":false,\"xaxis\":\"x4\",\"yaxis\":\"y4\"},{\"type\":\"bar\",\"x\":[503,1200,1603],\"y\":[\"Action\",\"Comedy\",\"Drama\"],\"orientation\":\"h\",\"marker\":{\"color\":\"rgba(0, 0, 139, 1.0)\",\"pattern\":{}},\"showlegend\":false,\"xaxis\":\"x5\",\"yaxis\":\"y5\"},{\"type\":\"scatter\",\"mode\":\"markers\",\"x\":[0,0],\"y\":[0,1],\"marker\":{\"color\":\"rgba(173, 216, 230, 1.0)\",\"size\":25,\"symbol\":\"0\"},\"line\":{},\"showlegend\":false,\"xaxis\":\"x6\",\"yaxis\":\"y6\"},{\"type\":\"scatter\",\"mode\":\"lines+markers\",\"x\":[0],\"y\":[2],\"marker\":{\"size\":25,\"symbol\":\"0\"},\"line\":{\"color\":\"rgba(0, 0, 139, 1.0)\",\"width\":5.0,\"dash\":\"solid\"},\"showlegend\":false,\"xaxis\":\"x6\",\"yaxis\":\"y6\"},{\"type\":\"scatter\",\"mode\":\"markers\",\"x\":[1,1],\"y\":[0,2],\"marker\":{\"color\":\"rgba(173, 216, 230, 1.0)\",\"size\":25,\"symbol\":\"0\"},\"line\":{},\"showlegend\":false,\"xaxis\":\"x6\",\"yaxis\":\"y6\"},{\"type\":\"scatter\",\"mode\":\"lines+markers\",\"x\":[1],\"y\":[1],\"marker\":{\"size\":25,\"symbol\":\"0\"},\"line\":{\"color\":\"rgba(0, 0, 139, 1.0)\",\"width\":5.0,\"dash\":\"solid\"},\"showlegend\":false,\"xaxis\":\"x6\",\"yaxis\":\"y6\"},{\"type\":\"scatter\",\"mode\":\"markers\",\"x\":[2,2],\"y\":[1,2],\"marker\":{\"color\":\"rgba(173, 216, 230, 1.0)\",\"size\":25,\"symbol\":\"0\"},\"line\":{},\"showlegend\":false,\"xaxis\":\"x6\",\"yaxis\":\"y6\"},{\"type\":\"scatter\",\"mode\":\"lines+markers\",\"x\":[2],\"y\":[0],\"marker\":{\"size\":25,\"symbol\":\"0\"},\"line\":{\"color\":\"rgba(0, 0, 139, 1.0)\",\"width\":5.0,\"dash\":\"solid\"},\"showlegend\":false,\"xaxis\":\"x6\",\"yaxis\":\"y6\"},{\"type\":\"scatter\",\"mode\":\"markers\",\"x\":[3],\"y\":[0],\"marker\":{\"color\":\"rgba(173, 216, 230, 1.0)\",\"size\":25,\"symbol\":\"0\"},\"line\":{},\"showlegend\":false,\"xaxis\":\"x6\",\"yaxis\":\"y6\"},{\"type\":\"scatter\",\"mode\":\"lines+markers\",\"x\":[3,3],\"y\":[1,2],\"marker\":{\"size\":25,\"symbol\":\"0\"},\"line\":{\"color\":\"rgba(0, 0, 139, 1.0)\",\"width\":5.0,\"dash\":\"solid\"},\"showlegend\":false,\"xaxis\":\"x6\",\"yaxis\":\"y6\"},{\"type\":\"scatter\",\"mode\":\"markers\",\"x\":[4],\"y\":[1],\"marker\":{\"color\":\"rgba(173, 216, 230, 1.0)\",\"size\":25,\"symbol\":\"0\"},\"line\":{},\"showlegend\":false,\"xaxis\":\"x6\",\"yaxis\":\"y6\"},{\"type\":\"scatter\",\"mode\":\"lines+markers\",\"x\":[4,4],\"y\":[0,2],\"marker\":{\"size\":25,\"symbol\":\"0\"},\"line\":{\"color\":\"rgba(0, 0, 139, 1.0)\",\"width\":5.0,\"dash\":\"solid\"},\"showlegend\":false,\"xaxis\":\"x6\",\"yaxis\":\"y6\"},{\"type\":\"scatter\",\"mode\":\"markers\",\"x\":[5],\"y\":[2],\"marker\":{\"color\":\"rgba(173, 216, 230, 1.0)\",\"size\":25,\"symbol\":\"0\"},\"line\":{},\"showlegend\":false,\"xaxis\":\"x6\",\"yaxis\":\"y6\"},{\"type\":\"scatter\",\"mode\":\"lines+markers\",\"x\":[5,5],\"y\":[0,1],\"marker\":{\"size\":25,\"symbol\":\"0\"},\"line\":{\"color\":\"rgba(0, 0, 139, 1.0)\",\"width\":5.0,\"dash\":\"solid\"},\"showlegend\":false,\"xaxis\":\"x6\",\"yaxis\":\"y6\"},{\"type\":\"scatter\",\"mode\":\"markers\",\"x\":[],\"y\":[],\"marker\":{\"color\":\"rgba(173, 216, 230, 1.0)\",\"size\":25,\"symbol\":\"0\"},\"line\":{},\"showlegend\":false,\"xaxis\":\"x6\",\"yaxis\":\"y6\"},{\"type\":\"scatter\",\"mode\":\"lines+markers\",\"x\":[6,6,6],\"y\":[0,1,2],\"marker\":{\"size\":25,\"symbol\":\"0\"},\"line\":{\"color\":\"rgba(0, 0, 139, 1.0)\",\"width\":5.0,\"dash\":\"solid\"},\"showlegend\":false,\"xaxis\":\"x6\",\"yaxis\":\"y6\"}];\r\n",
       "            var layout = {\"xaxis\":{\"showticklabels\":false,\"showline\":false,\"showgrid\":false,\"zeroline\":false},\"yaxis\":{\"showticklabels\":false,\"showline\":false,\"showgrid\":false,\"zeroline\":false},\"width\":1400,\"height\":800,\"template\":{\"layout\":{\"paper_bgcolor\":\"white\",\"plot_bgcolor\":\"white\",\"xaxis\":{\"showline\":true,\"zeroline\":true},\"yaxis\":{\"showline\":true,\"zeroline\":true}},\"data\":{}},\"showlegend\":false,\"xaxis2\":{\"range\":[-0.5,6.5],\"showticklabels\":false,\"showline\":false,\"showgrid\":false,\"zeroline\":false,\"domain\":[0.3,1.0]},\"yaxis2\":{\"title\":{\"text\":\"Score\",\"font\":{\"family\":\"Arial\",\"size\":20.0}}},\"xaxis3\":{\"showticklabels\":false,\"showline\":false,\"showgrid\":false,\"zeroline\":false},\"yaxis3\":{\"showticklabels\":false,\"showline\":false,\"showgrid\":false,\"zeroline\":false},\"xaxis4\":{\"range\":[-0.5,6.5],\"showticklabels\":false,\"showline\":false,\"showgrid\":false,\"zeroline\":false,\"domain\":[0.3,1.0]},\"yaxis4\":{\"title\":{\"text\":\"Intersection Size\",\"font\":{\"family\":\"Arial\",\"size\":20.0}}},\"xaxis5\":{\"title\":{\"text\":\"Set Size\",\"font\":{\"family\":\"Arial\",\"size\":20.0}},\"range\":[1603.0,0.0],\"domain\":[0.0,0.2]},\"yaxis5\":{\"range\":[-0.5,2.5],\"showticklabels\":false,\"showline\":false,\"showgrid\":false,\"zeroline\":false},\"xaxis6\":{\"range\":[-0.5,6.5],\"showticklabels\":false,\"showline\":false,\"showgrid\":false,\"zeroline\":false,\"domain\":[0.3,1.0]},\"yaxis6\":{\"range\":[-0.5,2.5],\"tickmode\":\"array\",\"tickvals\":[0,1,2],\"ticktext\":[\"Action\",\"Comedy\",\"Drama\"],\"showticklabels\":true,\"tickfont\":{\"family\":\"Arial\",\"size\":20.0},\"showline\":false,\"showgrid\":false,\"zeroline\":false},\"grid\":{\"rows\":3,\"columns\":2,\"pattern\":\"independent\"}};\r\n",
       "            var config = {\"responsive\":true};\r\n",
       "            Plotly.newPlot('d1ba2640-12de-4faa-9710-060264bd6725', data, layout, config);\r\n",
       "});\r\n",
       "            };\r\n",
       "            if ((typeof(requirejs) !==  typeof(Function)) || (typeof(requirejs.config) !== typeof(Function))) {\r\n",
       "                var script = document.createElement(\"script\");\r\n",
       "                script.setAttribute(\"src\", \"https://cdnjs.cloudflare.com/ajax/libs/require.js/2.3.6/require.min.js\");\r\n",
       "                script.onload = function(){\r\n",
       "                    renderPlotly_d1ba264012de4faa9710060264bd6725();\r\n",
       "                };\r\n",
       "                document.getElementsByTagName(\"head\")[0].appendChild(script);\r\n",
       "            }\r\n",
       "            else {\r\n",
       "                renderPlotly_d1ba264012de4faa9710060264bd6725();\r\n",
       "            }\r\n",
       "</script>\r\n",
       "\r\n",
       "    \r\n",
       "</div    \r\n"
      ]
     },
     "metadata": {},
     "output_type": "display_data"
    }
   ],
   "source": [
    "Chart.UpSet(\n",
    "    [|\"Action\";\"Comedy\";\"Drama\"|],\n",
    "    [|actionSet;comedySet;dramaSet|],\n",
    "    [|(getScoreMap movieFrame)|],\n",
    "    [|(fun y -> Chart.BoxPlot(Y = y)),\"Score\"|]\n",
    ")\n",
    "|> Chart.withSize (1400., 800.)\n",
    "|> Chart.withTemplate ChartTemplates.light"
   ]
  },
  {
   "attachments": {},
   "cell_type": "markdown",
   "metadata": {
    "dotnet_interactive": {
     "language": "fsharp"
    },
    "polyglot_notebook": {
     "kernelName": "fsharp"
    }
   },
   "source": [
    "<img src=../../img/UpsetScore.png style=\"max-width:90%\"></img>\n",
    "\n",
    "We can theoretically plot multiple different features with individual charts for our intersections. We also are not as limited in the number of sets as we are with Venn diagrams. Even though the UpSet plot gets also more complex with increasing number of sets, this is less extreme than with a Venn diagram. Here is a small example:\n",
    "\n",
    "<img src=../../img/UpsetComplex.png style=\"max-width:90%\"></img>"
   ]
  }
 ],
 "metadata": {
  "kernelspec": {
   "display_name": ".NET (C#)",
   "language": "C#",
   "name": ".net-csharp"
  },
  "polyglot_notebook": {
   "kernelInfo": {
    "defaultKernelName": "csharp",
    "items": [
     {
      "aliases": [
       "c#",
       "C#"
      ],
      "languageName": "C#",
      "name": "csharp"
     },
     {
      "aliases": [],
      "languageName": "HTML",
      "name": "html"
     },
     {
      "aliases": [
       "frontend"
      ],
      "name": "vscode"
     },
     {
      "aliases": [],
      "name": ".NET"
     },
     {
      "aliases": [
       "f#",
       "F#"
      ],
      "languageName": "F#",
      "name": "fsharp"
     },
     {
      "aliases": [
       "js"
      ],
      "languageName": "JavaScript",
      "name": "javascript"
     },
     {
      "aliases": [],
      "languageName": "KQL",
      "name": "kql"
     },
     {
      "aliases": [],
      "languageName": "Mermaid",
      "name": "mermaid"
     },
     {
      "aliases": [
       "powershell"
      ],
      "languageName": "PowerShell",
      "name": "pwsh"
     },
     {
      "aliases": [],
      "languageName": "SQL",
      "name": "sql"
     },
     {
      "aliases": [],
      "name": "value"
     },
     {
      "aliases": [],
      "name": "webview"
     }
    ]
   }
  }
 },
 "nbformat": 4,
 "nbformat_minor": 2
}
