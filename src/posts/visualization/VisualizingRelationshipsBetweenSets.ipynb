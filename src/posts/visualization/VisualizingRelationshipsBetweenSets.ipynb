{
 "cells": [
  {
   "attachments": {},
   "cell_type": "markdown",
   "metadata": {
    "dotnet_interactive": {
     "language": "csharp"
    },
    "polyglot_notebook": {
     "kernelName": "csharp"
    }
   },
   "source": [
    "# Visualizing relationships between sets with Plotly.NET\n",
    "\n",
    "### Table of contents\n",
    "\n",
    "- [Visualizing set relationships with Venn diagrams](#Visualizing-set-relationships-with-Venn-diagrams)\n",
    "    - [Construction Venn](#Construction-Venn)\n",
    "    - [Usage Venn](#Usage-Venn)\n",
    "- [Visualizing set relationships with UpSet plots](#Visualizing-set-relationships-with-UpSet-plots)\n",
    "    - [Construction UpSet](#Construction-UpSet)\n",
    "    - [Usage UpSet](#Usage-UpSet)\n",
    "    \n",
    "Visualizing and understanding relationships between sets plays an important role in analyzing data at hand. A widely used visualization method is the \n",
    "[Venn diagram](https://en.wikipedia.org/wiki/Venn_diagram). But Venn diagrams are limited in their capability. While two, three, or even four sets may be easily visualizable, they struggle \n",
    "with higher set counts. To address this issue, the concept of [UpSet](https://upset.app/) plots was developed by Lex et al. in 2014. In this blogpost I will demonstrate how to visualize \n",
    "sets with Venn diagrams and UpSet plots. I use a dataframe containing information about movies as source for our sets. The comparisons will be based on the genre of the movies."
   ]
  },
  {
   "cell_type": "code",
   "execution_count": 6,
   "metadata": {
    "dotnet_interactive": {
     "language": "fsharp"
    },
    "polyglot_notebook": {
     "kernelName": "fsharp"
    },
    "vscode": {
     "languageId": "polyglot-notebook"
    }
   },
   "outputs": [
    {
     "data": {
      "text/html": [
       "<div><div></div><div></div><div><strong>Installed Packages</strong><ul><li><span>BioFSharp.Vis, 3.0.1</span></li><li><span>Deedle, 2.3.0</span></li><li><span>FSharp.Stats, 0.4.1</span></li><li><span>FSharpAux, 1.1.0</span></li><li><span>Plotly.NET.Interactive, 4.0.0</span></li></ul></div></div>"
      ]
     },
     "metadata": {},
     "output_type": "display_data"
    },
    {
     "data": {
      "text/plain": [
       "        Name                                         Action Comedy Drama AvgRating \r\n",
       "0    -> Toy Story (1995)                             False  True   False 4.15      \r\n",
       "2    -> Grumpier Old Men (1995)                      False  True   False 3.02      \r\n",
       "3    -> Waiting to Exhale (1995)                     False  True   True  2.73      \r\n",
       "4    -> Father of the Bride Part II (1995)           False  True   False 3.01      \r\n",
       "5    -> Heat (1995)                                  True   False  False 3.88      \r\n",
       "6    -> Sabrina (1995)                               False  True   False 3.41      \r\n",
       "8    -> Sudden Death (1995)                          True   False  False 2.66      \r\n",
       "9    -> GoldenEye (1995)                             True   False  False 3.54      \r\n",
       "10   -> American President, The (1995)               False  True   True  3.79      \r\n",
       "11   -> Dracula: Dead and Loving It (1995)           False  True   False 2.36      \r\n",
       "13   -> Nixon (1995)                                 False  False  True  3.54      \r\n",
       "14   -> Cutthroat Island (1995)                      True   False  False 2.46      \r\n",
       "15   -> Casino (1995)                                False  False  True  3.79      \r\n",
       "16   -> Sense and Sensibility (1995)                 False  False  True  4.03      \r\n",
       "18   -> Ace Ventura: When Nature Calls (1995)        False  True   False 2.48      \r\n",
       ":       ...                                          ...    ...    ...   ...       \r\n",
       "3851 -> Beach Party (1963)                           False  True   False 2.64      \r\n",
       "3852 -> Bikini Beach (1964)                          False  True   False 2.59      \r\n",
       "3854 -> Pajama Party (1964)                          False  True   False 2.92      \r\n",
       "3855 -> Stranger Than Paradise (1984)                False  True   False 3.85      \r\n",
       "3858 -> Abbott and Costello Meet Frankenstein (1948) False  True   False 3.44      \r\n",
       "3859 -> Bank Dick, The (1940)                        False  True   False 3.99      \r\n",
       "3866 -> Phantom of the Opera, The (1943)             False  False  True  3.72      \r\n",
       "3873 -> Bamboozled (2000)                            False  True   False 3.05      \r\n",
       "3874 -> Bootmen (2000)                               False  True   True  2.11      \r\n",
       "3876 -> Get Carter (2000)                            True   False  True  2.26      \r\n",
       "3878 -> Meet the Parents (2000)                      False  True   False 3.64      \r\n",
       "3879 -> Requiem for a Dream (2000)                   False  False  True  4.12      \r\n",
       "3880 -> Tigerland (2000)                             False  False  True  3.67      \r\n",
       "3881 -> Two Family House (2000)                      False  False  True  3.9       \r\n",
       "3882 -> Contender, The (2000)                        False  False  True  3.78      \r\n"
      ]
     },
     "metadata": {},
     "output_type": "display_data"
    }
   ],
   "source": [
    "#r \"nuget: Deedle, 2.3.0\"\n",
    "#r \"nuget: Plotly.NET.Interactive\"\n",
    "#r \"nuget: FSharp.Stats, 0.4.1\"\n",
    "#r \"nuget: FSharpAux\"\n",
    "#r \"nuget: BioFSharp.Vis, 3.0.1\"\n",
    "\n",
    "open Deedle\n",
    "open Plotly.NET\n",
    "open Plotly.NET.Interactive\n",
    "open Plotly.NET.LayoutObjects\n",
    "open FSharp.Stats\n",
    "open BioFSharp.Vis\n",
    "open BioFSharp.Vis.UpSet\n",
    "open BioFSharp.Vis.Venn\n",
    "open System\n",
    "open System.IO\n",
    "\n",
    "// do fsi.AddPrinter(fun (printer:Deedle.Internal.IFsiFormattable) -> \"\\n\" + (printer.Format()))\n",
    "\n",
    "let movieFrame =\n",
    "    let path = \n",
    "        let parDir = (Directory.GetCurrentDirectory() |> DirectoryInfo).Parent.Parent.FullName\n",
    "        Path.Combine(parDir, \"files\", \"movies.csv\")\n",
    "    Frame.ReadCsv(path, separators = \";\")\n",
    "    |> Frame.sliceCols [\"Name\";\"Action\";\"Comedy\";\"Drama\";\"AvgRating\"]\n",
    "    |> Frame.filterRows (fun k s ->\n",
    "        s.GetAs<bool>(\"Action\")   ||\n",
    "        s.GetAs<bool>(\"Comedy\")   ||\n",
    "        s.GetAs<bool>(\"Drama\")\n",
    "    )\n",
    "\n",
    "let getSetByGenre (category: string) (frame: Frame<int,string>) =\n",
    "    frame\n",
    "    |> Frame.indexRowsUsing(fun s ->\n",
    "        {|\n",
    "            Name = s.GetAs<string>(\"Name\");\n",
    "            Genre = s.GetAs<bool>(category)\n",
    "        |}\n",
    "    )\n",
    "    |> fun f -> f.RowKeys\n",
    "    |> Seq.toArray\n",
    "    |> Array.filter (fun x -> x.Genre = true)\n",
    "    |> Array.map (fun x -> x.Name)\n",
    "    |> Set.ofArray\n",
    "\n",
    "let getScoreMap (frame: Frame<int,string>) =\n",
    "    frame\n",
    "    |> Frame.indexRowsUsing(fun s ->\n",
    "        s.GetAs<string>(\"Name\"),\n",
    "        s.GetAs<float>(\"AvgRating\")\n",
    "    )\n",
    "    |> fun f -> f.RowKeys\n",
    "    |> Map.ofSeq\n",
    "\n",
    "movieFrame.Format()"
   ]
  },
  {
   "attachments": {},
   "cell_type": "markdown",
   "metadata": {
    "dotnet_interactive": {
     "language": "fsharp"
    },
    "polyglot_notebook": {
     "kernelName": "fsharp"
    }
   },
   "source": [
    "## Visualizing set relationships with Venn diagrams\n",
    "\n",
    "### Construction Venn\n",
    "\n",
    "A Venn diagram uses simple closed shapes to represent sets. Those shapes are often circles or ellipses.\n",
    "Let`s start with a simple comparison of two sets using circles as our shape. For that we take genres action and comedy and determine their intersections:"
   ]
  },
  {
   "cell_type": "code",
   "execution_count": 7,
   "metadata": {
    "dotnet_interactive": {
     "language": "fsharp"
    },
    "polyglot_notebook": {
     "kernelName": "fsharp"
    },
    "vscode": {
     "languageId": "polyglot-notebook"
    }
   },
   "outputs": [
    {
     "data": {
      "text/html": [
       "<table><thead><tr><th><i>key</i></th><th>value</th></tr></thead><tbody><tr><td>Action</td><td><div class=\"dni-plaintext\"><pre>438</pre></div></td></tr><tr><td>Action&amp;Comedy</td><td><div class=\"dni-plaintext\"><pre>65</pre></div></td></tr><tr><td>Comedy</td><td><div class=\"dni-plaintext\"><pre>1135</pre></div></td></tr><tr><td>union</td><td><div class=\"dni-plaintext\"><pre>1638</pre></div></td></tr></tbody></table><style>\r\n",
       ".dni-code-hint {\r\n",
       "    font-style: italic;\r\n",
       "    overflow: hidden;\r\n",
       "    white-space: nowrap;\r\n",
       "}\r\n",
       ".dni-treeview {\r\n",
       "    white-space: nowrap;\r\n",
       "}\r\n",
       ".dni-treeview td {\r\n",
       "    vertical-align: top;\r\n",
       "    text-align: start;\r\n",
       "}\r\n",
       "details.dni-treeview {\r\n",
       "    padding-left: 1em;\r\n",
       "}\r\n",
       "table td {\r\n",
       "    text-align: start;\r\n",
       "}\r\n",
       "table tr { \r\n",
       "    vertical-align: top; \r\n",
       "    margin: 0em 0px;\r\n",
       "}\r\n",
       "table tr td pre \r\n",
       "{ \r\n",
       "    vertical-align: top !important; \r\n",
       "    margin: 0em 0px !important;\r\n",
       "} \r\n",
       "table th {\r\n",
       "    text-align: start;\r\n",
       "}\r\n",
       "</style>"
      ]
     },
     "metadata": {},
     "output_type": "display_data"
    }
   ],
   "source": [
    "let actionSet =\n",
    "    movieFrame\n",
    "    |> getSetByGenre \"Action\"\n",
    "\n",
    "let comedySet =\n",
    "    movieFrame\n",
    "    |> getSetByGenre \"Comedy\"\n",
    "\n",
    "let intersectionCount =\n",
    "    Venn.ofSetList [|\"Action\";\"Comedy\"|] [|actionSet;comedySet|]\n",
    "    |> Venn.toVennCount\n",
    "\n",
    "intersectionCount"
   ]
  },
  {
   "attachments": {},
   "cell_type": "markdown",
   "metadata": {
    "dotnet_interactive": {
     "language": "fsharp"
    },
    "polyglot_notebook": {
     "kernelName": "fsharp"
    }
   },
   "source": [
    "Now we can start building our Venn diagram with Plotly. First of all we need to create two shapes for the circles at the correct position and put them in a layout."
   ]
  },
  {
   "cell_type": "code",
   "execution_count": 9,
   "metadata": {
    "dotnet_interactive": {
     "language": "fsharp"
    },
    "polyglot_notebook": {
     "kernelName": "fsharp"
    },
    "vscode": {
     "languageId": "polyglot-notebook"
    }
   },
   "outputs": [],
   "source": [
    "let axis =\n",
    "    LinearAxis.init(\n",
    "        ShowTickLabels = false,\n",
    "        ShowGrid = false,\n",
    "        ZeroLine = false\n",
    "    )\n",
    "\n",
    "let circleAction =\n",
    "    Shape.init(\n",
    "        Opacity = 0.3,\n",
    "        Xref = \"x\",\n",
    "        Yref = \"y\",\n",
    "        FillColor = Color.fromKeyword Red,\n",
    "        X0 = 0,\n",
    "        Y0 = 0,\n",
    "        X1 = 2,\n",
    "        Y1 = 2,\n",
    "        ShapeType = StyleParam.ShapeType.Circle,\n",
    "        Line = Line.init(Color = Color.fromKeyword Red)\n",
    "    )\n",
    "\n",
    "let circleComedy =\n",
    "    Shape.init(\n",
    "        Opacity = 0.3,\n",
    "        Xref = \"x\",\n",
    "        Yref = \"y\",\n",
    "        FillColor = Color.fromKeyword Blue,\n",
    "        X0 = 1.5,\n",
    "        Y0 = 0,\n",
    "        X1 = 3.5,\n",
    "        Y1 = 2,\n",
    "        ShapeType = StyleParam.ShapeType.Circle,\n",
    "        Line = Line.init(Color = Color.fromKeyword Blue)\n",
    "    )\n",
    "\n",
    "let layout =\n",
    "    Layout.init(\n",
    "        Shapes = [circleAction;circleComedy],\n",
    "        Margin = \n",
    "            Margin.init(\n",
    "                Left = 20,\n",
    "                Right = 20,\n",
    "                Bottom = 100\n",
    "            )\n",
    "    )\n",
    "    |> Layout.updateLinearAxisById(StyleParam.SubPlotId.XAxis 1, axis)\n",
    "    |> Layout.updateLinearAxisById(StyleParam.SubPlotId.YAxis 1, axis)"
   ]
  },
  {
   "attachments": {},
   "cell_type": "markdown",
   "metadata": {
    "dotnet_interactive": {
     "language": "fsharp"
    },
    "polyglot_notebook": {
     "kernelName": "fsharp"
    }
   },
   "source": [
    "Next, we need some text to describe our sets and intersection counts. This can be achieved via `Chart.Scatter`."
   ]
  },
  {
   "cell_type": "code",
   "execution_count": 10,
   "metadata": {
    "dotnet_interactive": {
     "language": "fsharp"
    },
    "polyglot_notebook": {
     "kernelName": "fsharp"
    },
    "vscode": {
     "languageId": "polyglot-notebook"
    }
   },
   "outputs": [],
   "source": [
    "let vennChart =\n",
    "    Trace2D.initScatter(\n",
    "        Trace2DStyle.Scatter(\n",
    "            X = [|1.; 2.5; 1.75|],\n",
    "            Y = [|1.; 1.; 1.|],\n",
    "            Mode = StyleParam.Mode.Text,\n",
    "            MultiText = [\"Action<br>438\";\"Comedy<br>1135\";\"65\"],\n",
    "            TextFont =\n",
    "                Font.init (\n",
    "                    Family = StyleParam.FontFamily.Arial,\n",
    "                    Size = 18.,\n",
    "                    Color = Color.fromString \"black\"\n",
    "                )\n",
    "        )\n",
    "    )\n",
    "    |> GenericChart.ofTraceObject true\n",
    "    |> Chart.withSize (400.,400.)"
   ]
  },
  {
   "attachments": {},
   "cell_type": "markdown",
   "metadata": {
    "dotnet_interactive": {
     "language": "fsharp"
    },
    "polyglot_notebook": {
     "kernelName": "fsharp"
    }
   },
   "source": [
    "We can now complete our Venn diagram by adding our previously created layout to the `Chart.Scatter` "
   ]
  },
  {
   "cell_type": "code",
   "execution_count": 11,
   "metadata": {
    "dotnet_interactive": {
     "language": "fsharp"
    },
    "polyglot_notebook": {
     "kernelName": "fsharp"
    },
    "vscode": {
     "languageId": "polyglot-notebook"
    }
   },
   "outputs": [
    {
     "data": {
      "text/html": [
       "<div><div id=\"8d5ef4dc-a36b-43fa-9dab-b29cc37c8c8d\"><!-- Plotly chart will be drawn inside this DIV --></div><script type=\"text/javascript\">\r\n",
       "var renderPlotly_8d5ef4dca36b43fa9dabb29cc37c8c8d = function() {\r\n",
       "    var fsharpPlotlyRequire = requirejs.config({context:'fsharp-plotly',paths:{plotly:'https://cdn.plot.ly/plotly-2.18.1.min'}}) || require;\r\n",
       "    fsharpPlotlyRequire(['plotly'], function(Plotly) {\r\n",
       "        var data = [{\"type\":\"scatter\",\"mode\":\"text\",\"x\":[1.0,2.5,1.75],\"y\":[1.0,1.0,1.0],\"text\":[\"Action<br>438\",\"Comedy<br>1135\",\"65\"],\"textfont\":{\"family\":\"Arial\",\"size\":18.0,\"color\":\"black\"}}];\r\n",
       "        var layout = {\"width\":400,\"height\":400,\"template\":{\"layout\":{\"title\":{\"x\":0.05},\"font\":{\"color\":\"rgba(42, 63, 95, 1.0)\"},\"paper_bgcolor\":\"rgba(255, 255, 255, 1.0)\",\"plot_bgcolor\":\"rgba(229, 236, 246, 1.0)\",\"autotypenumbers\":\"strict\",\"colorscale\":{\"diverging\":[[0.0,\"#8e0152\"],[0.1,\"#c51b7d\"],[0.2,\"#de77ae\"],[0.3,\"#f1b6da\"],[0.4,\"#fde0ef\"],[0.5,\"#f7f7f7\"],[0.6,\"#e6f5d0\"],[0.7,\"#b8e186\"],[0.8,\"#7fbc41\"],[0.9,\"#4d9221\"],[1.0,\"#276419\"]],\"sequential\":[[0.0,\"#0d0887\"],[0.1111111111111111,\"#46039f\"],[0.2222222222222222,\"#7201a8\"],[0.3333333333333333,\"#9c179e\"],[0.4444444444444444,\"#bd3786\"],[0.5555555555555556,\"#d8576b\"],[0.6666666666666666,\"#ed7953\"],[0.7777777777777778,\"#fb9f3a\"],[0.8888888888888888,\"#fdca26\"],[1.0,\"#f0f921\"]],\"sequentialminus\":[[0.0,\"#0d0887\"],[0.1111111111111111,\"#46039f\"],[0.2222222222222222,\"#7201a8\"],[0.3333333333333333,\"#9c179e\"],[0.4444444444444444,\"#bd3786\"],[0.5555555555555556,\"#d8576b\"],[0.6666666666666666,\"#ed7953\"],[0.7777777777777778,\"#fb9f3a\"],[0.8888888888888888,\"#fdca26\"],[1.0,\"#f0f921\"]]},\"hovermode\":\"closest\",\"hoverlabel\":{\"align\":\"left\"},\"coloraxis\":{\"colorbar\":{\"outlinewidth\":0.0,\"ticks\":\"\"}},\"geo\":{\"showland\":true,\"landcolor\":\"rgba(229, 236, 246, 1.0)\",\"showlakes\":true,\"lakecolor\":\"rgba(255, 255, 255, 1.0)\",\"subunitcolor\":\"rgba(255, 255, 255, 1.0)\",\"bgcolor\":\"rgba(255, 255, 255, 1.0)\"},\"mapbox\":{\"style\":\"light\"},\"polar\":{\"bgcolor\":\"rgba(229, 236, 246, 1.0)\",\"radialaxis\":{\"linecolor\":\"rgba(255, 255, 255, 1.0)\",\"gridcolor\":\"rgba(255, 255, 255, 1.0)\",\"ticks\":\"\"},\"angularaxis\":{\"linecolor\":\"rgba(255, 255, 255, 1.0)\",\"gridcolor\":\"rgba(255, 255, 255, 1.0)\",\"ticks\":\"\"}},\"scene\":{\"xaxis\":{\"ticks\":\"\",\"linecolor\":\"rgba(255, 255, 255, 1.0)\",\"gridcolor\":\"rgba(255, 255, 255, 1.0)\",\"gridwidth\":2.0,\"zerolinecolor\":\"rgba(255, 255, 255, 1.0)\",\"backgroundcolor\":\"rgba(229, 236, 246, 1.0)\",\"showbackground\":true},\"yaxis\":{\"ticks\":\"\",\"linecolor\":\"rgba(255, 255, 255, 1.0)\",\"gridcolor\":\"rgba(255, 255, 255, 1.0)\",\"gridwidth\":2.0,\"zerolinecolor\":\"rgba(255, 255, 255, 1.0)\",\"backgroundcolor\":\"rgba(229, 236, 246, 1.0)\",\"showbackground\":true},\"zaxis\":{\"ticks\":\"\",\"linecolor\":\"rgba(255, 255, 255, 1.0)\",\"gridcolor\":\"rgba(255, 255, 255, 1.0)\",\"gridwidth\":2.0,\"zerolinecolor\":\"rgba(255, 255, 255, 1.0)\",\"backgroundcolor\":\"rgba(229, 236, 246, 1.0)\",\"showbackground\":true}},\"ternary\":{\"aaxis\":{\"ticks\":\"\",\"linecolor\":\"rgba(255, 255, 255, 1.0)\",\"gridcolor\":\"rgba(255, 255, 255, 1.0)\"},\"baxis\":{\"ticks\":\"\",\"linecolor\":\"rgba(255, 255, 255, 1.0)\",\"gridcolor\":\"rgba(255, 255, 255, 1.0)\"},\"caxis\":{\"ticks\":\"\",\"linecolor\":\"rgba(255, 255, 255, 1.0)\",\"gridcolor\":\"rgba(255, 255, 255, 1.0)\"},\"bgcolor\":\"rgba(229, 236, 246, 1.0)\"},\"xaxis\":{\"title\":{\"standoff\":15},\"ticks\":\"\",\"automargin\":\"height+width+left+right+top+bottom\",\"linecolor\":\"rgba(255, 255, 255, 1.0)\",\"gridcolor\":\"rgba(255, 255, 255, 1.0)\",\"zerolinecolor\":\"rgba(255, 255, 255, 1.0)\",\"zerolinewidth\":2.0},\"yaxis\":{\"title\":{\"standoff\":15},\"ticks\":\"\",\"automargin\":\"height+width+left+right+top+bottom\",\"linecolor\":\"rgba(255, 255, 255, 1.0)\",\"gridcolor\":\"rgba(255, 255, 255, 1.0)\",\"zerolinecolor\":\"rgba(255, 255, 255, 1.0)\",\"zerolinewidth\":2.0},\"annotationdefaults\":{\"arrowcolor\":\"#2a3f5f\",\"arrowhead\":0,\"arrowwidth\":1},\"shapedefaults\":{\"line\":{\"color\":\"rgba(42, 63, 95, 1.0)\"}},\"colorway\":[\"rgba(99, 110, 250, 1.0)\",\"rgba(239, 85, 59, 1.0)\",\"rgba(0, 204, 150, 1.0)\",\"rgba(171, 99, 250, 1.0)\",\"rgba(255, 161, 90, 1.0)\",\"rgba(25, 211, 243, 1.0)\",\"rgba(255, 102, 146, 1.0)\",\"rgba(182, 232, 128, 1.0)\",\"rgba(255, 151, 255, 1.0)\",\"rgba(254, 203, 82, 1.0)\"]},\"data\":{\"bar\":[{\"marker\":{\"line\":{\"color\":\"rgba(229, 236, 246, 1.0)\",\"width\":0.5},\"pattern\":{\"fillmode\":\"overlay\",\"size\":10,\"solidity\":0.2}},\"error_x\":{\"color\":\"rgba(42, 63, 95, 1.0)\"},\"error_y\":{\"color\":\"rgba(42, 63, 95, 1.0)\"}}],\"barpolar\":[{\"marker\":{\"line\":{\"color\":\"rgba(229, 236, 246, 1.0)\",\"width\":0.5},\"pattern\":{\"fillmode\":\"overlay\",\"size\":10,\"solidity\":0.2}}}],\"carpet\":[{\"aaxis\":{\"linecolor\":\"rgba(255, 255, 255, 1.0)\",\"gridcolor\":\"rgba(255, 255, 255, 1.0)\",\"endlinecolor\":\"rgba(42, 63, 95, 1.0)\",\"minorgridcolor\":\"rgba(255, 255, 255, 1.0)\",\"startlinecolor\":\"rgba(42, 63, 95, 1.0)\"},\"baxis\":{\"linecolor\":\"rgba(255, 255, 255, 1.0)\",\"gridcolor\":\"rgba(255, 255, 255, 1.0)\",\"endlinecolor\":\"rgba(42, 63, 95, 1.0)\",\"minorgridcolor\":\"rgba(255, 255, 255, 1.0)\",\"startlinecolor\":\"rgba(42, 63, 95, 1.0)\"}}],\"choropleth\":[{\"colorbar\":{\"outlinewidth\":0.0,\"ticks\":\"\"},\"colorscale\":[[0.0,\"#0d0887\"],[0.1111111111111111,\"#46039f\"],[0.2222222222222222,\"#7201a8\"],[0.3333333333333333,\"#9c179e\"],[0.4444444444444444,\"#bd3786\"],[0.5555555555555556,\"#d8576b\"],[0.6666666666666666,\"#ed7953\"],[0.7777777777777778,\"#fb9f3a\"],[0.8888888888888888,\"#fdca26\"],[1.0,\"#f0f921\"]]}],\"contour\":[{\"colorbar\":{\"outlinewidth\":0.0,\"ticks\":\"\"},\"colorscale\":[[0.0,\"#0d0887\"],[0.1111111111111111,\"#46039f\"],[0.2222222222222222,\"#7201a8\"],[0.3333333333333333,\"#9c179e\"],[0.4444444444444444,\"#bd3786\"],[0.5555555555555556,\"#d8576b\"],[0.6666666666666666,\"#ed7953\"],[0.7777777777777778,\"#fb9f3a\"],[0.8888888888888888,\"#fdca26\"],[1.0,\"#f0f921\"]]}],\"contourcarpet\":[{\"colorbar\":{\"outlinewidth\":0.0,\"ticks\":\"\"}}],\"heatmap\":[{\"colorbar\":{\"outlinewidth\":0.0,\"ticks\":\"\"},\"colorscale\":[[0.0,\"#0d0887\"],[0.1111111111111111,\"#46039f\"],[0.2222222222222222,\"#7201a8\"],[0.3333333333333333,\"#9c179e\"],[0.4444444444444444,\"#bd3786\"],[0.5555555555555556,\"#d8576b\"],[0.6666666666666666,\"#ed7953\"],[0.7777777777777778,\"#fb9f3a\"],[0.8888888888888888,\"#fdca26\"],[1.0,\"#f0f921\"]]}],\"heatmapgl\":[{\"colorbar\":{\"outlinewidth\":0.0,\"ticks\":\"\"},\"colorscale\":[[0.0,\"#0d0887\"],[0.1111111111111111,\"#46039f\"],[0.2222222222222222,\"#7201a8\"],[0.3333333333333333,\"#9c179e\"],[0.4444444444444444,\"#bd3786\"],[0.5555555555555556,\"#d8576b\"],[0.6666666666666666,\"#ed7953\"],[0.7777777777777778,\"#fb9f3a\"],[0.8888888888888888,\"#fdca26\"],[1.0,\"#f0f921\"]]}],\"histogram\":[{\"marker\":{\"pattern\":{\"fillmode\":\"overlay\",\"size\":10,\"solidity\":0.2}}}],\"histogram2d\":[{\"colorbar\":{\"outlinewidth\":0.0,\"ticks\":\"\"},\"colorscale\":[[0.0,\"#0d0887\"],[0.1111111111111111,\"#46039f\"],[0.2222222222222222,\"#7201a8\"],[0.3333333333333333,\"#9c179e\"],[0.4444444444444444,\"#bd3786\"],[0.5555555555555556,\"#d8576b\"],[0.6666666666666666,\"#ed7953\"],[0.7777777777777778,\"#fb9f3a\"],[0.8888888888888888,\"#fdca26\"],[1.0,\"#f0f921\"]]}],\"histogram2dcontour\":[{\"colorbar\":{\"outlinewidth\":0.0,\"ticks\":\"\"},\"colorscale\":[[0.0,\"#0d0887\"],[0.1111111111111111,\"#46039f\"],[0.2222222222222222,\"#7201a8\"],[0.3333333333333333,\"#9c179e\"],[0.4444444444444444,\"#bd3786\"],[0.5555555555555556,\"#d8576b\"],[0.6666666666666666,\"#ed7953\"],[0.7777777777777778,\"#fb9f3a\"],[0.8888888888888888,\"#fdca26\"],[1.0,\"#f0f921\"]]}],\"mesh3d\":[{\"colorbar\":{\"outlinewidth\":0.0,\"ticks\":\"\"}}],\"parcoords\":[{\"line\":{\"colorbar\":{\"outlinewidth\":0.0,\"ticks\":\"\"}}}],\"pie\":[{\"automargin\":true}],\"scatter\":[{\"marker\":{\"colorbar\":{\"outlinewidth\":0.0,\"ticks\":\"\"}}}],\"scatter3d\":[{\"marker\":{\"colorbar\":{\"outlinewidth\":0.0,\"ticks\":\"\"}},\"line\":{\"colorbar\":{\"outlinewidth\":0.0,\"ticks\":\"\"}}}],\"scattercarpet\":[{\"marker\":{\"colorbar\":{\"outlinewidth\":0.0,\"ticks\":\"\"}}}],\"scattergeo\":[{\"marker\":{\"colorbar\":{\"outlinewidth\":0.0,\"ticks\":\"\"}}}],\"scattergl\":[{\"marker\":{\"colorbar\":{\"outlinewidth\":0.0,\"ticks\":\"\"}}}],\"scattermapbox\":[{\"marker\":{\"colorbar\":{\"outlinewidth\":0.0,\"ticks\":\"\"}}}],\"scatterpolar\":[{\"marker\":{\"colorbar\":{\"outlinewidth\":0.0,\"ticks\":\"\"}}}],\"scatterpolargl\":[{\"marker\":{\"colorbar\":{\"outlinewidth\":0.0,\"ticks\":\"\"}}}],\"scatterternary\":[{\"marker\":{\"colorbar\":{\"outlinewidth\":0.0,\"ticks\":\"\"}}}],\"surface\":[{\"colorbar\":{\"outlinewidth\":0.0,\"ticks\":\"\"},\"colorscale\":[[0.0,\"#0d0887\"],[0.1111111111111111,\"#46039f\"],[0.2222222222222222,\"#7201a8\"],[0.3333333333333333,\"#9c179e\"],[0.4444444444444444,\"#bd3786\"],[0.5555555555555556,\"#d8576b\"],[0.6666666666666666,\"#ed7953\"],[0.7777777777777778,\"#fb9f3a\"],[0.8888888888888888,\"#fdca26\"],[1.0,\"#f0f921\"]]}],\"table\":[{\"cells\":{\"fill\":{\"color\":\"rgba(235, 240, 248, 1.0)\"},\"line\":{\"color\":\"rgba(255, 255, 255, 1.0)\"}},\"header\":{\"fill\":{\"color\":\"rgba(200, 212, 227, 1.0)\"},\"line\":{\"color\":\"rgba(255, 255, 255, 1.0)\"}}}]}},\"margin\":{\"l\":20,\"r\":20,\"b\":100},\"shapes\":[{\"fillcolor\":\"rgba(255, 0, 0, 1.0)\",\"line\":{\"color\":\"rgba(255, 0, 0, 1.0)\"},\"opacity\":0.3,\"type\":\"circle\",\"x0\":0,\"x1\":2,\"xref\":\"x\",\"y0\":0,\"y1\":2,\"yref\":\"y\"},{\"fillcolor\":\"rgba(0, 0, 255, 1.0)\",\"line\":{\"color\":\"rgba(0, 0, 255, 1.0)\"},\"opacity\":0.3,\"type\":\"circle\",\"x0\":1.5,\"x1\":3.5,\"xref\":\"x\",\"y0\":0,\"y1\":2,\"yref\":\"y\"}],\"xaxis\":{\"showticklabels\":false,\"showgrid\":false,\"zeroline\":false},\"yaxis\":{\"showticklabels\":false,\"showgrid\":false,\"zeroline\":false}};\r\n",
       "        var config = {\"responsive\":true};\r\n",
       "        Plotly.newPlot('8d5ef4dc-a36b-43fa-9dab-b29cc37c8c8d', data, layout, config);\r\n",
       "    });\r\n",
       "};\r\n",
       "if ((typeof(requirejs) !==  typeof(Function)) || (typeof(requirejs.config) !== typeof(Function))) {\r\n",
       "    var script = document.createElement(\"script\");\r\n",
       "    script.setAttribute(\"src\", \"https://cdnjs.cloudflare.com/ajax/libs/require.js/2.3.6/require.min.js\");\r\n",
       "    script.onload = function(){\r\n",
       "        renderPlotly_8d5ef4dca36b43fa9dabb29cc37c8c8d();\r\n",
       "    };\r\n",
       "    document.getElementsByTagName(\"head\")[0].appendChild(script);\r\n",
       "}\r\n",
       "else {\r\n",
       "    renderPlotly_8d5ef4dca36b43fa9dabb29cc37c8c8d();\r\n",
       "}\r\n",
       "</script></div>"
      ]
     },
     "metadata": {},
     "output_type": "display_data"
    }
   ],
   "source": [
    "vennChart\n",
    "|> Chart.withLayout layout"
   ]
  },
  {
   "attachments": {},
   "cell_type": "markdown",
   "metadata": {
    "dotnet_interactive": {
     "language": "fsharp"
    },
    "polyglot_notebook": {
     "kernelName": "fsharp"
    }
   },
   "source": [
    "### Usage Venn\n",
    "\n",
    "This required a lot of manual formatting. Luckily, [BioFSharp.Vis](https://github.com/CSBiology/BioFSharp.Vis) contains chart extensions \n",
    "for Venn diagrams with two and three sets."
   ]
  },
  {
   "cell_type": "code",
   "execution_count": 15,
   "metadata": {
    "dotnet_interactive": {
     "language": "fsharp"
    },
    "polyglot_notebook": {
     "kernelName": "fsharp"
    },
    "vscode": {
     "languageId": "polyglot-notebook"
    }
   },
   "outputs": [],
   "source": [
    "let dramaSet =\n",
    "    movieFrame\n",
    "    |> getSetByGenre \"Drama\"\n",
    "\n",
    "Chart.Venn (\n",
    "    [|\"Action\";\"Comedy\";\"Drama\"|],\n",
    "    [|actionSet;comedySet;dramaSet|]\n",
    ")"
   ]
  },
  {
   "attachments": {},
   "cell_type": "markdown",
   "metadata": {
    "dotnet_interactive": {
     "language": "fsharp"
    },
    "polyglot_notebook": {
     "kernelName": "fsharp"
    }
   },
   "source": [
    "## Visualizing set relationships with UpSet plots\n",
    "\n",
    "### Construction UpSet\n",
    "\n",
    "Since Venn diagrams with more than three sets are increasingly difficult to model and read, BioFSharp.Vis also includes UpSet plots. \n",
    "UpSet plots consist of three basic parts. The first is a matrix representing the intersection between sets. Each row corresponds to a set and each column to \n",
    "an intersection. Sets taht are part of that particular intersection are marked with a filled in dot and connected by a line. We can try to create the \n",
    "intersection matrix for the three sets used in the previous Venn diagramm. We start again by computing the intersections."
   ]
  },
  {
   "cell_type": "code",
   "execution_count": 16,
   "metadata": {
    "dotnet_interactive": {
     "language": "fsharp"
    },
    "polyglot_notebook": {
     "kernelName": "fsharp"
    },
    "vscode": {
     "languageId": "polyglot-notebook"
    }
   },
   "outputs": [],
   "source": [
    "let intersections = Venn.ofSetList [|\"Action\";\"Comedy\";\"Drama\"|] [|actionSet;comedySet;dramaSet|]"
   ]
  },
  {
   "attachments": {},
   "cell_type": "markdown",
   "metadata": {
    "dotnet_interactive": {
     "language": "fsharp"
    },
    "polyglot_notebook": {
     "kernelName": "fsharp"
    }
   },
   "source": [
    "Now we need the sets that are part of each intersection. We also need a row position for each set in the matrix."
   ]
  },
  {
   "cell_type": "code",
   "execution_count": 18,
   "metadata": {
    "dotnet_interactive": {
     "language": "fsharp"
    },
    "polyglot_notebook": {
     "kernelName": "fsharp"
    },
    "vscode": {
     "languageId": "polyglot-notebook"
    }
   },
   "outputs": [
    {
     "data": {
      "text/html": [
       "<table><thead><tr><th><i>index</i></th><th>value</th></tr></thead><tbody><tr><td>0</td><td><div class=\"dni-plaintext\"><pre>[ Action ]</pre></div></td></tr><tr><td>1</td><td><div class=\"dni-plaintext\"><pre>[ Action, Comedy ]</pre></div></td></tr><tr><td>2</td><td><div class=\"dni-plaintext\"><pre>[ Action, Comedy, Drama ]</pre></div></td></tr><tr><td>3</td><td><div class=\"dni-plaintext\"><pre>[ Action, Drama ]</pre></div></td></tr><tr><td>4</td><td><div class=\"dni-plaintext\"><pre>[ Comedy ]</pre></div></td></tr><tr><td>5</td><td><div class=\"dni-plaintext\"><pre>[ Comedy, Drama ]</pre></div></td></tr><tr><td>6</td><td><div class=\"dni-plaintext\"><pre>[ Drama ]</pre></div></td></tr></tbody></table><style>\r\n",
       ".dni-code-hint {\r\n",
       "    font-style: italic;\r\n",
       "    overflow: hidden;\r\n",
       "    white-space: nowrap;\r\n",
       "}\r\n",
       ".dni-treeview {\r\n",
       "    white-space: nowrap;\r\n",
       "}\r\n",
       ".dni-treeview td {\r\n",
       "    vertical-align: top;\r\n",
       "    text-align: start;\r\n",
       "}\r\n",
       "details.dni-treeview {\r\n",
       "    padding-left: 1em;\r\n",
       "}\r\n",
       "table td {\r\n",
       "    text-align: start;\r\n",
       "}\r\n",
       "table tr { \r\n",
       "    vertical-align: top; \r\n",
       "    margin: 0em 0px;\r\n",
       "}\r\n",
       "table tr td pre \r\n",
       "{ \r\n",
       "    vertical-align: top !important; \r\n",
       "    margin: 0em 0px !important;\r\n",
       "} \r\n",
       "table th {\r\n",
       "    text-align: start;\r\n",
       "}\r\n",
       "</style>"
      ]
     },
     "metadata": {},
     "output_type": "display_data"
    }
   ],
   "source": [
    "let intersectingSets =\n",
    "    intersections\n",
    "    |> Map.toArray\n",
    "    |> Array.map (snd >> (fun v -> v.Label))\n",
    "    |> Array.filter (List.isEmpty >> not)\n",
    "\n",
    "intersectingSets"
   ]
  },
  {
   "cell_type": "code",
   "execution_count": 19,
   "metadata": {
    "dotnet_interactive": {
     "language": "fsharp"
    },
    "polyglot_notebook": {
     "kernelName": "fsharp"
    },
    "vscode": {
     "languageId": "polyglot-notebook"
    }
   },
   "outputs": [],
   "source": [
    "let setPositions =\n",
    "    [|\n",
    "        \"Action\", 0\n",
    "        \"Comedy\", 1\n",
    "        \"Drama\" , 2\n",
    "    |]"
   ]
  },
  {
   "attachments": {},
   "cell_type": "markdown",
   "metadata": {
    "dotnet_interactive": {
     "language": "fsharp"
    },
    "polyglot_notebook": {
     "kernelName": "fsharp"
    }
   },
   "source": [
    "With this information we can create the first column of the intersection matrix:"
   ]
  },
  {
   "cell_type": "code",
   "execution_count": 20,
   "metadata": {
    "dotnet_interactive": {
     "language": "fsharp"
    },
    "polyglot_notebook": {
     "kernelName": "fsharp"
    },
    "vscode": {
     "languageId": "polyglot-notebook"
    }
   },
   "outputs": [
    {
     "ename": "Error",
     "evalue": "System.MissingMethodException: Method not found: 'GenericChart Chart.Line(System.Collections.Generic.IEnumerable`1<System.Tuple`2<!!0,!!1>>, Microsoft.FSharp.Core.FSharpOption`1<Boolean>, Microsoft.FSharp.Core.FSharpOption`1<System.String>, Microsoft.FSharp.Core.FSharpOption`1<Boolean>, Microsoft.FSharp.Core.FSharpOption`1<Double>, Microsoft.FSharp.Core.FSharpOption`1<System.Collections.Generic.IEnumerable`1<Double>>, Microsoft.FSharp.Core.FSharpOption`1<!!2>, Microsoft.FSharp.Core.FSharpOption`1<System.Collections.Generic.IEnumerable`1<!!2>>, Microsoft.FSharp.Core.FSharpOption`1<TextPosition>, Microsoft.FSharp.Core.FSharpOption`1<System.Collections.Generic.IEnumerable`1<TextPosition>>, Microsoft.FSharp.Core.FSharpOption`1<Plotly.NET.Color>, Microsoft.FSharp.Core.FSharpOption`1<Colorscale>, Microsoft.FSharp.Core.FSharpOption`1<Plotly.NET.Line>, Microsoft.FSharp.Core.FSharpOption`1<MarkerSymbol>, Microsoft.FSharp.Core.FSharpOption`1<System.Collections.Generic.IEnumerable`1<MarkerSymbol>>, Microsoft.FSharp.Core.FSharpOption`1<Plotly.NET.TraceObjects.Marker>, Microsoft.FSharp.Core.FSharpOption`1<Plotly.NET.Color>, Microsoft.FSharp.Core.FSharpOption`1<Colorscale>, Microsoft.FSharp.Core.FSharpOption`1<Double>, Microsoft.FSharp.Core.FSharpOption`1<DrawingStyle>, Microsoft.FSharp.Core.FSharpOption`1<Plotly.NET.Line>, Microsoft.FSharp.Core.FSharpOption`1<System.String>, Microsoft.FSharp.Core.FSharpOption`1<Orientation>, Microsoft.FSharp.Core.FSharpOption`1<GroupNorm>, Microsoft.FSharp.Core.FSharpOption`1<Fill>, Microsoft.FSharp.Core.FSharpOption`1<Plotly.NET.Color>, Microsoft.FSharp.Core.FSharpOption`1<Boolean>, Microsoft.FSharp.Core.FSharpOption`1<Boolean>)'.\r\n   at BioFSharp.Vis.UpSetParts.createIntersectionLineChart(Tuple`2[] data, Int32 markerSize, Color color)\r\n   at BioFSharp.Vis.UpSetParts.createIntersectionPlotPart(Int32 position, FSharpList`1 intersectingSets, Tuple`2[] labelIDs, Int32 markerSize, Color colorIntersecting, Color colorNotIntersecting) in C:\\Users\\jonat\\source\\repos\\BioFSharp.Vis\\src\\BioFSharp.Vis\\Upset.fs:line 64\r\n   at FSI_0033.createIntersectionMatrixPart(Tuple`2[] setPos, FSharpList`1 iSet, Int32 position)\r\n   at <StartupCode$FSI_0033>.$FSI_0033.main@()\r\n   at System.RuntimeMethodHandle.InvokeMethod(Object target, Void** arguments, Signature sig, Boolean isConstructor)\r\n   at System.Reflection.MethodInvoker.Invoke(Object obj, IntPtr* args, BindingFlags invokeAttr)",
     "output_type": "error",
     "traceback": [
      "System.MissingMethodException: Method not found: 'GenericChart Chart.Line(System.Collections.Generic.IEnumerable`1<System.Tuple`2<!!0,!!1>>, Microsoft.FSharp.Core.FSharpOption`1<Boolean>, Microsoft.FSharp.Core.FSharpOption`1<System.String>, Microsoft.FSharp.Core.FSharpOption`1<Boolean>, Microsoft.FSharp.Core.FSharpOption`1<Double>, Microsoft.FSharp.Core.FSharpOption`1<System.Collections.Generic.IEnumerable`1<Double>>, Microsoft.FSharp.Core.FSharpOption`1<!!2>, Microsoft.FSharp.Core.FSharpOption`1<System.Collections.Generic.IEnumerable`1<!!2>>, Microsoft.FSharp.Core.FSharpOption`1<TextPosition>, Microsoft.FSharp.Core.FSharpOption`1<System.Collections.Generic.IEnumerable`1<TextPosition>>, Microsoft.FSharp.Core.FSharpOption`1<Plotly.NET.Color>, Microsoft.FSharp.Core.FSharpOption`1<Colorscale>, Microsoft.FSharp.Core.FSharpOption`1<Plotly.NET.Line>, Microsoft.FSharp.Core.FSharpOption`1<MarkerSymbol>, Microsoft.FSharp.Core.FSharpOption`1<System.Collections.Generic.IEnumerable`1<MarkerSymbol>>, Microsoft.FSharp.Core.FSharpOption`1<Plotly.NET.TraceObjects.Marker>, Microsoft.FSharp.Core.FSharpOption`1<Plotly.NET.Color>, Microsoft.FSharp.Core.FSharpOption`1<Colorscale>, Microsoft.FSharp.Core.FSharpOption`1<Double>, Microsoft.FSharp.Core.FSharpOption`1<DrawingStyle>, Microsoft.FSharp.Core.FSharpOption`1<Plotly.NET.Line>, Microsoft.FSharp.Core.FSharpOption`1<System.String>, Microsoft.FSharp.Core.FSharpOption`1<Orientation>, Microsoft.FSharp.Core.FSharpOption`1<GroupNorm>, Microsoft.FSharp.Core.FSharpOption`1<Fill>, Microsoft.FSharp.Core.FSharpOption`1<Plotly.NET.Color>, Microsoft.FSharp.Core.FSharpOption`1<Boolean>, Microsoft.FSharp.Core.FSharpOption`1<Boolean>)'.\r\n",
      "   at BioFSharp.Vis.UpSetParts.createIntersectionLineChart(Tuple`2[] data, Int32 markerSize, Color color)\r\n",
      "   at BioFSharp.Vis.UpSetParts.createIntersectionPlotPart(Int32 position, FSharpList`1 intersectingSets, Tuple`2[] labelIDs, Int32 markerSize, Color colorIntersecting, Color colorNotIntersecting) in C:\\Users\\jonat\\source\\repos\\BioFSharp.Vis\\src\\BioFSharp.Vis\\Upset.fs:line 64\r\n",
      "   at FSI_0033.createIntersectionMatrixPart(Tuple`2[] setPos, FSharpList`1 iSet, Int32 position)\r\n",
      "   at <StartupCode$FSI_0033>.$FSI_0033.main@()\r\n",
      "   at System.RuntimeMethodHandle.InvokeMethod(Object target, Void** arguments, Signature sig, Boolean isConstructor)\r\n",
      "   at System.Reflection.MethodInvoker.Invoke(Object obj, IntPtr* args, BindingFlags invokeAttr)"
     ]
    }
   ],
   "source": [
    "let createIntersectionMatrixPart (setPos: (string*int)[]) (iSet: string list) (position: int) =\n",
    "    // Creates the part of the intersection matrix representing the current intersection. \n",
    "    // The position on the y-Axis is based on the order the labels and sets are given in. \n",
    "    // The position on the x-Axis is based on the given position (determined by intersection size).\n",
    "    UpSetParts.createIntersectionPlotPart\n",
    "        position\n",
    "        iSet\n",
    "        setPos\n",
    "        25\n",
    "        (Color.fromKeyword DarkBlue)\n",
    "        (Color.fromKeyword LightBlue)\n",
    "\n",
    "let intersectionMatrixPart =\n",
    "    createIntersectionMatrixPart\n",
    "        setPositions\n",
    "        intersectingSets.[0]\n",
    "        0\n",
    "\n",
    "intersectionMatrixPart"
   ]
  },
  {
   "attachments": {},
   "cell_type": "markdown",
   "metadata": {
    "dotnet_interactive": {
     "language": "fsharp"
    },
    "polyglot_notebook": {
     "kernelName": "fsharp"
    }
   },
   "source": [
    "We can apply this function now to all intersections and add the correct labels to the rows:"
   ]
  },
  {
   "cell_type": "code",
   "execution_count": 21,
   "metadata": {
    "dotnet_interactive": {
     "language": "fsharp"
    },
    "polyglot_notebook": {
     "kernelName": "fsharp"
    },
    "vscode": {
     "languageId": "polyglot-notebook"
    }
   },
   "outputs": [
    {
     "ename": "Error",
     "evalue": "input.fsx (4,9)-(4,37) typecheck error The value or constructor 'createIntersectionMatrixPart' is not defined.",
     "output_type": "error",
     "traceback": [
      "input.fsx (4,9)-(4,37) typecheck error The value or constructor 'createIntersectionMatrixPart' is not defined."
     ]
    }
   ],
   "source": [
    "let intersectionMatrix =\n",
    "    intersectingSets\n",
    "    |> Array.mapi (fun i iS ->\n",
    "        createIntersectionMatrixPart\n",
    "            setPositions\n",
    "            iS\n",
    "            i\n",
    "    )\n",
    "    |> Chart.combine\n",
    "    // Axis styling\n",
    "    |> Chart.withYAxis (\n",
    "        LinearAxis.init(\n",
    "            ShowGrid=false,\n",
    "            ShowLine=false,\n",
    "            ShowTickLabels=true,\n",
    "            ZeroLine=false,\n",
    "            TickMode=StyleParam.TickMode.Array,\n",
    "            TickVals=[0 .. setPositions.Length - 1],\n",
    "            TickText=(setPositions |> Array.map fst)\n",
    "        )\n",
    "    )\n",
    "    |> Chart.withXAxis (\n",
    "        LinearAxis.init(\n",
    "            ShowGrid=false,\n",
    "            ShowLine=false,\n",
    "            ShowTickLabels=false,\n",
    "            ZeroLine=false,\n",
    "            Domain=StyleParam.Range.MinMax (0.4,1.)\n",
    "        )\n",
    "    )\n",
    "    |> Chart.withLegend false"
   ]
  },
  {
   "attachments": {},
   "cell_type": "markdown",
   "metadata": {
    "dotnet_interactive": {
     "language": "fsharp"
    },
    "polyglot_notebook": {
     "kernelName": "fsharp"
    }
   },
   "source": [
    "The next part is a bar chart representing the size of each set. The bar for each set gets placed next to the row representing the set in the matrix."
   ]
  },
  {
   "cell_type": "code",
   "execution_count": 22,
   "metadata": {
    "dotnet_interactive": {
     "language": "fsharp"
    },
    "polyglot_notebook": {
     "kernelName": "fsharp"
    },
    "vscode": {
     "languageId": "polyglot-notebook"
    }
   },
   "outputs": [
    {
     "ename": "Error",
     "evalue": "input.fsx (13,5)-(13,23) typecheck error The value or constructor 'intersectionMatrix' is not defined. Maybe you want one of the following:\r\n   intersections\r\n   intersectionCount\r\n   intersectingSets\r\n   InterfaceAttribute\r\n   Interpolation",
     "output_type": "error",
     "traceback": [
      "input.fsx (13,5)-(13,23) typecheck error The value or constructor 'intersectionMatrix' is not defined. Maybe you want one of the following:\r\n",
      "   intersections\r\n",
      "   intersectionCount\r\n",
      "   intersectingSets\r\n",
      "   InterfaceAttribute\r\n",
      "   Interpolation"
     ]
    }
   ],
   "source": [
    "let setSizeBar =\n",
    "    // Creates a bar chart with the set sizes\n",
    "    UpSetParts.createSetSizePlot\n",
    "        (setPositions |> Array.map fst)\n",
    "        [|actionSet;comedySet;dramaSet|]\n",
    "        2.5\n",
    "        (Color.fromKeyword DarkBlue)\n",
    "        (0.,0.3)\n",
    "        (Font.init(StyleParam.FontFamily.Arial, Size=20.))\n",
    "\n",
    "[\n",
    "    setSizeBar\n",
    "    intersectionMatrix\n",
    "]\n",
    "|> Chart.Grid (1,2)\n",
    "|> Chart.withSize (900.,600.)"
   ]
  },
  {
   "attachments": {},
   "cell_type": "markdown",
   "metadata": {
    "dotnet_interactive": {
     "language": "fsharp"
    },
    "polyglot_notebook": {
     "kernelName": "fsharp"
    }
   },
   "source": [
    "Lastly we come to our third basic part. It is a bar chart representing the size of each intersection, which it placed atop of the column representing each intersection."
   ]
  },
  {
   "cell_type": "code",
   "execution_count": 23,
   "metadata": {
    "dotnet_interactive": {
     "language": "fsharp"
    },
    "polyglot_notebook": {
     "kernelName": "fsharp"
    },
    "vscode": {
     "languageId": "polyglot-notebook"
    }
   },
   "outputs": [
    {
     "ename": "Error",
     "evalue": "input.fsx (21,5)-(21,15) typecheck error The value or constructor 'setSizeBar' is not defined.\ninput.fsx (22,5)-(22,23) typecheck error The value or constructor 'intersectionMatrix' is not defined. Maybe you want one of the following:\r\n   intersections\r\n   intersectionSizeBar\r\n   intersectionCount\r\n   intersectionCounts\r\n   intersectingSets",
     "output_type": "error",
     "traceback": [
      "input.fsx (21,5)-(21,15) typecheck error The value or constructor 'setSizeBar' is not defined.\n",
      "input.fsx (22,5)-(22,23) typecheck error The value or constructor 'intersectionMatrix' is not defined. Maybe you want one of the following:\r\n",
      "   intersections\r\n",
      "   intersectionSizeBar\r\n",
      "   intersectionCount\r\n",
      "   intersectionCounts\r\n",
      "   intersectingSets"
     ]
    }
   ],
   "source": [
    "let intersectionCounts =\n",
    "    intersections\n",
    "    |> Map.toArray\n",
    "    |> Array.map (fun (_,labelSet) -> \n",
    "        labelSet.Label, labelSet.Set.Count\n",
    "    )\n",
    "    |> Array.filter (fun (id,_) -> not id.IsEmpty)\n",
    "\n",
    "let intersectionSizeBar =\n",
    "    // Creates a bar chart with the intersection sizes\n",
    "    UpSetParts.createIntersectionSizePlots\n",
    "        intersectionCounts\n",
    "        (float intersectionCounts.Length - 0.5)\n",
    "        (Color.fromKeyword DarkBlue)\n",
    "        (0.4, 1.)\n",
    "        (Font.init(StyleParam.FontFamily.Arial, Size=20.))\n",
    "\n",
    "[|\n",
    "    Chart.Invisible()\n",
    "    intersectionSizeBar\n",
    "    setSizeBar\n",
    "    intersectionMatrix\n",
    "|]\n",
    "|> Chart.Grid(2,2)\n",
    "|> Chart.withSize (900.,600.)"
   ]
  },
  {
   "attachments": {},
   "cell_type": "markdown",
   "metadata": {
    "dotnet_interactive": {
     "language": "fsharp"
    },
    "polyglot_notebook": {
     "kernelName": "fsharp"
    }
   },
   "source": [
    "### Usage UpSet\n",
    "\n",
    "We now have a basic UpSet plot. There is also a chart extension for UpSet plot in `BioFSharp.Vis`."
   ]
  },
  {
   "cell_type": "code",
   "execution_count": 24,
   "metadata": {
    "dotnet_interactive": {
     "language": "fsharp"
    },
    "polyglot_notebook": {
     "kernelName": "fsharp"
    },
    "vscode": {
     "languageId": "polyglot-notebook"
    }
   },
   "outputs": [
    {
     "ename": "Error",
     "evalue": "System.MissingMethodException: Method not found: 'GenericChart Chart.Line(System.Collections.Generic.IEnumerable`1<System.Tuple`2<!!0,!!1>>, Microsoft.FSharp.Core.FSharpOption`1<Boolean>, Microsoft.FSharp.Core.FSharpOption`1<System.String>, Microsoft.FSharp.Core.FSharpOption`1<Boolean>, Microsoft.FSharp.Core.FSharpOption`1<Double>, Microsoft.FSharp.Core.FSharpOption`1<System.Collections.Generic.IEnumerable`1<Double>>, Microsoft.FSharp.Core.FSharpOption`1<!!2>, Microsoft.FSharp.Core.FSharpOption`1<System.Collections.Generic.IEnumerable`1<!!2>>, Microsoft.FSharp.Core.FSharpOption`1<TextPosition>, Microsoft.FSharp.Core.FSharpOption`1<System.Collections.Generic.IEnumerable`1<TextPosition>>, Microsoft.FSharp.Core.FSharpOption`1<Plotly.NET.Color>, Microsoft.FSharp.Core.FSharpOption`1<Colorscale>, Microsoft.FSharp.Core.FSharpOption`1<Plotly.NET.Line>, Microsoft.FSharp.Core.FSharpOption`1<MarkerSymbol>, Microsoft.FSharp.Core.FSharpOption`1<System.Collections.Generic.IEnumerable`1<MarkerSymbol>>, Microsoft.FSharp.Core.FSharpOption`1<Plotly.NET.TraceObjects.Marker>, Microsoft.FSharp.Core.FSharpOption`1<Plotly.NET.Color>, Microsoft.FSharp.Core.FSharpOption`1<Colorscale>, Microsoft.FSharp.Core.FSharpOption`1<Double>, Microsoft.FSharp.Core.FSharpOption`1<DrawingStyle>, Microsoft.FSharp.Core.FSharpOption`1<Plotly.NET.Line>, Microsoft.FSharp.Core.FSharpOption`1<System.String>, Microsoft.FSharp.Core.FSharpOption`1<Orientation>, Microsoft.FSharp.Core.FSharpOption`1<GroupNorm>, Microsoft.FSharp.Core.FSharpOption`1<Fill>, Microsoft.FSharp.Core.FSharpOption`1<Plotly.NET.Color>, Microsoft.FSharp.Core.FSharpOption`1<Boolean>, Microsoft.FSharp.Core.FSharpOption`1<Boolean>)'.\r\n   at BioFSharp.Vis.UpSetParts.createIntersectionLineChart(Tuple`2[] data, Int32 markerSize, Color color)\r\n   at BioFSharp.Vis.UpSetParts.createIntersectionPlotPart(Int32 position, FSharpList`1 intersectingSets, Tuple`2[] labelIDs, Int32 markerSize, Color colorIntersecting, Color colorNotIntersecting) in C:\\Users\\jonat\\source\\repos\\BioFSharp.Vis\\src\\BioFSharp.Vis\\Upset.fs:line 64\r\n   at BioFSharp.Vis.UpSet.intersectionPlot@201.Invoke(Int32 position, Tuple`2 tupledArg) in C:\\Users\\jonat\\source\\repos\\BioFSharp.Vis\\src\\BioFSharp.Vis\\Upset.fs:line 202\r\n   at Microsoft.FSharp.Collections.ArrayModule.MapIndexed[T,TResult](FSharpFunc`2 mapping, T[] array) in D:\\a\\_work\\1\\s\\src\\FSharp.Core\\array.fs:line 453\r\n   at BioFSharp.Vis.UpSet.Chart.UpSet.Static[a,b](String[] labels, FSharpSet`1[] sets, FSharpOption`1 setData, FSharpOption`1 setDataChartsTitle, FSharpOption`1 markerSize, FSharpOption`1 mainColor, FSharpOption`1 secondaryColor, FSharpOption`1 domainSet, FSharpOption`1 domainIntersection, FSharpOption`1 textFont, FSharpOption`1 textFontLabel, FSharpOption`1 minIntersectionSize, FSharpOption`1 sortIntersectionsBy) in C:\\Users\\jonat\\source\\repos\\BioFSharp.Vis\\src\\BioFSharp.Vis\\Upset.fs:line 199\r\n   at <StartupCode$FSI_0037>.$FSI_0037.main@()\r\n   at System.RuntimeMethodHandle.InvokeMethod(Object target, Void** arguments, Signature sig, Boolean isConstructor)\r\n   at System.Reflection.MethodInvoker.Invoke(Object obj, IntPtr* args, BindingFlags invokeAttr)",
     "output_type": "error",
     "traceback": [
      "System.MissingMethodException: Method not found: 'GenericChart Chart.Line(System.Collections.Generic.IEnumerable`1<System.Tuple`2<!!0,!!1>>, Microsoft.FSharp.Core.FSharpOption`1<Boolean>, Microsoft.FSharp.Core.FSharpOption`1<System.String>, Microsoft.FSharp.Core.FSharpOption`1<Boolean>, Microsoft.FSharp.Core.FSharpOption`1<Double>, Microsoft.FSharp.Core.FSharpOption`1<System.Collections.Generic.IEnumerable`1<Double>>, Microsoft.FSharp.Core.FSharpOption`1<!!2>, Microsoft.FSharp.Core.FSharpOption`1<System.Collections.Generic.IEnumerable`1<!!2>>, Microsoft.FSharp.Core.FSharpOption`1<TextPosition>, Microsoft.FSharp.Core.FSharpOption`1<System.Collections.Generic.IEnumerable`1<TextPosition>>, Microsoft.FSharp.Core.FSharpOption`1<Plotly.NET.Color>, Microsoft.FSharp.Core.FSharpOption`1<Colorscale>, Microsoft.FSharp.Core.FSharpOption`1<Plotly.NET.Line>, Microsoft.FSharp.Core.FSharpOption`1<MarkerSymbol>, Microsoft.FSharp.Core.FSharpOption`1<System.Collections.Generic.IEnumerable`1<MarkerSymbol>>, Microsoft.FSharp.Core.FSharpOption`1<Plotly.NET.TraceObjects.Marker>, Microsoft.FSharp.Core.FSharpOption`1<Plotly.NET.Color>, Microsoft.FSharp.Core.FSharpOption`1<Colorscale>, Microsoft.FSharp.Core.FSharpOption`1<Double>, Microsoft.FSharp.Core.FSharpOption`1<DrawingStyle>, Microsoft.FSharp.Core.FSharpOption`1<Plotly.NET.Line>, Microsoft.FSharp.Core.FSharpOption`1<System.String>, Microsoft.FSharp.Core.FSharpOption`1<Orientation>, Microsoft.FSharp.Core.FSharpOption`1<GroupNorm>, Microsoft.FSharp.Core.FSharpOption`1<Fill>, Microsoft.FSharp.Core.FSharpOption`1<Plotly.NET.Color>, Microsoft.FSharp.Core.FSharpOption`1<Boolean>, Microsoft.FSharp.Core.FSharpOption`1<Boolean>)'.\r\n",
      "   at BioFSharp.Vis.UpSetParts.createIntersectionLineChart(Tuple`2[] data, Int32 markerSize, Color color)\r\n",
      "   at BioFSharp.Vis.UpSetParts.createIntersectionPlotPart(Int32 position, FSharpList`1 intersectingSets, Tuple`2[] labelIDs, Int32 markerSize, Color colorIntersecting, Color colorNotIntersecting) in C:\\Users\\jonat\\source\\repos\\BioFSharp.Vis\\src\\BioFSharp.Vis\\Upset.fs:line 64\r\n",
      "   at BioFSharp.Vis.UpSet.intersectionPlot@201.Invoke(Int32 position, Tuple`2 tupledArg) in C:\\Users\\jonat\\source\\repos\\BioFSharp.Vis\\src\\BioFSharp.Vis\\Upset.fs:line 202\r\n",
      "   at Microsoft.FSharp.Collections.ArrayModule.MapIndexed[T,TResult](FSharpFunc`2 mapping, T[] array) in D:\\a\\_work\\1\\s\\src\\FSharp.Core\\array.fs:line 453\r\n",
      "   at BioFSharp.Vis.UpSet.Chart.UpSet.Static[a,b](String[] labels, FSharpSet`1[] sets, FSharpOption`1 setData, FSharpOption`1 setDataChartsTitle, FSharpOption`1 markerSize, FSharpOption`1 mainColor, FSharpOption`1 secondaryColor, FSharpOption`1 domainSet, FSharpOption`1 domainIntersection, FSharpOption`1 textFont, FSharpOption`1 textFontLabel, FSharpOption`1 minIntersectionSize, FSharpOption`1 sortIntersectionsBy) in C:\\Users\\jonat\\source\\repos\\BioFSharp.Vis\\src\\BioFSharp.Vis\\Upset.fs:line 199\r\n",
      "   at <StartupCode$FSI_0037>.$FSI_0037.main@()\r\n",
      "   at System.RuntimeMethodHandle.InvokeMethod(Object target, Void** arguments, Signature sig, Boolean isConstructor)\r\n",
      "   at System.Reflection.MethodInvoker.Invoke(Object obj, IntPtr* args, BindingFlags invokeAttr)"
     ]
    }
   ],
   "source": [
    "Chart.UpSet(\n",
    "    [|\"Action\";\"Comedy\";\"Drama\"|],\n",
    "    [|actionSet;comedySet;dramaSet|]\n",
    ")\n",
    "|> Chart.withSize (1400, 800)\n",
    "|> Chart.withTemplate ChartTemplates.light"
   ]
  },
  {
   "attachments": {},
   "cell_type": "markdown",
   "metadata": {
    "dotnet_interactive": {
     "language": "fsharp"
    },
    "polyglot_notebook": {
     "kernelName": "fsharp"
    }
   },
   "source": [
    "The UpSet plot can be augmented by different charts representing features of the intersections. We just need a map connecting set elements to the feature and a charting function with a title:"
   ]
  },
  {
   "cell_type": "code",
   "execution_count": 25,
   "metadata": {
    "dotnet_interactive": {
     "language": "fsharp"
    },
    "polyglot_notebook": {
     "kernelName": "fsharp"
    },
    "vscode": {
     "languageId": "polyglot-notebook"
    }
   },
   "outputs": [
    {
     "ename": "Error",
     "evalue": "System.MissingMethodException: Method not found: 'Microsoft.FSharp.Core.FSharpFunc`2<GenericChart,GenericChart> Plotly.NET.Chart.WithYAxisStyle(Microsoft.FSharp.Core.FSharpOption`1<System.String>, Microsoft.FSharp.Core.FSharpOption`1<Plotly.NET.Font>, Microsoft.FSharp.Core.FSharpOption`1<Int32>, Microsoft.FSharp.Core.FSharpOption`1<Plotly.NET.Title>, Microsoft.FSharp.Core.FSharpOption`1<Plotly.NET.Color>, Microsoft.FSharp.Core.FSharpOption`1<AxisType>, Microsoft.FSharp.Core.FSharpOption`1<System.Tuple`2<Double,!!1>>, Microsoft.FSharp.Core.FSharpOption`1<Mirror>, Microsoft.FSharp.Core.FSharpOption`1<Boolean>, Microsoft.FSharp.Core.FSharpOption`1<Plotly.NET.Color>, Microsoft.FSharp.Core.FSharpOption`1<Int32>, Microsoft.FSharp.Core.FSharpOption`1<Boolean>, Microsoft.FSharp.Core.FSharpOption`1<Plotly.NET.Color>, Microsoft.FSharp.Core.FSharpOption`1<Boolean>, Microsoft.FSharp.Core.FSharpOption`1<Plotly.NET.Color>, Microsoft.FSharp.Core.FSharpOption`1<Boolean>, Microsoft.FSharp.Core.FSharpOption`1<Plotly.NET.Color>, Microsoft.FSharp.Core.FSharpOption`1<LinearAxisId>, Microsoft.FSharp.Core.FSharpOption`1<Side>, Microsoft.FSharp.Core.FSharpOption`1<LinearAxisId>, Microsoft.FSharp.Core.FSharpOption`1<System.Tuple`2<Double,Double>>, Microsoft.FSharp.Core.FSharpOption`1<Double>, Microsoft.FSharp.Core.FSharpOption`1<CategoryOrder>, Microsoft.FSharp.Core.FSharpOption`1<System.Collections.Generic.IEnumerable`1<!!2>>, Microsoft.FSharp.Core.FSharpOption`1<Plotly.NET.LayoutObjects.RangeSlider>, Microsoft.FSharp.Core.FSharpOption`1<Plotly.NET.LayoutObjects.RangeSelector>, Microsoft.FSharp.Core.FSharpOption`1<Plotly.NET.Color>, Microsoft.FSharp.Core.FSharpOption`1<Boolean>, Microsoft.FSharp.Core.FSharpOption`1<SubPlotId>)'.\r\n   at BioFSharp.Vis.UpSetParts.createIntersectionDataPlots[b](b[][] intersectionData, String title, Double maxX, FSharpFunc`2 chartFun, Double domainIntersection_0, Double domainIntersection_1, Font textFont)\r\n   at BioFSharp.Vis.UpSet.charts@192-1.Invoke(b[][] sD) in C:\\Users\\jonat\\source\\repos\\BioFSharp.Vis\\src\\BioFSharp.Vis\\Upset.fs:line 193\r\n   at Microsoft.FSharp.Collections.ArrayModule.Map2[T1,T2,TResult](FSharpFunc`2 mapping, T1[] array1, T2[] array2) in D:\\a\\_work\\1\\s\\src\\FSharp.Core\\array.fs:line 383\r\n   at BioFSharp.Vis.UpSet.Chart.UpSet.Static[a,b](String[] labels, FSharpSet`1[] sets, FSharpOption`1 setData, FSharpOption`1 setDataChartsTitle, FSharpOption`1 markerSize, FSharpOption`1 mainColor, FSharpOption`1 secondaryColor, FSharpOption`1 domainSet, FSharpOption`1 domainIntersection, FSharpOption`1 textFont, FSharpOption`1 textFontLabel, FSharpOption`1 minIntersectionSize, FSharpOption`1 sortIntersectionsBy) in C:\\Users\\jonat\\source\\repos\\BioFSharp.Vis\\src\\BioFSharp.Vis\\Upset.fs:line 190\r\n   at <StartupCode$FSI_0038>.$FSI_0038.main@()\r\n   at System.RuntimeMethodHandle.InvokeMethod(Object target, Void** arguments, Signature sig, Boolean isConstructor)\r\n   at System.Reflection.MethodInvoker.Invoke(Object obj, IntPtr* args, BindingFlags invokeAttr)",
     "output_type": "error",
     "traceback": [
      "System.MissingMethodException: Method not found: 'Microsoft.FSharp.Core.FSharpFunc`2<GenericChart,GenericChart> Plotly.NET.Chart.WithYAxisStyle(Microsoft.FSharp.Core.FSharpOption`1<System.String>, Microsoft.FSharp.Core.FSharpOption`1<Plotly.NET.Font>, Microsoft.FSharp.Core.FSharpOption`1<Int32>, Microsoft.FSharp.Core.FSharpOption`1<Plotly.NET.Title>, Microsoft.FSharp.Core.FSharpOption`1<Plotly.NET.Color>, Microsoft.FSharp.Core.FSharpOption`1<AxisType>, Microsoft.FSharp.Core.FSharpOption`1<System.Tuple`2<Double,!!1>>, Microsoft.FSharp.Core.FSharpOption`1<Mirror>, Microsoft.FSharp.Core.FSharpOption`1<Boolean>, Microsoft.FSharp.Core.FSharpOption`1<Plotly.NET.Color>, Microsoft.FSharp.Core.FSharpOption`1<Int32>, Microsoft.FSharp.Core.FSharpOption`1<Boolean>, Microsoft.FSharp.Core.FSharpOption`1<Plotly.NET.Color>, Microsoft.FSharp.Core.FSharpOption`1<Boolean>, Microsoft.FSharp.Core.FSharpOption`1<Plotly.NET.Color>, Microsoft.FSharp.Core.FSharpOption`1<Boolean>, Microsoft.FSharp.Core.FSharpOption`1<Plotly.NET.Color>, Microsoft.FSharp.Core.FSharpOption`1<LinearAxisId>, Microsoft.FSharp.Core.FSharpOption`1<Side>, Microsoft.FSharp.Core.FSharpOption`1<LinearAxisId>, Microsoft.FSharp.Core.FSharpOption`1<System.Tuple`2<Double,Double>>, Microsoft.FSharp.Core.FSharpOption`1<Double>, Microsoft.FSharp.Core.FSharpOption`1<CategoryOrder>, Microsoft.FSharp.Core.FSharpOption`1<System.Collections.Generic.IEnumerable`1<!!2>>, Microsoft.FSharp.Core.FSharpOption`1<Plotly.NET.LayoutObjects.RangeSlider>, Microsoft.FSharp.Core.FSharpOption`1<Plotly.NET.LayoutObjects.RangeSelector>, Microsoft.FSharp.Core.FSharpOption`1<Plotly.NET.Color>, Microsoft.FSharp.Core.FSharpOption`1<Boolean>, Microsoft.FSharp.Core.FSharpOption`1<SubPlotId>)'.\r\n",
      "   at BioFSharp.Vis.UpSetParts.createIntersectionDataPlots[b](b[][] intersectionData, String title, Double maxX, FSharpFunc`2 chartFun, Double domainIntersection_0, Double domainIntersection_1, Font textFont)\r\n",
      "   at BioFSharp.Vis.UpSet.charts@192-1.Invoke(b[][] sD) in C:\\Users\\jonat\\source\\repos\\BioFSharp.Vis\\src\\BioFSharp.Vis\\Upset.fs:line 193\r\n",
      "   at Microsoft.FSharp.Collections.ArrayModule.Map2[T1,T2,TResult](FSharpFunc`2 mapping, T1[] array1, T2[] array2) in D:\\a\\_work\\1\\s\\src\\FSharp.Core\\array.fs:line 383\r\n",
      "   at BioFSharp.Vis.UpSet.Chart.UpSet.Static[a,b](String[] labels, FSharpSet`1[] sets, FSharpOption`1 setData, FSharpOption`1 setDataChartsTitle, FSharpOption`1 markerSize, FSharpOption`1 mainColor, FSharpOption`1 secondaryColor, FSharpOption`1 domainSet, FSharpOption`1 domainIntersection, FSharpOption`1 textFont, FSharpOption`1 textFontLabel, FSharpOption`1 minIntersectionSize, FSharpOption`1 sortIntersectionsBy) in C:\\Users\\jonat\\source\\repos\\BioFSharp.Vis\\src\\BioFSharp.Vis\\Upset.fs:line 190\r\n",
      "   at <StartupCode$FSI_0038>.$FSI_0038.main@()\r\n",
      "   at System.RuntimeMethodHandle.InvokeMethod(Object target, Void** arguments, Signature sig, Boolean isConstructor)\r\n",
      "   at System.Reflection.MethodInvoker.Invoke(Object obj, IntPtr* args, BindingFlags invokeAttr)"
     ]
    }
   ],
   "source": [
    "Chart.UpSet(\n",
    "    [|\"Action\";\"Comedy\";\"Drama\"|],\n",
    "    [|actionSet;comedySet;dramaSet|],\n",
    "    [|(getScoreMap movieFrame)|],\n",
    "    [|(fun y -> Chart.BoxPlot(Y = y)),\"Score\"|]\n",
    ")\n",
    "|> Chart.withSize (1400., 800.)\n",
    "|> Chart.withTemplate ChartTemplates.light"
   ]
  },
  {
   "attachments": {},
   "cell_type": "markdown",
   "metadata": {
    "dotnet_interactive": {
     "language": "fsharp"
    },
    "polyglot_notebook": {
     "kernelName": "fsharp"
    }
   },
   "source": [
    "<img src=../../img/UpsetScore.png style=\"max-width:90%\"></img>\n",
    "\n",
    "We can theoretically plot multiple different features with individual charts for our intersections. We also are not as limited in the number of sets as we are with Venn diagrams. Even though the UpSet plot gets also more complex with increasing number of sets, this is less extreme than with a Venn diagram. Here is a small example:\n",
    "\n",
    "<img src=../../img/UpsetComplex.png style=\"max-width:90%\"></img>"
   ]
  }
 ],
 "metadata": {
  "kernelspec": {
   "display_name": ".NET (C#)",
   "language": "C#",
   "name": ".net-csharp"
  },
  "polyglot_notebook": {
   "kernelInfo": {
    "defaultKernelName": "csharp",
    "items": [
     {
      "aliases": [
       "c#",
       "C#"
      ],
      "languageName": "C#",
      "name": "csharp"
     },
     {
      "aliases": [],
      "languageName": "HTML",
      "name": "html"
     },
     {
      "aliases": [
       "frontend"
      ],
      "name": "vscode"
     },
     {
      "aliases": [],
      "name": ".NET"
     },
     {
      "aliases": [
       "f#",
       "F#"
      ],
      "languageName": "F#",
      "name": "fsharp"
     },
     {
      "aliases": [
       "js"
      ],
      "languageName": "JavaScript",
      "name": "javascript"
     },
     {
      "aliases": [],
      "languageName": "KQL",
      "name": "kql"
     },
     {
      "aliases": [],
      "languageName": "Mermaid",
      "name": "mermaid"
     },
     {
      "aliases": [
       "powershell"
      ],
      "languageName": "PowerShell",
      "name": "pwsh"
     },
     {
      "aliases": [],
      "languageName": "SQL",
      "name": "sql"
     },
     {
      "aliases": [],
      "name": "value"
     },
     {
      "aliases": [],
      "name": "webview"
     }
    ]
   }
  }
 },
 "nbformat": 4,
 "nbformat_minor": 2
}
