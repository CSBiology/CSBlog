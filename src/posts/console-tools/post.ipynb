{
 "cells": [
  {
   "attachments": {},
   "cell_type": "markdown",
   "metadata": {
    "dotnet_interactive": {
     "language": "csharp"
    },
    "polyglot_notebook": {
     "kernelName": "csharp"
    }
   },
   "source": [
    "# Console apps: Above and beyond\n",
    "_[Oliver Maus](https://github.com/omaus)_\n",
    "\n",
    "## Content\n",
    "- [What are console apps?](#what-are-console-apps)\n",
    "- [How do .NET console apps work?](#how-do-net-console-apps-work)\n",
    "  - [.*proj file](#proj-file)\n",
    "  - [Framework-dependent vs. self-contained](#framework-dependent-vs-self-contained)\n",
    "  - [Single file vs. folder](#single-file-vs-folder)\n",
    "- [How to create an F# console app in .NET](#how-to-create-an-f-console-app-in-net)\n",
    "  - [Via .NET CLI](#via-net-cli)\n",
    "  - [Via Visual Studio](#via-visual-studio)\n",
    "  - [Building vs. publishing](#building-vs-publishing)\n",
    "    - [Via .NET CLI](#via-net-cli-1)\n",
    "    - [Via FAKE](#via-fake)\n",
    "    - [Via Visual Studio](#via-visual-studio)\n",
    "- [How to extend console apps](#how-to-extend-console-apps)\n",
    "  - [Argu](#argu)\n",
    "  - [Spectre.Console](#spectreconsole)\n",
    "  - [ConsoleToolMenu](#consoletoolmenu)\n",
    "  - [NLog](#nlog)\n",
    "- [App conventions](#app-conventions)\n",
    "  - [Data folders](#data-folders)\n",
    "\n",
    "## What are console apps?\n",
    "Console apps are, as the name suggests, applications that run in a console. That is any command-line interface (CLI) that can serve as an output for such an application.  \n",
    "In Windows, these are the Command Prompt (CMD), PowerShell (PS), and – optionally – Windows Terminal (WT).  \n",
    "Console apps, in contrast to applications with graphical user interfaces (GUIs), in general, do not support the use of a mouse but instead focus solely on keyboard usage.\n",
    "\n",
    "![](../../img/wt.png)  \n",
    "__Your best friend.__\n",
    "\n",
    "<br>\n",
    "\n",
    "Console apps are the easiest way to create an application with very little overhead, since most modern programming language frameworks offer support for creating them. Besides, the complexity of a simple console app is often a lot lower than a GUI-based application of the same functionality, and makes it much easier to create an easily accessible API by calling the console app through a CLI from another application.\n",
    "\n",
    "## How do .NET console apps work?\n",
    "\n",
    "The .NET ecosystem allows for its core languages C#, F#, and Visual Basic.NET to create console app barebones that work (roughly) the same. You can choose between requiring a .NET SDK installed on your system to execute them, or to have everything packed in a file or folder.  \n",
    "Through various ways, .NET allows for modifying your console app beyond the code that it works on (which we will cover later).\n",
    "\n",
    "### .*proj file\n",
    "\n",
    "C#, F#, and Visual Basic.NET applications and libraries are realized as projects. The information about a project is stored in its [project file](https://docs.microsoft.com/en-us/dotnet/core/project-sdk/overview#project-files). Depending on the language you use, those project file are either ending with `.csproj`, `.fsproj`, or `.vbproj` as file extension. These files are based on the [XML standard](https://www.tutorialspoint.com/xml/xml_overview.htm) and thus can be easily read and edited by developers themselves without the need of other tools to alter them.\n",
    "\n",
    "__The minimum project file for an F# console app:__\n",
    "\n",
    "```xml\n",
    "<Project Sdk=\"Microsoft.NET.Sdk\">\n",
    "  <PropertyGroup>                               <!--Contains all properties of the project-->\n",
    "    <OutputType>Exe</OutputType>                <!--If this is not `Exe`, it won't be built into an executable file-->\n",
    "    <TargetFramework>net6.0</TargetFramework>   <!--The framework version the project shall be based upon-->\n",
    "  </PropertyGroup>\n",
    "  <ItemGroup>                                   <!--Contains all files to be compiled when building the project, in chronological order-->\n",
    "    <Compile Include=\"Program.fs\" />\n",
    "  </ItemGroup>\n",
    "</Project>\n",
    "```\n",
    "\n",
    "### Program.fs file\n",
    "\n",
    "Every new console app starts with a \"Program.fs\" source file which only consists of a \"Hello From F#\" print command.  \n",
    "Of course you don't need to stick with this. You can rename this file and change the code as you like but you have to make sure that there's at least 1 source file present to be compiled.\n",
    "It's important to know that when executing your app, the function called last will be the starting point of your program. In earlier versions of .NET, the compiler needed a starting point specified and it had to be a function itself (most often titled \"main\") but since .NET 6 this is not true anymore. Though, you can still use the \"main function\" approach.\n",
    "\n",
    "__The starting Program.fs in .NET 6:__"
   ]
  },
  {
   "cell_type": "code",
   "execution_count": null,
   "metadata": {
    "dotnet_interactive": {
     "language": "fsharp"
    },
    "vscode": {
     "languageId": "polyglot-notebook"
    }
   },
   "outputs": [],
   "source": [
    "// For more information see https://aka.ms/fsharp-console-apps\n",
    "printfn \"Hello from F#\""
   ]
  },
  {
   "cell_type": "markdown",
   "metadata": {
    "dotnet_interactive": {
     "language": "csharp"
    },
    "polyglot_notebook": {
     "kernelName": "csharp"
    }
   },
   "source": [
    "__The starting Program.fs in .NET 5 and earlier:__"
   ]
  },
  {
   "cell_type": "code",
   "execution_count": null,
   "metadata": {
    "dotnet_interactive": {
     "language": "fsharp"
    },
    "vscode": {
     "languageId": "polyglot-notebook"
    }
   },
   "outputs": [],
   "source": [
    "// Learn more about F# at http://docs.microsoft.com/dotnet/fsharp\n",
    "\n",
    "open System\n",
    "\n",
    "// Define a function to construct a message to print\n",
    "let from whom =\n",
    "    sprintf \"from %s\" whom\n",
    "\n",
    "[<EntryPoint>]\n",
    "let main argv =\n",
    "    let message = from \"F#\" // Call the function\n",
    "    printfn \"Hello world %s\" message\n",
    "    0 // return an integer exit code"
   ]
  },
  {
   "cell_type": "markdown",
   "metadata": {
    "dotnet_interactive": {
     "language": "csharp"
    },
    "polyglot_notebook": {
     "kernelName": "csharp"
    }
   },
   "source": [
    "As you can see, in .NET 5 and earlier the starting point is specified via the `[<EntryPoint>]` attribute. The `argv` parameter will be the arguments put behind the call of the executable in the CLI. Since this is not done per se in .NET 6, you need to capture it via a `System.Console` method:\n",
    "\n",
    "__The starting Program.fs in .NET 6 with inclusion and usage of the input arguments:__"
   ]
  },
  {
   "cell_type": "code",
   "execution_count": null,
   "metadata": {
    "dotnet_interactive": {
     "language": "fsharp"
    },
    "vscode": {
     "languageId": "polyglot-notebook"
    }
   },
   "outputs": [],
   "source": [
    "let userInput = \n",
    "    let args = System.Environment.GetCommandLineArgs()      // first argument will always be the filepath to the executable\n",
    "    Array.skip 1 args\n",
    "\n",
    "printfn \"Hello from F# with userInput: %A\" userInput"
   ]
  },
  {
   "cell_type": "markdown",
   "metadata": {
    "dotnet_interactive": {
     "language": "csharp"
    },
    "polyglot_notebook": {
     "kernelName": "csharp"
    }
   },
   "source": [
    "__The starting Program.fs in .NET 5 and earlier with usage of the input arguments:__"
   ]
  },
  {
   "cell_type": "code",
   "execution_count": null,
   "metadata": {
    "dotnet_interactive": {
     "language": "fsharp"
    },
    "vscode": {
     "languageId": "polyglot-notebook"
    }
   },
   "outputs": [],
   "source": [
    "open System\n",
    "\n",
    "let from whom =\n",
    "    sprintf \"from %s\" whom\n",
    "\n",
    "[<EntryPoint>]\n",
    "let main argv =     // `argv` will always exclude the filepath to the executable\n",
    "    let message = from \"F#\"\n",
    "    printfn \"Hello %s with userInput: %A\" message argv\n",
    "    0"
   ]
  },
  {
   "cell_type": "markdown",
   "metadata": {
    "dotnet_interactive": {
     "language": "csharp"
    },
    "polyglot_notebook": {
     "kernelName": "csharp"
    }
   },
   "source": [
    "Both apps will result in the following output when calling them:\n",
    "\n",
    "```powershell\n",
    "PS C:\\testFolder\\minimumConsoleAppNet6\\bin\\Debug\\net6.0\\win-x64\\publish> .\\minimumConsoleAppNet6.exe Hello, too!\n",
    "\n",
    "PS C:\\testFolder\\minimumConsoleAppNet5\\bin\\Debug\\net5.0\\win-x64\\publish> .\\minimumConsoleAppNet5.exe Hello, too!\n",
    "\n",
    "# output:\n",
    "Hello from F# with userInput: [|\"Hello\"; \"too!\"|]\n",
    "```\n",
    "\n",
    "### Framework-dependent vs. self-contained\n",
    "\n",
    "As written before, it is your choice of what is to be required when executing your console app. When deploying framework-dependent, the runtime (i.e. the .NET SDK) *must* be installed for your app to be executable. When deploying self-contained, the runtime is already packed into your app. Both options have their (dis)advantages: In a framework-dependent scenario, the user might need to install the .NET SDK on his device before being able to use your program. This can be annoying for the users of your app, depending on if they work with the .NET framework regularly or having nothing to do with it.  \n",
    "Self-contained executables need more space since they pack the runtime into them (hence the name). This also leads to the problem that the runtime is device-dependent: The .NET SDK for Linux differs from that for Windows which differs from that for MacOS, meaning that you must choose for which operating system (OS) you want to deploy your tool.\n",
    "In the project file, the deployment type is written into the property group. If you choose self-contained, you need to specify the target runtime:\n",
    "\n",
    "```xml\n",
    "<Project Sdk=\"Microsoft.NET.Sdk\">\n",
    "\n",
    "  <PropertyGroup>\n",
    "    <OutputType>Exe</OutputType>\n",
    "    <TargetFramework>net6.0</TargetFramework>\n",
    "    <SelfContained>true</SelfContained>                 <!--If this is set to false or is absent, deployment type will be framework-dependent-->\n",
    "    <RuntimeIdentifier>win-x64</RuntimeIdentifier>      <!--The OS your app shall run on-->\n",
    "  </PropertyGroup>\n",
    "\n",
    "  <ItemGroup>\n",
    "    <Compile Include=\"Program.fs\" />\n",
    "  </ItemGroup>\n",
    "\n",
    "</Project>\n",
    "```\n",
    "\n",
    "For a list of runtimes you can deploy to, look [here](https://docs.microsoft.com/en-us/dotnet/core/rid-catalog#using-rids).\n",
    "\n",
    "### Single file vs. folder\n",
    "\n",
    "Default is that your console app will be deployed as an executable file inside a folder with all libraries and other files needed for the execution. Sometimes, especially when you don't have an installer for your application (which will mostly be the case) or you don't want your app users to handle [ZIP archives](https://experience.dropbox.com/resources/what-is-a-zip-file), it might be a good choice to use single file-deployment. In that case, the whole folder content will be packed into a single file which itself will serve as an archive that gets extracted\n",
    "- into the user's temp folder at runtime and then executed (.NET 5).  \n",
    "- directly into the memory and then executed (.NET 6).  \n",
    "Using the single file deployment comes at the cost of a slightly slower startup time due to the extraction process.\n",
    "\n",
    "![](../../img/SelfExtractNet5.png)  \n",
    "__Our minimum console app in its extracted state (.NET 5).__\n",
    "\n",
    "<br>\n",
    "\n",
    "This is what our project file for single file deployment would look like:\n",
    "\n",
    "```xml\n",
    "<Project Sdk=\"Microsoft.NET.Sdk\">\n",
    "\n",
    "  <PropertyGroup>\n",
    "    <OutputType>Exe</OutputType>\n",
    "    <TargetFramework>net6.0</TargetFramework>\n",
    "    <PublishSingleFile>true</PublishSingleFile>                             <!--If this is set to false or is absent, deployment type will be folder-->\n",
    "    <IncludeAllContentForSelfExtract>true</IncludeAllContentForSelfExtract> <!--Only needed in .NET versions below 6 to generate \"real\" single files-->\n",
    "    <RuntimeIdentifier>win-x64</RuntimeIdentifier>                          <!--`<SelfContained>` is missing, since `<PublishSingleFile>` sets this to true, but the runtime identifier is still needed-->\n",
    "  </PropertyGroup>\n",
    "\n",
    "  <ItemGroup>\n",
    "    <Compile Include=\"Program.fs\" />\n",
    "  </ItemGroup>\n",
    "\n",
    "</Project>\n",
    "```\n",
    "\n",
    "Unfortunately, even for our small example app (which does nothing else than printing a single string), the required space is quite large (~ 65 MB). This is due to the large .NET SDK runtime shipped. Luckily, there are some features we can use to decrease the file size:\n",
    "\n",
    "```xml\n",
    "<Project Sdk=\"Microsoft.NET.Sdk\">\n",
    "\n",
    "  <PropertyGroup>\n",
    "    <OutputType>Exe</OutputType>\n",
    "    <TargetFramework>net6.0</TargetFramework>\n",
    "    <PublishSingleFile>true</PublishSingleFile>\n",
    "    <RuntimeIdentifier>win-x64</RuntimeIdentifier>\n",
    "    <EnableCompressionInSingleFile>true</EnableCompressionInSingleFile>     <!--Applies compression like in ZIP archives-->\n",
    "    <PublishTrimmed>true</PublishTrimmed>                                   <!--Checks during compiletime (into CIL) for unused core libraries and classes and excludes them-->\n",
    "  </PropertyGroup>\n",
    "\n",
    "  <ItemGroup>\n",
    "    <Compile Include=\"Program.fs\" />\n",
    "  </ItemGroup>\n",
    "\n",
    "</Project>\n",
    "```\n",
    "\n",
    "`<EnableCompression>` decreases file size by about 50 %. This comes at the cost of a higher startup time.  \n",
    "`<PublishTrimmed>` decreases file size depending on the number of unused libraries and classes but compiletime is noticeably increased. Since this feature is still in beta stage, it is possible that the resulting app does not start or fails under special circumstances, though this seems rarely to be the case (I personally never encountered it).\n",
    "\n",
    "There are a lot (!) of different properties you can set in your project file. I won't cover all of them here, but here are a few other things that might be important to you:\n",
    "\n",
    "```xml\n",
    "<Project Sdk=\"Microsoft.NET.Sdk\">\n",
    "\n",
    "  <PropertyGroup>\n",
    "    <OutputType>Exe</OutputType>\n",
    "    <TargetFramework>net6.0</TargetFramework>\n",
    "    <PublishSingleFile>true</PublishSingleFile>\n",
    "    <RuntimeIdentifier>win-x64</RuntimeIdentifier>\n",
    "    <CultureInvariant>true</CultureInvariant>       <!--Depending on the regional settings of your system, you might get problems with different signs (`,`, `.`, and so on)-->\n",
    "                                                    <!--Due to this, it is best practice to set `<CultureInvariant>` to true, so that you don't have to expect parsing errors-->\n",
    "    <InvariantGlobalization>true</InvariantGlobalization>   <!--Comparable to the setting above-->\n",
    "    <ServerGarbageCollection>true</ServerGarbageCollection>     <!--Important to set this to true if you don't want to expect performance problems due to garbage collection-->\n",
    "    <Version>0.0.1</Version>                    <!--There are 3 version settings: `<Version>`, `AssemblyVersion>, and `FileVersion`. `<Version>` is an informal version tag of your application-->\n",
    "    <AssemblyVersion>0.0.1.0</AssemblyVersion>  <!--`<AssemblyVersion>` is the version tag that you can access to while using your app via `System.Reflection.Assembly.GetExecutingAssembly()`-->\n",
    "    <FileVersion>0.0.1.0</FileVersion>          <!--This is the version tag that you can see when rightclicking on your app and looking at the properties. It defaults to 1.0.0.0-->\n",
    "                                                <!--Keep in mind that the versioning follows the `(Major).(Minor).(Build).(Revision)` pattern (except `<Version>` tag)-->\n",
    "\n",
    "  </PropertyGroup>\n",
    "\n",
    "  <ItemGroup>\n",
    "    <Compile Include=\"Program.fs\" />\n",
    "  </ItemGroup>\n",
    "\n",
    "</Project>\n",
    "```\n",
    "\n",
    "_([Further reading](https://dotnetcoretutorials.com/2021/11/10/single-file-apps-in-net-6/))_\n",
    "\n",
    "## How to create an F# console app in .NET\n",
    "\n",
    "There are several ways to start a console app written in F#. As prerequisite you need to have the .NET SDK installed.\n",
    "\n",
    "### Via .NET CLI\n",
    "\n",
    "With the .NET SDK installed, you already are able to create a console app barebone into your folder with any CLI using the following command:\n",
    "\n",
    "```powershell\n",
    "dotnet new console -lang \"F#\" --framework net6.0    # or any other .NET version you want to use\n",
    "```\n",
    "\n",
    "You can also specify an output path (`-o [yourPath]`) and a name (`-n [desiredName]`).\n",
    "\n",
    "The console app will consist of the project file (as seen above) and the Program.fs file.\n",
    "\n",
    "### Via Visual Studio\n",
    "\n",
    "Open a new Visual Studio instance:\n",
    "\n",
    "![](../../img/CreateANewProjectWindow1.png)  \n",
    "__Select F# Console Application. If not present, filter for F# language.__\n",
    "\n",
    "<br>\n",
    "\n",
    "![](../../img/CreateANewProjectWindow2.png)  \n",
    "__Choose name and location of your console app.__\n",
    "\n",
    "<br>\n",
    "\n",
    "![](../../img/CreateANewProjectWindow3.png)  \n",
    "__Choose your target .NET version.__\n",
    "\n",
    "<br>\n",
    "\n",
    "### Building vs. publishing\n",
    "\n",
    "When creating a file from the project, [MSBuild (the Microsoft Build Engine)](https://docs.microsoft.com/en-us/visualstudio/msbuild/msbuild?view=vs-2022) takes the information from the project file to determine what and how to build. But you are not restricted to that. Most of the MSBuild information can be given directly when deploying the app (see below).  \n",
    "As compiling methods you can choose between building and publishing. When building, all files and dependencies get compiled and an executable will be created. When publishing, building will be executed but on top it will be taken into account that the result shall be used as a whole (in the shape of a file or a folder), thus putting everything together and making it deployable. For normal, you _build_ libraries to use them and _build_ console apps to test them but you _publish_ console apps when you want to distribute them. Since publishing is special to apps in general (but not to libraries), we will focus on it in the following.\n",
    "\n",
    "#### Via .NET CLI\n",
    "\n",
    "Using a CLI, publishing your project works as follows:\n",
    "\n",
    "```powershell\n",
    "dotnet publish\n",
    "```\n",
    "\n",
    "when executed in the folder where project file is located, otherwise the path to the project file containing folder or to the project file itself must be given:\n",
    "\n",
    "```powershell\n",
    "dotnet publish C:\\testFolder\\minimumConsoleAppNet6\n",
    "dotnet publish C:\\testFolder\\minimumConsoleAppNet6\\minimumConsoleAppNet6.fsproj\n",
    "\n",
    "# relative paths are possible too\n",
    "```\n",
    "\n",
    "As written earlier, you can give a lot of arguments into MSBuild, e.g.:\n",
    "\n",
    "```powershell\n",
    "dotnet publish -o [path]                        # output directory\n",
    "dotnet publish -f [framework]                   # target framework, e.g. `net6.0`\n",
    "dotnet publish -r [rID]                         # target runtime, `[rID]` being the runtime identifier, as seen in the project file above\n",
    "dotnet publish --self-contained [true]/[false]\n",
    "dotnet publish -p:[propName]=[value]            # `[propName]` is the name of the property you want to set, [value] the value you want to set it to, e.g.\n",
    "dotnet publish -p:PublishSingleFile=true\n",
    "```\n",
    "\n",
    "For a full list of commands, look [here](https://docs.microsoft.com/en-us/dotnet/core/tools/dotnet-publish).\n",
    "\n",
    "#### Via FAKE\n",
    "\n",
    "[FAKE](https://fake.build/) is a nice tool that aids with automatizing building, publishing and deploying. It also allows to chain Unit Tests while doing so.  \n",
    "If you already have a FAKE build script ready, it is very easy to extend it with a publishing task:  \n",
    "(If not, you might want to look into the FAKE build scripts we use in our repositories)"
   ]
  },
  {
   "cell_type": "code",
   "execution_count": null,
   "metadata": {
    "dotnet_interactive": {
     "language": "fsharp"
    },
    "vscode": {
     "languageId": "polyglot-notebook"
    }
   },
   "outputs": [],
   "source": [
    "// we start with a simple build\n",
    "let publishBinariesWin = BuildTask.create \"PublishBinariesWin\" [clean.IfNeeded; build.IfNeeded] {\n",
    "    let outputPath = sprintf \"%s/win-x64\" publishDir\n",
    "    solutionFile\n",
    "    |> DotNet.publish (fun p ->\n",
    "        // and then call MSBuild to run with the arguments we parse into it:\n",
    "        let standardParams = Fake.DotNet.MSBuild.CliArguments.Create ()\n",
    "        {\n",
    "            p with\n",
    "                // set some of the properties...\n",
    "                Runtime = Some \"win-x64\"\n",
    "                Configuration = DotNet.BuildConfiguration.fromString configuration\n",
    "                OutputPath = Some outputPath\n",
    "                MSBuildParams = {\n",
    "                    standardParams with\n",
    "                        Properties = [      // here you can set all the properties that were not treated before\n",
    "                            \"Version\", stableVersionTag\n",
    "                            \"Platform\", \"x64\"\n",
    "                            \"PublishSingleFile\", \"true\"\n",
    "                        ]\n",
    "                };\n",
    "        }\n",
    "    )\n",
    "}"
   ]
  },
  {
   "cell_type": "markdown",
   "metadata": {
    "dotnet_interactive": {
     "language": "csharp"
    },
    "polyglot_notebook": {
     "kernelName": "csharp"
    }
   },
   "source": [
    "#### Via Visual Studio\n",
    "\n",
    "![](../../img/Publish1.png)  \n",
    "__Right click on your project file in the solution explorer and choose \"Publish...\".__\n",
    "\n",
    "<br>\n",
    "\n",
    "![](../../img/Publish2.png)  \n",
    "__Choose your desired output target (e.g. \"Folder\" if you like to get your executable file in a folder).__\n",
    "\n",
    "<br>\n",
    "\n",
    "![](../../img/Publish3.png)  \n",
    "__Set the output path.__\n",
    "\n",
    "<br>\n",
    "\n",
    "![](../../img/Publish4.png)  \n",
    "__By clicking on \"Show all settings\" you can apply additional settings like deployment type, target runtime, etc. Finish the publishing via clicking on \"Publish\" at the top.__\n",
    "\n",
    "## How to extend console apps\n",
    "\n",
    "You now know how to create and deploy console apps but of course you want more than just printing Hello to the World.  \n",
    "The most common extension of your current console app (besides adding code) is the addition of further source files. You can either just create the file in the project folder and add it to the project file...\n",
    "\n",
    "```xml\n",
    "<Project Sdk=\"Microsoft.NET.Sdk\">\n",
    "  <PropertyGroup>\n",
    "    <OutputType>Exe</OutputType>\n",
    "    <TargetFramework>net6.0</TargetFramework>\n",
    "  </PropertyGroup>\n",
    "  <ItemGroup>\n",
    "    <Compile Include=\"SecondSourceFile.fs\" />\n",
    "    <Compile Include=\"Program.fs\" />\n",
    "  </ItemGroup>\n",
    "</Project>\n",
    "```\n",
    "\n",
    "...or use the Visual Studio interface for that:\n",
    "\n",
    "![](../../img/AddFile1.png)\n",
    "\n",
    "<br>\n",
    "\n",
    "Keep in mind that your executing source file (most often Program.fs) must be at the last position!\n",
    "\n",
    "<br>\n",
    "\n",
    "What will also often be the case, is that you will want to use external libraries inside your tool. [NuGet](https://www.nuget.org/) is the best source for that. To add a NuGet package to your app, you can either add the line for it to the project file, or use the .NET CLI or Visual Studio for doing so:\n",
    "\n",
    "```powershell\n",
    "dotnet add package [packageName]    # with `[packageName]` being, e.g., `FSharpAux`\n",
    "```\n",
    "\n",
    "![](../../img/ManageNuGet1.png)\n",
    "\n",
    "<br>\n",
    "\n",
    "![](../../img/ManageNuGet2.png)\n",
    "\n",
    "<br>\n",
    "\n",
    "The resulting project file:\n",
    "\n",
    "```xml\n",
    "<Project Sdk=\"Microsoft.NET.Sdk\">\n",
    "\n",
    "  <PropertyGroup>\n",
    "    <OutputType>Exe</OutputType>\n",
    "    <TargetFramework>net6.0</TargetFramework>\n",
    "  </PropertyGroup>\n",
    "\n",
    "  <ItemGroup>\n",
    "    <Compile Include=\"Program.fs\" />\n",
    "  </ItemGroup>\n",
    "\n",
    "  <ItemGroup>\n",
    "    <PackageReference Include=\"FSharpAux\" Version=\"1.1.0\" />\n",
    "  </ItemGroup>\n",
    "  \n",
    "</Project>\n",
    "```\n",
    "There are a few very helpful libraries for console apps that I want to show you in the following.\n",
    "\n",
    "### Argu\n",
    "\n",
    "[Argu](https://fsprojects.github.io/Argu/) is a library which facilitates the creation of command-line argument parsing a lot for you. It allows you to create commands and infinitely nestable subcommands for your console app. It comes with built-in error parsing and creating a simple help-command that grows along the commands you add.  \n",
    "Due to its implementation in F#, it is especially simple to use in F# console apps."
   ]
  },
  {
   "cell_type": "code",
   "execution_count": null,
   "metadata": {
    "dotnet_interactive": {
     "language": "fsharp"
    },
    "vscode": {
     "languageId": "polyglot-notebook"
    }
   },
   "outputs": [],
   "source": [
    "#r \"nuget: Argu, 6.1.1\"\n",
    "\n",
    "open Argu\n",
    "\n",
    "// Union type for a kind of command\n",
    "type MainCommands =\n",
    "    // each field is a command. Specific properties are realized via attributes\n",
    "    | [<CliPrefix(CliPrefix.None)>]                         PrintHWFs\n",
    "    | [<CliPrefix(CliPrefix.None)>]                         PrintHWfrom     of person : string\n",
    "    // the `ParseResults<yourType>` type makes subcommands possible (see below)\n",
    "    | [<CliPrefix(CliPrefix.None)>][<AltCommandLine(\"-e\")>] PrintHWextended of ParseResults<SubCommands>\n",
    "    // the `IArgParserTemplates` allows for adding usage descriptions which are shown when calling `--help` or giving a wrong input argument\n",
    "    interface IArgParserTemplate with\n",
    "        member this.Usage =\n",
    "            match this with\n",
    "            | PrintHWFs         -> \"Print Hello World\"\n",
    "            | PrintHWfrom _     -> \"Print Hello World from someone\"\n",
    "            | PrintHWextended _ -> \"Print Hello World from someone to someone\"\n",
    "\n",
    "and SubCommands =\n",
    "    | To       of person : string\n",
    "    | FromTo   of sender : string * receiver : string\n",
    "    interface IArgParserTemplate with\n",
    "        member this.Usage =\n",
    "            match this with\n",
    "            | To _      -> \"Receiver of the message\"\n",
    "            | FromTo _  -> \"Sender and receiver of the message\"\n",
    "\n",
    "// initialization of the parser\n",
    "let parser = ArgumentParser.Create<MainCommands>()\n",
    "\n",
    "[<EntryPoint>]\n",
    "let main argv =\n",
    "    try \n",
    "        // parse the user's command-line arguments\n",
    "        let pr = parser.ParseCommandLine(inputs = argv, raiseOnUsage = true)\n",
    "        // return the results\n",
    "        let ar = pr.GetAllResults()\n",
    "        // this is the actual control flow: What shall happen if the user gives what argument, what second argument, and so on\n",
    "        match ar.Length with\n",
    "        | 0 -> printfn \"No input.\"\n",
    "        | _ ->\n",
    "            ar\n",
    "            |> List.iter (\n",
    "                fun r ->\n",
    "                    match r with\n",
    "                    | PrintHWFs         -> printfn \"Hello World from F#!\"\n",
    "                    | PrintHWfrom p     -> printfn $\"Hello World from {p}!\"\n",
    "                    | PrintHWextended p ->\n",
    "                        p.GetAllResults()\n",
    "                        |> List.iter (\n",
    "                            fun r2 ->\n",
    "                                match r2 with\n",
    "                                | To p2             -> printfn $\"Hello World from F# to {p2}!\"\n",
    "                                | FromTo (p2,p3)    -> printfn $\"Hello World from {p2} to {p3}!\"\n",
    "                        )\n",
    "            )\n",
    "    with e -> printfn \"%A\" e\n",
    "    0"
   ]
  },
  {
   "cell_type": "markdown",
   "metadata": {
    "dotnet_interactive": {
     "language": "csharp"
    },
    "polyglot_notebook": {
     "kernelName": "csharp"
    }
   },
   "source": [
    "Notable examples:\n",
    "\n",
    "- [ArcCommander](https://github.com/nfdi4plants/arcCommander)\n",
    "- [ProteomIqon](https://github.com/CSBiology/ProteomIQon)\n",
    "\n",
    "### Spectre.Console\n",
    "\n",
    "Another library extending command-line argument parsing is [Spectre.Console](https://spectreconsole.net/). Compared to Argu, it is less intuitive to use in an F# project due to its object-oriented (OO) design. Aside from that, it comes with a load of extra features like table depiction, tree construction, live updates, charts, and even pixel drawings!\n",
    "\n",
    "Setting a table:"
   ]
  },
  {
   "cell_type": "code",
   "execution_count": null,
   "metadata": {
    "dotnet_interactive": {
     "language": "fsharp"
    },
    "vscode": {
     "languageId": "polyglot-notebook"
    }
   },
   "outputs": [],
   "source": [
    "#r \"nuget: Spectre.Console, 0.43.0\"\n",
    "#r \"nuget: FSharpAux, 1.1.0\"\n",
    "\n",
    "open System\n",
    "open System.IO\n",
    "open System.Threading\n",
    "open Spectre.Console\n",
    "open FSharpAux\n",
    "\n",
    "[<EntryPoint>]\n",
    "let main _ =\n",
    "\n",
    "    // a test file for our purposes\n",
    "    let table =\n",
    "        let file = File.ReadAllLines(Path.Combine(\"c:\", \"testFolder\", \"table.tsv\"))\n",
    "        file\n",
    "        |> Array.map (\n",
    "            fun s -> s.Split('\\t')\n",
    "        )\n",
    "        |> array2D\n",
    "\n",
    "    // initialize a new table and set the border style\n",
    "    let spectreTable = new Table()\n",
    "    spectreTable.Border <- TableBorder.HeavyHead\n",
    "\n",
    "    let cols = table[0,0 ..]\n",
    "    let rows = table[1 ..,0 ..]\n",
    "\n",
    "    // apply some markup to our strings\n",
    "    let markupdCols = cols |> Array.map (fun s -> ($\"[bold][italic]{s}[/][/]\"))\n",
    "    let markupdRows = \n",
    "        rows\n",
    "        |> Array2D.mapColI (\n",
    "            fun iCol s ->\n",
    "                if iCol = 4 then\n",
    "                    match int s with\n",
    "                    | x when x > 80     -> $\"[red]{s}[/]\"\n",
    "                    | x when x <= 80    -> $\"[green]{s}[/]\"\n",
    "                    | _                 -> failwith \"cannot happen\"\n",
    "                else s\n",
    "        )\n",
    "\n",
    "    // add columns and rows to the table\n",
    "    spectreTable.AddColumns(markupdCols) |> ignore\n",
    "    for i = 0 to rows.GetLength(0) - 1 do\n",
    "        spectreTable.AddRow(markupdRows.[i,0 ..])\n",
    "        |> ignore\n",
    "\n",
    "    spectreTable.Title <- TableTitle(\"Musterpeople\")\n",
    "\n",
    "    // display the table\n",
    "    AnsiConsole.Write(spectreTable)"
   ]
  },
  {
   "cell_type": "markdown",
   "metadata": {
    "dotnet_interactive": {
     "language": "csharp"
    },
    "polyglot_notebook": {
     "kernelName": "csharp"
    }
   },
   "source": [
    "Construct a tree:"
   ]
  },
  {
   "cell_type": "code",
   "execution_count": null,
   "metadata": {
    "dotnet_interactive": {
     "language": "fsharp"
    },
    "vscode": {
     "languageId": "polyglot-notebook"
    }
   },
   "outputs": [],
   "source": [
    "type Dir = {\n",
    "    Name    : string\n",
    "    Subdirs : Dir []\n",
    "    Files   : FileInfo []\n",
    "}\n",
    "\n",
    "[<EntryPoint>]\n",
    "let main _ =\n",
    "\n",
    "    // special markup for special files\n",
    "    let matchFileExt f =\n",
    "        match f with\n",
    "        | x when String.contains(\".jpg\") x -> $\"[orange1]{f}[/]\"\n",
    "        | x when String.contains(\".png\") x -> $\"[gold1]{f}[/]\"\n",
    "        | x when String.contains(\".txt\") x -> f\n",
    "        | x when String.contains(\".xlsx\") x -> $\"[green]{f}[/]\"\n",
    "        | x when String.contains(\".pub\") x -> $\"[darkslategray3]{f}[/]\"\n",
    "        | x when String.contains(\".rtf\") x -> $\"[blue]{f}[/]\"\n",
    "        | _ -> f\n",
    "\n",
    "    let rec constructDir path = {\n",
    "        Name    = (DirectoryInfo path).Name\n",
    "        Files   = Directory.GetFiles(path) |> Array.map FileInfo\n",
    "        Subdirs = \n",
    "            Directory.GetDirectories(path)\n",
    "            |> Array.map constructDir\n",
    "    }\n",
    "\n",
    "    let topDir = constructDir @\"C:\\testFolder\\testDir\"\n",
    "\n",
    "    // add a node with every new file and folder but only check folders for files and subfolders\n",
    "    let rec addNode (node : TreeNode) dir =\n",
    "        dir.Subdirs |> Array.map (fun di -> addNode (node.AddNode(di.Name)) di) |> ignore\n",
    "        dir.Files |> Array.map (fun fi -> node.AddNode(fi.Name |> matchFileExt)) |> ignore\n",
    "        node\n",
    "\n",
    "    // initialize tree and style it\n",
    "    let root = Tree(topDir.Name)\n",
    "    root.Style <- Style(Color.Red1)\n",
    "    root.Guide <- TreeGuide.Line\n",
    "    // add the nodes\n",
    "    root.AddNodes(topDir.Files |> Array.map (fun fi -> fi.Name |> matchFileExt))\n",
    "    topDir.Subdirs \n",
    "    |> Array.map (\n",
    "        fun di ->\n",
    "            addNode (root.AddNode(di.Name)) di\n",
    "    )\n",
    "    |> ignore\n",
    "\n",
    "    AnsiConsole.Write(root)"
   ]
  },
  {
   "cell_type": "markdown",
   "metadata": {
    "dotnet_interactive": {
     "language": "csharp"
    },
    "polyglot_notebook": {
     "kernelName": "csharp"
    }
   },
   "source": [
    "Building a Bar Chart:"
   ]
  },
  {
   "cell_type": "code",
   "execution_count": null,
   "metadata": {
    "dotnet_interactive": {
     "language": "fsharp"
    },
    "vscode": {
     "languageId": "polyglot-notebook"
    }
   },
   "outputs": [],
   "source": [
    "[<EntryPoint>]\n",
    "let main _ =\n",
    "\n",
    "    let noOfContributionsIn2021 =\n",
    "        [|(\"muehlhaus\", 158); (\"geodels\", 0); (\"MikhayN\", 0); (\"HLWeil\", 463);\n",
    "        (\"ZimmerD\", 273); (\"kMutagene\", 1858); (\"bvenn\", 260); (\"Etschbeijer\", 0);\n",
    "        (\"bellacapilla\", 0); (\"Joott\", 754); (\"Freymaurer\", 710); (\"SchuckL\", 0);\n",
    "        (\"omaus\", 609); (\"ZimmerA\", 352); (\"LibraChris\", 121); (\"CMR248\", 122);\n",
    "        (\"JessicaFaryadMarani\", 0); (\"zieglerSe\", 18); (\"Falkenei\", 7);\n",
    "        (\"vLeidel\", 0)|]\n",
    "        |> Array.filter (fun (person,conts) -> conts > 0)\n",
    "        |> Array.sortByDescending snd\n",
    "\n",
    "    let colors = [|\n",
    "        Color.Red\n",
    "        Color.Gold1\n",
    "        Color.Lime\n",
    "        Color.Yellow\n",
    "        Color.Blue\n",
    "        Color.Fuchsia\n",
    "        Color.Silver\n",
    "        Color.Teal\n",
    "        Color.Olive\n",
    "        Color.Maroon\n",
    "        Color.White\n",
    "        Color.LightSteelBlue1\n",
    "        Color.LightPink1\n",
    "        Color.Green\n",
    "        Color.Aqua\n",
    "    |]\n",
    "\n",
    "    let rnd = Random()\n",
    "\n",
    "    // initialize bar chart with style\n",
    "    let barChart = BarChart()\n",
    "    barChart.Width <- 100\n",
    "    barChart.Label <- \"[underline]No. of GitHub contributions (in 2021)[/]\"\n",
    "    barChart.CenterLabel() |> ignore\n",
    "\n",
    "    // add a bar with a new color (and make sure the color is unique)\n",
    "    let rec addWithColor i usedColors =\n",
    "        let color = colors |> Array.shuffleFisherYates rnd |> Array.head\n",
    "        let cond1 = i < noOfContributionsIn2021.Length\n",
    "        let cond2 = List.contains color usedColors\n",
    "        if cond1 && not cond2 then\n",
    "            barChart.AddItem(\n",
    "                noOfContributionsIn2021[i] |> fst, \n",
    "                noOfContributionsIn2021[i] |> snd |> float, \n",
    "                color\n",
    "            )\n",
    "            |> ignore\n",
    "            addWithColor (i + 1) (color :: usedColors)\n",
    "        elif List.contains color usedColors then\n",
    "            addWithColor i usedColors\n",
    "\n",
    "    addWithColor 0 []\n",
    "\n",
    "    AnsiConsole.Write(barChart)"
   ]
  },
  {
   "cell_type": "markdown",
   "metadata": {
    "dotnet_interactive": {
     "language": "csharp"
    },
    "polyglot_notebook": {
     "kernelName": "csharp"
    }
   },
   "source": [
    "(Re)Drawing a picture:"
   ]
  },
  {
   "cell_type": "code",
   "execution_count": null,
   "metadata": {
    "dotnet_interactive": {
     "language": "fsharp"
    },
    "vscode": {
     "languageId": "polyglot-notebook"
    }
   },
   "outputs": [],
   "source": [
    "#r \"nuget: System.Drawing.Common, 6.0.0\"\n",
    "\n",
    "[<EntryPoint>]\n",
    "let main _ =\n",
    "\n",
    "    let bm = new System.Drawing.Bitmap(@\"C:\\testFolder\\testDir\\sp.png\")\n",
    "\n",
    "    let xMax = bm.Width - 1\n",
    "    let yMax = bm.Height - 1\n",
    "\n",
    "    // initialize a canvas with width and height\n",
    "    let cnvs = Canvas(xMax + 1,yMax + 1)\n",
    "\n",
    "    for y = 0 to yMax do\n",
    "        for x = 0 to xMax do\n",
    "            let px = bm.GetPixel(x,y)\n",
    "            let col = Color(px.R, px.G, px.B)\n",
    "            // set pixel after pixel for our picture\n",
    "            cnvs.SetPixel(x,y,col)\n",
    "            |> ignore\n",
    "\n",
    "    AnsiConsole.Write(cnvs)\n",
    "    Console.WriteLine()"
   ]
  },
  {
   "cell_type": "markdown",
   "metadata": {
    "dotnet_interactive": {
     "language": "csharp"
    },
    "polyglot_notebook": {
     "kernelName": "csharp"
    }
   },
   "source": [
    "Starting a live update:"
   ]
  },
  {
   "cell_type": "code",
   "execution_count": null,
   "metadata": {
    "dotnet_interactive": {
     "language": "fsharp"
    },
    "vscode": {
     "languageId": "polyglot-notebook"
    }
   },
   "outputs": [],
   "source": [
    "[<EntryPoint>]\n",
    "let main _ =\n",
    "    \n",
    "    // initialize a status report\n",
    "    AnsiConsole.Status().Start(\n",
    "        // first message\n",
    "        \"Initiating looong list...\", \n",
    "        fun stCtxt -> \n",
    "            // do our stuff\n",
    "            List.init 100000000 id |> ignore\n",
    "            // update message after task is done\n",
    "            stCtxt.Status <- \"Done.\"\n",
    "            Thread.Sleep(1000)\n",
    "    )"
   ]
  },
  {
   "cell_type": "markdown",
   "metadata": {
    "dotnet_interactive": {
     "language": "csharp"
    },
    "polyglot_notebook": {
     "kernelName": "csharp"
    }
   },
   "source": [
    "### ConsoleToolMenu\n",
    "\n",
    "A library written by myself that shall provide a simple text-based interface. Its purpose lies especially in offering easy-to-create menu-like structures via the creation of `Options` that can be infinitely nested and assembled with actions that get called when choosing a bullet point."
   ]
  },
  {
   "cell_type": "code",
   "execution_count": null,
   "metadata": {
    "dotnet_interactive": {
     "language": "fsharp"
    },
    "vscode": {
     "languageId": "polyglot-notebook"
    }
   },
   "outputs": [],
   "source": [
    "open ConsoleToolMenu\n",
    "open ConsoleToolMenu.Functions\n",
    "\n",
    "// initialize the options you want to have\n",
    "let options = [|\n",
    "    // each option consists of a name and an action that gets triggered when the option is chosen\n",
    "    Option.create \"Option 1\" (fun _ -> printfn \"Option 1 was chosen\")\n",
    "    Option.create \"Option 2\" (fun _ -> printfn \"Option 2 was chosen\")\n",
    "    // options can serve as folders, inhabiting other options\n",
    "    Option.createFolder \n",
    "        \"Option 3\" \n",
    "        (fun _ -> printfn \"Option 3 was chosen\")\n",
    "        (Array.map2 \n",
    "            Option.create \n",
    "            [|\"SubOption1\"; \"SubOption2\"|] \n",
    "            [|(fun _ -> printfn \"SubOption 1 was chosen\"); fun _ -> printfn \"SubOption 2 was chosen\"|]\n",
    "        )\n",
    "    Option.createFolder \n",
    "        \"Option 4\" \n",
    "        (fun _ -> ()) \n",
    "        [|Option.createFolder \n",
    "            \"SubOption 1b\" (fun () -> ()) [|\n",
    "                Option.create \"SubSubOption 1\" (fun _ -> printfn \"SubSubOption 1 chosen\")\n",
    "            |]\n",
    "        |]\n",
    "|]\n",
    "\n",
    "// choose the look of your cursor\n",
    "let cursor = SelectionPointer.create '>'\n",
    "\n",
    "// add messages for start and end\n",
    "let startMsg = \"Hello there\"\n",
    "let endMsg = \"Goodbye there\"\n",
    "// start the menu. Use Up and Down arrow keys, and Enter and Escape to navigate\n",
    "start cursor startMsg endMsg options"
   ]
  },
  {
   "cell_type": "markdown",
   "metadata": {
    "dotnet_interactive": {
     "language": "csharp"
    },
    "polyglot_notebook": {
     "kernelName": "csharp"
    }
   },
   "source": [
    "### NLog\n",
    "\n",
    "Logging is an important part of any bigger application. It makes debugging and app usage documentation much easier and logging libraries also often offer customization of the console appearance to some extent.  \n",
    "One of the largest logging libraries in the .NET ecosystem is [NLog](https://nlog-project.org/). It allows for writing to several targets (files and the console itself, e.g.) and can be customized via an XML-settings file or directly in code.  \n",
    "Like Spectre.Console, it is a C# library which means we have to use it in an OO way."
   ]
  },
  {
   "cell_type": "code",
   "execution_count": null,
   "metadata": {
    "dotnet_interactive": {
     "language": "fsharp"
    },
    "vscode": {
     "languageId": "polyglot-notebook"
    }
   },
   "outputs": [],
   "source": [
    "#r \"nuget: NLog, 4.7.13\"\n",
    "\n",
    "open System.IO\n",
    "open NLog\n",
    "open NLog.Config\n",
    "open NLog.Targets\n",
    "open NLog.Conditions\n",
    "\n",
    "// we start with initializing the base config object which can be modified\n",
    "let config = new LoggingConfiguration()\n",
    "\n",
    "// we initialize the first console target\n",
    "let consoleTarget1 = new ColoredConsoleTarget(\"console\")\n",
    "// and set its layout to a new one we created. The string is parsed internally similar to how interpolated strings work\n",
    "let layoutConsole1 = new Layouts.SimpleLayout(@\"${message} ${exception}\")\n",
    "consoleTarget1.Layout <- layoutConsole1\n",
    "\n",
    "// a second target that differs from the first one\n",
    "let consoleTarget2 = new ColoredConsoleTarget(\"console\")\n",
    "let layoutConsole2 = new Layouts.SimpleLayout(@\"${level:uppercase=true} ${message} ${exception}\")\n",
    "consoleTarget2.Layout <- layoutConsole2\n",
    "\n",
    "// a file target, for writing into a text file\n",
    "let fileTarget = new FileTarget(\"file\")\n",
    "let folderPath = Path.Combine(\"C:\", \"testFolder\", \"minimumConsoleAppNet6\")\n",
    "// we set filename and layout for the file target\n",
    "let fileName = new Layouts.SimpleLayout(Path.Combine (folderPath, @\"minimumConsoleAppNet6.log\"))\n",
    "let layoutFile = new Layouts.SimpleLayout(\"${longdate} ${level:uppercase=true} ${message} ${exception}\")\n",
    "fileTarget.FileName <- fileName\n",
    "fileTarget.Layout <- layoutFile\n",
    "\n",
    "// the targets are added to the config object\n",
    "config.AddTarget(consoleTarget1)\n",
    "config.AddTarget(consoleTarget2)\n",
    "config.AddTarget(fileTarget)\n",
    "\n",
    "// we define rules for colors that shall differ from the default color theme (which is black background, grey font)\n",
    "let warnColorRule = new ConsoleRowHighlightingRule()\n",
    "warnColorRule.Condition <- ConditionParser.ParseExpression(\"level == LogLevel.Warn\")\n",
    "warnColorRule.ForegroundColor <- ConsoleOutputColor.Yellow\n",
    "let errorColorRule = new ConsoleRowHighlightingRule()\n",
    "errorColorRule.Condition <- ConditionParser.ParseExpression(\"level == LogLevel.Error\")\n",
    "errorColorRule.ForegroundColor <- ConsoleOutputColor.Red\n",
    "let fatalColorRule = new ConsoleRowHighlightingRule()\n",
    "fatalColorRule.Condition <- ConditionParser.ParseExpression(\"level == LogLevel.Fatal\")\n",
    "fatalColorRule.ForegroundColor <- ConsoleOutputColor.Red\n",
    "fatalColorRule.BackgroundColor <- ConsoleOutputColor.DarkYellow\n",
    "\n",
    "// now we add the newly defined rules to the console target\n",
    "consoleTarget2.RowHighlightingRules.Add(warnColorRule)\n",
    "consoleTarget2.RowHighlightingRules.Add(errorColorRule)\n",
    "consoleTarget2.RowHighlightingRules.Add(fatalColorRule)\n",
    "\n",
    "// we declare which message of a log level goes to which target\n",
    "config.AddRuleForOneLevel(LogLevel.Info, consoleTarget1)\n",
    "config.AddRuleForOneLevel(LogLevel.Info, fileTarget)\n",
    "config.AddRuleForOneLevel(LogLevel.Trace, fileTarget) // here, we only write Trace and Debug log level into the file but don't show them in the console\n",
    "config.AddRuleForOneLevel(LogLevel.Debug, fileTarget)\n",
    "config.AddRuleForOneLevel(LogLevel.Warn, consoleTarget2)\n",
    "config.AddRuleForOneLevel(LogLevel.Warn, fileTarget)\n",
    "config.AddRuleForOneLevel(LogLevel.Error, consoleTarget2)\n",
    "config.AddRuleForOneLevel(LogLevel.Error, fileTarget)\n",
    "config.AddRuleForOneLevel(LogLevel.Fatal, consoleTarget2)\n",
    "config.AddRuleForOneLevel(LogLevel.Fatal, fileTarget)\n",
    "\n",
    "// set the config for the logger\n",
    "LogManager.Configuration <- config\n",
    "\n",
    "// finally, we bind a logger of the name \"NLog logger\" to the name log which we will use afterwards\n",
    "let log = LogManager.GetLogger(\"NLog logger\")"
   ]
  },
  {
   "cell_type": "markdown",
   "metadata": {
    "dotnet_interactive": {
     "language": "csharp"
    },
    "polyglot_notebook": {
     "kernelName": "csharp"
    }
   },
   "source": [
    "Notable examples:\n",
    "\n",
    "- [ProteomIqon](https://github.com/CSBiology/ProteomIQon)\n",
    "- [ArcCommander](https://github.com/nfdi4plants/arcCommander)\n",
    "\n",
    "## App conventions\n",
    "\n",
    "Stylewise, there are a few things to know:\n",
    "\n",
    "- When tackling the naming of commands and subcommands, try to stick closely to easy to follow names. Look at the dotnet CLI or the Git CLI for impressions\n",
    "  - This is especially important when designing your app API-wise\n",
    "- `--[word]` or `-[letter]` for argument specifiers (as in Argu!)\n",
    "- Not directly related to APIs, but it is common to return an [exit integer](https://en.wikipedia.org/wiki/Exit_status):\n",
    "  - 0 for successfull termination\n",
    "  - 1 to 255 for any error\n",
    "  - Do this via returning the exit code as the last integer (see .NET 5 Program.fs example above) or use `System.Environment.Exit(code)`\n",
    "- Try to keep your executing source file (default: Program.fs) as clean as possible. Like when working with libraries, try not to pack all the code into 1 source file but instead distribute it according to functionality into modules and classes within respective source files\n",
    "\n",
    "### Data folders\n",
    "\n",
    "The following does not solely apply to console apps but to all applications in general:  \n",
    "More complex apps might need to read or save config or user-specific data. Best practice is to follow common standards for doing so, like [XDG Base Directory Specification](https://specifications.freedesktop.org/basedir-spec/basedir-spec-latest.html) which is based on Linux or [directories](https://github.com/dirs-dev/directories-rs#design-goals) which is platform-independent."
   ]
  }
 ],
 "metadata": {
"language_info": {"name": "F#"},
  "kernelspec": {
   "display_name": ".NET (C#)",
   "language": "C#",
   "name": ".net-csharp"
  },
  "polyglot_notebook": {
   "kernelInfo": {
    "defaultKernelName": "csharp",
    "items": [
     {
      "aliases": [
       "c#",
       "C#"
      ],
      "languageName": "C#",
      "name": "csharp"
     },
     {
      "aliases": [],
      "name": ".NET"
     },
     {
      "aliases": [
       "f#",
       "F#"
      ],
      "languageName": "F#",
      "name": "fsharp"
     },
     {
      "aliases": [],
      "languageName": "HTML",
      "name": "html"
     },
     {
      "aliases": [],
      "languageName": "KQL",
      "name": "kql"
     },
     {
      "aliases": [],
      "languageName": "Mermaid",
      "name": "mermaid"
     },
     {
      "aliases": [
       "powershell"
      ],
      "languageName": "PowerShell",
      "name": "pwsh"
     },
     {
      "aliases": [],
      "languageName": "SQL",
      "name": "sql"
     },
     {
      "aliases": [],
      "name": "value"
     },
     {
      "aliases": [
       "frontend"
      ],
      "name": "vscode"
     }
    ]
   }
  }
 },
 "nbformat": 4,
 "nbformat_minor": 2
}
