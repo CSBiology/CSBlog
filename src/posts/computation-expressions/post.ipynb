{
 "cells": [
  {
   "attachments": {},
   "cell_type": "markdown",
   "metadata": {
    "dotnet_interactive": {
     "language": "csharp"
    },
    "polyglot_notebook": {
     "kernelName": "csharp"
    }
   },
   "source": [
    "# Computation expressions: Usage examples\n",
    "_[Heinrich Lukas Weil](https://github.com/hlweil)_\n",
    "\n",
    "## Content\n",
    "- [What are Computation expressions?](#What-are-Computation-expressions?)\n",
    "- [Bind based computation expressions](#Bind-based-computation-expressions)\n",
    "    - [Option builder](#Option-builder)\n",
    "- [Yield based computation expressions](#Yield-based-computation-expressions)\n",
    "    - [List builder](#List-builder)\n",
    "    - [Extended list builder](#Extended-List-builder)\n",
    "    - [Math builder](#Math-builder)\n",
    "- [Custom Operator based computation expressions](#Custom-Operator-based-computation-expressions)\n",
    "    - [Cake builder](#Cake-builder)\n",
    "- [Further reading](#Further-reading)"
   ]
  },
  {
   "attachments": {},
   "cell_type": "markdown",
   "metadata": {
    "dotnet_interactive": {
     "language": "csharp"
    },
    "polyglot_notebook": {
     "kernelName": "csharp"
    }
   },
   "source": [
    "## What are Computation expressions?\n",
    "This question has been thoroughly answered in technical precision in many places over the internet (Check out [Further reading](#Further-reading)). My aim here is not trying to give a better explanation.\n",
    "Instead, in this blogpost, I want to focus on practicle use cases of computation expressions. So, to answer this question in the context of this blogbost:\n",
    "*Computation expressions are a versatile tool to express complex behaviour in a simple syntax*. \n",
    "You open a computation expression (CE) with the following syntax: \n",
    "```fsharp\n",
    "computation-expression-name {computation-expression-body}\n",
    "```\n",
    "Inside these `{ }` brackets, an encapsulated environment with its own set of predefined rules exist. \n",
    "These rules create a behaviour in the background that can be complex or simple, while exposing an easy to grasp language to the user. \n",
    "An user can also create their own `Computation expression builder` with it`s own set of behaviours for every function. \n",
    "There are around 20 different Members with predefined names a programmer can implement, exposing around 10 different keywords to the user. The full list can be found [here](https://docs.microsoft.com/en-us/dotnet/fsharp/language-reference/computation-expressions#creating-a-new-type-of-computation-expression).\n",
    "The possibilities for different computation expressions are basically limitless. As a starting point for programmers new to computation expressions I therefore want to present a few often used ways for creating their own Computation Expression builder.\n",
    "## *Bind* based computation expressions\n",
    "### Introduction\n",
    "Bind based computation expressions make especially use of the `let!` and the `return` keywords.\n",
    "Here is an example for an 'async' computation expression, taken from [the official F# reference](https://docs.microsoft.com/en-us/dotnet/fsharp/language-reference/computation-expressions):\n"
   ]
  },
  {
   "cell_type": "code",
   "execution_count": 1,
   "metadata": {
    "dotnet_interactive": {
     "language": "fsharp"
    },
    "polyglot_notebook": {
     "kernelName": "fsharp"
    },
    "vscode": {
     "languageId": "polyglot-notebook"
    }
   },
   "outputs": [],
   "source": [
    "let fetchAndDownload url =\n",
    "    // Keyword for starting the async computation expression\n",
    "    async {\n",
    "        let client = new System.Net.WebClient()\n",
    "        // client.AsyncDownloadData returns a value of type Async<byte []>.\n",
    "        // but by using the let! keyword, bound to \"data\" is actually the unwrapped inner value of type byte [].\n",
    "        let! data = client.AsyncDownloadData url\n",
    "        // This unwrapped value can then conveniently fed into a follow up function.\n",
    "        let processedData = System.Text.Encoding.ASCII.GetString data\n",
    "        // The computation expression is finished by returning the result string.\n",
    "        // This value is again wrapped in the Async wrapper type, resulting in a return value of type Async<string>.\n",
    "        return processedData\n",
    "    }"
   ]
  },
  {
   "attachments": {},
   "cell_type": "markdown",
   "metadata": {
    "dotnet_interactive": {
     "language": "csharp"
    },
    "polyglot_notebook": {
     "kernelName": "csharp"
    }
   },
   "source": [
    "The main idea here is, that you can work on the return values directly, rather than on the values wrapped into the Async type. \n",
    "All the waiting for the thread to finish, wrapping and unwrapping is done implicitly for you, simply by using the `let!` keyword.\n",
    "\n",
    "<img src=\"../../img/CE_Bind.png\"></img>\n",
    "\n",
    "\n",
    "### Option builder\n",
    "So, let's get started creating our own Computation expression builder. This option builder again can be\n"
   ]
  },
  {
   "cell_type": "code",
   "execution_count": 2,
   "metadata": {
    "dotnet_interactive": {
     "language": "fsharp"
    },
    "polyglot_notebook": {
     "kernelName": "fsharp"
    },
    "vscode": {
     "languageId": "polyglot-notebook"
    }
   },
   "outputs": [],
   "source": [
    "type OptionBuilder() =\n",
    "    // Return method wraps the final return value in an option\n",
    "    member this.Return(value : 'T) : 'T Option = \n",
    "        printfn $\"Return {value}\"\n",
    "        Some value\n",
    "    // Bind method contains logic for unwrapping the option value and expects an expression that has an option as an return value\n",
    "    member this.Bind(wrappedValue : 'T option, f : 'T -> 'T option) : 'T option =\n",
    "        printfn $\"Bind {wrappedValue}\"\n",
    "        match wrappedValue with\n",
    "        | Some unwrappedValue -> \n",
    "            f unwrappedValue\n",
    "        | None -> None\n",
    "// For easier initialization of the computation expression\n",
    "let option = OptionBuilder()"
   ]
  },
  {
   "attachments": {},
   "cell_type": "markdown",
   "metadata": {
    "dotnet_interactive": {
     "language": "csharp"
    },
    "polyglot_notebook": {
     "kernelName": "csharp"
    }
   },
   "source": [
    "This is an very easy implementation that can be used to work on optional values in an easy way. \n",
    "Inside the initialized computation expression, the `Return` method can be called by using the `return` keyword. The `Bind` method can be called by using the `let!` keyword.\n"
   ]
  },
  {
   "cell_type": "code",
   "execution_count": 3,
   "metadata": {
    "dotnet_interactive": {
     "language": "csharp"
    },
    "polyglot_notebook": {
     "kernelName": "csharp"
    },
    "vscode": {
     "languageId": "polyglot-notebook"
    }
   },
   "outputs": [
    {
     "ename": "Error",
     "evalue": "(1,16): error CS1002: ; expected\r\n(1,22): error CS1002: ; expected\r\n(2,12): error CS1002: ; expected\r\n(3,14): error CS1002: ; expected\r\n(3,20): error CS1002: ; expected\r\n(4,14): error CS1002: ; expected\r\n(4,20): error CS1002: ; expected\r\n(5,14): error CS1002: ; expected\r\n(5,20): error CS1002: ; expected\r\n(6,27): error CS1002: ; expected\r\n(8,18): error CS1003: Syntax error, ',' expected\r\n(8,27): error CS1003: Syntax error, ',' expected\r\n(8,36): error CS1003: Syntax error, ',' expected\r\n(8,39): error CS1002: ; expected\r\n(14,18): error CS1003: Syntax error, ',' expected\r\n(14,21): error CS1002: ; expected\r\n(14,32): error CS1003: Syntax error, ',' expected",
     "output_type": "error",
     "traceback": [
      "(1,16): error CS1002: ; expected\r\n",
      "(1,22): error CS1002: ; expected\r\n",
      "(2,12): error CS1002: ; expected\r\n",
      "(3,14): error CS1002: ; expected\r\n",
      "(3,20): error CS1002: ; expected\r\n",
      "(4,14): error CS1002: ; expected\r\n",
      "(4,20): error CS1002: ; expected\r\n",
      "(5,14): error CS1002: ; expected\r\n",
      "(5,20): error CS1002: ; expected\r\n",
      "(6,27): error CS1002: ; expected\r\n",
      "(8,18): error CS1003: Syntax error, ',' expected\r\n",
      "(8,27): error CS1003: Syntax error, ',' expected\r\n",
      "(8,36): error CS1003: Syntax error, ',' expected\r\n",
      "(8,39): error CS1002: ; expected\r\n",
      "(14,18): error CS1003: Syntax error, ',' expected\r\n",
      "(14,21): error CS1002: ; expected\r\n",
      "(14,32): error CS1003: Syntax error, ',' expected"
     ]
    }
   ],
   "source": [
    "let addOptions aO bO cO = \n",
    "    option {\n",
    "        let! a = aO\n",
    "        let! b = bO\n",
    "        let! c = cO\n",
    "        return (a + b + c)\n",
    "    }\n",
    "addOptions (Some 5) (Some 4) (Some 10)\n",
    "//Bind Some(5)\n",
    "//Bind Some(4)\n",
    "//Bind Some(10)\n",
    "//Return 19\n",
    "//val it : int option = Some 19\n",
    "addOptions (Some 5) None (Some 10)\n",
    "//Bind Some(5)\n",
    "//Bind \n",
    "//val it : int option = None\n"
   ]
  },
  {
   "attachments": {},
   "cell_type": "markdown",
   "metadata": {
    "dotnet_interactive": {
     "language": "csharp"
    },
    "polyglot_notebook": {
     "kernelName": "csharp"
    }
   },
   "source": [
    "As expected, in the first case, the `Bind` method gets called `3 times`, and the resulting value is 19.\n",
    "In the second case, the resulting `None` was also expected. What is interesting to notice here, \n",
    "is that the `Bind` method gets called only two times. \n",
    "This can actually be a great feature, as in cases like these, you don't want the program to continue executing when something doesn't work out.\n",
    "This is especially the case, when each computation is time intensive.\n",
    "A good explanation for why this happens can be found [here](https://en.wikibooks.org/wiki/F_Sharp_Programming/Computation_Expressions#:~:text=an%20imperative%20style.-,The%20Maybe%20Monad,-A%20well%2Dknown)\n",
    "\n",
    "## *Yield* based computation expressions\n",
    "\n",
    "### Introduction\n",
    "\n",
    "Yield based computation expressions make especially use of the `yield`, `yield!` and `for` keywords. \n",
    "The main aim here is usually collecting values and returning some kind of collection. \n",
    "Here is an example for a `seq` computation expression:\n"
   ]
  },
  {
   "cell_type": "code",
   "execution_count": 4,
   "metadata": {
    "dotnet_interactive": {
     "language": "fsharp"
    },
    "polyglot_notebook": {
     "kernelName": "fsharp"
    },
    "vscode": {
     "languageId": "polyglot-notebook"
    }
   },
   "outputs": [
    {
     "data": {
      "text/html": [
       "<table><thead><tr><th><i>index</i></th><th>value</th></tr></thead><tbody><tr><td>0</td><td><div class=\"dni-plaintext\"><pre>1</pre></div></td></tr><tr><td>1</td><td><div class=\"dni-plaintext\"><pre>2</pre></div></td></tr><tr><td>2</td><td><div class=\"dni-plaintext\"><pre>3</pre></div></td></tr><tr><td>3</td><td><div class=\"dni-plaintext\"><pre>4</pre></div></td></tr><tr><td>4</td><td><div class=\"dni-plaintext\"><pre>5</pre></div></td></tr><tr><td>5</td><td><div class=\"dni-plaintext\"><pre>6</pre></div></td></tr></tbody></table><style>\r\n",
       ".dni-code-hint {\r\n",
       "    font-style: italic;\r\n",
       "    overflow: hidden;\r\n",
       "    white-space: nowrap;\r\n",
       "}\r\n",
       ".dni-treeview {\r\n",
       "    white-space: nowrap;\r\n",
       "}\r\n",
       ".dni-treeview td {\r\n",
       "    vertical-align: top;\r\n",
       "    text-align: start;\r\n",
       "}\r\n",
       "details.dni-treeview {\r\n",
       "    padding-left: 1em;\r\n",
       "}\r\n",
       "table td {\r\n",
       "    text-align: start;\r\n",
       "}\r\n",
       "table tr { \r\n",
       "    vertical-align: top; \r\n",
       "    margin: 0em 0px;\r\n",
       "}\r\n",
       "table tr td pre \r\n",
       "{ \r\n",
       "    vertical-align: top !important; \r\n",
       "    margin: 0em 0px !important;\r\n",
       "} \r\n",
       "table th {\r\n",
       "    text-align: start;\r\n",
       "}\r\n",
       "</style>"
      ]
     },
     "metadata": {},
     "output_type": "display_data"
    }
   ],
   "source": [
    "seq {\n",
    "    // Implicit yielding of single values\n",
    "    1\n",
    "    2\n",
    "    3\n",
    "    // Explicit yielding of a collection\n",
    "    yield! [4;5;6]\n",
    "}\n",
    "|> Seq.toList"
   ]
  },
  {
   "attachments": {},
   "cell_type": "markdown",
   "metadata": {
    "dotnet_interactive": {
     "language": "csharp"
    },
    "polyglot_notebook": {
     "kernelName": "csharp"
    }
   },
   "source": [
    "The basic structure of operations performed in the seq computation expression can be seen in the following picture.\n",
    "Each value get's yielded seperately and then combined step by step into a single sequence.\n",
    "\n",
    "\n",
    "<img src=../../img/ontologies/classes_subclasses_relations.png></img>\n",
    "\n",
    "### List builder\n",
    "So let's build our own bare minimum list builder:"
   ]
  },
  {
   "cell_type": "code",
   "execution_count": 5,
   "metadata": {
    "dotnet_interactive": {
     "language": "fsharp"
    },
    "polyglot_notebook": {
     "kernelName": "fsharp"
    },
    "vscode": {
     "languageId": "polyglot-notebook"
    }
   },
   "outputs": [],
   "source": [
    "type ListBuilder() = \n",
    "    /// This will be exposed to the user as `yield`\n",
    "    member this.Yield(v : 'T) = \n",
    "        printfn $\"Yield {v}\"\n",
    "        [v]\n",
    "    /// This will combine the yielded values in the background\n",
    "    member this.Combine(v1 : 'T list, v2 : 'T list) =\n",
    "        printfn $\"Combine {v1} with {v2}\"\n",
    "        v1 @ v2\n",
    "    /// This method is needed. It can be used to lazily evaluate the operations in the CE. Instead here, we just directly execute the given function.\n",
    "    member this.Delay(f : unit -> 'T) = \n",
    "        printfn $\"Delay\"\n",
    "        let res = f()\n",
    "        printfn $\"Delay result: {res}\"\n",
    "        res\n",
    "// For easier initialization of the computation expression\n",
    "let list = ListBuilder()\n"
   ]
  },
  {
   "attachments": {},
   "cell_type": "markdown",
   "metadata": {
    "dotnet_interactive": {
     "language": "fsharp"
    },
    "polyglot_notebook": {
     "kernelName": "fsharp"
    }
   },
   "source": [
    "So let's test it out"
   ]
  },
  {
   "cell_type": "code",
   "execution_count": 6,
   "metadata": {
    "dotnet_interactive": {
     "language": "fsharp"
    },
    "polyglot_notebook": {
     "kernelName": "fsharp"
    },
    "vscode": {
     "languageId": "polyglot-notebook"
    }
   },
   "outputs": [
    {
     "name": "stdout",
     "output_type": "stream",
     "text": [
      "Delay\n",
      "Yield 1\n",
      "Delay\n",
      "Yield 2\n",
      "Delay\n",
      "Yield 3\n",
      "Delay result: [3]\n",
      "Combine [2] with [3]\n",
      "Delay result: [2; 3]\n",
      "Combine [1] with [2; 3]\n",
      "Delay result: [1; 2; 3]\n"
     ]
    },
    {
     "data": {
      "text/html": [
       "<table><thead><tr><th><i>index</i></th><th>value</th></tr></thead><tbody><tr><td>0</td><td><div class=\"dni-plaintext\"><pre>1</pre></div></td></tr><tr><td>1</td><td><div class=\"dni-plaintext\"><pre>2</pre></div></td></tr><tr><td>2</td><td><div class=\"dni-plaintext\"><pre>3</pre></div></td></tr></tbody></table><style>\r\n",
       ".dni-code-hint {\r\n",
       "    font-style: italic;\r\n",
       "    overflow: hidden;\r\n",
       "    white-space: nowrap;\r\n",
       "}\r\n",
       ".dni-treeview {\r\n",
       "    white-space: nowrap;\r\n",
       "}\r\n",
       ".dni-treeview td {\r\n",
       "    vertical-align: top;\r\n",
       "    text-align: start;\r\n",
       "}\r\n",
       "details.dni-treeview {\r\n",
       "    padding-left: 1em;\r\n",
       "}\r\n",
       "table td {\r\n",
       "    text-align: start;\r\n",
       "}\r\n",
       "table tr { \r\n",
       "    vertical-align: top; \r\n",
       "    margin: 0em 0px;\r\n",
       "}\r\n",
       "table tr td pre \r\n",
       "{ \r\n",
       "    vertical-align: top !important; \r\n",
       "    margin: 0em 0px !important;\r\n",
       "} \r\n",
       "table th {\r\n",
       "    text-align: start;\r\n",
       "}\r\n",
       "</style>"
      ]
     },
     "metadata": {},
     "output_type": "display_data"
    }
   ],
   "source": [
    "\n",
    "list {\n",
    "    1\n",
    "    2\n",
    "    3\n",
    "}\n",
    "\n",
    "//Delay\n",
    "//Yield 1\n",
    "//Delay\n",
    "//Yield 2\n",
    "//Delay\n",
    "//Yield 3\n",
    "//Delay result: [3]\n",
    "//Combine [2] with [3]\n",
    "//Delay result: [2; 3]\n",
    "//Combine [1] with [2; 3]\n",
    "//Delay result: [1; 2; 3]\n",
    "//val it : int list = [1; 2; 3]\n"
   ]
  },
  {
   "attachments": {},
   "cell_type": "markdown",
   "metadata": {
    "dotnet_interactive": {
     "language": "fsharp"
    },
    "polyglot_notebook": {
     "kernelName": "fsharp"
    }
   },
   "source": [
    "Something to note here is that the `yielding` takes place from `top to bottom`, while the `combining` is actually done from `bottom to top`.\n",
    "\n",
    "### Extended list builder\n",
    "\n",
    "Of course in many cases you don't only want to yield single values but also expect more complex programming constructs to be usable. \n",
    "In the following is shown an extended version of the previously implemented list builder:\n"
   ]
  },
  {
   "cell_type": "code",
   "execution_count": null,
   "metadata": {
    "dotnet_interactive": {
     "language": "fsharp"
    },
    "polyglot_notebook": {
     "kernelName": "fsharp"
    },
    "vscode": {
     "languageId": "polyglot-notebook"
    }
   },
   "outputs": [],
   "source": [
    "\n",
    "type ExtendedListBuilder() = \n",
    "\n",
    "    /// This will be exposed to the user as `yield`\n",
    "    member this.Yield(v : 'T) = \n",
    "        printfn $\"Yield {v}\"\n",
    "        [v]\n",
    "\n",
    "    /// This will combine the yielded values in the background\n",
    "    member this.Combine(v1 : 'T list, v2 : 'T list) =\n",
    "        printfn $\"Combine {v1} with {v2}\"\n",
    "        v1 @ v2\n",
    "\n",
    "    /// This method is needed. It can be used to lazily evaluate the operations in the CE. Instead here, we just directly execute the given function.\n",
    "    member this.Delay(f : unit -> 'T) = \n",
    "        printfn $\"Delay\"\n",
    "        let res = f()\n",
    "        printfn $\"Delay result: {res}\"\n",
    "        res\n",
    "\n",
    "    /// Is called in empty else branches\n",
    "    member this.Zero() = \n",
    "        printfn \"Zero\"\n",
    "        []\n",
    "\n",
    "    /// Allows for using for loops in the computation expression\n",
    "    member this.For(vs : 'U seq, f : 'U -> 'T list) =\n",
    "        printfn $\"For\"\n",
    "        vs\n",
    "        |> Seq.collect f\n",
    "        |> Seq.toList\n",
    "\n",
    "    /// This will allow for using the yield! method\n",
    "    member this.YieldFrom(vs : 'T list) =\n",
    "        printfn $\"YieldFrom {vs}\"\n",
    "        vs\n",
    "\n",
    "\n",
    "// For easier initialization of the computation expression\n",
    "let extList = ExtendedListBuilder()\n"
   ]
  },
  {
   "attachments": {},
   "cell_type": "markdown",
   "metadata": {
    "dotnet_interactive": {
     "language": "fsharp"
    },
    "polyglot_notebook": {
     "kernelName": "fsharp"
    }
   },
   "source": [
    "Again let's test it out."
   ]
  },
  {
   "cell_type": "code",
   "execution_count": null,
   "metadata": {
    "dotnet_interactive": {
     "language": "fsharp"
    },
    "polyglot_notebook": {
     "kernelName": "fsharp"
    },
    "vscode": {
     "languageId": "polyglot-notebook"
    }
   },
   "outputs": [],
   "source": [
    "\n",
    "extList {\n",
    "    1\n",
    "    2\n",
    "    \n",
    "    for i in [3;4] do\n",
    "        i\n",
    "    \n",
    "    yield! [5;6]\n",
    "\n",
    "    if true then 7\n",
    "\n",
    "}\n",
    "\n",
    "//Delay\n",
    "//Yield 1\n",
    "//Delay\n",
    "//Yield 2\n",
    "//Delay\n",
    "//For\n",
    "//Yield 3\n",
    "//Yield 4\n",
    "//Delay\n",
    "//YieldFrom [5; 6]\n",
    "//Delay\n",
    "//Yield 7\n",
    "//Delay result: [7]\n",
    "//Combine [5; 6] with [7]\n",
    "//Delay result: [5; 6; 7]\n",
    "//Combine [3; 4] with [5; 6; 7]\n",
    "//Delay result: [3; 4; 5; ... ]\n",
    "//Combine [2] with [3; 4; 5; ... ]\n",
    "//Delay result: [2; 3; 4; ... ]\n",
    "//Combine [1] with [2; 3; 4; ... ]\n",
    "//Delay result: [1; 2; 3; ... ]\n",
    "//val it : int list = [1; 2; 3; 4; 5; 6; 7]\n"
   ]
  },
  {
   "attachments": {},
   "cell_type": "markdown",
   "metadata": {
    "dotnet_interactive": {
     "language": "fsharp"
    },
    "polyglot_notebook": {
     "kernelName": "fsharp"
    }
   },
   "source": [
    "\n",
    "One important thing to note here: The values returned in the `for` expression actually get `yielded` by the `Yield` method. \n",
    "In the case of `yield!`, only the `YieldFrom` method gets called. This means, that the input of type `'U` in the `For` method is actually already a yielded value.\n",
    "\n",
    "### Math builder\n",
    "\n",
    "Another thing you can do is to add a `Run` method. This method will be executed at the end of the Computation expression.\n",
    "We can also combine this with the ability of the Computation expression to store a state in itself. By this we can control what exactly Run will do:\n"
   ]
  },
  {
   "cell_type": "code",
   "execution_count": null,
   "metadata": {
    "dotnet_interactive": {
     "language": "fsharp"
    },
    "polyglot_notebook": {
     "kernelName": "fsharp"
    },
    "vscode": {
     "languageId": "polyglot-notebook"
    }
   },
   "outputs": [],
   "source": [
    "\n",
    "/// Used to specify which mathematical operation should be applied on the float list to reduce it\n",
    "type MathOperation = \n",
    "    | Sum\n",
    "    | Multiply\n",
    "    | Custom of (float list -> float)\n",
    "\n",
    "    /// Apply the given operation on the float list, resulting in a single float\n",
    "    member this.Apply(vals : float list) =\n",
    "\n",
    "        match this with\n",
    "        | Sum -> vals |> List.sum\n",
    "        | Multiply -> vals |> List.reduce (fun a b -> a * b)\n",
    "        | Custom operation -> operation vals\n",
    "\n",
    "\n",
    "type MathBuilder() = \n",
    "\n",
    "    // Mutable math operation state, default value is Sum\n",
    "    let mutable operation = Sum\n",
    "\n",
    "    /// When the user yields a value of type MathOperation, this will not be added to the list of values but overwrite the state of the operation variable\n",
    "    member this.Yield(newOperation : MathOperation) =\n",
    "        operation <- newOperation\n",
    "        []\n",
    "\n",
    "    /// User can yield ints\n",
    "    member this.Yield(v : int) = \n",
    "        printfn $\"Yield {v}\"\n",
    "        [float v]\n",
    "\n",
    "    /// User can yield floats\n",
    "    member this.Yield(v : float) = \n",
    "        printfn $\"Yield {v}\"\n",
    "        [v]\n",
    "\n",
    "    /// This will combine the yielded values in the background\n",
    "    member this.Combine(v1 : float list, v2 : float list) =\n",
    "        printfn $\"Combine {v1} with {v2}\"\n",
    "        v1 @ v2\n",
    "\n",
    "    /// This method is needed. It can be used to lazily evaluate the operations in the CE. Instead here, we just directly execute the given function.\n",
    "    member this.Delay(f : unit -> 'T) = \n",
    "        printfn $\"Delay\"\n",
    "        let res = f()\n",
    "        printfn $\"Delay result: {res}\"\n",
    "        res\n",
    "\n",
    "    /// Is called in empty else branches\n",
    "    member this.Zero() = \n",
    "        printfn \"Zero\"\n",
    "        []\n",
    "\n",
    "    /// Allows for using for loops in the computation expression\n",
    "    member this.For(vs : 'U seq, f : 'U -> float list) =\n",
    "        printfn $\"For\"\n",
    "        vs\n",
    "        |> Seq.collect f\n",
    "        |> Seq.toList\n",
    "\n",
    "    /// This will allow for using the yield! method\n",
    "    member this.YieldFrom(vs : 'T list) =\n",
    "        printfn $\"YieldFrom {vs}\"\n",
    "        vs\n",
    "\n",
    "    /// This will run the operation on the final float list, returning a single float as output of the compuation expression.\n",
    "    member this.Run(vs : float list) =\n",
    "        printfn $\"Run {vs}\"\n",
    "        operation.Apply vs\n",
    "\n",
    "// For easier initialization of the computation expression\n",
    "let math = MathBuilder()\n"
   ]
  },
  {
   "attachments": {},
   "cell_type": "markdown",
   "metadata": {
    "dotnet_interactive": {
     "language": "fsharp"
    },
    "polyglot_notebook": {
     "kernelName": "fsharp"
    }
   },
   "source": [
    "\n",
    "So let's test this out"
   ]
  },
  {
   "cell_type": "code",
   "execution_count": null,
   "metadata": {
    "dotnet_interactive": {
     "language": "fsharp"
    },
    "polyglot_notebook": {
     "kernelName": "fsharp"
    },
    "vscode": {
     "languageId": "polyglot-notebook"
    }
   },
   "outputs": [],
   "source": [
    "\n",
    "math {\n",
    "    1\n",
    "    2\n",
    "    3\n",
    "}\n",
    "\n",
    "// Results in 6\n",
    "\n",
    "let factorial x =\n",
    "    math {\n",
    "        Multiply\n",
    "        for i = 1 to x do\n",
    "            i\n",
    "    }\n",
    "\n",
    "factorial 4\n",
    "\n",
    "//Delay\n",
    "//Delay\n",
    "//For\n",
    "//Yield 1\n",
    "//Yield 2\n",
    "//Yield 3\n",
    "//Yield 4\n",
    "//Delay result: [1; 2; 3; ... ]\n",
    "//Combine [] with [1; 2; 3; ... ]\n",
    "//Delay result: [1; 2; 3; ... ]\n",
    "//Run [1; 2; 3; ... ]\n",
    "//val it : float = 24.0\n"
   ]
  },
  {
   "attachments": {},
   "cell_type": "markdown",
   "metadata": {
    "dotnet_interactive": {
     "language": "fsharp"
    },
    "polyglot_notebook": {
     "kernelName": "fsharp"
    }
   },
   "source": [
    "\n",
    "As you can see this approach can be used to further tune the Computation expression in a very generic way.\n",
    "## *Custom Operator* based computation expressions\n",
    "### Cake builder\n",
    "Besides the basic keywords shared between all computation expressions, one can also define their own keywords by using the `CustomOperation` class.\n",
    "Methods with this \n"
   ]
  },
  {
   "cell_type": "code",
   "execution_count": null,
   "metadata": {
    "dotnet_interactive": {
     "language": "fsharp"
    },
    "polyglot_notebook": {
     "kernelName": "fsharp"
    },
    "vscode": {
     "languageId": "polyglot-notebook"
    }
   },
   "outputs": [],
   "source": [
    "\n",
    "type Cake =\n",
    "\n",
    "    {\n",
    "        Size : int\n",
    "        Filling : string\n",
    "        PackagedAsPresent: bool\n",
    "    }\n",
    "\n",
    "    static member Default = \n",
    "        {\n",
    "            Size = 30\n",
    "            Filling = \"Strawberry\"\n",
    "            PackagedAsPresent = false\n",
    "        }\n",
    "\n",
    "type CakeBuilder() =\n",
    "\n",
    "    member x.Yield (()) = Cake.Default\n",
    "\n",
    "    member x.Zero () = Cake.Default\n",
    "\n",
    "    [<CustomOperation(\"size\")>]\n",
    "    member x.Size (cake : Cake, i: int) =\n",
    "        {cake with Size = i}\n",
    "  \n",
    "    [<CustomOperation(\"filling\")>]\n",
    "    member x.Filling (cake : Cake, s: string) =\n",
    "        {cake with Filling = s}\n",
    "\n",
    "    [<CustomOperation(\"package\")>]\n",
    "    member x.PackageAsPresent (cake : Cake) =\n",
    "        {cake with PackagedAsPresent = true}\n",
    "\n",
    "\n",
    "let cake = CakeBuilder()"
   ]
  },
  {
   "attachments": {},
   "cell_type": "markdown",
   "metadata": {
    "dotnet_interactive": {
     "language": "fsharp"
    },
    "polyglot_notebook": {
     "kernelName": "fsharp"
    }
   },
   "source": [
    "\n",
    "Let's bake some cakes\n"
   ]
  },
  {
   "cell_type": "code",
   "execution_count": null,
   "metadata": {
    "dotnet_interactive": {
     "language": "fsharp"
    },
    "polyglot_notebook": {
     "kernelName": "fsharp"
    },
    "vscode": {
     "languageId": "polyglot-notebook"
    }
   },
   "outputs": [],
   "source": [
    "\n",
    "cake {\n",
    "    ()\n",
    "}\n",
    "\n",
    "//val it : Cake = { Size = 30\n",
    "//                  Filling = \"Strawberry\"\n",
    "//                  PackagedAsPresent = false }\n",
    "\n",
    "cake {\n",
    "    size 1800\n",
    "    filling \"Irish coffee cream\"\n",
    "    package\n",
    "}\n",
    "\n",
    "//val it : Cake = { Size = 1800\n",
    "//                  Filling = \"Irish coffee cream\"\n",
    "//                  PackagedAsPresent = true }\n"
   ]
  },
  {
   "cell_type": "code",
   "execution_count": null,
   "metadata": {
    "dotnet_interactive": {
     "language": "fsharp"
    },
    "polyglot_notebook": {
     "kernelName": "fsharp"
    },
    "vscode": {
     "languageId": "polyglot-notebook"
    }
   },
   "outputs": [],
   "source": [
    "\n",
    "For a good example of this kind of computation expression check out [Saturn](https://saturnframework.org/explanations/routing.html)\n",
    "## Further reading\n",
    "- [Basic introduction](https://en.wikibooks.org/wiki/F_Sharp_Programming/Computation_Expressions)\n",
    "- [In depth introduction](https://fsharpforfunandprofit.com/series/computation-expressions/)\n",
    "- [Official reference](https://docs.microsoft.com/en-us/dotnet/fsharp/language-reference/computation-expressions)\n",
    "- [Good video for practical introduction](https://www.youtube.com/watch?v=pC4ZIeOmgB0)\n"
   ]
  }
 ],
 "metadata": {
"language_info": {"name": "F#"},
  "kernelspec": {
   "display_name": ".NET (C#)",
   "language": "C#",
   "name": ".net-csharp"
  },
  "polyglot_notebook": {
   "kernelInfo": {
    "defaultKernelName": "csharp",
    "items": [
     {
      "aliases": [
       "c#",
       "C#"
      ],
      "languageName": "C#",
      "name": "csharp"
     },
     {
      "aliases": [
       "frontend"
      ],
      "name": "vscode"
     },
     {
      "aliases": [
       "f#",
       "F#"
      ],
      "languageName": "F#",
      "name": "fsharp"
     },
     {
      "aliases": [],
      "languageName": "SQL",
      "name": "sql"
     },
     {
      "aliases": [],
      "name": ".NET"
     },
     {
      "aliases": [],
      "languageName": "HTML",
      "name": "html"
     },
     {
      "aliases": [
       "js"
      ],
      "languageName": "JavaScript",
      "name": "javascript"
     },
     {
      "aliases": [],
      "languageName": "KQL",
      "name": "kql"
     },
     {
      "aliases": [],
      "languageName": "Mermaid",
      "name": "mermaid"
     },
     {
      "aliases": [
       "powershell"
      ],
      "languageName": "PowerShell",
      "name": "pwsh"
     },
     {
      "aliases": [],
      "name": "value"
     },
     {
      "aliases": [],
      "name": "webview"
     }
    ]
   }
  }
 },
 "nbformat": 4,
 "nbformat_minor": 2
}
